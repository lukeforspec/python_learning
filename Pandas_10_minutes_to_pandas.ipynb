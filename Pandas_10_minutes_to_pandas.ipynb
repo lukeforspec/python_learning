{
 "metadata": {
  "language_info": {
   "codemirror_mode": {
    "name": "ipython",
    "version": 3
   },
   "file_extension": ".py",
   "mimetype": "text/x-python",
   "name": "python",
   "nbconvert_exporter": "python",
   "pygments_lexer": "ipython3",
   "version": "3.8.5"
  },
  "orig_nbformat": 2,
  "kernelspec": {
   "name": "python385jvsc74a57bd0d15884b1233697f22e3c8d403a9acd63aff23a28cd7a3e80439f7ebd3ecea007",
   "display_name": "Python 3.8.5 64-bit ('env-01': conda)"
  }
 },
 "nbformat": 4,
 "nbformat_minor": 2,
 "cells": [
  {
   "source": [
    "# Pandas user guide from pydata.org\n",
    "\n",
    "https://pandas.pydata.org/pandas-docs/stable/user_guide/10min.html"
   ],
   "cell_type": "markdown",
   "metadata": {}
  },
  {
   "source": [
    "This is a short introduction to pandas, geared mainly for new users. You can see more complex recipes in the Cookbook.\n",
    "\n",
    "Customarily, we import as follows:"
   ],
   "cell_type": "markdown",
   "metadata": {}
  },
  {
   "cell_type": "code",
   "execution_count": 2,
   "metadata": {},
   "outputs": [],
   "source": [
    "import numpy as np\n",
    "import pandas as pd"
   ]
  },
  {
   "cell_type": "code",
   "execution_count": 3,
   "metadata": {},
   "outputs": [
    {
     "output_type": "execute_result",
     "data": {
      "text/plain": [
       "0    1.0\n",
       "1    3.0\n",
       "2    5.0\n",
       "3    NaN\n",
       "4    6.0\n",
       "5    8.0\n",
       "dtype: float64"
      ]
     },
     "metadata": {},
     "execution_count": 3
    }
   ],
   "source": [
    "#creating a Series by passing a list of values, letting pandas create a default integer index:\n",
    "\n",
    "s = pd.Series([1, 3, 5, np.nan, 6, 8])\n",
    "s"
   ]
  },
  {
   "cell_type": "code",
   "execution_count": 4,
   "metadata": {},
   "outputs": [
    {
     "output_type": "execute_result",
     "data": {
      "text/plain": [
       "DatetimeIndex(['2013-01-01', '2013-01-02', '2013-01-03', '2013-01-04',\n",
       "               '2013-01-05', '2013-01-06'],\n",
       "              dtype='datetime64[ns]', freq='D')"
      ]
     },
     "metadata": {},
     "execution_count": 4
    }
   ],
   "source": [
    "#Creating a DataFrame by passing a NumPy array, with a datetime index and labeled columns:\n",
    "dates = pd.date_range(\"20130101\", periods=6)\n",
    "dates"
   ]
  },
  {
   "cell_type": "code",
   "execution_count": 5,
   "metadata": {},
   "outputs": [
    {
     "output_type": "execute_result",
     "data": {
      "text/plain": [
       "                   A         B         C         D\n",
       "2013-01-01 -0.172312  0.106676 -1.049064  0.160119\n",
       "2013-01-02 -0.241918  0.939371 -0.061873  1.914754\n",
       "2013-01-03  0.163260  0.807870  0.471507 -0.170539\n",
       "2013-01-04 -0.070193  0.594396  1.175613 -1.164397\n",
       "2013-01-05 -0.175992 -1.885755 -0.357364  0.485270\n",
       "2013-01-06 -0.143361 -0.565268  1.386426  0.555486"
      ],
      "text/html": "<div>\n<style scoped>\n    .dataframe tbody tr th:only-of-type {\n        vertical-align: middle;\n    }\n\n    .dataframe tbody tr th {\n        vertical-align: top;\n    }\n\n    .dataframe thead th {\n        text-align: right;\n    }\n</style>\n<table border=\"1\" class=\"dataframe\">\n  <thead>\n    <tr style=\"text-align: right;\">\n      <th></th>\n      <th>A</th>\n      <th>B</th>\n      <th>C</th>\n      <th>D</th>\n    </tr>\n  </thead>\n  <tbody>\n    <tr>\n      <th>2013-01-01</th>\n      <td>-0.172312</td>\n      <td>0.106676</td>\n      <td>-1.049064</td>\n      <td>0.160119</td>\n    </tr>\n    <tr>\n      <th>2013-01-02</th>\n      <td>-0.241918</td>\n      <td>0.939371</td>\n      <td>-0.061873</td>\n      <td>1.914754</td>\n    </tr>\n    <tr>\n      <th>2013-01-03</th>\n      <td>0.163260</td>\n      <td>0.807870</td>\n      <td>0.471507</td>\n      <td>-0.170539</td>\n    </tr>\n    <tr>\n      <th>2013-01-04</th>\n      <td>-0.070193</td>\n      <td>0.594396</td>\n      <td>1.175613</td>\n      <td>-1.164397</td>\n    </tr>\n    <tr>\n      <th>2013-01-05</th>\n      <td>-0.175992</td>\n      <td>-1.885755</td>\n      <td>-0.357364</td>\n      <td>0.485270</td>\n    </tr>\n    <tr>\n      <th>2013-01-06</th>\n      <td>-0.143361</td>\n      <td>-0.565268</td>\n      <td>1.386426</td>\n      <td>0.555486</td>\n    </tr>\n  </tbody>\n</table>\n</div>"
     },
     "metadata": {},
     "execution_count": 5
    }
   ],
   "source": [
    "df = pd.DataFrame(np.random.randn(6, 4), index=dates, columns=list(\"ABCD\"))\n",
    "df"
   ]
  },
  {
   "cell_type": "code",
   "execution_count": 6,
   "metadata": {},
   "outputs": [
    {
     "output_type": "execute_result",
     "data": {
      "text/plain": [
       "     A          B    C  D      E    F\n",
       "0  1.0 2013-01-02  1.0  3   test  foo\n",
       "1  1.0 2013-01-02  1.0  3  train  foo\n",
       "2  1.0 2013-01-02  1.0  3   test  foo\n",
       "3  1.0 2013-01-02  1.0  3  train  foo"
      ],
      "text/html": "<div>\n<style scoped>\n    .dataframe tbody tr th:only-of-type {\n        vertical-align: middle;\n    }\n\n    .dataframe tbody tr th {\n        vertical-align: top;\n    }\n\n    .dataframe thead th {\n        text-align: right;\n    }\n</style>\n<table border=\"1\" class=\"dataframe\">\n  <thead>\n    <tr style=\"text-align: right;\">\n      <th></th>\n      <th>A</th>\n      <th>B</th>\n      <th>C</th>\n      <th>D</th>\n      <th>E</th>\n      <th>F</th>\n    </tr>\n  </thead>\n  <tbody>\n    <tr>\n      <th>0</th>\n      <td>1.0</td>\n      <td>2013-01-02</td>\n      <td>1.0</td>\n      <td>3</td>\n      <td>test</td>\n      <td>foo</td>\n    </tr>\n    <tr>\n      <th>1</th>\n      <td>1.0</td>\n      <td>2013-01-02</td>\n      <td>1.0</td>\n      <td>3</td>\n      <td>train</td>\n      <td>foo</td>\n    </tr>\n    <tr>\n      <th>2</th>\n      <td>1.0</td>\n      <td>2013-01-02</td>\n      <td>1.0</td>\n      <td>3</td>\n      <td>test</td>\n      <td>foo</td>\n    </tr>\n    <tr>\n      <th>3</th>\n      <td>1.0</td>\n      <td>2013-01-02</td>\n      <td>1.0</td>\n      <td>3</td>\n      <td>train</td>\n      <td>foo</td>\n    </tr>\n  </tbody>\n</table>\n</div>"
     },
     "metadata": {},
     "execution_count": 6
    }
   ],
   "source": [
    "#Creating a DataFrame by passing a dict of objects that can be converted to series-like.\n",
    "df2 = pd.DataFrame(\n",
    "        {\n",
    "            \"A\": 1.0,\n",
    "            \"B\": pd.Timestamp(\"20130102\"),\n",
    "            \"C\": pd.Series(1, index=list(range(4)), dtype=\"float32\"),\n",
    "            \"D\": np.array([3] * 4, dtype=\"int32\"),\n",
    "            \"E\": pd.Categorical([\"test\", \"train\", \"test\", \"train\"]),\n",
    "            \"F\": \"foo\",\n",
    "        }\n",
    "    )\n",
    "df2"
   ]
  },
  {
   "cell_type": "code",
   "execution_count": 7,
   "metadata": {},
   "outputs": [
    {
     "output_type": "execute_result",
     "data": {
      "text/plain": [
       "A           float64\n",
       "B    datetime64[ns]\n",
       "C           float32\n",
       "D             int32\n",
       "E          category\n",
       "F            object\n",
       "dtype: object"
      ]
     },
     "metadata": {},
     "execution_count": 7
    }
   ],
   "source": [
    "#The columns of the resulting DataFrame have different dtypes.\n",
    "df2.dtypes"
   ]
  },
  {
   "cell_type": "code",
   "execution_count": 8,
   "metadata": {},
   "outputs": [],
   "source": [
    "#If you’re using IPython, tab completion for column names (as well as public attributes) is automatically enabled. Here’s a subset of the attributes that will be completed:\n",
    "#df2.<TAB>  # noqa: E225, E999\n"
   ]
  },
  {
   "source": [
    "### Viewing data\n"
   ],
   "cell_type": "markdown",
   "metadata": {}
  },
  {
   "cell_type": "code",
   "execution_count": 9,
   "metadata": {},
   "outputs": [
    {
     "output_type": "execute_result",
     "data": {
      "text/plain": [
       "                   A         B         C         D\n",
       "2013-01-01 -0.172312  0.106676 -1.049064  0.160119\n",
       "2013-01-02 -0.241918  0.939371 -0.061873  1.914754\n",
       "2013-01-03  0.163260  0.807870  0.471507 -0.170539\n",
       "2013-01-04 -0.070193  0.594396  1.175613 -1.164397\n",
       "2013-01-05 -0.175992 -1.885755 -0.357364  0.485270"
      ],
      "text/html": "<div>\n<style scoped>\n    .dataframe tbody tr th:only-of-type {\n        vertical-align: middle;\n    }\n\n    .dataframe tbody tr th {\n        vertical-align: top;\n    }\n\n    .dataframe thead th {\n        text-align: right;\n    }\n</style>\n<table border=\"1\" class=\"dataframe\">\n  <thead>\n    <tr style=\"text-align: right;\">\n      <th></th>\n      <th>A</th>\n      <th>B</th>\n      <th>C</th>\n      <th>D</th>\n    </tr>\n  </thead>\n  <tbody>\n    <tr>\n      <th>2013-01-01</th>\n      <td>-0.172312</td>\n      <td>0.106676</td>\n      <td>-1.049064</td>\n      <td>0.160119</td>\n    </tr>\n    <tr>\n      <th>2013-01-02</th>\n      <td>-0.241918</td>\n      <td>0.939371</td>\n      <td>-0.061873</td>\n      <td>1.914754</td>\n    </tr>\n    <tr>\n      <th>2013-01-03</th>\n      <td>0.163260</td>\n      <td>0.807870</td>\n      <td>0.471507</td>\n      <td>-0.170539</td>\n    </tr>\n    <tr>\n      <th>2013-01-04</th>\n      <td>-0.070193</td>\n      <td>0.594396</td>\n      <td>1.175613</td>\n      <td>-1.164397</td>\n    </tr>\n    <tr>\n      <th>2013-01-05</th>\n      <td>-0.175992</td>\n      <td>-1.885755</td>\n      <td>-0.357364</td>\n      <td>0.485270</td>\n    </tr>\n  </tbody>\n</table>\n</div>"
     },
     "metadata": {},
     "execution_count": 9
    }
   ],
   "source": [
    "df.head()"
   ]
  },
  {
   "cell_type": "code",
   "execution_count": 10,
   "metadata": {},
   "outputs": [
    {
     "output_type": "execute_result",
     "data": {
      "text/plain": [
       "                   A         B         C         D\n",
       "2013-01-04 -0.070193  0.594396  1.175613 -1.164397\n",
       "2013-01-05 -0.175992 -1.885755 -0.357364  0.485270\n",
       "2013-01-06 -0.143361 -0.565268  1.386426  0.555486"
      ],
      "text/html": "<div>\n<style scoped>\n    .dataframe tbody tr th:only-of-type {\n        vertical-align: middle;\n    }\n\n    .dataframe tbody tr th {\n        vertical-align: top;\n    }\n\n    .dataframe thead th {\n        text-align: right;\n    }\n</style>\n<table border=\"1\" class=\"dataframe\">\n  <thead>\n    <tr style=\"text-align: right;\">\n      <th></th>\n      <th>A</th>\n      <th>B</th>\n      <th>C</th>\n      <th>D</th>\n    </tr>\n  </thead>\n  <tbody>\n    <tr>\n      <th>2013-01-04</th>\n      <td>-0.070193</td>\n      <td>0.594396</td>\n      <td>1.175613</td>\n      <td>-1.164397</td>\n    </tr>\n    <tr>\n      <th>2013-01-05</th>\n      <td>-0.175992</td>\n      <td>-1.885755</td>\n      <td>-0.357364</td>\n      <td>0.485270</td>\n    </tr>\n    <tr>\n      <th>2013-01-06</th>\n      <td>-0.143361</td>\n      <td>-0.565268</td>\n      <td>1.386426</td>\n      <td>0.555486</td>\n    </tr>\n  </tbody>\n</table>\n</div>"
     },
     "metadata": {},
     "execution_count": 10
    }
   ],
   "source": [
    "df.tail(3)"
   ]
  },
  {
   "cell_type": "code",
   "execution_count": 11,
   "metadata": {},
   "outputs": [
    {
     "output_type": "execute_result",
     "data": {
      "text/plain": [
       "DatetimeIndex(['2013-01-01', '2013-01-02', '2013-01-03', '2013-01-04',\n",
       "               '2013-01-05', '2013-01-06'],\n",
       "              dtype='datetime64[ns]', freq='D')"
      ]
     },
     "metadata": {},
     "execution_count": 11
    }
   ],
   "source": [
    "#Display the index, columns:\n",
    "df.index"
   ]
  },
  {
   "cell_type": "code",
   "execution_count": 12,
   "metadata": {},
   "outputs": [
    {
     "output_type": "execute_result",
     "data": {
      "text/plain": [
       "Index(['A', 'B', 'C', 'D'], dtype='object')"
      ]
     },
     "metadata": {},
     "execution_count": 12
    }
   ],
   "source": [
    "df.columns"
   ]
  },
  {
   "cell_type": "code",
   "execution_count": 13,
   "metadata": {},
   "outputs": [
    {
     "output_type": "execute_result",
     "data": {
      "text/plain": [
       "array([[-0.17231171,  0.1066756 , -1.04906391,  0.16011895],\n",
       "       [-0.24191792,  0.93937135, -0.06187256,  1.9147542 ],\n",
       "       [ 0.16325966,  0.80787017,  0.47150684, -0.1705392 ],\n",
       "       [-0.07019272,  0.59439649,  1.17561313, -1.16439723],\n",
       "       [-0.17599189, -1.88575468, -0.35736389,  0.48526982],\n",
       "       [-0.14336098, -0.56526825,  1.38642575,  0.55548646]])"
      ]
     },
     "metadata": {},
     "execution_count": 13
    }
   ],
   "source": [
    "#For df, our DataFrame of all floating-point values, DataFrame.to_numpy() is fast and doesn’t require copying data.\n",
    "#DataFrame.to_numpy() does not include the index or column labels in the output.\n",
    "df.to_numpy()"
   ]
  },
  {
   "cell_type": "code",
   "execution_count": 14,
   "metadata": {},
   "outputs": [
    {
     "output_type": "execute_result",
     "data": {
      "text/plain": [
       "array([[1.0, Timestamp('2013-01-02 00:00:00'), 1.0, 3, 'test', 'foo'],\n",
       "       [1.0, Timestamp('2013-01-02 00:00:00'), 1.0, 3, 'train', 'foo'],\n",
       "       [1.0, Timestamp('2013-01-02 00:00:00'), 1.0, 3, 'test', 'foo'],\n",
       "       [1.0, Timestamp('2013-01-02 00:00:00'), 1.0, 3, 'train', 'foo']],\n",
       "      dtype=object)"
      ]
     },
     "metadata": {},
     "execution_count": 14
    }
   ],
   "source": [
    "\n",
    "#For df2, the DataFrame with multiple dtypes, DataFrame.to_numpy() is relatively expensive.\n",
    "df2.to_numpy()"
   ]
  },
  {
   "cell_type": "code",
   "execution_count": 15,
   "metadata": {},
   "outputs": [
    {
     "output_type": "execute_result",
     "data": {
      "text/plain": [
       "              A         B         C         D\n",
       "count  6.000000  6.000000  6.000000  6.000000\n",
       "mean  -0.106753 -0.000452  0.260874  0.296782\n",
       "std    0.143489  1.074743  0.932770  1.009198\n",
       "min   -0.241918 -1.885755 -1.049064 -1.164397\n",
       "25%   -0.175072 -0.397282 -0.283491 -0.087875\n",
       "50%   -0.157836  0.350536  0.204817  0.322694\n",
       "75%   -0.088485  0.754502  0.999587  0.537932\n",
       "max    0.163260  0.939371  1.386426  1.914754"
      ],
      "text/html": "<div>\n<style scoped>\n    .dataframe tbody tr th:only-of-type {\n        vertical-align: middle;\n    }\n\n    .dataframe tbody tr th {\n        vertical-align: top;\n    }\n\n    .dataframe thead th {\n        text-align: right;\n    }\n</style>\n<table border=\"1\" class=\"dataframe\">\n  <thead>\n    <tr style=\"text-align: right;\">\n      <th></th>\n      <th>A</th>\n      <th>B</th>\n      <th>C</th>\n      <th>D</th>\n    </tr>\n  </thead>\n  <tbody>\n    <tr>\n      <th>count</th>\n      <td>6.000000</td>\n      <td>6.000000</td>\n      <td>6.000000</td>\n      <td>6.000000</td>\n    </tr>\n    <tr>\n      <th>mean</th>\n      <td>-0.106753</td>\n      <td>-0.000452</td>\n      <td>0.260874</td>\n      <td>0.296782</td>\n    </tr>\n    <tr>\n      <th>std</th>\n      <td>0.143489</td>\n      <td>1.074743</td>\n      <td>0.932770</td>\n      <td>1.009198</td>\n    </tr>\n    <tr>\n      <th>min</th>\n      <td>-0.241918</td>\n      <td>-1.885755</td>\n      <td>-1.049064</td>\n      <td>-1.164397</td>\n    </tr>\n    <tr>\n      <th>25%</th>\n      <td>-0.175072</td>\n      <td>-0.397282</td>\n      <td>-0.283491</td>\n      <td>-0.087875</td>\n    </tr>\n    <tr>\n      <th>50%</th>\n      <td>-0.157836</td>\n      <td>0.350536</td>\n      <td>0.204817</td>\n      <td>0.322694</td>\n    </tr>\n    <tr>\n      <th>75%</th>\n      <td>-0.088485</td>\n      <td>0.754502</td>\n      <td>0.999587</td>\n      <td>0.537932</td>\n    </tr>\n    <tr>\n      <th>max</th>\n      <td>0.163260</td>\n      <td>0.939371</td>\n      <td>1.386426</td>\n      <td>1.914754</td>\n    </tr>\n  </tbody>\n</table>\n</div>"
     },
     "metadata": {},
     "execution_count": 15
    }
   ],
   "source": [
    "#describe() shows a quick statistic summary of your data:\n",
    "df.describe()"
   ]
  },
  {
   "cell_type": "code",
   "execution_count": 16,
   "metadata": {},
   "outputs": [
    {
     "output_type": "execute_result",
     "data": {
      "text/plain": [
       "   2013-01-01  2013-01-02  2013-01-03  2013-01-04  2013-01-05  2013-01-06\n",
       "A   -0.172312   -0.241918    0.163260   -0.070193   -0.175992   -0.143361\n",
       "B    0.106676    0.939371    0.807870    0.594396   -1.885755   -0.565268\n",
       "C   -1.049064   -0.061873    0.471507    1.175613   -0.357364    1.386426\n",
       "D    0.160119    1.914754   -0.170539   -1.164397    0.485270    0.555486"
      ],
      "text/html": "<div>\n<style scoped>\n    .dataframe tbody tr th:only-of-type {\n        vertical-align: middle;\n    }\n\n    .dataframe tbody tr th {\n        vertical-align: top;\n    }\n\n    .dataframe thead th {\n        text-align: right;\n    }\n</style>\n<table border=\"1\" class=\"dataframe\">\n  <thead>\n    <tr style=\"text-align: right;\">\n      <th></th>\n      <th>2013-01-01</th>\n      <th>2013-01-02</th>\n      <th>2013-01-03</th>\n      <th>2013-01-04</th>\n      <th>2013-01-05</th>\n      <th>2013-01-06</th>\n    </tr>\n  </thead>\n  <tbody>\n    <tr>\n      <th>A</th>\n      <td>-0.172312</td>\n      <td>-0.241918</td>\n      <td>0.163260</td>\n      <td>-0.070193</td>\n      <td>-0.175992</td>\n      <td>-0.143361</td>\n    </tr>\n    <tr>\n      <th>B</th>\n      <td>0.106676</td>\n      <td>0.939371</td>\n      <td>0.807870</td>\n      <td>0.594396</td>\n      <td>-1.885755</td>\n      <td>-0.565268</td>\n    </tr>\n    <tr>\n      <th>C</th>\n      <td>-1.049064</td>\n      <td>-0.061873</td>\n      <td>0.471507</td>\n      <td>1.175613</td>\n      <td>-0.357364</td>\n      <td>1.386426</td>\n    </tr>\n    <tr>\n      <th>D</th>\n      <td>0.160119</td>\n      <td>1.914754</td>\n      <td>-0.170539</td>\n      <td>-1.164397</td>\n      <td>0.485270</td>\n      <td>0.555486</td>\n    </tr>\n  </tbody>\n</table>\n</div>"
     },
     "metadata": {},
     "execution_count": 16
    }
   ],
   "source": [
    "#Transposing your data:\n",
    "df.T"
   ]
  },
  {
   "cell_type": "code",
   "execution_count": 17,
   "metadata": {},
   "outputs": [
    {
     "output_type": "execute_result",
     "data": {
      "text/plain": [
       "                   D         C         B         A\n",
       "2013-01-01  0.160119 -1.049064  0.106676 -0.172312\n",
       "2013-01-02  1.914754 -0.061873  0.939371 -0.241918\n",
       "2013-01-03 -0.170539  0.471507  0.807870  0.163260\n",
       "2013-01-04 -1.164397  1.175613  0.594396 -0.070193\n",
       "2013-01-05  0.485270 -0.357364 -1.885755 -0.175992\n",
       "2013-01-06  0.555486  1.386426 -0.565268 -0.143361"
      ],
      "text/html": "<div>\n<style scoped>\n    .dataframe tbody tr th:only-of-type {\n        vertical-align: middle;\n    }\n\n    .dataframe tbody tr th {\n        vertical-align: top;\n    }\n\n    .dataframe thead th {\n        text-align: right;\n    }\n</style>\n<table border=\"1\" class=\"dataframe\">\n  <thead>\n    <tr style=\"text-align: right;\">\n      <th></th>\n      <th>D</th>\n      <th>C</th>\n      <th>B</th>\n      <th>A</th>\n    </tr>\n  </thead>\n  <tbody>\n    <tr>\n      <th>2013-01-01</th>\n      <td>0.160119</td>\n      <td>-1.049064</td>\n      <td>0.106676</td>\n      <td>-0.172312</td>\n    </tr>\n    <tr>\n      <th>2013-01-02</th>\n      <td>1.914754</td>\n      <td>-0.061873</td>\n      <td>0.939371</td>\n      <td>-0.241918</td>\n    </tr>\n    <tr>\n      <th>2013-01-03</th>\n      <td>-0.170539</td>\n      <td>0.471507</td>\n      <td>0.807870</td>\n      <td>0.163260</td>\n    </tr>\n    <tr>\n      <th>2013-01-04</th>\n      <td>-1.164397</td>\n      <td>1.175613</td>\n      <td>0.594396</td>\n      <td>-0.070193</td>\n    </tr>\n    <tr>\n      <th>2013-01-05</th>\n      <td>0.485270</td>\n      <td>-0.357364</td>\n      <td>-1.885755</td>\n      <td>-0.175992</td>\n    </tr>\n    <tr>\n      <th>2013-01-06</th>\n      <td>0.555486</td>\n      <td>1.386426</td>\n      <td>-0.565268</td>\n      <td>-0.143361</td>\n    </tr>\n  </tbody>\n</table>\n</div>"
     },
     "metadata": {},
     "execution_count": 17
    }
   ],
   "source": [
    "# Sorting by an axis:\n",
    "df.sort_index(axis=1, ascending=False)"
   ]
  },
  {
   "cell_type": "code",
   "execution_count": 18,
   "metadata": {},
   "outputs": [
    {
     "output_type": "execute_result",
     "data": {
      "text/plain": [
       "                   A         B         C         D\n",
       "2013-01-05 -0.175992 -1.885755 -0.357364  0.485270\n",
       "2013-01-06 -0.143361 -0.565268  1.386426  0.555486\n",
       "2013-01-01 -0.172312  0.106676 -1.049064  0.160119\n",
       "2013-01-04 -0.070193  0.594396  1.175613 -1.164397\n",
       "2013-01-03  0.163260  0.807870  0.471507 -0.170539\n",
       "2013-01-02 -0.241918  0.939371 -0.061873  1.914754"
      ],
      "text/html": "<div>\n<style scoped>\n    .dataframe tbody tr th:only-of-type {\n        vertical-align: middle;\n    }\n\n    .dataframe tbody tr th {\n        vertical-align: top;\n    }\n\n    .dataframe thead th {\n        text-align: right;\n    }\n</style>\n<table border=\"1\" class=\"dataframe\">\n  <thead>\n    <tr style=\"text-align: right;\">\n      <th></th>\n      <th>A</th>\n      <th>B</th>\n      <th>C</th>\n      <th>D</th>\n    </tr>\n  </thead>\n  <tbody>\n    <tr>\n      <th>2013-01-05</th>\n      <td>-0.175992</td>\n      <td>-1.885755</td>\n      <td>-0.357364</td>\n      <td>0.485270</td>\n    </tr>\n    <tr>\n      <th>2013-01-06</th>\n      <td>-0.143361</td>\n      <td>-0.565268</td>\n      <td>1.386426</td>\n      <td>0.555486</td>\n    </tr>\n    <tr>\n      <th>2013-01-01</th>\n      <td>-0.172312</td>\n      <td>0.106676</td>\n      <td>-1.049064</td>\n      <td>0.160119</td>\n    </tr>\n    <tr>\n      <th>2013-01-04</th>\n      <td>-0.070193</td>\n      <td>0.594396</td>\n      <td>1.175613</td>\n      <td>-1.164397</td>\n    </tr>\n    <tr>\n      <th>2013-01-03</th>\n      <td>0.163260</td>\n      <td>0.807870</td>\n      <td>0.471507</td>\n      <td>-0.170539</td>\n    </tr>\n    <tr>\n      <th>2013-01-02</th>\n      <td>-0.241918</td>\n      <td>0.939371</td>\n      <td>-0.061873</td>\n      <td>1.914754</td>\n    </tr>\n  </tbody>\n</table>\n</div>"
     },
     "metadata": {},
     "execution_count": 18
    }
   ],
   "source": [
    "#Sorting by values:\n",
    "df.sort_values(by=\"B\")"
   ]
  },
  {
   "source": [
    "## Selection\n",
    "TODO: to follow up with .at, .iat, .loc and .iloc."
   ],
   "cell_type": "markdown",
   "metadata": {}
  },
  {
   "source": [
    "### Getting\n",
    "Selecting a single column, which yields a Series, equivalent to df.A:"
   ],
   "cell_type": "markdown",
   "metadata": {}
  },
  {
   "cell_type": "code",
   "execution_count": 19,
   "metadata": {},
   "outputs": [
    {
     "output_type": "execute_result",
     "data": {
      "text/plain": [
       "2013-01-01   -0.172312\n",
       "2013-01-02   -0.241918\n",
       "2013-01-03    0.163260\n",
       "2013-01-04   -0.070193\n",
       "2013-01-05   -0.175992\n",
       "2013-01-06   -0.143361\n",
       "Freq: D, Name: A, dtype: float64"
      ]
     },
     "metadata": {},
     "execution_count": 19
    }
   ],
   "source": [
    "df[\"A\"]"
   ]
  },
  {
   "cell_type": "code",
   "execution_count": 20,
   "metadata": {},
   "outputs": [
    {
     "output_type": "execute_result",
     "data": {
      "text/plain": [
       "2013-01-01   -0.172312\n",
       "2013-01-02   -0.241918\n",
       "2013-01-03    0.163260\n",
       "2013-01-04   -0.070193\n",
       "2013-01-05   -0.175992\n",
       "2013-01-06   -0.143361\n",
       "Freq: D, Name: A, dtype: float64"
      ]
     },
     "metadata": {},
     "execution_count": 20
    }
   ],
   "source": [
    "df.A"
   ]
  },
  {
   "cell_type": "code",
   "execution_count": 21,
   "metadata": {},
   "outputs": [
    {
     "output_type": "execute_result",
     "data": {
      "text/plain": [
       "                   A         B         C         D\n",
       "2013-01-01 -0.172312  0.106676 -1.049064  0.160119\n",
       "2013-01-02 -0.241918  0.939371 -0.061873  1.914754\n",
       "2013-01-03  0.163260  0.807870  0.471507 -0.170539"
      ],
      "text/html": "<div>\n<style scoped>\n    .dataframe tbody tr th:only-of-type {\n        vertical-align: middle;\n    }\n\n    .dataframe tbody tr th {\n        vertical-align: top;\n    }\n\n    .dataframe thead th {\n        text-align: right;\n    }\n</style>\n<table border=\"1\" class=\"dataframe\">\n  <thead>\n    <tr style=\"text-align: right;\">\n      <th></th>\n      <th>A</th>\n      <th>B</th>\n      <th>C</th>\n      <th>D</th>\n    </tr>\n  </thead>\n  <tbody>\n    <tr>\n      <th>2013-01-01</th>\n      <td>-0.172312</td>\n      <td>0.106676</td>\n      <td>-1.049064</td>\n      <td>0.160119</td>\n    </tr>\n    <tr>\n      <th>2013-01-02</th>\n      <td>-0.241918</td>\n      <td>0.939371</td>\n      <td>-0.061873</td>\n      <td>1.914754</td>\n    </tr>\n    <tr>\n      <th>2013-01-03</th>\n      <td>0.163260</td>\n      <td>0.807870</td>\n      <td>0.471507</td>\n      <td>-0.170539</td>\n    </tr>\n  </tbody>\n</table>\n</div>"
     },
     "metadata": {},
     "execution_count": 21
    }
   ],
   "source": [
    "# Selecting via [], which slices the rows.\n",
    "df[0:3]"
   ]
  },
  {
   "cell_type": "code",
   "execution_count": 22,
   "metadata": {},
   "outputs": [
    {
     "output_type": "execute_result",
     "data": {
      "text/plain": [
       "                   A         B         C         D\n",
       "2013-01-02 -0.241918  0.939371 -0.061873  1.914754\n",
       "2013-01-03  0.163260  0.807870  0.471507 -0.170539\n",
       "2013-01-04 -0.070193  0.594396  1.175613 -1.164397"
      ],
      "text/html": "<div>\n<style scoped>\n    .dataframe tbody tr th:only-of-type {\n        vertical-align: middle;\n    }\n\n    .dataframe tbody tr th {\n        vertical-align: top;\n    }\n\n    .dataframe thead th {\n        text-align: right;\n    }\n</style>\n<table border=\"1\" class=\"dataframe\">\n  <thead>\n    <tr style=\"text-align: right;\">\n      <th></th>\n      <th>A</th>\n      <th>B</th>\n      <th>C</th>\n      <th>D</th>\n    </tr>\n  </thead>\n  <tbody>\n    <tr>\n      <th>2013-01-02</th>\n      <td>-0.241918</td>\n      <td>0.939371</td>\n      <td>-0.061873</td>\n      <td>1.914754</td>\n    </tr>\n    <tr>\n      <th>2013-01-03</th>\n      <td>0.163260</td>\n      <td>0.807870</td>\n      <td>0.471507</td>\n      <td>-0.170539</td>\n    </tr>\n    <tr>\n      <th>2013-01-04</th>\n      <td>-0.070193</td>\n      <td>0.594396</td>\n      <td>1.175613</td>\n      <td>-1.164397</td>\n    </tr>\n  </tbody>\n</table>\n</div>"
     },
     "metadata": {},
     "execution_count": 22
    }
   ],
   "source": [
    "df[\"20130102\":\"20130104\"]"
   ]
  },
  {
   "source": [
    "### Selection by label\n",
    "See more in Selection by Label.\n",
    "\n",
    "For getting a cross section using a label:"
   ],
   "cell_type": "markdown",
   "metadata": {}
  },
  {
   "cell_type": "code",
   "execution_count": 23,
   "metadata": {},
   "outputs": [
    {
     "output_type": "execute_result",
     "data": {
      "text/plain": [
       "A   -0.172312\n",
       "B    0.106676\n",
       "C   -1.049064\n",
       "D    0.160119\n",
       "Name: 2013-01-01 00:00:00, dtype: float64"
      ]
     },
     "metadata": {},
     "execution_count": 23
    }
   ],
   "source": [
    "df.loc[dates[0]]"
   ]
  },
  {
   "cell_type": "code",
   "execution_count": 24,
   "metadata": {},
   "outputs": [
    {
     "output_type": "execute_result",
     "data": {
      "text/plain": [
       "                   A         B\n",
       "2013-01-01 -0.172312  0.106676\n",
       "2013-01-02 -0.241918  0.939371\n",
       "2013-01-03  0.163260  0.807870\n",
       "2013-01-04 -0.070193  0.594396\n",
       "2013-01-05 -0.175992 -1.885755\n",
       "2013-01-06 -0.143361 -0.565268"
      ],
      "text/html": "<div>\n<style scoped>\n    .dataframe tbody tr th:only-of-type {\n        vertical-align: middle;\n    }\n\n    .dataframe tbody tr th {\n        vertical-align: top;\n    }\n\n    .dataframe thead th {\n        text-align: right;\n    }\n</style>\n<table border=\"1\" class=\"dataframe\">\n  <thead>\n    <tr style=\"text-align: right;\">\n      <th></th>\n      <th>A</th>\n      <th>B</th>\n    </tr>\n  </thead>\n  <tbody>\n    <tr>\n      <th>2013-01-01</th>\n      <td>-0.172312</td>\n      <td>0.106676</td>\n    </tr>\n    <tr>\n      <th>2013-01-02</th>\n      <td>-0.241918</td>\n      <td>0.939371</td>\n    </tr>\n    <tr>\n      <th>2013-01-03</th>\n      <td>0.163260</td>\n      <td>0.807870</td>\n    </tr>\n    <tr>\n      <th>2013-01-04</th>\n      <td>-0.070193</td>\n      <td>0.594396</td>\n    </tr>\n    <tr>\n      <th>2013-01-05</th>\n      <td>-0.175992</td>\n      <td>-1.885755</td>\n    </tr>\n    <tr>\n      <th>2013-01-06</th>\n      <td>-0.143361</td>\n      <td>-0.565268</td>\n    </tr>\n  </tbody>\n</table>\n</div>"
     },
     "metadata": {},
     "execution_count": 24
    }
   ],
   "source": [
    "df.loc[:, [\"A\", \"B\"]]"
   ]
  },
  {
   "cell_type": "code",
   "execution_count": 25,
   "metadata": {},
   "outputs": [
    {
     "output_type": "execute_result",
     "data": {
      "text/plain": [
       "                   A         B\n",
       "2013-01-02 -0.241918  0.939371\n",
       "2013-01-03  0.163260  0.807870\n",
       "2013-01-04 -0.070193  0.594396"
      ],
      "text/html": "<div>\n<style scoped>\n    .dataframe tbody tr th:only-of-type {\n        vertical-align: middle;\n    }\n\n    .dataframe tbody tr th {\n        vertical-align: top;\n    }\n\n    .dataframe thead th {\n        text-align: right;\n    }\n</style>\n<table border=\"1\" class=\"dataframe\">\n  <thead>\n    <tr style=\"text-align: right;\">\n      <th></th>\n      <th>A</th>\n      <th>B</th>\n    </tr>\n  </thead>\n  <tbody>\n    <tr>\n      <th>2013-01-02</th>\n      <td>-0.241918</td>\n      <td>0.939371</td>\n    </tr>\n    <tr>\n      <th>2013-01-03</th>\n      <td>0.163260</td>\n      <td>0.807870</td>\n    </tr>\n    <tr>\n      <th>2013-01-04</th>\n      <td>-0.070193</td>\n      <td>0.594396</td>\n    </tr>\n  </tbody>\n</table>\n</div>"
     },
     "metadata": {},
     "execution_count": 25
    }
   ],
   "source": [
    "df.loc[\"20130102\":\"20130104\", [\"A\", \"B\"]]"
   ]
  },
  {
   "cell_type": "code",
   "execution_count": 26,
   "metadata": {},
   "outputs": [
    {
     "output_type": "execute_result",
     "data": {
      "text/plain": [
       "                   A         B\n",
       "2013-01-02 -0.241918  0.939371\n",
       "2013-01-04 -0.070193  0.594396"
      ],
      "text/html": "<div>\n<style scoped>\n    .dataframe tbody tr th:only-of-type {\n        vertical-align: middle;\n    }\n\n    .dataframe tbody tr th {\n        vertical-align: top;\n    }\n\n    .dataframe thead th {\n        text-align: right;\n    }\n</style>\n<table border=\"1\" class=\"dataframe\">\n  <thead>\n    <tr style=\"text-align: right;\">\n      <th></th>\n      <th>A</th>\n      <th>B</th>\n    </tr>\n  </thead>\n  <tbody>\n    <tr>\n      <th>2013-01-02</th>\n      <td>-0.241918</td>\n      <td>0.939371</td>\n    </tr>\n    <tr>\n      <th>2013-01-04</th>\n      <td>-0.070193</td>\n      <td>0.594396</td>\n    </tr>\n  </tbody>\n</table>\n</div>"
     },
     "metadata": {},
     "execution_count": 26
    }
   ],
   "source": [
    "df.loc[[\"20130102\",\"20130104\"], [\"A\", \"B\"]]"
   ]
  },
  {
   "cell_type": "code",
   "execution_count": 28,
   "metadata": {},
   "outputs": [
    {
     "output_type": "execute_result",
     "data": {
      "text/plain": [
       "A   -0.241918\n",
       "B    0.939371\n",
       "Name: 2013-01-02 00:00:00, dtype: float64"
      ]
     },
     "metadata": {},
     "execution_count": 28
    }
   ],
   "source": [
    "#Reduction in the dimensions of the returned object:\n",
    "df.loc[\"20130102\", [\"A\", \"B\"]]"
   ]
  },
  {
   "cell_type": "code",
   "execution_count": 29,
   "metadata": {},
   "outputs": [
    {
     "output_type": "execute_result",
     "data": {
      "text/plain": [
       "-0.17231170695347298"
      ]
     },
     "metadata": {},
     "execution_count": 29
    }
   ],
   "source": [
    "#For getting a scalar value:\n",
    "df.loc[dates[0], \"A\"]\n"
   ]
  },
  {
   "cell_type": "code",
   "execution_count": 31,
   "metadata": {},
   "outputs": [
    {
     "output_type": "execute_result",
     "data": {
      "text/plain": [
       "-0.17231170695347298"
      ]
     },
     "metadata": {},
     "execution_count": 31
    }
   ],
   "source": [
    "df.loc[\"20130101\", \"A\"]"
   ]
  },
  {
   "cell_type": "code",
   "execution_count": 32,
   "metadata": {},
   "outputs": [
    {
     "output_type": "execute_result",
     "data": {
      "text/plain": [
       "-0.17231170695347298"
      ]
     },
     "metadata": {},
     "execution_count": 32
    }
   ],
   "source": [
    "# For getting fast access to a scalar (equivalent to the prior method):\n",
    "df.at[dates[0], \"A\"]"
   ]
  },
  {
   "source": [
    "### Selection by position\n",
    "See more in Selection by Position.\n",
    "\n",
    "Select via the position of the passed integers:"
   ],
   "cell_type": "markdown",
   "metadata": {}
  },
  {
   "cell_type": "code",
   "execution_count": 33,
   "metadata": {},
   "outputs": [
    {
     "output_type": "execute_result",
     "data": {
      "text/plain": [
       "A   -0.070193\n",
       "B    0.594396\n",
       "C    1.175613\n",
       "D   -1.164397\n",
       "Name: 2013-01-04 00:00:00, dtype: float64"
      ]
     },
     "metadata": {},
     "execution_count": 33
    }
   ],
   "source": [
    "df.iloc[3]"
   ]
  },
  {
   "cell_type": "code",
   "execution_count": 34,
   "metadata": {},
   "outputs": [
    {
     "output_type": "execute_result",
     "data": {
      "text/plain": [
       "                   A         B\n",
       "2013-01-04 -0.070193  0.594396\n",
       "2013-01-05 -0.175992 -1.885755"
      ],
      "text/html": "<div>\n<style scoped>\n    .dataframe tbody tr th:only-of-type {\n        vertical-align: middle;\n    }\n\n    .dataframe tbody tr th {\n        vertical-align: top;\n    }\n\n    .dataframe thead th {\n        text-align: right;\n    }\n</style>\n<table border=\"1\" class=\"dataframe\">\n  <thead>\n    <tr style=\"text-align: right;\">\n      <th></th>\n      <th>A</th>\n      <th>B</th>\n    </tr>\n  </thead>\n  <tbody>\n    <tr>\n      <th>2013-01-04</th>\n      <td>-0.070193</td>\n      <td>0.594396</td>\n    </tr>\n    <tr>\n      <th>2013-01-05</th>\n      <td>-0.175992</td>\n      <td>-1.885755</td>\n    </tr>\n  </tbody>\n</table>\n</div>"
     },
     "metadata": {},
     "execution_count": 34
    }
   ],
   "source": [
    "df.iloc[3:5, 0:2]"
   ]
  },
  {
   "cell_type": "code",
   "execution_count": 35,
   "metadata": {},
   "outputs": [
    {
     "output_type": "execute_result",
     "data": {
      "text/plain": [
       "                   A         C\n",
       "2013-01-02 -0.241918 -0.061873\n",
       "2013-01-03  0.163260  0.471507\n",
       "2013-01-05 -0.175992 -0.357364"
      ],
      "text/html": "<div>\n<style scoped>\n    .dataframe tbody tr th:only-of-type {\n        vertical-align: middle;\n    }\n\n    .dataframe tbody tr th {\n        vertical-align: top;\n    }\n\n    .dataframe thead th {\n        text-align: right;\n    }\n</style>\n<table border=\"1\" class=\"dataframe\">\n  <thead>\n    <tr style=\"text-align: right;\">\n      <th></th>\n      <th>A</th>\n      <th>C</th>\n    </tr>\n  </thead>\n  <tbody>\n    <tr>\n      <th>2013-01-02</th>\n      <td>-0.241918</td>\n      <td>-0.061873</td>\n    </tr>\n    <tr>\n      <th>2013-01-03</th>\n      <td>0.163260</td>\n      <td>0.471507</td>\n    </tr>\n    <tr>\n      <th>2013-01-05</th>\n      <td>-0.175992</td>\n      <td>-0.357364</td>\n    </tr>\n  </tbody>\n</table>\n</div>"
     },
     "metadata": {},
     "execution_count": 35
    }
   ],
   "source": [
    "df.iloc[[1, 2, 4], [0, 2]]"
   ]
  },
  {
   "cell_type": "code",
   "execution_count": 36,
   "metadata": {},
   "outputs": [
    {
     "output_type": "execute_result",
     "data": {
      "text/plain": [
       "                   A         B         C         D\n",
       "2013-01-02 -0.241918  0.939371 -0.061873  1.914754\n",
       "2013-01-03  0.163260  0.807870  0.471507 -0.170539"
      ],
      "text/html": "<div>\n<style scoped>\n    .dataframe tbody tr th:only-of-type {\n        vertical-align: middle;\n    }\n\n    .dataframe tbody tr th {\n        vertical-align: top;\n    }\n\n    .dataframe thead th {\n        text-align: right;\n    }\n</style>\n<table border=\"1\" class=\"dataframe\">\n  <thead>\n    <tr style=\"text-align: right;\">\n      <th></th>\n      <th>A</th>\n      <th>B</th>\n      <th>C</th>\n      <th>D</th>\n    </tr>\n  </thead>\n  <tbody>\n    <tr>\n      <th>2013-01-02</th>\n      <td>-0.241918</td>\n      <td>0.939371</td>\n      <td>-0.061873</td>\n      <td>1.914754</td>\n    </tr>\n    <tr>\n      <th>2013-01-03</th>\n      <td>0.163260</td>\n      <td>0.807870</td>\n      <td>0.471507</td>\n      <td>-0.170539</td>\n    </tr>\n  </tbody>\n</table>\n</div>"
     },
     "metadata": {},
     "execution_count": 36
    }
   ],
   "source": [
    "df.iloc[1:3, :]"
   ]
  },
  {
   "cell_type": "code",
   "execution_count": 38,
   "metadata": {},
   "outputs": [
    {
     "output_type": "execute_result",
     "data": {
      "text/plain": [
       "                   B         C\n",
       "2013-01-01  0.106676 -1.049064\n",
       "2013-01-02  0.939371 -0.061873\n",
       "2013-01-03  0.807870  0.471507\n",
       "2013-01-04  0.594396  1.175613\n",
       "2013-01-05 -1.885755 -0.357364\n",
       "2013-01-06 -0.565268  1.386426"
      ],
      "text/html": "<div>\n<style scoped>\n    .dataframe tbody tr th:only-of-type {\n        vertical-align: middle;\n    }\n\n    .dataframe tbody tr th {\n        vertical-align: top;\n    }\n\n    .dataframe thead th {\n        text-align: right;\n    }\n</style>\n<table border=\"1\" class=\"dataframe\">\n  <thead>\n    <tr style=\"text-align: right;\">\n      <th></th>\n      <th>B</th>\n      <th>C</th>\n    </tr>\n  </thead>\n  <tbody>\n    <tr>\n      <th>2013-01-01</th>\n      <td>0.106676</td>\n      <td>-1.049064</td>\n    </tr>\n    <tr>\n      <th>2013-01-02</th>\n      <td>0.939371</td>\n      <td>-0.061873</td>\n    </tr>\n    <tr>\n      <th>2013-01-03</th>\n      <td>0.807870</td>\n      <td>0.471507</td>\n    </tr>\n    <tr>\n      <th>2013-01-04</th>\n      <td>0.594396</td>\n      <td>1.175613</td>\n    </tr>\n    <tr>\n      <th>2013-01-05</th>\n      <td>-1.885755</td>\n      <td>-0.357364</td>\n    </tr>\n    <tr>\n      <th>2013-01-06</th>\n      <td>-0.565268</td>\n      <td>1.386426</td>\n    </tr>\n  </tbody>\n</table>\n</div>"
     },
     "metadata": {},
     "execution_count": 38
    }
   ],
   "source": [
    "df.iloc[:, 1:3]"
   ]
  },
  {
   "cell_type": "code",
   "execution_count": 39,
   "metadata": {},
   "outputs": [
    {
     "output_type": "execute_result",
     "data": {
      "text/plain": [
       "0.939371354947053"
      ]
     },
     "metadata": {},
     "execution_count": 39
    }
   ],
   "source": [
    "#For getting a value explicitly:\n",
    "df.iloc[1, 1]"
   ]
  },
  {
   "cell_type": "code",
   "execution_count": 40,
   "metadata": {},
   "outputs": [
    {
     "output_type": "execute_result",
     "data": {
      "text/plain": [
       "0.939371354947053"
      ]
     },
     "metadata": {},
     "execution_count": 40
    }
   ],
   "source": [
    "df.iat[1, 1]"
   ]
  },
  {
   "source": [
    "### Boolean indexing\n",
    "Using a single column’s values to select data."
   ],
   "cell_type": "markdown",
   "metadata": {}
  },
  {
   "cell_type": "code",
   "execution_count": 41,
   "metadata": {},
   "outputs": [
    {
     "output_type": "execute_result",
     "data": {
      "text/plain": [
       "                  A        B         C         D\n",
       "2013-01-03  0.16326  0.80787  0.471507 -0.170539"
      ],
      "text/html": "<div>\n<style scoped>\n    .dataframe tbody tr th:only-of-type {\n        vertical-align: middle;\n    }\n\n    .dataframe tbody tr th {\n        vertical-align: top;\n    }\n\n    .dataframe thead th {\n        text-align: right;\n    }\n</style>\n<table border=\"1\" class=\"dataframe\">\n  <thead>\n    <tr style=\"text-align: right;\">\n      <th></th>\n      <th>A</th>\n      <th>B</th>\n      <th>C</th>\n      <th>D</th>\n    </tr>\n  </thead>\n  <tbody>\n    <tr>\n      <th>2013-01-03</th>\n      <td>0.16326</td>\n      <td>0.80787</td>\n      <td>0.471507</td>\n      <td>-0.170539</td>\n    </tr>\n  </tbody>\n</table>\n</div>"
     },
     "metadata": {},
     "execution_count": 41
    }
   ],
   "source": [
    "df[df[\"A\"] > 0]"
   ]
  },
  {
   "cell_type": "code",
   "execution_count": 42,
   "metadata": {},
   "outputs": [
    {
     "output_type": "execute_result",
     "data": {
      "text/plain": [
       "                  A         B         C         D\n",
       "2013-01-01      NaN  0.106676       NaN  0.160119\n",
       "2013-01-02      NaN  0.939371       NaN  1.914754\n",
       "2013-01-03  0.16326  0.807870  0.471507       NaN\n",
       "2013-01-04      NaN  0.594396  1.175613       NaN\n",
       "2013-01-05      NaN       NaN       NaN  0.485270\n",
       "2013-01-06      NaN       NaN  1.386426  0.555486"
      ],
      "text/html": "<div>\n<style scoped>\n    .dataframe tbody tr th:only-of-type {\n        vertical-align: middle;\n    }\n\n    .dataframe tbody tr th {\n        vertical-align: top;\n    }\n\n    .dataframe thead th {\n        text-align: right;\n    }\n</style>\n<table border=\"1\" class=\"dataframe\">\n  <thead>\n    <tr style=\"text-align: right;\">\n      <th></th>\n      <th>A</th>\n      <th>B</th>\n      <th>C</th>\n      <th>D</th>\n    </tr>\n  </thead>\n  <tbody>\n    <tr>\n      <th>2013-01-01</th>\n      <td>NaN</td>\n      <td>0.106676</td>\n      <td>NaN</td>\n      <td>0.160119</td>\n    </tr>\n    <tr>\n      <th>2013-01-02</th>\n      <td>NaN</td>\n      <td>0.939371</td>\n      <td>NaN</td>\n      <td>1.914754</td>\n    </tr>\n    <tr>\n      <th>2013-01-03</th>\n      <td>0.16326</td>\n      <td>0.807870</td>\n      <td>0.471507</td>\n      <td>NaN</td>\n    </tr>\n    <tr>\n      <th>2013-01-04</th>\n      <td>NaN</td>\n      <td>0.594396</td>\n      <td>1.175613</td>\n      <td>NaN</td>\n    </tr>\n    <tr>\n      <th>2013-01-05</th>\n      <td>NaN</td>\n      <td>NaN</td>\n      <td>NaN</td>\n      <td>0.485270</td>\n    </tr>\n    <tr>\n      <th>2013-01-06</th>\n      <td>NaN</td>\n      <td>NaN</td>\n      <td>1.386426</td>\n      <td>0.555486</td>\n    </tr>\n  </tbody>\n</table>\n</div>"
     },
     "metadata": {},
     "execution_count": 42
    }
   ],
   "source": [
    "df[df > 0]"
   ]
  },
  {
   "cell_type": "code",
   "execution_count": 43,
   "metadata": {},
   "outputs": [],
   "source": [
    "df2 = df.copy()"
   ]
  },
  {
   "cell_type": "code",
   "execution_count": 44,
   "metadata": {},
   "outputs": [],
   "source": [
    "df2[\"E\"] = [\"one\", \"one\", \"two\", \"three\", \"four\", \"three\"]"
   ]
  },
  {
   "cell_type": "code",
   "execution_count": 45,
   "metadata": {},
   "outputs": [
    {
     "output_type": "execute_result",
     "data": {
      "text/plain": [
       "                   A         B         C         D      E\n",
       "2013-01-01 -0.172312  0.106676 -1.049064  0.160119    one\n",
       "2013-01-02 -0.241918  0.939371 -0.061873  1.914754    one\n",
       "2013-01-03  0.163260  0.807870  0.471507 -0.170539    two\n",
       "2013-01-04 -0.070193  0.594396  1.175613 -1.164397  three\n",
       "2013-01-05 -0.175992 -1.885755 -0.357364  0.485270   four\n",
       "2013-01-06 -0.143361 -0.565268  1.386426  0.555486  three"
      ],
      "text/html": "<div>\n<style scoped>\n    .dataframe tbody tr th:only-of-type {\n        vertical-align: middle;\n    }\n\n    .dataframe tbody tr th {\n        vertical-align: top;\n    }\n\n    .dataframe thead th {\n        text-align: right;\n    }\n</style>\n<table border=\"1\" class=\"dataframe\">\n  <thead>\n    <tr style=\"text-align: right;\">\n      <th></th>\n      <th>A</th>\n      <th>B</th>\n      <th>C</th>\n      <th>D</th>\n      <th>E</th>\n    </tr>\n  </thead>\n  <tbody>\n    <tr>\n      <th>2013-01-01</th>\n      <td>-0.172312</td>\n      <td>0.106676</td>\n      <td>-1.049064</td>\n      <td>0.160119</td>\n      <td>one</td>\n    </tr>\n    <tr>\n      <th>2013-01-02</th>\n      <td>-0.241918</td>\n      <td>0.939371</td>\n      <td>-0.061873</td>\n      <td>1.914754</td>\n      <td>one</td>\n    </tr>\n    <tr>\n      <th>2013-01-03</th>\n      <td>0.163260</td>\n      <td>0.807870</td>\n      <td>0.471507</td>\n      <td>-0.170539</td>\n      <td>two</td>\n    </tr>\n    <tr>\n      <th>2013-01-04</th>\n      <td>-0.070193</td>\n      <td>0.594396</td>\n      <td>1.175613</td>\n      <td>-1.164397</td>\n      <td>three</td>\n    </tr>\n    <tr>\n      <th>2013-01-05</th>\n      <td>-0.175992</td>\n      <td>-1.885755</td>\n      <td>-0.357364</td>\n      <td>0.485270</td>\n      <td>four</td>\n    </tr>\n    <tr>\n      <th>2013-01-06</th>\n      <td>-0.143361</td>\n      <td>-0.565268</td>\n      <td>1.386426</td>\n      <td>0.555486</td>\n      <td>three</td>\n    </tr>\n  </tbody>\n</table>\n</div>"
     },
     "metadata": {},
     "execution_count": 45
    }
   ],
   "source": [
    "df2"
   ]
  },
  {
   "cell_type": "code",
   "execution_count": 46,
   "metadata": {},
   "outputs": [
    {
     "output_type": "execute_result",
     "data": {
      "text/plain": [
       "                   A         B         C         D     E\n",
       "2013-01-03  0.163260  0.807870  0.471507 -0.170539   two\n",
       "2013-01-05 -0.175992 -1.885755 -0.357364  0.485270  four"
      ],
      "text/html": "<div>\n<style scoped>\n    .dataframe tbody tr th:only-of-type {\n        vertical-align: middle;\n    }\n\n    .dataframe tbody tr th {\n        vertical-align: top;\n    }\n\n    .dataframe thead th {\n        text-align: right;\n    }\n</style>\n<table border=\"1\" class=\"dataframe\">\n  <thead>\n    <tr style=\"text-align: right;\">\n      <th></th>\n      <th>A</th>\n      <th>B</th>\n      <th>C</th>\n      <th>D</th>\n      <th>E</th>\n    </tr>\n  </thead>\n  <tbody>\n    <tr>\n      <th>2013-01-03</th>\n      <td>0.163260</td>\n      <td>0.807870</td>\n      <td>0.471507</td>\n      <td>-0.170539</td>\n      <td>two</td>\n    </tr>\n    <tr>\n      <th>2013-01-05</th>\n      <td>-0.175992</td>\n      <td>-1.885755</td>\n      <td>-0.357364</td>\n      <td>0.485270</td>\n      <td>four</td>\n    </tr>\n  </tbody>\n</table>\n</div>"
     },
     "metadata": {},
     "execution_count": 46
    }
   ],
   "source": [
    "df2[df2[\"E\"].isin([\"two\", \"four\"])]"
   ]
  },
  {
   "source": [
    "### Setting\n",
    "Setting a new column automatically aligns the data by the indexes."
   ],
   "cell_type": "markdown",
   "metadata": {}
  },
  {
   "cell_type": "code",
   "execution_count": 53,
   "metadata": {},
   "outputs": [],
   "source": [
    "s1 = pd.Series([1, 2, 3, 4, 5, 6], index=pd.date_range(\"20130102\", periods=6))\n",
    "df[\"F\"]=s1"
   ]
  },
  {
   "cell_type": "code",
   "execution_count": 54,
   "metadata": {},
   "outputs": [
    {
     "output_type": "execute_result",
     "data": {
      "text/plain": [
       "                   A         B         C         D    F\n",
       "2013-01-01  0.000000  0.106676 -1.049064  0.160119  NaN\n",
       "2013-01-02 -0.241918  0.939371 -0.061873  1.914754  1.0\n",
       "2013-01-03  0.163260  0.807870  0.471507 -0.170539  2.0\n",
       "2013-01-04 -0.070193  0.594396  1.175613 -1.164397  3.0\n",
       "2013-01-05 -0.175992 -1.885755 -0.357364  0.485270  4.0\n",
       "2013-01-06 -0.143361 -0.565268  1.386426  0.555486  5.0"
      ],
      "text/html": "<div>\n<style scoped>\n    .dataframe tbody tr th:only-of-type {\n        vertical-align: middle;\n    }\n\n    .dataframe tbody tr th {\n        vertical-align: top;\n    }\n\n    .dataframe thead th {\n        text-align: right;\n    }\n</style>\n<table border=\"1\" class=\"dataframe\">\n  <thead>\n    <tr style=\"text-align: right;\">\n      <th></th>\n      <th>A</th>\n      <th>B</th>\n      <th>C</th>\n      <th>D</th>\n      <th>F</th>\n    </tr>\n  </thead>\n  <tbody>\n    <tr>\n      <th>2013-01-01</th>\n      <td>0.000000</td>\n      <td>0.106676</td>\n      <td>-1.049064</td>\n      <td>0.160119</td>\n      <td>NaN</td>\n    </tr>\n    <tr>\n      <th>2013-01-02</th>\n      <td>-0.241918</td>\n      <td>0.939371</td>\n      <td>-0.061873</td>\n      <td>1.914754</td>\n      <td>1.0</td>\n    </tr>\n    <tr>\n      <th>2013-01-03</th>\n      <td>0.163260</td>\n      <td>0.807870</td>\n      <td>0.471507</td>\n      <td>-0.170539</td>\n      <td>2.0</td>\n    </tr>\n    <tr>\n      <th>2013-01-04</th>\n      <td>-0.070193</td>\n      <td>0.594396</td>\n      <td>1.175613</td>\n      <td>-1.164397</td>\n      <td>3.0</td>\n    </tr>\n    <tr>\n      <th>2013-01-05</th>\n      <td>-0.175992</td>\n      <td>-1.885755</td>\n      <td>-0.357364</td>\n      <td>0.485270</td>\n      <td>4.0</td>\n    </tr>\n    <tr>\n      <th>2013-01-06</th>\n      <td>-0.143361</td>\n      <td>-0.565268</td>\n      <td>1.386426</td>\n      <td>0.555486</td>\n      <td>5.0</td>\n    </tr>\n  </tbody>\n</table>\n</div>"
     },
     "metadata": {},
     "execution_count": 54
    }
   ],
   "source": [
    "df.at[dates[0], \"A\"] = 0\n",
    "df"
   ]
  },
  {
   "cell_type": "code",
   "execution_count": 55,
   "metadata": {},
   "outputs": [
    {
     "output_type": "execute_result",
     "data": {
      "text/plain": [
       "                   A         B         C         D    F\n",
       "2013-01-01  0.000000  0.000000 -1.049064  0.160119  NaN\n",
       "2013-01-02 -0.241918  0.939371 -0.061873  1.914754  1.0\n",
       "2013-01-03  0.163260  0.807870  0.471507 -0.170539  2.0\n",
       "2013-01-04 -0.070193  0.594396  1.175613 -1.164397  3.0\n",
       "2013-01-05 -0.175992 -1.885755 -0.357364  0.485270  4.0\n",
       "2013-01-06 -0.143361 -0.565268  1.386426  0.555486  5.0"
      ],
      "text/html": "<div>\n<style scoped>\n    .dataframe tbody tr th:only-of-type {\n        vertical-align: middle;\n    }\n\n    .dataframe tbody tr th {\n        vertical-align: top;\n    }\n\n    .dataframe thead th {\n        text-align: right;\n    }\n</style>\n<table border=\"1\" class=\"dataframe\">\n  <thead>\n    <tr style=\"text-align: right;\">\n      <th></th>\n      <th>A</th>\n      <th>B</th>\n      <th>C</th>\n      <th>D</th>\n      <th>F</th>\n    </tr>\n  </thead>\n  <tbody>\n    <tr>\n      <th>2013-01-01</th>\n      <td>0.000000</td>\n      <td>0.000000</td>\n      <td>-1.049064</td>\n      <td>0.160119</td>\n      <td>NaN</td>\n    </tr>\n    <tr>\n      <th>2013-01-02</th>\n      <td>-0.241918</td>\n      <td>0.939371</td>\n      <td>-0.061873</td>\n      <td>1.914754</td>\n      <td>1.0</td>\n    </tr>\n    <tr>\n      <th>2013-01-03</th>\n      <td>0.163260</td>\n      <td>0.807870</td>\n      <td>0.471507</td>\n      <td>-0.170539</td>\n      <td>2.0</td>\n    </tr>\n    <tr>\n      <th>2013-01-04</th>\n      <td>-0.070193</td>\n      <td>0.594396</td>\n      <td>1.175613</td>\n      <td>-1.164397</td>\n      <td>3.0</td>\n    </tr>\n    <tr>\n      <th>2013-01-05</th>\n      <td>-0.175992</td>\n      <td>-1.885755</td>\n      <td>-0.357364</td>\n      <td>0.485270</td>\n      <td>4.0</td>\n    </tr>\n    <tr>\n      <th>2013-01-06</th>\n      <td>-0.143361</td>\n      <td>-0.565268</td>\n      <td>1.386426</td>\n      <td>0.555486</td>\n      <td>5.0</td>\n    </tr>\n  </tbody>\n</table>\n</div>"
     },
     "metadata": {},
     "execution_count": 55
    }
   ],
   "source": [
    "df.iat[0, 1] = 0\n",
    "df"
   ]
  },
  {
   "cell_type": "code",
   "execution_count": 57,
   "metadata": {},
   "outputs": [
    {
     "output_type": "execute_result",
     "data": {
      "text/plain": [
       "                   A         B         C  D    F\n",
       "2013-01-01  0.000000  0.000000 -1.049064  5  NaN\n",
       "2013-01-02 -0.241918  0.939371 -0.061873  5  1.0\n",
       "2013-01-03  0.163260  0.807870  0.471507  5  2.0\n",
       "2013-01-04 -0.070193  0.594396  1.175613  5  3.0\n",
       "2013-01-05 -0.175992 -1.885755 -0.357364  5  4.0\n",
       "2013-01-06 -0.143361 -0.565268  1.386426  5  5.0"
      ],
      "text/html": "<div>\n<style scoped>\n    .dataframe tbody tr th:only-of-type {\n        vertical-align: middle;\n    }\n\n    .dataframe tbody tr th {\n        vertical-align: top;\n    }\n\n    .dataframe thead th {\n        text-align: right;\n    }\n</style>\n<table border=\"1\" class=\"dataframe\">\n  <thead>\n    <tr style=\"text-align: right;\">\n      <th></th>\n      <th>A</th>\n      <th>B</th>\n      <th>C</th>\n      <th>D</th>\n      <th>F</th>\n    </tr>\n  </thead>\n  <tbody>\n    <tr>\n      <th>2013-01-01</th>\n      <td>0.000000</td>\n      <td>0.000000</td>\n      <td>-1.049064</td>\n      <td>5</td>\n      <td>NaN</td>\n    </tr>\n    <tr>\n      <th>2013-01-02</th>\n      <td>-0.241918</td>\n      <td>0.939371</td>\n      <td>-0.061873</td>\n      <td>5</td>\n      <td>1.0</td>\n    </tr>\n    <tr>\n      <th>2013-01-03</th>\n      <td>0.163260</td>\n      <td>0.807870</td>\n      <td>0.471507</td>\n      <td>5</td>\n      <td>2.0</td>\n    </tr>\n    <tr>\n      <th>2013-01-04</th>\n      <td>-0.070193</td>\n      <td>0.594396</td>\n      <td>1.175613</td>\n      <td>5</td>\n      <td>3.0</td>\n    </tr>\n    <tr>\n      <th>2013-01-05</th>\n      <td>-0.175992</td>\n      <td>-1.885755</td>\n      <td>-0.357364</td>\n      <td>5</td>\n      <td>4.0</td>\n    </tr>\n    <tr>\n      <th>2013-01-06</th>\n      <td>-0.143361</td>\n      <td>-0.565268</td>\n      <td>1.386426</td>\n      <td>5</td>\n      <td>5.0</td>\n    </tr>\n  </tbody>\n</table>\n</div>"
     },
     "metadata": {},
     "execution_count": 57
    }
   ],
   "source": [
    "df.loc[:, \"D\"] = np.array([5] * len(df))\n",
    "df"
   ]
  },
  {
   "cell_type": "code",
   "execution_count": 60,
   "metadata": {},
   "outputs": [
    {
     "output_type": "execute_result",
     "data": {
      "text/plain": [
       "                   A         B         C  D    F\n",
       "2013-01-01  0.000000  0.000000 -1.049064 -5  NaN\n",
       "2013-01-02 -0.241918 -0.939371 -0.061873 -5 -1.0\n",
       "2013-01-03 -0.163260 -0.807870 -0.471507 -5 -2.0\n",
       "2013-01-04 -0.070193 -0.594396 -1.175613 -5 -3.0\n",
       "2013-01-05 -0.175992 -1.885755 -0.357364 -5 -4.0\n",
       "2013-01-06 -0.143361 -0.565268 -1.386426 -5 -5.0"
      ],
      "text/html": "<div>\n<style scoped>\n    .dataframe tbody tr th:only-of-type {\n        vertical-align: middle;\n    }\n\n    .dataframe tbody tr th {\n        vertical-align: top;\n    }\n\n    .dataframe thead th {\n        text-align: right;\n    }\n</style>\n<table border=\"1\" class=\"dataframe\">\n  <thead>\n    <tr style=\"text-align: right;\">\n      <th></th>\n      <th>A</th>\n      <th>B</th>\n      <th>C</th>\n      <th>D</th>\n      <th>F</th>\n    </tr>\n  </thead>\n  <tbody>\n    <tr>\n      <th>2013-01-01</th>\n      <td>0.000000</td>\n      <td>0.000000</td>\n      <td>-1.049064</td>\n      <td>-5</td>\n      <td>NaN</td>\n    </tr>\n    <tr>\n      <th>2013-01-02</th>\n      <td>-0.241918</td>\n      <td>-0.939371</td>\n      <td>-0.061873</td>\n      <td>-5</td>\n      <td>-1.0</td>\n    </tr>\n    <tr>\n      <th>2013-01-03</th>\n      <td>-0.163260</td>\n      <td>-0.807870</td>\n      <td>-0.471507</td>\n      <td>-5</td>\n      <td>-2.0</td>\n    </tr>\n    <tr>\n      <th>2013-01-04</th>\n      <td>-0.070193</td>\n      <td>-0.594396</td>\n      <td>-1.175613</td>\n      <td>-5</td>\n      <td>-3.0</td>\n    </tr>\n    <tr>\n      <th>2013-01-05</th>\n      <td>-0.175992</td>\n      <td>-1.885755</td>\n      <td>-0.357364</td>\n      <td>-5</td>\n      <td>-4.0</td>\n    </tr>\n    <tr>\n      <th>2013-01-06</th>\n      <td>-0.143361</td>\n      <td>-0.565268</td>\n      <td>-1.386426</td>\n      <td>-5</td>\n      <td>-5.0</td>\n    </tr>\n  </tbody>\n</table>\n</div>"
     },
     "metadata": {},
     "execution_count": 60
    }
   ],
   "source": [
    "df2 = df.copy()\n",
    "df2[df2>0] =-df2\n",
    "df2"
   ]
  },
  {
   "source": [
    "### Missing data\n",
    "pandas primarily uses the value np.nan to represent missing data. It is by default not included in computations. See the Missing Data section.\n",
    "\n",
    "Reindexing allows you to change/add/delete the index on a specified axis. This returns a copy of the data."
   ],
   "cell_type": "markdown",
   "metadata": {}
  },
  {
   "cell_type": "code",
   "execution_count": 61,
   "metadata": {},
   "outputs": [
    {
     "output_type": "execute_result",
     "data": {
      "text/plain": [
       "                   A         B         C  D    F    E\n",
       "2013-01-01  0.000000  0.000000 -1.049064  5  NaN  1.0\n",
       "2013-01-02 -0.241918  0.939371 -0.061873  5  1.0  1.0\n",
       "2013-01-03  0.163260  0.807870  0.471507  5  2.0  NaN\n",
       "2013-01-04 -0.070193  0.594396  1.175613  5  3.0  NaN"
      ],
      "text/html": "<div>\n<style scoped>\n    .dataframe tbody tr th:only-of-type {\n        vertical-align: middle;\n    }\n\n    .dataframe tbody tr th {\n        vertical-align: top;\n    }\n\n    .dataframe thead th {\n        text-align: right;\n    }\n</style>\n<table border=\"1\" class=\"dataframe\">\n  <thead>\n    <tr style=\"text-align: right;\">\n      <th></th>\n      <th>A</th>\n      <th>B</th>\n      <th>C</th>\n      <th>D</th>\n      <th>F</th>\n      <th>E</th>\n    </tr>\n  </thead>\n  <tbody>\n    <tr>\n      <th>2013-01-01</th>\n      <td>0.000000</td>\n      <td>0.000000</td>\n      <td>-1.049064</td>\n      <td>5</td>\n      <td>NaN</td>\n      <td>1.0</td>\n    </tr>\n    <tr>\n      <th>2013-01-02</th>\n      <td>-0.241918</td>\n      <td>0.939371</td>\n      <td>-0.061873</td>\n      <td>5</td>\n      <td>1.0</td>\n      <td>1.0</td>\n    </tr>\n    <tr>\n      <th>2013-01-03</th>\n      <td>0.163260</td>\n      <td>0.807870</td>\n      <td>0.471507</td>\n      <td>5</td>\n      <td>2.0</td>\n      <td>NaN</td>\n    </tr>\n    <tr>\n      <th>2013-01-04</th>\n      <td>-0.070193</td>\n      <td>0.594396</td>\n      <td>1.175613</td>\n      <td>5</td>\n      <td>3.0</td>\n      <td>NaN</td>\n    </tr>\n  </tbody>\n</table>\n</div>"
     },
     "metadata": {},
     "execution_count": 61
    }
   ],
   "source": [
    "df1 = df.reindex(index=dates[0:4], columns=list(df.columns) + [\"E\"])\n",
    "df1.loc[dates[0] : dates[1], \"E\"]=1\n",
    "df1"
   ]
  },
  {
   "cell_type": "code",
   "execution_count": 62,
   "metadata": {},
   "outputs": [
    {
     "output_type": "execute_result",
     "data": {
      "text/plain": [
       "                   A         B         C  D    F    E\n",
       "2013-01-02 -0.241918  0.939371 -0.061873  5  1.0  1.0"
      ],
      "text/html": "<div>\n<style scoped>\n    .dataframe tbody tr th:only-of-type {\n        vertical-align: middle;\n    }\n\n    .dataframe tbody tr th {\n        vertical-align: top;\n    }\n\n    .dataframe thead th {\n        text-align: right;\n    }\n</style>\n<table border=\"1\" class=\"dataframe\">\n  <thead>\n    <tr style=\"text-align: right;\">\n      <th></th>\n      <th>A</th>\n      <th>B</th>\n      <th>C</th>\n      <th>D</th>\n      <th>F</th>\n      <th>E</th>\n    </tr>\n  </thead>\n  <tbody>\n    <tr>\n      <th>2013-01-02</th>\n      <td>-0.241918</td>\n      <td>0.939371</td>\n      <td>-0.061873</td>\n      <td>5</td>\n      <td>1.0</td>\n      <td>1.0</td>\n    </tr>\n  </tbody>\n</table>\n</div>"
     },
     "metadata": {},
     "execution_count": 62
    }
   ],
   "source": [
    "#To drop any rows that have missing data.\n",
    "df1.dropna(how=\"any\")"
   ]
  },
  {
   "cell_type": "code",
   "execution_count": 64,
   "metadata": {},
   "outputs": [
    {
     "output_type": "execute_result",
     "data": {
      "text/plain": [
       "                   A         B         C  D    F    E\n",
       "2013-01-01  0.000000  0.000000 -1.049064  5  5.0  1.0\n",
       "2013-01-02 -0.241918  0.939371 -0.061873  5  1.0  1.0\n",
       "2013-01-03  0.163260  0.807870  0.471507  5  2.0  5.0\n",
       "2013-01-04 -0.070193  0.594396  1.175613  5  3.0  5.0"
      ],
      "text/html": "<div>\n<style scoped>\n    .dataframe tbody tr th:only-of-type {\n        vertical-align: middle;\n    }\n\n    .dataframe tbody tr th {\n        vertical-align: top;\n    }\n\n    .dataframe thead th {\n        text-align: right;\n    }\n</style>\n<table border=\"1\" class=\"dataframe\">\n  <thead>\n    <tr style=\"text-align: right;\">\n      <th></th>\n      <th>A</th>\n      <th>B</th>\n      <th>C</th>\n      <th>D</th>\n      <th>F</th>\n      <th>E</th>\n    </tr>\n  </thead>\n  <tbody>\n    <tr>\n      <th>2013-01-01</th>\n      <td>0.000000</td>\n      <td>0.000000</td>\n      <td>-1.049064</td>\n      <td>5</td>\n      <td>5.0</td>\n      <td>1.0</td>\n    </tr>\n    <tr>\n      <th>2013-01-02</th>\n      <td>-0.241918</td>\n      <td>0.939371</td>\n      <td>-0.061873</td>\n      <td>5</td>\n      <td>1.0</td>\n      <td>1.0</td>\n    </tr>\n    <tr>\n      <th>2013-01-03</th>\n      <td>0.163260</td>\n      <td>0.807870</td>\n      <td>0.471507</td>\n      <td>5</td>\n      <td>2.0</td>\n      <td>5.0</td>\n    </tr>\n    <tr>\n      <th>2013-01-04</th>\n      <td>-0.070193</td>\n      <td>0.594396</td>\n      <td>1.175613</td>\n      <td>5</td>\n      <td>3.0</td>\n      <td>5.0</td>\n    </tr>\n  </tbody>\n</table>\n</div>"
     },
     "metadata": {},
     "execution_count": 64
    }
   ],
   "source": [
    "#Filling missing data.\n",
    "df1.fillna(value=5)"
   ]
  },
  {
   "cell_type": "code",
   "execution_count": 65,
   "metadata": {},
   "outputs": [
    {
     "output_type": "execute_result",
     "data": {
      "text/plain": [
       "                A      B      C      D      F      E\n",
       "2013-01-01  False  False  False  False   True  False\n",
       "2013-01-02  False  False  False  False  False  False\n",
       "2013-01-03  False  False  False  False  False   True\n",
       "2013-01-04  False  False  False  False  False   True"
      ],
      "text/html": "<div>\n<style scoped>\n    .dataframe tbody tr th:only-of-type {\n        vertical-align: middle;\n    }\n\n    .dataframe tbody tr th {\n        vertical-align: top;\n    }\n\n    .dataframe thead th {\n        text-align: right;\n    }\n</style>\n<table border=\"1\" class=\"dataframe\">\n  <thead>\n    <tr style=\"text-align: right;\">\n      <th></th>\n      <th>A</th>\n      <th>B</th>\n      <th>C</th>\n      <th>D</th>\n      <th>F</th>\n      <th>E</th>\n    </tr>\n  </thead>\n  <tbody>\n    <tr>\n      <th>2013-01-01</th>\n      <td>False</td>\n      <td>False</td>\n      <td>False</td>\n      <td>False</td>\n      <td>True</td>\n      <td>False</td>\n    </tr>\n    <tr>\n      <th>2013-01-02</th>\n      <td>False</td>\n      <td>False</td>\n      <td>False</td>\n      <td>False</td>\n      <td>False</td>\n      <td>False</td>\n    </tr>\n    <tr>\n      <th>2013-01-03</th>\n      <td>False</td>\n      <td>False</td>\n      <td>False</td>\n      <td>False</td>\n      <td>False</td>\n      <td>True</td>\n    </tr>\n    <tr>\n      <th>2013-01-04</th>\n      <td>False</td>\n      <td>False</td>\n      <td>False</td>\n      <td>False</td>\n      <td>False</td>\n      <td>True</td>\n    </tr>\n  </tbody>\n</table>\n</div>"
     },
     "metadata": {},
     "execution_count": 65
    }
   ],
   "source": [
    "#to get the boolean mask where values are nan.\n",
    "pd.isna(df1)"
   ]
  },
  {
   "source": [
    "## Operations\n",
    "See the Basic section on Binary Ops.\n",
    "### Stats\n",
    "Operations in general exclude missing data.\n",
    "\n",
    "Performing a descriptive statistic:"
   ],
   "cell_type": "markdown",
   "metadata": {}
  },
  {
   "cell_type": "code",
   "execution_count": 67,
   "metadata": {},
   "outputs": [
    {
     "output_type": "execute_result",
     "data": {
      "text/plain": [
       "A   -0.078034\n",
       "B   -0.018231\n",
       "C    0.260874\n",
       "D    5.000000\n",
       "F    3.000000\n",
       "dtype: float64"
      ]
     },
     "metadata": {},
     "execution_count": 67
    }
   ],
   "source": [
    "df.mean()"
   ]
  },
  {
   "cell_type": "code",
   "execution_count": 68,
   "metadata": {},
   "outputs": [
    {
     "output_type": "execute_result",
     "data": {
      "text/plain": [
       "A    -0.468204\n",
       "B    -0.109385\n",
       "C     1.565245\n",
       "D    30.000000\n",
       "F    15.000000\n",
       "dtype: float64"
      ]
     },
     "metadata": {},
     "execution_count": 68
    }
   ],
   "source": [
    "df.sum()"
   ]
  },
  {
   "cell_type": "code",
   "execution_count": 69,
   "metadata": {},
   "outputs": [
    {
     "output_type": "execute_result",
     "data": {
      "text/plain": [
       "2013-01-01     3.950936\n",
       "2013-01-02     6.635581\n",
       "2013-01-03     8.442637\n",
       "2013-01-04     9.699817\n",
       "2013-01-05     6.580890\n",
       "2013-01-06    10.677797\n",
       "Freq: D, dtype: float64"
      ]
     },
     "metadata": {},
     "execution_count": 69
    }
   ],
   "source": [
    "#Same operation on the other axis:\n",
    "df.sum(1)"
   ]
  },
  {
   "source": [
    "Operating with objects that have different dimensionality and need alignment. In addition, pandas automatically broadcasts along the specified dimension."
   ],
   "cell_type": "markdown",
   "metadata": {}
  },
  {
   "cell_type": "code",
   "execution_count": 71,
   "metadata": {},
   "outputs": [
    {
     "output_type": "execute_result",
     "data": {
      "text/plain": [
       "2013-01-01    NaN\n",
       "2013-01-02    NaN\n",
       "2013-01-03    1.0\n",
       "2013-01-04    3.0\n",
       "2013-01-05    5.0\n",
       "2013-01-06    NaN\n",
       "Freq: D, dtype: float64"
      ]
     },
     "metadata": {},
     "execution_count": 71
    }
   ],
   "source": [
    "s = pd.Series([1, 3, 5, np.nan, 6, 8], index=dates).shift(2)\n",
    "s"
   ]
  },
  {
   "cell_type": "code",
   "execution_count": 72,
   "metadata": {},
   "outputs": [
    {
     "output_type": "execute_result",
     "data": {
      "text/plain": [
       "                   A         B         C    D    F\n",
       "2013-01-01       NaN       NaN       NaN  NaN  NaN\n",
       "2013-01-02       NaN       NaN       NaN  NaN  NaN\n",
       "2013-01-03 -0.836740 -0.192130 -0.528493  4.0  1.0\n",
       "2013-01-04 -3.070193 -2.405604 -1.824387  2.0  0.0\n",
       "2013-01-05 -5.175992 -6.885755 -5.357364  0.0 -1.0\n",
       "2013-01-06       NaN       NaN       NaN  NaN  NaN"
      ],
      "text/html": "<div>\n<style scoped>\n    .dataframe tbody tr th:only-of-type {\n        vertical-align: middle;\n    }\n\n    .dataframe tbody tr th {\n        vertical-align: top;\n    }\n\n    .dataframe thead th {\n        text-align: right;\n    }\n</style>\n<table border=\"1\" class=\"dataframe\">\n  <thead>\n    <tr style=\"text-align: right;\">\n      <th></th>\n      <th>A</th>\n      <th>B</th>\n      <th>C</th>\n      <th>D</th>\n      <th>F</th>\n    </tr>\n  </thead>\n  <tbody>\n    <tr>\n      <th>2013-01-01</th>\n      <td>NaN</td>\n      <td>NaN</td>\n      <td>NaN</td>\n      <td>NaN</td>\n      <td>NaN</td>\n    </tr>\n    <tr>\n      <th>2013-01-02</th>\n      <td>NaN</td>\n      <td>NaN</td>\n      <td>NaN</td>\n      <td>NaN</td>\n      <td>NaN</td>\n    </tr>\n    <tr>\n      <th>2013-01-03</th>\n      <td>-0.836740</td>\n      <td>-0.192130</td>\n      <td>-0.528493</td>\n      <td>4.0</td>\n      <td>1.0</td>\n    </tr>\n    <tr>\n      <th>2013-01-04</th>\n      <td>-3.070193</td>\n      <td>-2.405604</td>\n      <td>-1.824387</td>\n      <td>2.0</td>\n      <td>0.0</td>\n    </tr>\n    <tr>\n      <th>2013-01-05</th>\n      <td>-5.175992</td>\n      <td>-6.885755</td>\n      <td>-5.357364</td>\n      <td>0.0</td>\n      <td>-1.0</td>\n    </tr>\n    <tr>\n      <th>2013-01-06</th>\n      <td>NaN</td>\n      <td>NaN</td>\n      <td>NaN</td>\n      <td>NaN</td>\n      <td>NaN</td>\n    </tr>\n  </tbody>\n</table>\n</div>"
     },
     "metadata": {},
     "execution_count": 72
    }
   ],
   "source": [
    "df.sub(s, axis=\"index\")"
   ]
  },
  {
   "source": [
    "### Apply\n",
    "Applying functions to the data:"
   ],
   "cell_type": "markdown",
   "metadata": {}
  },
  {
   "cell_type": "code",
   "execution_count": 74,
   "metadata": {},
   "outputs": [
    {
     "output_type": "execute_result",
     "data": {
      "text/plain": [
       "                   A         B         C   D     F\n",
       "2013-01-01  0.000000  0.000000 -1.049064   5   NaN\n",
       "2013-01-02 -0.241918  0.939371 -1.110936  10   1.0\n",
       "2013-01-03 -0.078658  1.747242 -0.639430  15   3.0\n",
       "2013-01-04 -0.148851  2.341638  0.536183  20   6.0\n",
       "2013-01-05 -0.324843  0.455883  0.178820  25  10.0\n",
       "2013-01-06 -0.468204 -0.109385  1.565245  30  15.0"
      ],
      "text/html": "<div>\n<style scoped>\n    .dataframe tbody tr th:only-of-type {\n        vertical-align: middle;\n    }\n\n    .dataframe tbody tr th {\n        vertical-align: top;\n    }\n\n    .dataframe thead th {\n        text-align: right;\n    }\n</style>\n<table border=\"1\" class=\"dataframe\">\n  <thead>\n    <tr style=\"text-align: right;\">\n      <th></th>\n      <th>A</th>\n      <th>B</th>\n      <th>C</th>\n      <th>D</th>\n      <th>F</th>\n    </tr>\n  </thead>\n  <tbody>\n    <tr>\n      <th>2013-01-01</th>\n      <td>0.000000</td>\n      <td>0.000000</td>\n      <td>-1.049064</td>\n      <td>5</td>\n      <td>NaN</td>\n    </tr>\n    <tr>\n      <th>2013-01-02</th>\n      <td>-0.241918</td>\n      <td>0.939371</td>\n      <td>-1.110936</td>\n      <td>10</td>\n      <td>1.0</td>\n    </tr>\n    <tr>\n      <th>2013-01-03</th>\n      <td>-0.078658</td>\n      <td>1.747242</td>\n      <td>-0.639430</td>\n      <td>15</td>\n      <td>3.0</td>\n    </tr>\n    <tr>\n      <th>2013-01-04</th>\n      <td>-0.148851</td>\n      <td>2.341638</td>\n      <td>0.536183</td>\n      <td>20</td>\n      <td>6.0</td>\n    </tr>\n    <tr>\n      <th>2013-01-05</th>\n      <td>-0.324843</td>\n      <td>0.455883</td>\n      <td>0.178820</td>\n      <td>25</td>\n      <td>10.0</td>\n    </tr>\n    <tr>\n      <th>2013-01-06</th>\n      <td>-0.468204</td>\n      <td>-0.109385</td>\n      <td>1.565245</td>\n      <td>30</td>\n      <td>15.0</td>\n    </tr>\n  </tbody>\n</table>\n</div>"
     },
     "metadata": {},
     "execution_count": 74
    }
   ],
   "source": [
    "df.apply(np.cumsum)"
   ]
  },
  {
   "cell_type": "code",
   "execution_count": 75,
   "metadata": {},
   "outputs": [
    {
     "output_type": "execute_result",
     "data": {
      "text/plain": [
       "0    0\n",
       "1    1\n",
       "2    3\n",
       "3    3\n",
       "4    0\n",
       "5    0\n",
       "6    1\n",
       "7    3\n",
       "8    1\n",
       "9    4\n",
       "dtype: int32"
      ]
     },
     "metadata": {},
     "execution_count": 75
    }
   ],
   "source": [
    "s = pd.Series(np.random.randint(0, 7, size=10))\n",
    "s"
   ]
  },
  {
   "cell_type": "code",
   "execution_count": 76,
   "metadata": {},
   "outputs": [
    {
     "output_type": "execute_result",
     "data": {
      "text/plain": [
       "0    3\n",
       "1    3\n",
       "3    3\n",
       "4    1\n",
       "dtype: int64"
      ]
     },
     "metadata": {},
     "execution_count": 76
    }
   ],
   "source": [
    "s.value_counts()"
   ]
  },
  {
   "source": [
    "### String Methods\n",
    "Series is equipped with a set of string processing methods in the str attribute that make it easy to operate on each element of the array, as in the code snippet below. Note that pattern-matching in str generally uses regular expressions by default (and in some cases always uses them). See more at Vectorized String Methods."
   ],
   "cell_type": "markdown",
   "metadata": {}
  },
  {
   "cell_type": "code",
   "execution_count": 77,
   "metadata": {},
   "outputs": [
    {
     "output_type": "execute_result",
     "data": {
      "text/plain": [
       "0       a\n",
       "1       b\n",
       "2       c\n",
       "3    aaba\n",
       "4    baca\n",
       "5     NaN\n",
       "6    caba\n",
       "7     dog\n",
       "8     cat\n",
       "dtype: object"
      ]
     },
     "metadata": {},
     "execution_count": 77
    }
   ],
   "source": [
    "s = pd.Series([\"A\", \"B\", \"C\", \"Aaba\", \"Baca\", np.nan, \"CABA\", \"dog\", \"cat\"])\n",
    "s.str.lower()"
   ]
  },
  {
   "source": [
    "### Merge\n",
    "Concat\n",
    "pandas provides various facilities for easily combining together Series and DataFrame objects with various kinds of set logic for the indexes and relational algebra functionality in the case of join / merge-type operations.\n",
    "\n",
    "See the Merging section.\n",
    "\n",
    "Concatenating pandas objects together with concat():"
   ],
   "cell_type": "markdown",
   "metadata": {}
  },
  {
   "cell_type": "code",
   "execution_count": 79,
   "metadata": {},
   "outputs": [
    {
     "output_type": "execute_result",
     "data": {
      "text/plain": [
       "          0         1         2         3\n",
       "0 -0.188612  0.224276 -0.983104  0.114477\n",
       "1  0.714129 -0.353275 -0.836743 -0.918826\n",
       "2 -0.765251  0.830999 -0.175258 -0.885952\n",
       "3 -0.308558  2.215209 -0.523789 -0.399192\n",
       "4 -0.500638  0.971653 -0.062292 -0.883639\n",
       "5 -0.458643  1.931934 -0.448850 -1.099887\n",
       "6  1.313733 -0.649094 -0.236568 -1.574632\n",
       "7 -0.348717  1.979197 -1.063699  0.199092\n",
       "8  1.582302  2.470399  0.352927 -0.022839\n",
       "9  2.435970  1.400971 -1.713559 -0.089265"
      ],
      "text/html": "<div>\n<style scoped>\n    .dataframe tbody tr th:only-of-type {\n        vertical-align: middle;\n    }\n\n    .dataframe tbody tr th {\n        vertical-align: top;\n    }\n\n    .dataframe thead th {\n        text-align: right;\n    }\n</style>\n<table border=\"1\" class=\"dataframe\">\n  <thead>\n    <tr style=\"text-align: right;\">\n      <th></th>\n      <th>0</th>\n      <th>1</th>\n      <th>2</th>\n      <th>3</th>\n    </tr>\n  </thead>\n  <tbody>\n    <tr>\n      <th>0</th>\n      <td>-0.188612</td>\n      <td>0.224276</td>\n      <td>-0.983104</td>\n      <td>0.114477</td>\n    </tr>\n    <tr>\n      <th>1</th>\n      <td>0.714129</td>\n      <td>-0.353275</td>\n      <td>-0.836743</td>\n      <td>-0.918826</td>\n    </tr>\n    <tr>\n      <th>2</th>\n      <td>-0.765251</td>\n      <td>0.830999</td>\n      <td>-0.175258</td>\n      <td>-0.885952</td>\n    </tr>\n    <tr>\n      <th>3</th>\n      <td>-0.308558</td>\n      <td>2.215209</td>\n      <td>-0.523789</td>\n      <td>-0.399192</td>\n    </tr>\n    <tr>\n      <th>4</th>\n      <td>-0.500638</td>\n      <td>0.971653</td>\n      <td>-0.062292</td>\n      <td>-0.883639</td>\n    </tr>\n    <tr>\n      <th>5</th>\n      <td>-0.458643</td>\n      <td>1.931934</td>\n      <td>-0.448850</td>\n      <td>-1.099887</td>\n    </tr>\n    <tr>\n      <th>6</th>\n      <td>1.313733</td>\n      <td>-0.649094</td>\n      <td>-0.236568</td>\n      <td>-1.574632</td>\n    </tr>\n    <tr>\n      <th>7</th>\n      <td>-0.348717</td>\n      <td>1.979197</td>\n      <td>-1.063699</td>\n      <td>0.199092</td>\n    </tr>\n    <tr>\n      <th>8</th>\n      <td>1.582302</td>\n      <td>2.470399</td>\n      <td>0.352927</td>\n      <td>-0.022839</td>\n    </tr>\n    <tr>\n      <th>9</th>\n      <td>2.435970</td>\n      <td>1.400971</td>\n      <td>-1.713559</td>\n      <td>-0.089265</td>\n    </tr>\n  </tbody>\n</table>\n</div>"
     },
     "metadata": {},
     "execution_count": 79
    }
   ],
   "source": [
    "df = pd.DataFrame(np.random.randn(10, 4))\n",
    "df"
   ]
  },
  {
   "cell_type": "code",
   "execution_count": 81,
   "metadata": {},
   "outputs": [
    {
     "output_type": "execute_result",
     "data": {
      "text/plain": [
       "[          0         1         2         3\n",
       " 0 -0.188612  0.224276 -0.983104  0.114477\n",
       " 1  0.714129 -0.353275 -0.836743 -0.918826\n",
       " 2 -0.765251  0.830999 -0.175258 -0.885952,\n",
       "           0         1         2         3\n",
       " 3 -0.308558  2.215209 -0.523789 -0.399192\n",
       " 4 -0.500638  0.971653 -0.062292 -0.883639\n",
       " 5 -0.458643  1.931934 -0.448850 -1.099887\n",
       " 6  1.313733 -0.649094 -0.236568 -1.574632,\n",
       "           0         1         2         3\n",
       " 7 -0.348717  1.979197 -1.063699  0.199092\n",
       " 8  1.582302  2.470399  0.352927 -0.022839\n",
       " 9  2.435970  1.400971 -1.713559 -0.089265]"
      ]
     },
     "metadata": {},
     "execution_count": 81
    }
   ],
   "source": [
    "pieces = [df[:3], df[3:7], df[7:]]\n",
    "pieces"
   ]
  },
  {
   "cell_type": "code",
   "execution_count": 82,
   "metadata": {},
   "outputs": [
    {
     "output_type": "execute_result",
     "data": {
      "text/plain": [
       "          0         1         2         3\n",
       "0 -0.188612  0.224276 -0.983104  0.114477\n",
       "1  0.714129 -0.353275 -0.836743 -0.918826\n",
       "2 -0.765251  0.830999 -0.175258 -0.885952\n",
       "3 -0.308558  2.215209 -0.523789 -0.399192\n",
       "4 -0.500638  0.971653 -0.062292 -0.883639\n",
       "5 -0.458643  1.931934 -0.448850 -1.099887\n",
       "6  1.313733 -0.649094 -0.236568 -1.574632\n",
       "7 -0.348717  1.979197 -1.063699  0.199092\n",
       "8  1.582302  2.470399  0.352927 -0.022839\n",
       "9  2.435970  1.400971 -1.713559 -0.089265"
      ],
      "text/html": "<div>\n<style scoped>\n    .dataframe tbody tr th:only-of-type {\n        vertical-align: middle;\n    }\n\n    .dataframe tbody tr th {\n        vertical-align: top;\n    }\n\n    .dataframe thead th {\n        text-align: right;\n    }\n</style>\n<table border=\"1\" class=\"dataframe\">\n  <thead>\n    <tr style=\"text-align: right;\">\n      <th></th>\n      <th>0</th>\n      <th>1</th>\n      <th>2</th>\n      <th>3</th>\n    </tr>\n  </thead>\n  <tbody>\n    <tr>\n      <th>0</th>\n      <td>-0.188612</td>\n      <td>0.224276</td>\n      <td>-0.983104</td>\n      <td>0.114477</td>\n    </tr>\n    <tr>\n      <th>1</th>\n      <td>0.714129</td>\n      <td>-0.353275</td>\n      <td>-0.836743</td>\n      <td>-0.918826</td>\n    </tr>\n    <tr>\n      <th>2</th>\n      <td>-0.765251</td>\n      <td>0.830999</td>\n      <td>-0.175258</td>\n      <td>-0.885952</td>\n    </tr>\n    <tr>\n      <th>3</th>\n      <td>-0.308558</td>\n      <td>2.215209</td>\n      <td>-0.523789</td>\n      <td>-0.399192</td>\n    </tr>\n    <tr>\n      <th>4</th>\n      <td>-0.500638</td>\n      <td>0.971653</td>\n      <td>-0.062292</td>\n      <td>-0.883639</td>\n    </tr>\n    <tr>\n      <th>5</th>\n      <td>-0.458643</td>\n      <td>1.931934</td>\n      <td>-0.448850</td>\n      <td>-1.099887</td>\n    </tr>\n    <tr>\n      <th>6</th>\n      <td>1.313733</td>\n      <td>-0.649094</td>\n      <td>-0.236568</td>\n      <td>-1.574632</td>\n    </tr>\n    <tr>\n      <th>7</th>\n      <td>-0.348717</td>\n      <td>1.979197</td>\n      <td>-1.063699</td>\n      <td>0.199092</td>\n    </tr>\n    <tr>\n      <th>8</th>\n      <td>1.582302</td>\n      <td>2.470399</td>\n      <td>0.352927</td>\n      <td>-0.022839</td>\n    </tr>\n    <tr>\n      <th>9</th>\n      <td>2.435970</td>\n      <td>1.400971</td>\n      <td>-1.713559</td>\n      <td>-0.089265</td>\n    </tr>\n  </tbody>\n</table>\n</div>"
     },
     "metadata": {},
     "execution_count": 82
    }
   ],
   "source": [
    "pd.concat(pieces)"
   ]
  },
  {
   "source": [
    "Adding a column to a DataFrame is relatively fast. However, adding a row requires a copy, and may be expensive. We recommend passing a pre-built list of records to the DataFrame constructor instead of building a DataFrame by iteratively appending records to it. See Appending to dataframe for more."
   ],
   "cell_type": "markdown",
   "metadata": {}
  },
  {
   "source": [
    "### Join\n",
    "SQL style merges. See the Database style joining section."
   ],
   "cell_type": "markdown",
   "metadata": {}
  },
  {
   "cell_type": "code",
   "execution_count": 83,
   "metadata": {},
   "outputs": [],
   "source": [
    "left = pd.DataFrame({\"key\": [\"foo\", \"foo\"], \"lval\": [1, 2]})\n",
    "right = pd.DataFrame({\"key\": [\"foo\", \"foo\"], \"rval\": [4, 5]})"
   ]
  },
  {
   "cell_type": "code",
   "execution_count": 84,
   "metadata": {},
   "outputs": [
    {
     "output_type": "execute_result",
     "data": {
      "text/plain": [
       "   key  lval\n",
       "0  foo     1\n",
       "1  foo     2"
      ],
      "text/html": "<div>\n<style scoped>\n    .dataframe tbody tr th:only-of-type {\n        vertical-align: middle;\n    }\n\n    .dataframe tbody tr th {\n        vertical-align: top;\n    }\n\n    .dataframe thead th {\n        text-align: right;\n    }\n</style>\n<table border=\"1\" class=\"dataframe\">\n  <thead>\n    <tr style=\"text-align: right;\">\n      <th></th>\n      <th>key</th>\n      <th>lval</th>\n    </tr>\n  </thead>\n  <tbody>\n    <tr>\n      <th>0</th>\n      <td>foo</td>\n      <td>1</td>\n    </tr>\n    <tr>\n      <th>1</th>\n      <td>foo</td>\n      <td>2</td>\n    </tr>\n  </tbody>\n</table>\n</div>"
     },
     "metadata": {},
     "execution_count": 84
    }
   ],
   "source": [
    "left"
   ]
  },
  {
   "cell_type": "code",
   "execution_count": 85,
   "metadata": {},
   "outputs": [
    {
     "output_type": "execute_result",
     "data": {
      "text/plain": [
       "   key  rval\n",
       "0  foo     4\n",
       "1  foo     5"
      ],
      "text/html": "<div>\n<style scoped>\n    .dataframe tbody tr th:only-of-type {\n        vertical-align: middle;\n    }\n\n    .dataframe tbody tr th {\n        vertical-align: top;\n    }\n\n    .dataframe thead th {\n        text-align: right;\n    }\n</style>\n<table border=\"1\" class=\"dataframe\">\n  <thead>\n    <tr style=\"text-align: right;\">\n      <th></th>\n      <th>key</th>\n      <th>rval</th>\n    </tr>\n  </thead>\n  <tbody>\n    <tr>\n      <th>0</th>\n      <td>foo</td>\n      <td>4</td>\n    </tr>\n    <tr>\n      <th>1</th>\n      <td>foo</td>\n      <td>5</td>\n    </tr>\n  </tbody>\n</table>\n</div>"
     },
     "metadata": {},
     "execution_count": 85
    }
   ],
   "source": [
    "right"
   ]
  },
  {
   "cell_type": "code",
   "execution_count": 86,
   "metadata": {},
   "outputs": [
    {
     "output_type": "execute_result",
     "data": {
      "text/plain": [
       "   key  lval  rval\n",
       "0  foo     1     4\n",
       "1  foo     1     5\n",
       "2  foo     2     4\n",
       "3  foo     2     5"
      ],
      "text/html": "<div>\n<style scoped>\n    .dataframe tbody tr th:only-of-type {\n        vertical-align: middle;\n    }\n\n    .dataframe tbody tr th {\n        vertical-align: top;\n    }\n\n    .dataframe thead th {\n        text-align: right;\n    }\n</style>\n<table border=\"1\" class=\"dataframe\">\n  <thead>\n    <tr style=\"text-align: right;\">\n      <th></th>\n      <th>key</th>\n      <th>lval</th>\n      <th>rval</th>\n    </tr>\n  </thead>\n  <tbody>\n    <tr>\n      <th>0</th>\n      <td>foo</td>\n      <td>1</td>\n      <td>4</td>\n    </tr>\n    <tr>\n      <th>1</th>\n      <td>foo</td>\n      <td>1</td>\n      <td>5</td>\n    </tr>\n    <tr>\n      <th>2</th>\n      <td>foo</td>\n      <td>2</td>\n      <td>4</td>\n    </tr>\n    <tr>\n      <th>3</th>\n      <td>foo</td>\n      <td>2</td>\n      <td>5</td>\n    </tr>\n  </tbody>\n</table>\n</div>"
     },
     "metadata": {},
     "execution_count": 86
    }
   ],
   "source": [
    "pd.merge(left, right, on=\"key\")"
   ]
  },
  {
   "cell_type": "code",
   "execution_count": 87,
   "metadata": {},
   "outputs": [
    {
     "output_type": "execute_result",
     "data": {
      "text/plain": [
       "   key  lval  rval\n",
       "0  foo     1     4\n",
       "1  bar     2     5"
      ],
      "text/html": "<div>\n<style scoped>\n    .dataframe tbody tr th:only-of-type {\n        vertical-align: middle;\n    }\n\n    .dataframe tbody tr th {\n        vertical-align: top;\n    }\n\n    .dataframe thead th {\n        text-align: right;\n    }\n</style>\n<table border=\"1\" class=\"dataframe\">\n  <thead>\n    <tr style=\"text-align: right;\">\n      <th></th>\n      <th>key</th>\n      <th>lval</th>\n      <th>rval</th>\n    </tr>\n  </thead>\n  <tbody>\n    <tr>\n      <th>0</th>\n      <td>foo</td>\n      <td>1</td>\n      <td>4</td>\n    </tr>\n    <tr>\n      <th>1</th>\n      <td>bar</td>\n      <td>2</td>\n      <td>5</td>\n    </tr>\n  </tbody>\n</table>\n</div>"
     },
     "metadata": {},
     "execution_count": 87
    }
   ],
   "source": [
    "left = pd.DataFrame({\"key\": [\"foo\", \"bar\"], \"lval\": [1, 2]})\n",
    "right = pd.DataFrame({\"key\": [\"foo\", \"bar\"], \"rval\": [4, 5]})\n",
    "pd.merge(left, right, on=\"key\")"
   ]
  },
  {
   "source": [
    "### Grouping\n",
    "By “group by” we are referring to a process involving one or more of the following steps:\n",
    "\n",
    "Splitting the data into groups based on some criteria\n",
    "\n",
    "Applying a function to each group independently\n",
    "\n",
    "Combining the results into a data structure"
   ],
   "cell_type": "markdown",
   "metadata": {}
  },
  {
   "cell_type": "code",
   "execution_count": 89,
   "metadata": {},
   "outputs": [
    {
     "output_type": "execute_result",
     "data": {
      "text/plain": [
       "     A      B         C         D\n",
       "0  foo    one  0.005245 -0.444032\n",
       "1  bar    one -0.075208 -0.733631\n",
       "2  foo    two  1.268875  0.553354\n",
       "3  bar  three  0.247731  0.098357\n",
       "4  foo    two -0.967580 -0.460617\n",
       "5  bar    two  1.366626 -2.386412\n",
       "6  foo    one  0.185774 -0.122025\n",
       "7  foo  three -0.948251  0.118021"
      ],
      "text/html": "<div>\n<style scoped>\n    .dataframe tbody tr th:only-of-type {\n        vertical-align: middle;\n    }\n\n    .dataframe tbody tr th {\n        vertical-align: top;\n    }\n\n    .dataframe thead th {\n        text-align: right;\n    }\n</style>\n<table border=\"1\" class=\"dataframe\">\n  <thead>\n    <tr style=\"text-align: right;\">\n      <th></th>\n      <th>A</th>\n      <th>B</th>\n      <th>C</th>\n      <th>D</th>\n    </tr>\n  </thead>\n  <tbody>\n    <tr>\n      <th>0</th>\n      <td>foo</td>\n      <td>one</td>\n      <td>0.005245</td>\n      <td>-0.444032</td>\n    </tr>\n    <tr>\n      <th>1</th>\n      <td>bar</td>\n      <td>one</td>\n      <td>-0.075208</td>\n      <td>-0.733631</td>\n    </tr>\n    <tr>\n      <th>2</th>\n      <td>foo</td>\n      <td>two</td>\n      <td>1.268875</td>\n      <td>0.553354</td>\n    </tr>\n    <tr>\n      <th>3</th>\n      <td>bar</td>\n      <td>three</td>\n      <td>0.247731</td>\n      <td>0.098357</td>\n    </tr>\n    <tr>\n      <th>4</th>\n      <td>foo</td>\n      <td>two</td>\n      <td>-0.967580</td>\n      <td>-0.460617</td>\n    </tr>\n    <tr>\n      <th>5</th>\n      <td>bar</td>\n      <td>two</td>\n      <td>1.366626</td>\n      <td>-2.386412</td>\n    </tr>\n    <tr>\n      <th>6</th>\n      <td>foo</td>\n      <td>one</td>\n      <td>0.185774</td>\n      <td>-0.122025</td>\n    </tr>\n    <tr>\n      <th>7</th>\n      <td>foo</td>\n      <td>three</td>\n      <td>-0.948251</td>\n      <td>0.118021</td>\n    </tr>\n  </tbody>\n</table>\n</div>"
     },
     "metadata": {},
     "execution_count": 89
    }
   ],
   "source": [
    "df = pd.DataFrame(\n",
    "        {\n",
    "            \"A\": [\"foo\", \"bar\", \"foo\", \"bar\", \"foo\", \"bar\", \"foo\", \"foo\"],\n",
    "            \"B\": [\"one\", \"one\", \"two\", \"three\", \"two\", \"two\", \"one\", \"three\"],\n",
    "            \"C\": np.random.randn(8),\n",
    "            \"D\": np.random.randn(8),\n",
    "        }\n",
    "    )\n",
    "df"
   ]
  },
  {
   "cell_type": "code",
   "execution_count": 92,
   "metadata": {},
   "outputs": [
    {
     "output_type": "execute_result",
     "data": {
      "text/plain": [
       "            C         D\n",
       "A                      \n",
       "bar  1.539149 -3.021686\n",
       "foo -0.455939 -0.355299"
      ],
      "text/html": "<div>\n<style scoped>\n    .dataframe tbody tr th:only-of-type {\n        vertical-align: middle;\n    }\n\n    .dataframe tbody tr th {\n        vertical-align: top;\n    }\n\n    .dataframe thead th {\n        text-align: right;\n    }\n</style>\n<table border=\"1\" class=\"dataframe\">\n  <thead>\n    <tr style=\"text-align: right;\">\n      <th></th>\n      <th>C</th>\n      <th>D</th>\n    </tr>\n    <tr>\n      <th>A</th>\n      <th></th>\n      <th></th>\n    </tr>\n  </thead>\n  <tbody>\n    <tr>\n      <th>bar</th>\n      <td>1.539149</td>\n      <td>-3.021686</td>\n    </tr>\n    <tr>\n      <th>foo</th>\n      <td>-0.455939</td>\n      <td>-0.355299</td>\n    </tr>\n  </tbody>\n</table>\n</div>"
     },
     "metadata": {},
     "execution_count": 92
    }
   ],
   "source": [
    "#Grouping and then applying the sum() function to the resulting groups.\n",
    "df.groupby(\"A\").sum()"
   ]
  },
  {
   "cell_type": "code",
   "execution_count": 91,
   "metadata": {},
   "outputs": [
    {
     "output_type": "execute_result",
     "data": {
      "text/plain": [
       "            C         D\n",
       "A                      \n",
       "bar  1.539149 -3.021686\n",
       "foo -0.455939 -0.355299"
      ],
      "text/html": "<div>\n<style scoped>\n    .dataframe tbody tr th:only-of-type {\n        vertical-align: middle;\n    }\n\n    .dataframe tbody tr th {\n        vertical-align: top;\n    }\n\n    .dataframe thead th {\n        text-align: right;\n    }\n</style>\n<table border=\"1\" class=\"dataframe\">\n  <thead>\n    <tr style=\"text-align: right;\">\n      <th></th>\n      <th>C</th>\n      <th>D</th>\n    </tr>\n    <tr>\n      <th>A</th>\n      <th></th>\n      <th></th>\n    </tr>\n  </thead>\n  <tbody>\n    <tr>\n      <th>bar</th>\n      <td>1.539149</td>\n      <td>-3.021686</td>\n    </tr>\n    <tr>\n      <th>foo</th>\n      <td>-0.455939</td>\n      <td>-0.355299</td>\n    </tr>\n  </tbody>\n</table>\n</div>"
     },
     "metadata": {},
     "execution_count": 91
    }
   ],
   "source": []
  },
  {
   "cell_type": "code",
   "execution_count": 93,
   "metadata": {},
   "outputs": [
    {
     "output_type": "execute_result",
     "data": {
      "text/plain": [
       "                  C         D\n",
       "A   B                        \n",
       "bar one   -0.075208 -0.733631\n",
       "    three  0.247731  0.098357\n",
       "    two    1.366626 -2.386412\n",
       "foo one    0.191018 -0.566057\n",
       "    three -0.948251  0.118021\n",
       "    two    0.301294  0.092737"
      ],
      "text/html": "<div>\n<style scoped>\n    .dataframe tbody tr th:only-of-type {\n        vertical-align: middle;\n    }\n\n    .dataframe tbody tr th {\n        vertical-align: top;\n    }\n\n    .dataframe thead th {\n        text-align: right;\n    }\n</style>\n<table border=\"1\" class=\"dataframe\">\n  <thead>\n    <tr style=\"text-align: right;\">\n      <th></th>\n      <th></th>\n      <th>C</th>\n      <th>D</th>\n    </tr>\n    <tr>\n      <th>A</th>\n      <th>B</th>\n      <th></th>\n      <th></th>\n    </tr>\n  </thead>\n  <tbody>\n    <tr>\n      <th rowspan=\"3\" valign=\"top\">bar</th>\n      <th>one</th>\n      <td>-0.075208</td>\n      <td>-0.733631</td>\n    </tr>\n    <tr>\n      <th>three</th>\n      <td>0.247731</td>\n      <td>0.098357</td>\n    </tr>\n    <tr>\n      <th>two</th>\n      <td>1.366626</td>\n      <td>-2.386412</td>\n    </tr>\n    <tr>\n      <th rowspan=\"3\" valign=\"top\">foo</th>\n      <th>one</th>\n      <td>0.191018</td>\n      <td>-0.566057</td>\n    </tr>\n    <tr>\n      <th>three</th>\n      <td>-0.948251</td>\n      <td>0.118021</td>\n    </tr>\n    <tr>\n      <th>two</th>\n      <td>0.301294</td>\n      <td>0.092737</td>\n    </tr>\n  </tbody>\n</table>\n</div>"
     },
     "metadata": {},
     "execution_count": 93
    }
   ],
   "source": [
    "#Grouping by multiple columns forms a hierarchical index, and again we can apply the sum() function.\n",
    "df.groupby([\"A\", \"B\"]).sum()"
   ]
  },
  {
   "source": [
    "### Reshaping\n",
    "See the sections on Hierarchical Indexing and Reshaping.\n",
    "\n",
    "Stack"
   ],
   "cell_type": "markdown",
   "metadata": {}
  },
  {
   "cell_type": "code",
   "execution_count": 96,
   "metadata": {},
   "outputs": [
    {
     "output_type": "execute_result",
     "data": {
      "text/plain": [
       "                     A         B\n",
       "first second                    \n",
       "bar   one    -0.803915  1.399958\n",
       "      two     1.793138 -1.086522\n",
       "baz   one    -0.835021 -1.111885\n",
       "      two     0.209573 -0.378092"
      ],
      "text/html": "<div>\n<style scoped>\n    .dataframe tbody tr th:only-of-type {\n        vertical-align: middle;\n    }\n\n    .dataframe tbody tr th {\n        vertical-align: top;\n    }\n\n    .dataframe thead th {\n        text-align: right;\n    }\n</style>\n<table border=\"1\" class=\"dataframe\">\n  <thead>\n    <tr style=\"text-align: right;\">\n      <th></th>\n      <th></th>\n      <th>A</th>\n      <th>B</th>\n    </tr>\n    <tr>\n      <th>first</th>\n      <th>second</th>\n      <th></th>\n      <th></th>\n    </tr>\n  </thead>\n  <tbody>\n    <tr>\n      <th rowspan=\"2\" valign=\"top\">bar</th>\n      <th>one</th>\n      <td>-0.803915</td>\n      <td>1.399958</td>\n    </tr>\n    <tr>\n      <th>two</th>\n      <td>1.793138</td>\n      <td>-1.086522</td>\n    </tr>\n    <tr>\n      <th rowspan=\"2\" valign=\"top\">baz</th>\n      <th>one</th>\n      <td>-0.835021</td>\n      <td>-1.111885</td>\n    </tr>\n    <tr>\n      <th>two</th>\n      <td>0.209573</td>\n      <td>-0.378092</td>\n    </tr>\n  </tbody>\n</table>\n</div>"
     },
     "metadata": {},
     "execution_count": 96
    }
   ],
   "source": [
    "tuples = list(\n",
    "        zip(\n",
    "            *[\n",
    "                [\"bar\", \"bar\", \"baz\", \"baz\", \"foo\", \"foo\", \"qux\", \"qux\"],\n",
    "                [\"one\", \"two\", \"one\", \"two\", \"one\", \"two\", \"one\", \"two\"],\n",
    "            ]\n",
    "        )\n",
    "    )\n",
    "index = pd.MultiIndex.from_tuples(tuples, names=[\"first\", \"second\"])\n",
    "df = pd.DataFrame(np.random.randn(8, 2), index=index, columns=[\"A\", \"B\"])\n",
    "df2 = df[:4]\n",
    "df2"
   ]
  },
  {
   "cell_type": "code",
   "execution_count": 100,
   "metadata": {},
   "outputs": [
    {
     "output_type": "execute_result",
     "data": {
      "text/plain": [
       "first  second   \n",
       "bar    one     A   -0.803915\n",
       "               B    1.399958\n",
       "       two     A    1.793138\n",
       "               B   -1.086522\n",
       "baz    one     A   -0.835021\n",
       "               B   -1.111885\n",
       "       two     A    0.209573\n",
       "               B   -0.378092\n",
       "dtype: float64"
      ]
     },
     "metadata": {},
     "execution_count": 100
    }
   ],
   "source": [
    "stacked = df2.stack()\n",
    "stacked"
   ]
  },
  {
   "cell_type": "code",
   "execution_count": 101,
   "metadata": {},
   "outputs": [
    {
     "output_type": "execute_result",
     "data": {
      "text/plain": [
       "                     A         B\n",
       "first second                    \n",
       "bar   one    -0.803915  1.399958\n",
       "      two     1.793138 -1.086522\n",
       "baz   one    -0.835021 -1.111885\n",
       "      two     0.209573 -0.378092"
      ],
      "text/html": "<div>\n<style scoped>\n    .dataframe tbody tr th:only-of-type {\n        vertical-align: middle;\n    }\n\n    .dataframe tbody tr th {\n        vertical-align: top;\n    }\n\n    .dataframe thead th {\n        text-align: right;\n    }\n</style>\n<table border=\"1\" class=\"dataframe\">\n  <thead>\n    <tr style=\"text-align: right;\">\n      <th></th>\n      <th></th>\n      <th>A</th>\n      <th>B</th>\n    </tr>\n    <tr>\n      <th>first</th>\n      <th>second</th>\n      <th></th>\n      <th></th>\n    </tr>\n  </thead>\n  <tbody>\n    <tr>\n      <th rowspan=\"2\" valign=\"top\">bar</th>\n      <th>one</th>\n      <td>-0.803915</td>\n      <td>1.399958</td>\n    </tr>\n    <tr>\n      <th>two</th>\n      <td>1.793138</td>\n      <td>-1.086522</td>\n    </tr>\n    <tr>\n      <th rowspan=\"2\" valign=\"top\">baz</th>\n      <th>one</th>\n      <td>-0.835021</td>\n      <td>-1.111885</td>\n    </tr>\n    <tr>\n      <th>two</th>\n      <td>0.209573</td>\n      <td>-0.378092</td>\n    </tr>\n  </tbody>\n</table>\n</div>"
     },
     "metadata": {},
     "execution_count": 101
    }
   ],
   "source": [
    "stacked.unstack()"
   ]
  },
  {
   "cell_type": "code",
   "execution_count": 102,
   "metadata": {},
   "outputs": [
    {
     "output_type": "execute_result",
     "data": {
      "text/plain": [
       "second        one       two\n",
       "first                      \n",
       "bar   A -0.803915  1.793138\n",
       "      B  1.399958 -1.086522\n",
       "baz   A -0.835021  0.209573\n",
       "      B -1.111885 -0.378092"
      ],
      "text/html": "<div>\n<style scoped>\n    .dataframe tbody tr th:only-of-type {\n        vertical-align: middle;\n    }\n\n    .dataframe tbody tr th {\n        vertical-align: top;\n    }\n\n    .dataframe thead th {\n        text-align: right;\n    }\n</style>\n<table border=\"1\" class=\"dataframe\">\n  <thead>\n    <tr style=\"text-align: right;\">\n      <th></th>\n      <th>second</th>\n      <th>one</th>\n      <th>two</th>\n    </tr>\n    <tr>\n      <th>first</th>\n      <th></th>\n      <th></th>\n      <th></th>\n    </tr>\n  </thead>\n  <tbody>\n    <tr>\n      <th rowspan=\"2\" valign=\"top\">bar</th>\n      <th>A</th>\n      <td>-0.803915</td>\n      <td>1.793138</td>\n    </tr>\n    <tr>\n      <th>B</th>\n      <td>1.399958</td>\n      <td>-1.086522</td>\n    </tr>\n    <tr>\n      <th rowspan=\"2\" valign=\"top\">baz</th>\n      <th>A</th>\n      <td>-0.835021</td>\n      <td>0.209573</td>\n    </tr>\n    <tr>\n      <th>B</th>\n      <td>-1.111885</td>\n      <td>-0.378092</td>\n    </tr>\n  </tbody>\n</table>\n</div>"
     },
     "metadata": {},
     "execution_count": 102
    }
   ],
   "source": [
    "stacked.unstack(1)"
   ]
  },
  {
   "source": [
    "### Pivot tables\n",
    "See the section on Pivot Tables."
   ],
   "cell_type": "markdown",
   "metadata": {}
  },
  {
   "cell_type": "code",
   "execution_count": 103,
   "metadata": {},
   "outputs": [],
   "source": [
    "In [101]: df = pd.DataFrame(\n",
    "   .....:     {\n",
    "   .....:         \"A\": [\"one\", \"one\", \"two\", \"three\"] * 3,\n",
    "   .....:         \"B\": [\"A\", \"B\", \"C\"] * 4,\n",
    "   .....:         \"C\": [\"foo\", \"foo\", \"foo\", \"bar\", \"bar\", \"bar\"] * 2,\n",
    "   .....:         \"D\": np.random.randn(12),\n",
    "   .....:         \"E\": np.random.randn(12),\n",
    "   .....:     }\n",
    "   .....: )\n",
    "   .....: "
   ]
  },
  {
   "cell_type": "code",
   "execution_count": 104,
   "metadata": {},
   "outputs": [
    {
     "output_type": "execute_result",
     "data": {
      "text/plain": [
       "        A  B    C         D         E\n",
       "0     one  A  foo -0.484105  0.010567\n",
       "1     one  B  foo -0.223189 -0.071655\n",
       "2     two  C  foo -1.098106  0.147239\n",
       "3   three  A  bar -1.164235  0.412201\n",
       "4     one  B  bar  0.412426 -0.259540\n",
       "5     one  C  bar  1.645475 -0.983402\n",
       "6     two  A  foo -0.948001 -0.260957\n",
       "7   three  B  foo  0.666522  0.526168\n",
       "8     one  C  foo -0.893174  0.572016\n",
       "9     one  A  bar  0.645754 -1.062679\n",
       "10    two  B  bar  0.305795  1.821108\n",
       "11  three  C  bar -0.758290 -1.573571"
      ],
      "text/html": "<div>\n<style scoped>\n    .dataframe tbody tr th:only-of-type {\n        vertical-align: middle;\n    }\n\n    .dataframe tbody tr th {\n        vertical-align: top;\n    }\n\n    .dataframe thead th {\n        text-align: right;\n    }\n</style>\n<table border=\"1\" class=\"dataframe\">\n  <thead>\n    <tr style=\"text-align: right;\">\n      <th></th>\n      <th>A</th>\n      <th>B</th>\n      <th>C</th>\n      <th>D</th>\n      <th>E</th>\n    </tr>\n  </thead>\n  <tbody>\n    <tr>\n      <th>0</th>\n      <td>one</td>\n      <td>A</td>\n      <td>foo</td>\n      <td>-0.484105</td>\n      <td>0.010567</td>\n    </tr>\n    <tr>\n      <th>1</th>\n      <td>one</td>\n      <td>B</td>\n      <td>foo</td>\n      <td>-0.223189</td>\n      <td>-0.071655</td>\n    </tr>\n    <tr>\n      <th>2</th>\n      <td>two</td>\n      <td>C</td>\n      <td>foo</td>\n      <td>-1.098106</td>\n      <td>0.147239</td>\n    </tr>\n    <tr>\n      <th>3</th>\n      <td>three</td>\n      <td>A</td>\n      <td>bar</td>\n      <td>-1.164235</td>\n      <td>0.412201</td>\n    </tr>\n    <tr>\n      <th>4</th>\n      <td>one</td>\n      <td>B</td>\n      <td>bar</td>\n      <td>0.412426</td>\n      <td>-0.259540</td>\n    </tr>\n    <tr>\n      <th>5</th>\n      <td>one</td>\n      <td>C</td>\n      <td>bar</td>\n      <td>1.645475</td>\n      <td>-0.983402</td>\n    </tr>\n    <tr>\n      <th>6</th>\n      <td>two</td>\n      <td>A</td>\n      <td>foo</td>\n      <td>-0.948001</td>\n      <td>-0.260957</td>\n    </tr>\n    <tr>\n      <th>7</th>\n      <td>three</td>\n      <td>B</td>\n      <td>foo</td>\n      <td>0.666522</td>\n      <td>0.526168</td>\n    </tr>\n    <tr>\n      <th>8</th>\n      <td>one</td>\n      <td>C</td>\n      <td>foo</td>\n      <td>-0.893174</td>\n      <td>0.572016</td>\n    </tr>\n    <tr>\n      <th>9</th>\n      <td>one</td>\n      <td>A</td>\n      <td>bar</td>\n      <td>0.645754</td>\n      <td>-1.062679</td>\n    </tr>\n    <tr>\n      <th>10</th>\n      <td>two</td>\n      <td>B</td>\n      <td>bar</td>\n      <td>0.305795</td>\n      <td>1.821108</td>\n    </tr>\n    <tr>\n      <th>11</th>\n      <td>three</td>\n      <td>C</td>\n      <td>bar</td>\n      <td>-0.758290</td>\n      <td>-1.573571</td>\n    </tr>\n  </tbody>\n</table>\n</div>"
     },
     "metadata": {},
     "execution_count": 104
    }
   ],
   "source": [
    "df"
   ]
  },
  {
   "cell_type": "code",
   "execution_count": 105,
   "metadata": {},
   "outputs": [
    {
     "output_type": "execute_result",
     "data": {
      "text/plain": [
       "C             bar       foo\n",
       "A     B                    \n",
       "one   A  0.645754 -0.484105\n",
       "      B  0.412426 -0.223189\n",
       "      C  1.645475 -0.893174\n",
       "three A -1.164235       NaN\n",
       "      B       NaN  0.666522\n",
       "      C -0.758290       NaN\n",
       "two   A       NaN -0.948001\n",
       "      B  0.305795       NaN\n",
       "      C       NaN -1.098106"
      ],
      "text/html": "<div>\n<style scoped>\n    .dataframe tbody tr th:only-of-type {\n        vertical-align: middle;\n    }\n\n    .dataframe tbody tr th {\n        vertical-align: top;\n    }\n\n    .dataframe thead th {\n        text-align: right;\n    }\n</style>\n<table border=\"1\" class=\"dataframe\">\n  <thead>\n    <tr style=\"text-align: right;\">\n      <th></th>\n      <th>C</th>\n      <th>bar</th>\n      <th>foo</th>\n    </tr>\n    <tr>\n      <th>A</th>\n      <th>B</th>\n      <th></th>\n      <th></th>\n    </tr>\n  </thead>\n  <tbody>\n    <tr>\n      <th rowspan=\"3\" valign=\"top\">one</th>\n      <th>A</th>\n      <td>0.645754</td>\n      <td>-0.484105</td>\n    </tr>\n    <tr>\n      <th>B</th>\n      <td>0.412426</td>\n      <td>-0.223189</td>\n    </tr>\n    <tr>\n      <th>C</th>\n      <td>1.645475</td>\n      <td>-0.893174</td>\n    </tr>\n    <tr>\n      <th rowspan=\"3\" valign=\"top\">three</th>\n      <th>A</th>\n      <td>-1.164235</td>\n      <td>NaN</td>\n    </tr>\n    <tr>\n      <th>B</th>\n      <td>NaN</td>\n      <td>0.666522</td>\n    </tr>\n    <tr>\n      <th>C</th>\n      <td>-0.758290</td>\n      <td>NaN</td>\n    </tr>\n    <tr>\n      <th rowspan=\"3\" valign=\"top\">two</th>\n      <th>A</th>\n      <td>NaN</td>\n      <td>-0.948001</td>\n    </tr>\n    <tr>\n      <th>B</th>\n      <td>0.305795</td>\n      <td>NaN</td>\n    </tr>\n    <tr>\n      <th>C</th>\n      <td>NaN</td>\n      <td>-1.098106</td>\n    </tr>\n  </tbody>\n</table>\n</div>"
     },
     "metadata": {},
     "execution_count": 105
    }
   ],
   "source": [
    "pd.pivot_table(df, values=\"D\", index=[\"A\", \"B\"], columns=[\"C\"])"
   ]
  },
  {
   "source": [
    "### Time series\n",
    "pandas has simple, powerful, and efficient functionality for performing resampling operations during frequency conversion (e.g., converting secondly data into 5-minutely data). This is extremely common in, but not limited to, financial applications. See the Time Series section."
   ],
   "cell_type": "markdown",
   "metadata": {}
  },
  {
   "cell_type": "code",
   "execution_count": 109,
   "metadata": {},
   "outputs": [
    {
     "output_type": "execute_result",
     "data": {
      "text/plain": [
       "2012-01-01    26082\n",
       "Freq: 5T, dtype: int32"
      ]
     },
     "metadata": {},
     "execution_count": 109
    }
   ],
   "source": [
    "rng = pd.date_range(\"1/1/2012\", periods=100, freq=\"S\")\n",
    "ts = pd.Series(np.random.randint(0, 500, len(rng)), index=rng)\n",
    "ts.resample(\"5Min\").sum()"
   ]
  },
  {
   "cell_type": "code",
   "execution_count": 111,
   "metadata": {},
   "outputs": [
    {
     "output_type": "execute_result",
     "data": {
      "text/plain": [
       "2012-03-06   -0.413274\n",
       "2012-03-07   -0.727286\n",
       "2012-03-08    1.074847\n",
       "2012-03-09    0.591770\n",
       "2012-03-10    0.536831\n",
       "Freq: D, dtype: float64"
      ]
     },
     "metadata": {},
     "execution_count": 111
    }
   ],
   "source": [
    "rng = pd.date_range(\"3/6/2012 00:00\", periods=5, freq=\"D\")\n",
    "ts = pd.Series(np.random.randn(len(rng)), rng)\n",
    "ts\n"
   ]
  },
  {
   "cell_type": "code",
   "execution_count": 113,
   "metadata": {},
   "outputs": [
    {
     "output_type": "execute_result",
     "data": {
      "text/plain": [
       "2012-03-06 00:00:00+00:00   -0.413274\n",
       "2012-03-07 00:00:00+00:00   -0.727286\n",
       "2012-03-08 00:00:00+00:00    1.074847\n",
       "2012-03-09 00:00:00+00:00    0.591770\n",
       "2012-03-10 00:00:00+00:00    0.536831\n",
       "Freq: D, dtype: float64"
      ]
     },
     "metadata": {},
     "execution_count": 113
    }
   ],
   "source": [
    "ts_utc = ts.tz_localize(\"UTC\")\n",
    "ts_utc"
   ]
  },
  {
   "cell_type": "code",
   "execution_count": 114,
   "metadata": {},
   "outputs": [
    {
     "output_type": "execute_result",
     "data": {
      "text/plain": [
       "2012-03-05 19:00:00-05:00   -0.413274\n",
       "2012-03-06 19:00:00-05:00   -0.727286\n",
       "2012-03-07 19:00:00-05:00    1.074847\n",
       "2012-03-08 19:00:00-05:00    0.591770\n",
       "2012-03-09 19:00:00-05:00    0.536831\n",
       "Freq: D, dtype: float64"
      ]
     },
     "metadata": {},
     "execution_count": 114
    }
   ],
   "source": [
    "ts_utc.tz_convert(\"US/Eastern\")"
   ]
  },
  {
   "cell_type": "code",
   "execution_count": 116,
   "metadata": {},
   "outputs": [
    {
     "output_type": "execute_result",
     "data": {
      "text/plain": [
       "2012-01-31   -1.059675\n",
       "2012-02-29   -0.059888\n",
       "2012-03-31    0.900012\n",
       "2012-04-30    1.721833\n",
       "2012-05-31    0.016447\n",
       "Freq: M, dtype: float64"
      ]
     },
     "metadata": {},
     "execution_count": 116
    }
   ],
   "source": [
    "rng = pd.date_range(\"1/1/2012\", periods=5, freq=\"M\")\n",
    "ts = pd.Series(np.random.randn(len(rng)), index=rng)\n",
    "ts"
   ]
  },
  {
   "cell_type": "code",
   "execution_count": 118,
   "metadata": {},
   "outputs": [
    {
     "output_type": "execute_result",
     "data": {
      "text/plain": [
       "2012-01   -1.059675\n",
       "2012-02   -0.059888\n",
       "2012-03    0.900012\n",
       "2012-04    1.721833\n",
       "2012-05    0.016447\n",
       "Freq: M, dtype: float64"
      ]
     },
     "metadata": {},
     "execution_count": 118
    }
   ],
   "source": [
    "ps = ts.to_period()\n",
    "ps"
   ]
  },
  {
   "cell_type": "code",
   "execution_count": 119,
   "metadata": {},
   "outputs": [
    {
     "output_type": "execute_result",
     "data": {
      "text/plain": [
       "2012-01-01   -1.059675\n",
       "2012-02-01   -0.059888\n",
       "2012-03-01    0.900012\n",
       "2012-04-01    1.721833\n",
       "2012-05-01    0.016447\n",
       "Freq: MS, dtype: float64"
      ]
     },
     "metadata": {},
     "execution_count": 119
    }
   ],
   "source": [
    "ps.to_timestamp()"
   ]
  },
  {
   "cell_type": "code",
   "execution_count": 124,
   "metadata": {},
   "outputs": [
    {
     "output_type": "execute_result",
     "data": {
      "text/plain": [
       "1990-03-01 09:00    1.939233\n",
       "1990-06-01 09:00   -0.490568\n",
       "1990-09-01 09:00    2.017958\n",
       "1990-12-01 09:00   -0.414768\n",
       "1991-03-01 09:00   -0.830761\n",
       "Freq: H, dtype: float64"
      ]
     },
     "metadata": {},
     "execution_count": 124
    }
   ],
   "source": [
    "prng = pd.period_range(\"1990Q1\", \"2000Q4\", freq=\"Q-NOV\")\n",
    "ts = pd.Series(np.random.randn(len(prng)), prng)\n",
    "ts.index = (prng.asfreq(\"M\", \"e\") + 1).asfreq(\"H\", \"s\") + 9\n",
    "ts.head()"
   ]
  },
  {
   "source": [
    "### Categoricals\n",
    "pandas can include categorical data in a DataFrame. For full docs, see the categorical introduction and the API documentation."
   ],
   "cell_type": "markdown",
   "metadata": {}
  },
  {
   "cell_type": "code",
   "execution_count": 125,
   "metadata": {},
   "outputs": [],
   "source": [
    "In [123]: df = pd.DataFrame(\n",
    "   .....:     {\"id\": [1, 2, 3, 4, 5, 6], \"raw_grade\": [\"a\", \"b\", \"b\", \"a\", \"a\", \"e\"]}\n",
    "   .....: )\n",
    "   .....: "
   ]
  },
  {
   "cell_type": "code",
   "execution_count": 126,
   "metadata": {},
   "outputs": [
    {
     "output_type": "execute_result",
     "data": {
      "text/plain": [
       "   id raw_grade\n",
       "0   1         a\n",
       "1   2         b\n",
       "2   3         b\n",
       "3   4         a\n",
       "4   5         a\n",
       "5   6         e"
      ],
      "text/html": "<div>\n<style scoped>\n    .dataframe tbody tr th:only-of-type {\n        vertical-align: middle;\n    }\n\n    .dataframe tbody tr th {\n        vertical-align: top;\n    }\n\n    .dataframe thead th {\n        text-align: right;\n    }\n</style>\n<table border=\"1\" class=\"dataframe\">\n  <thead>\n    <tr style=\"text-align: right;\">\n      <th></th>\n      <th>id</th>\n      <th>raw_grade</th>\n    </tr>\n  </thead>\n  <tbody>\n    <tr>\n      <th>0</th>\n      <td>1</td>\n      <td>a</td>\n    </tr>\n    <tr>\n      <th>1</th>\n      <td>2</td>\n      <td>b</td>\n    </tr>\n    <tr>\n      <th>2</th>\n      <td>3</td>\n      <td>b</td>\n    </tr>\n    <tr>\n      <th>3</th>\n      <td>4</td>\n      <td>a</td>\n    </tr>\n    <tr>\n      <th>4</th>\n      <td>5</td>\n      <td>a</td>\n    </tr>\n    <tr>\n      <th>5</th>\n      <td>6</td>\n      <td>e</td>\n    </tr>\n  </tbody>\n</table>\n</div>"
     },
     "metadata": {},
     "execution_count": 126
    }
   ],
   "source": [
    "df"
   ]
  },
  {
   "cell_type": "code",
   "execution_count": 127,
   "metadata": {},
   "outputs": [
    {
     "output_type": "execute_result",
     "data": {
      "text/plain": [
       "0    a\n",
       "1    b\n",
       "2    b\n",
       "3    a\n",
       "4    a\n",
       "5    e\n",
       "Name: grade, dtype: category\n",
       "Categories (3, object): ['a', 'b', 'e']"
      ]
     },
     "metadata": {},
     "execution_count": 127
    }
   ],
   "source": [
    "df[\"grade\"] = df[\"raw_grade\"].astype(\"category\")\n",
    "df[\"grade\"]"
   ]
  },
  {
   "cell_type": "code",
   "execution_count": 128,
   "metadata": {},
   "outputs": [],
   "source": [
    " df[\"grade\"].cat.categories = [\"very good\", \"good\", \"very bad\"]"
   ]
  },
  {
   "cell_type": "code",
   "execution_count": 129,
   "metadata": {},
   "outputs": [
    {
     "output_type": "execute_result",
     "data": {
      "text/plain": [
       "0    very good\n",
       "1         good\n",
       "2         good\n",
       "3    very good\n",
       "4    very good\n",
       "5     very bad\n",
       "Name: grade, dtype: category\n",
       "Categories (5, object): ['very bad', 'bad', 'medium', 'good', 'very good']"
      ]
     },
     "metadata": {},
     "execution_count": 129
    }
   ],
   "source": [
    "In [127]: df[\"grade\"] = df[\"grade\"].cat.set_categories(\n",
    "   .....:     [\"very bad\", \"bad\", \"medium\", \"good\", \"very good\"]\n",
    "   .....: )\n",
    "   .....: \n",
    "df[\"grade\"]"
   ]
  },
  {
   "cell_type": "code",
   "execution_count": 130,
   "metadata": {},
   "outputs": [
    {
     "output_type": "execute_result",
     "data": {
      "text/plain": [
       "   id raw_grade      grade\n",
       "5   6         e   very bad\n",
       "1   2         b       good\n",
       "2   3         b       good\n",
       "0   1         a  very good\n",
       "3   4         a  very good\n",
       "4   5         a  very good"
      ],
      "text/html": "<div>\n<style scoped>\n    .dataframe tbody tr th:only-of-type {\n        vertical-align: middle;\n    }\n\n    .dataframe tbody tr th {\n        vertical-align: top;\n    }\n\n    .dataframe thead th {\n        text-align: right;\n    }\n</style>\n<table border=\"1\" class=\"dataframe\">\n  <thead>\n    <tr style=\"text-align: right;\">\n      <th></th>\n      <th>id</th>\n      <th>raw_grade</th>\n      <th>grade</th>\n    </tr>\n  </thead>\n  <tbody>\n    <tr>\n      <th>5</th>\n      <td>6</td>\n      <td>e</td>\n      <td>very bad</td>\n    </tr>\n    <tr>\n      <th>1</th>\n      <td>2</td>\n      <td>b</td>\n      <td>good</td>\n    </tr>\n    <tr>\n      <th>2</th>\n      <td>3</td>\n      <td>b</td>\n      <td>good</td>\n    </tr>\n    <tr>\n      <th>0</th>\n      <td>1</td>\n      <td>a</td>\n      <td>very good</td>\n    </tr>\n    <tr>\n      <th>3</th>\n      <td>4</td>\n      <td>a</td>\n      <td>very good</td>\n    </tr>\n    <tr>\n      <th>4</th>\n      <td>5</td>\n      <td>a</td>\n      <td>very good</td>\n    </tr>\n  </tbody>\n</table>\n</div>"
     },
     "metadata": {},
     "execution_count": 130
    }
   ],
   "source": [
    "df.sort_values(by=\"grade\")"
   ]
  },
  {
   "cell_type": "code",
   "execution_count": 131,
   "metadata": {},
   "outputs": [
    {
     "output_type": "execute_result",
     "data": {
      "text/plain": [
       "grade\n",
       "very bad     1\n",
       "bad          0\n",
       "medium       0\n",
       "good         2\n",
       "very good    3\n",
       "dtype: int64"
      ]
     },
     "metadata": {},
     "execution_count": 131
    }
   ],
   "source": [
    "df.groupby(\"grade\").size()"
   ]
  },
  {
   "source": [
    "### Plotting\n",
    "See the Plotting docs.\n",
    "\n",
    "We use the standard convention for referencing the matplotlib API:"
   ],
   "cell_type": "markdown",
   "metadata": {}
  },
  {
   "cell_type": "code",
   "execution_count": 152,
   "metadata": {},
   "outputs": [],
   "source": [
    "import matplotlib.pyplot as plt\n",
    "plt.close(\"all\")"
   ]
  },
  {
   "cell_type": "code",
   "execution_count": 153,
   "metadata": {},
   "outputs": [
    {
     "output_type": "execute_result",
     "data": {
      "text/plain": [
       "<AxesSubplot:>"
      ]
     },
     "metadata": {},
     "execution_count": 153
    },
    {
     "output_type": "display_data",
     "data": {
      "text/plain": "<Figure size 432x288 with 1 Axes>",
      "image/svg+xml": "<?xml version=\"1.0\" encoding=\"utf-8\" standalone=\"no\"?>\r\n<!DOCTYPE svg PUBLIC \"-//W3C//DTD SVG 1.1//EN\"\r\n  \"http://www.w3.org/Graphics/SVG/1.1/DTD/svg11.dtd\">\r\n<!-- Created with matplotlib (https://matplotlib.org/) -->\r\n<svg height=\"259.715937pt\" version=\"1.1\" viewBox=\"0 0 377.304688 259.715937\" width=\"377.304688pt\" xmlns=\"http://www.w3.org/2000/svg\" xmlns:xlink=\"http://www.w3.org/1999/xlink\">\r\n <metadata>\r\n  <rdf:RDF xmlns:cc=\"http://creativecommons.org/ns#\" xmlns:dc=\"http://purl.org/dc/elements/1.1/\" xmlns:rdf=\"http://www.w3.org/1999/02/22-rdf-syntax-ns#\">\r\n   <cc:Work>\r\n    <dc:type rdf:resource=\"http://purl.org/dc/dcmitype/StillImage\"/>\r\n    <dc:date>2021-05-18T23:02:22.203452</dc:date>\r\n    <dc:format>image/svg+xml</dc:format>\r\n    <dc:creator>\r\n     <cc:Agent>\r\n      <dc:title>Matplotlib v3.3.4, https://matplotlib.org/</dc:title>\r\n     </cc:Agent>\r\n    </dc:creator>\r\n   </cc:Work>\r\n  </rdf:RDF>\r\n </metadata>\r\n <defs>\r\n  <style type=\"text/css\">*{stroke-linecap:butt;stroke-linejoin:round;}</style>\r\n </defs>\r\n <g id=\"figure_1\">\r\n  <g id=\"patch_1\">\r\n   <path d=\"M 0 259.715937 \r\nL 377.304688 259.715937 \r\nL 377.304688 0 \r\nL 0 0 \r\nz\r\n\" style=\"fill:none;\"/>\r\n  </g>\r\n  <g id=\"axes_1\">\r\n   <g id=\"patch_2\">\r\n    <path d=\"M 35.304688 224.64 \r\nL 370.104688 224.64 \r\nL 370.104688 7.2 \r\nL 35.304688 7.2 \r\nz\r\n\" style=\"fill:#ffffff;\"/>\r\n   </g>\r\n   <g id=\"matplotlib.axis_1\">\r\n    <g id=\"xtick_1\">\r\n     <g id=\"line2d_1\">\r\n      <defs>\r\n       <path d=\"M 0 0 \r\nL 0 3.5 \r\n\" id=\"mb3a74a1e1e\" style=\"stroke:#000000;stroke-width:0.8;\"/>\r\n      </defs>\r\n      <g>\r\n       <use style=\"stroke:#000000;stroke-width:0.8;\" x=\"35.304688\" xlink:href=\"#mb3a74a1e1e\" y=\"224.64\"/>\r\n      </g>\r\n     </g>\r\n     <g id=\"text_1\">\r\n      <!-- Jan -->\r\n      <g transform=\"translate(27.596875 239.238438)scale(0.1 -0.1)\">\r\n       <defs>\r\n        <path d=\"M 9.8125 72.90625 \r\nL 19.671875 72.90625 \r\nL 19.671875 5.078125 \r\nQ 19.671875 -8.109375 14.671875 -14.0625 \r\nQ 9.671875 -20.015625 -1.421875 -20.015625 \r\nL -5.171875 -20.015625 \r\nL -5.171875 -11.71875 \r\nL -2.09375 -11.71875 \r\nQ 4.4375 -11.71875 7.125 -8.046875 \r\nQ 9.8125 -4.390625 9.8125 5.078125 \r\nz\r\n\" id=\"DejaVuSans-74\"/>\r\n        <path d=\"M 34.28125 27.484375 \r\nQ 23.390625 27.484375 19.1875 25 \r\nQ 14.984375 22.515625 14.984375 16.5 \r\nQ 14.984375 11.71875 18.140625 8.90625 \r\nQ 21.296875 6.109375 26.703125 6.109375 \r\nQ 34.1875 6.109375 38.703125 11.40625 \r\nQ 43.21875 16.703125 43.21875 25.484375 \r\nL 43.21875 27.484375 \r\nz\r\nM 52.203125 31.203125 \r\nL 52.203125 0 \r\nL 43.21875 0 \r\nL 43.21875 8.296875 \r\nQ 40.140625 3.328125 35.546875 0.953125 \r\nQ 30.953125 -1.421875 24.3125 -1.421875 \r\nQ 15.921875 -1.421875 10.953125 3.296875 \r\nQ 6 8.015625 6 15.921875 \r\nQ 6 25.140625 12.171875 29.828125 \r\nQ 18.359375 34.515625 30.609375 34.515625 \r\nL 43.21875 34.515625 \r\nL 43.21875 35.40625 \r\nQ 43.21875 41.609375 39.140625 45 \r\nQ 35.0625 48.390625 27.6875 48.390625 \r\nQ 23 48.390625 18.546875 47.265625 \r\nQ 14.109375 46.140625 10.015625 43.890625 \r\nL 10.015625 52.203125 \r\nQ 14.9375 54.109375 19.578125 55.046875 \r\nQ 24.21875 56 28.609375 56 \r\nQ 40.484375 56 46.34375 49.84375 \r\nQ 52.203125 43.703125 52.203125 31.203125 \r\nz\r\n\" id=\"DejaVuSans-97\"/>\r\n        <path d=\"M 54.890625 33.015625 \r\nL 54.890625 0 \r\nL 45.90625 0 \r\nL 45.90625 32.71875 \r\nQ 45.90625 40.484375 42.875 44.328125 \r\nQ 39.84375 48.1875 33.796875 48.1875 \r\nQ 26.515625 48.1875 22.3125 43.546875 \r\nQ 18.109375 38.921875 18.109375 30.90625 \r\nL 18.109375 0 \r\nL 9.078125 0 \r\nL 9.078125 54.6875 \r\nL 18.109375 54.6875 \r\nL 18.109375 46.1875 \r\nQ 21.34375 51.125 25.703125 53.5625 \r\nQ 30.078125 56 35.796875 56 \r\nQ 45.21875 56 50.046875 50.171875 \r\nQ 54.890625 44.34375 54.890625 33.015625 \r\nz\r\n\" id=\"DejaVuSans-110\"/>\r\n       </defs>\r\n       <use xlink:href=\"#DejaVuSans-74\"/>\r\n       <use x=\"29.492188\" xlink:href=\"#DejaVuSans-97\"/>\r\n       <use x=\"90.771484\" xlink:href=\"#DejaVuSans-110\"/>\r\n      </g>\r\n      <!-- 2000 -->\r\n      <g transform=\"translate(22.579687 250.43625)scale(0.1 -0.1)\">\r\n       <defs>\r\n        <path d=\"M 19.1875 8.296875 \r\nL 53.609375 8.296875 \r\nL 53.609375 0 \r\nL 7.328125 0 \r\nL 7.328125 8.296875 \r\nQ 12.9375 14.109375 22.625 23.890625 \r\nQ 32.328125 33.6875 34.8125 36.53125 \r\nQ 39.546875 41.84375 41.421875 45.53125 \r\nQ 43.3125 49.21875 43.3125 52.78125 \r\nQ 43.3125 58.59375 39.234375 62.25 \r\nQ 35.15625 65.921875 28.609375 65.921875 \r\nQ 23.96875 65.921875 18.8125 64.3125 \r\nQ 13.671875 62.703125 7.8125 59.421875 \r\nL 7.8125 69.390625 \r\nQ 13.765625 71.78125 18.9375 73 \r\nQ 24.125 74.21875 28.421875 74.21875 \r\nQ 39.75 74.21875 46.484375 68.546875 \r\nQ 53.21875 62.890625 53.21875 53.421875 \r\nQ 53.21875 48.921875 51.53125 44.890625 \r\nQ 49.859375 40.875 45.40625 35.40625 \r\nQ 44.1875 33.984375 37.640625 27.21875 \r\nQ 31.109375 20.453125 19.1875 8.296875 \r\nz\r\n\" id=\"DejaVuSans-50\"/>\r\n        <path d=\"M 31.78125 66.40625 \r\nQ 24.171875 66.40625 20.328125 58.90625 \r\nQ 16.5 51.421875 16.5 36.375 \r\nQ 16.5 21.390625 20.328125 13.890625 \r\nQ 24.171875 6.390625 31.78125 6.390625 \r\nQ 39.453125 6.390625 43.28125 13.890625 \r\nQ 47.125 21.390625 47.125 36.375 \r\nQ 47.125 51.421875 43.28125 58.90625 \r\nQ 39.453125 66.40625 31.78125 66.40625 \r\nz\r\nM 31.78125 74.21875 \r\nQ 44.046875 74.21875 50.515625 64.515625 \r\nQ 56.984375 54.828125 56.984375 36.375 \r\nQ 56.984375 17.96875 50.515625 8.265625 \r\nQ 44.046875 -1.421875 31.78125 -1.421875 \r\nQ 19.53125 -1.421875 13.0625 8.265625 \r\nQ 6.59375 17.96875 6.59375 36.375 \r\nQ 6.59375 54.828125 13.0625 64.515625 \r\nQ 19.53125 74.21875 31.78125 74.21875 \r\nz\r\n\" id=\"DejaVuSans-48\"/>\r\n       </defs>\r\n       <use xlink:href=\"#DejaVuSans-50\"/>\r\n       <use x=\"63.623047\" xlink:href=\"#DejaVuSans-48\"/>\r\n       <use x=\"127.246094\" xlink:href=\"#DejaVuSans-48\"/>\r\n       <use x=\"190.869141\" xlink:href=\"#DejaVuSans-48\"/>\r\n      </g>\r\n     </g>\r\n    </g>\r\n    <g id=\"xtick_2\">\r\n     <g id=\"line2d_2\">\r\n      <g>\r\n       <use style=\"stroke:#000000;stroke-width:0.8;\" x=\"157.964147\" xlink:href=\"#mb3a74a1e1e\" y=\"224.64\"/>\r\n      </g>\r\n     </g>\r\n     <g id=\"text_2\">\r\n      <!-- Jan -->\r\n      <g transform=\"translate(150.256334 239.238438)scale(0.1 -0.1)\">\r\n       <use xlink:href=\"#DejaVuSans-74\"/>\r\n       <use x=\"29.492188\" xlink:href=\"#DejaVuSans-97\"/>\r\n       <use x=\"90.771484\" xlink:href=\"#DejaVuSans-110\"/>\r\n      </g>\r\n      <!-- 2001 -->\r\n      <g transform=\"translate(145.239147 250.43625)scale(0.1 -0.1)\">\r\n       <defs>\r\n        <path d=\"M 12.40625 8.296875 \r\nL 28.515625 8.296875 \r\nL 28.515625 63.921875 \r\nL 10.984375 60.40625 \r\nL 10.984375 69.390625 \r\nL 28.421875 72.90625 \r\nL 38.28125 72.90625 \r\nL 38.28125 8.296875 \r\nL 54.390625 8.296875 \r\nL 54.390625 0 \r\nL 12.40625 0 \r\nz\r\n\" id=\"DejaVuSans-49\"/>\r\n       </defs>\r\n       <use xlink:href=\"#DejaVuSans-50\"/>\r\n       <use x=\"63.623047\" xlink:href=\"#DejaVuSans-48\"/>\r\n       <use x=\"127.246094\" xlink:href=\"#DejaVuSans-48\"/>\r\n       <use x=\"190.869141\" xlink:href=\"#DejaVuSans-49\"/>\r\n      </g>\r\n     </g>\r\n    </g>\r\n    <g id=\"xtick_3\">\r\n     <g id=\"line2d_3\">\r\n      <g>\r\n       <use style=\"stroke:#000000;stroke-width:0.8;\" x=\"280.288471\" xlink:href=\"#mb3a74a1e1e\" y=\"224.64\"/>\r\n      </g>\r\n     </g>\r\n     <g id=\"text_3\">\r\n      <!-- Jan -->\r\n      <g transform=\"translate(272.580659 239.238438)scale(0.1 -0.1)\">\r\n       <use xlink:href=\"#DejaVuSans-74\"/>\r\n       <use x=\"29.492188\" xlink:href=\"#DejaVuSans-97\"/>\r\n       <use x=\"90.771484\" xlink:href=\"#DejaVuSans-110\"/>\r\n      </g>\r\n      <!-- 2002 -->\r\n      <g transform=\"translate(267.563471 250.43625)scale(0.1 -0.1)\">\r\n       <use xlink:href=\"#DejaVuSans-50\"/>\r\n       <use x=\"63.623047\" xlink:href=\"#DejaVuSans-48\"/>\r\n       <use x=\"127.246094\" xlink:href=\"#DejaVuSans-48\"/>\r\n       <use x=\"190.869141\" xlink:href=\"#DejaVuSans-50\"/>\r\n      </g>\r\n     </g>\r\n    </g>\r\n    <g id=\"xtick_4\">\r\n     <g id=\"line2d_4\">\r\n      <g>\r\n       <use style=\"stroke:#000000;stroke-width:0.8;\" x=\"370.104688\" xlink:href=\"#mb3a74a1e1e\" y=\"224.64\"/>\r\n      </g>\r\n     </g>\r\n    </g>\r\n    <g id=\"xtick_5\">\r\n     <g id=\"line2d_5\">\r\n      <defs>\r\n       <path d=\"M 0 0 \r\nL 0 2 \r\n\" id=\"m5f36f2ca5e\" style=\"stroke:#000000;stroke-width:0.6;\"/>\r\n      </defs>\r\n      <g>\r\n       <use style=\"stroke:#000000;stroke-width:0.6;\" x=\"45.693877\" xlink:href=\"#m5f36f2ca5e\" y=\"224.64\"/>\r\n      </g>\r\n     </g>\r\n    </g>\r\n    <g id=\"xtick_6\">\r\n     <g id=\"line2d_6\">\r\n      <g>\r\n       <use style=\"stroke:#000000;stroke-width:0.6;\" x=\"55.412796\" xlink:href=\"#m5f36f2ca5e\" y=\"224.64\"/>\r\n      </g>\r\n     </g>\r\n    </g>\r\n    <g id=\"xtick_7\">\r\n     <g id=\"line2d_7\">\r\n      <g>\r\n       <use style=\"stroke:#000000;stroke-width:0.6;\" x=\"65.801985\" xlink:href=\"#m5f36f2ca5e\" y=\"224.64\"/>\r\n      </g>\r\n     </g>\r\n    </g>\r\n    <g id=\"xtick_8\">\r\n     <g id=\"line2d_8\">\r\n      <g>\r\n       <use style=\"stroke:#000000;stroke-width:0.6;\" x=\"75.856039\" xlink:href=\"#m5f36f2ca5e\" y=\"224.64\"/>\r\n      </g>\r\n     </g>\r\n    </g>\r\n    <g id=\"xtick_9\">\r\n     <g id=\"line2d_9\">\r\n      <g>\r\n       <use style=\"stroke:#000000;stroke-width:0.6;\" x=\"86.245228\" xlink:href=\"#m5f36f2ca5e\" y=\"224.64\"/>\r\n      </g>\r\n     </g>\r\n    </g>\r\n    <g id=\"xtick_10\">\r\n     <g id=\"line2d_10\">\r\n      <g>\r\n       <use style=\"stroke:#000000;stroke-width:0.6;\" x=\"96.299282\" xlink:href=\"#m5f36f2ca5e\" y=\"224.64\"/>\r\n      </g>\r\n     </g>\r\n     <g id=\"text_4\">\r\n      <!-- Jul -->\r\n      <g transform=\"translate(90.26647 237.638438)scale(0.1 -0.1)\">\r\n       <defs>\r\n        <path d=\"M 8.5 21.578125 \r\nL 8.5 54.6875 \r\nL 17.484375 54.6875 \r\nL 17.484375 21.921875 \r\nQ 17.484375 14.15625 20.5 10.265625 \r\nQ 23.53125 6.390625 29.59375 6.390625 \r\nQ 36.859375 6.390625 41.078125 11.03125 \r\nQ 45.3125 15.671875 45.3125 23.6875 \r\nL 45.3125 54.6875 \r\nL 54.296875 54.6875 \r\nL 54.296875 0 \r\nL 45.3125 0 \r\nL 45.3125 8.40625 \r\nQ 42.046875 3.421875 37.71875 1 \r\nQ 33.40625 -1.421875 27.6875 -1.421875 \r\nQ 18.265625 -1.421875 13.375 4.4375 \r\nQ 8.5 10.296875 8.5 21.578125 \r\nz\r\nM 31.109375 56 \r\nz\r\n\" id=\"DejaVuSans-117\"/>\r\n        <path d=\"M 9.421875 75.984375 \r\nL 18.40625 75.984375 \r\nL 18.40625 0 \r\nL 9.421875 0 \r\nz\r\n\" id=\"DejaVuSans-108\"/>\r\n       </defs>\r\n       <use xlink:href=\"#DejaVuSans-74\"/>\r\n       <use x=\"29.492188\" xlink:href=\"#DejaVuSans-117\"/>\r\n       <use x=\"92.871094\" xlink:href=\"#DejaVuSans-108\"/>\r\n      </g>\r\n     </g>\r\n    </g>\r\n    <g id=\"xtick_11\">\r\n     <g id=\"line2d_11\">\r\n      <g>\r\n       <use style=\"stroke:#000000;stroke-width:0.6;\" x=\"106.688471\" xlink:href=\"#m5f36f2ca5e\" y=\"224.64\"/>\r\n      </g>\r\n     </g>\r\n    </g>\r\n    <g id=\"xtick_12\">\r\n     <g id=\"line2d_12\">\r\n      <g>\r\n       <use style=\"stroke:#000000;stroke-width:0.6;\" x=\"117.07766\" xlink:href=\"#m5f36f2ca5e\" y=\"224.64\"/>\r\n      </g>\r\n     </g>\r\n    </g>\r\n    <g id=\"xtick_13\">\r\n     <g id=\"line2d_13\">\r\n      <g>\r\n       <use style=\"stroke:#000000;stroke-width:0.6;\" x=\"127.131715\" xlink:href=\"#m5f36f2ca5e\" y=\"224.64\"/>\r\n      </g>\r\n     </g>\r\n    </g>\r\n    <g id=\"xtick_14\">\r\n     <g id=\"line2d_14\">\r\n      <g>\r\n       <use style=\"stroke:#000000;stroke-width:0.6;\" x=\"137.520904\" xlink:href=\"#m5f36f2ca5e\" y=\"224.64\"/>\r\n      </g>\r\n     </g>\r\n    </g>\r\n    <g id=\"xtick_15\">\r\n     <g id=\"line2d_15\">\r\n      <g>\r\n       <use style=\"stroke:#000000;stroke-width:0.6;\" x=\"147.574958\" xlink:href=\"#m5f36f2ca5e\" y=\"224.64\"/>\r\n      </g>\r\n     </g>\r\n    </g>\r\n    <g id=\"xtick_16\">\r\n     <g id=\"line2d_16\">\r\n      <g>\r\n       <use style=\"stroke:#000000;stroke-width:0.6;\" x=\"168.353336\" xlink:href=\"#m5f36f2ca5e\" y=\"224.64\"/>\r\n      </g>\r\n     </g>\r\n    </g>\r\n    <g id=\"xtick_17\">\r\n     <g id=\"line2d_17\">\r\n      <g>\r\n       <use style=\"stroke:#000000;stroke-width:0.6;\" x=\"177.73712\" xlink:href=\"#m5f36f2ca5e\" y=\"224.64\"/>\r\n      </g>\r\n     </g>\r\n    </g>\r\n    <g id=\"xtick_18\">\r\n     <g id=\"line2d_18\">\r\n      <g>\r\n       <use style=\"stroke:#000000;stroke-width:0.6;\" x=\"188.126309\" xlink:href=\"#m5f36f2ca5e\" y=\"224.64\"/>\r\n      </g>\r\n     </g>\r\n    </g>\r\n    <g id=\"xtick_19\">\r\n     <g id=\"line2d_19\">\r\n      <g>\r\n       <use style=\"stroke:#000000;stroke-width:0.6;\" x=\"198.180363\" xlink:href=\"#m5f36f2ca5e\" y=\"224.64\"/>\r\n      </g>\r\n     </g>\r\n    </g>\r\n    <g id=\"xtick_20\">\r\n     <g id=\"line2d_20\">\r\n      <g>\r\n       <use style=\"stroke:#000000;stroke-width:0.6;\" x=\"208.569552\" xlink:href=\"#m5f36f2ca5e\" y=\"224.64\"/>\r\n      </g>\r\n     </g>\r\n    </g>\r\n    <g id=\"xtick_21\">\r\n     <g id=\"line2d_21\">\r\n      <g>\r\n       <use style=\"stroke:#000000;stroke-width:0.6;\" x=\"218.623606\" xlink:href=\"#m5f36f2ca5e\" y=\"224.64\"/>\r\n      </g>\r\n     </g>\r\n     <g id=\"text_5\">\r\n      <!-- Jul -->\r\n      <g transform=\"translate(212.590794 237.638438)scale(0.1 -0.1)\">\r\n       <use xlink:href=\"#DejaVuSans-74\"/>\r\n       <use x=\"29.492188\" xlink:href=\"#DejaVuSans-117\"/>\r\n       <use x=\"92.871094\" xlink:href=\"#DejaVuSans-108\"/>\r\n      </g>\r\n     </g>\r\n    </g>\r\n    <g id=\"xtick_22\">\r\n     <g id=\"line2d_22\">\r\n      <g>\r\n       <use style=\"stroke:#000000;stroke-width:0.6;\" x=\"229.012796\" xlink:href=\"#m5f36f2ca5e\" y=\"224.64\"/>\r\n      </g>\r\n     </g>\r\n    </g>\r\n    <g id=\"xtick_23\">\r\n     <g id=\"line2d_23\">\r\n      <g>\r\n       <use style=\"stroke:#000000;stroke-width:0.6;\" x=\"239.401985\" xlink:href=\"#m5f36f2ca5e\" y=\"224.64\"/>\r\n      </g>\r\n     </g>\r\n    </g>\r\n    <g id=\"xtick_24\">\r\n     <g id=\"line2d_24\">\r\n      <g>\r\n       <use style=\"stroke:#000000;stroke-width:0.6;\" x=\"249.456039\" xlink:href=\"#m5f36f2ca5e\" y=\"224.64\"/>\r\n      </g>\r\n     </g>\r\n    </g>\r\n    <g id=\"xtick_25\">\r\n     <g id=\"line2d_25\">\r\n      <g>\r\n       <use style=\"stroke:#000000;stroke-width:0.6;\" x=\"259.845228\" xlink:href=\"#m5f36f2ca5e\" y=\"224.64\"/>\r\n      </g>\r\n     </g>\r\n    </g>\r\n    <g id=\"xtick_26\">\r\n     <g id=\"line2d_26\">\r\n      <g>\r\n       <use style=\"stroke:#000000;stroke-width:0.6;\" x=\"269.899282\" xlink:href=\"#m5f36f2ca5e\" y=\"224.64\"/>\r\n      </g>\r\n     </g>\r\n    </g>\r\n    <g id=\"xtick_27\">\r\n     <g id=\"line2d_27\">\r\n      <g>\r\n       <use style=\"stroke:#000000;stroke-width:0.6;\" x=\"290.67766\" xlink:href=\"#m5f36f2ca5e\" y=\"224.64\"/>\r\n      </g>\r\n     </g>\r\n    </g>\r\n    <g id=\"xtick_28\">\r\n     <g id=\"line2d_28\">\r\n      <g>\r\n       <use style=\"stroke:#000000;stroke-width:0.6;\" x=\"300.061444\" xlink:href=\"#m5f36f2ca5e\" y=\"224.64\"/>\r\n      </g>\r\n     </g>\r\n    </g>\r\n    <g id=\"xtick_29\">\r\n     <g id=\"line2d_29\">\r\n      <g>\r\n       <use style=\"stroke:#000000;stroke-width:0.6;\" x=\"310.450633\" xlink:href=\"#m5f36f2ca5e\" y=\"224.64\"/>\r\n      </g>\r\n     </g>\r\n    </g>\r\n    <g id=\"xtick_30\">\r\n     <g id=\"line2d_30\">\r\n      <g>\r\n       <use style=\"stroke:#000000;stroke-width:0.6;\" x=\"320.504687\" xlink:href=\"#m5f36f2ca5e\" y=\"224.64\"/>\r\n      </g>\r\n     </g>\r\n    </g>\r\n    <g id=\"xtick_31\">\r\n     <g id=\"line2d_31\">\r\n      <g>\r\n       <use style=\"stroke:#000000;stroke-width:0.6;\" x=\"330.893877\" xlink:href=\"#m5f36f2ca5e\" y=\"224.64\"/>\r\n      </g>\r\n     </g>\r\n    </g>\r\n    <g id=\"xtick_32\">\r\n     <g id=\"line2d_32\">\r\n      <g>\r\n       <use style=\"stroke:#000000;stroke-width:0.6;\" x=\"340.947931\" xlink:href=\"#m5f36f2ca5e\" y=\"224.64\"/>\r\n      </g>\r\n     </g>\r\n     <g id=\"text_6\">\r\n      <!-- Jul -->\r\n      <g transform=\"translate(334.915118 237.638438)scale(0.1 -0.1)\">\r\n       <use xlink:href=\"#DejaVuSans-74\"/>\r\n       <use x=\"29.492188\" xlink:href=\"#DejaVuSans-117\"/>\r\n       <use x=\"92.871094\" xlink:href=\"#DejaVuSans-108\"/>\r\n      </g>\r\n     </g>\r\n    </g>\r\n    <g id=\"xtick_33\">\r\n     <g id=\"line2d_33\">\r\n      <g>\r\n       <use style=\"stroke:#000000;stroke-width:0.6;\" x=\"351.33712\" xlink:href=\"#m5f36f2ca5e\" y=\"224.64\"/>\r\n      </g>\r\n     </g>\r\n    </g>\r\n    <g id=\"xtick_34\">\r\n     <g id=\"line2d_34\">\r\n      <g>\r\n       <use style=\"stroke:#000000;stroke-width:0.6;\" x=\"361.726309\" xlink:href=\"#m5f36f2ca5e\" y=\"224.64\"/>\r\n      </g>\r\n     </g>\r\n    </g>\r\n   </g>\r\n   <g id=\"matplotlib.axis_2\">\r\n    <g id=\"ytick_1\">\r\n     <g id=\"line2d_35\">\r\n      <defs>\r\n       <path d=\"M 0 0 \r\nL -3.5 0 \r\n\" id=\"m5254705691\" style=\"stroke:#000000;stroke-width:0.8;\"/>\r\n      </defs>\r\n      <g>\r\n       <use style=\"stroke:#000000;stroke-width:0.8;\" x=\"35.304688\" xlink:href=\"#m5254705691\" y=\"200.416134\"/>\r\n      </g>\r\n     </g>\r\n     <g id=\"text_7\">\r\n      <!-- −30 -->\r\n      <g transform=\"translate(7.2 204.215353)scale(0.1 -0.1)\">\r\n       <defs>\r\n        <path d=\"M 10.59375 35.5 \r\nL 73.1875 35.5 \r\nL 73.1875 27.203125 \r\nL 10.59375 27.203125 \r\nz\r\n\" id=\"DejaVuSans-8722\"/>\r\n        <path d=\"M 40.578125 39.3125 \r\nQ 47.65625 37.796875 51.625 33 \r\nQ 55.609375 28.21875 55.609375 21.1875 \r\nQ 55.609375 10.40625 48.1875 4.484375 \r\nQ 40.765625 -1.421875 27.09375 -1.421875 \r\nQ 22.515625 -1.421875 17.65625 -0.515625 \r\nQ 12.796875 0.390625 7.625 2.203125 \r\nL 7.625 11.71875 \r\nQ 11.71875 9.328125 16.59375 8.109375 \r\nQ 21.484375 6.890625 26.8125 6.890625 \r\nQ 36.078125 6.890625 40.9375 10.546875 \r\nQ 45.796875 14.203125 45.796875 21.1875 \r\nQ 45.796875 27.640625 41.28125 31.265625 \r\nQ 36.765625 34.90625 28.71875 34.90625 \r\nL 20.21875 34.90625 \r\nL 20.21875 43.015625 \r\nL 29.109375 43.015625 \r\nQ 36.375 43.015625 40.234375 45.921875 \r\nQ 44.09375 48.828125 44.09375 54.296875 \r\nQ 44.09375 59.90625 40.109375 62.90625 \r\nQ 36.140625 65.921875 28.71875 65.921875 \r\nQ 24.65625 65.921875 20.015625 65.03125 \r\nQ 15.375 64.15625 9.8125 62.3125 \r\nL 9.8125 71.09375 \r\nQ 15.4375 72.65625 20.34375 73.4375 \r\nQ 25.25 74.21875 29.59375 74.21875 \r\nQ 40.828125 74.21875 47.359375 69.109375 \r\nQ 53.90625 64.015625 53.90625 55.328125 \r\nQ 53.90625 49.265625 50.4375 45.09375 \r\nQ 46.96875 40.921875 40.578125 39.3125 \r\nz\r\n\" id=\"DejaVuSans-51\"/>\r\n       </defs>\r\n       <use xlink:href=\"#DejaVuSans-8722\"/>\r\n       <use x=\"83.789062\" xlink:href=\"#DejaVuSans-51\"/>\r\n       <use x=\"147.412109\" xlink:href=\"#DejaVuSans-48\"/>\r\n      </g>\r\n     </g>\r\n    </g>\r\n    <g id=\"ytick_2\">\r\n     <g id=\"line2d_36\">\r\n      <g>\r\n       <use style=\"stroke:#000000;stroke-width:0.8;\" x=\"35.304688\" xlink:href=\"#m5254705691\" y=\"173.460738\"/>\r\n      </g>\r\n     </g>\r\n     <g id=\"text_8\">\r\n      <!-- −25 -->\r\n      <g transform=\"translate(7.2 177.259957)scale(0.1 -0.1)\">\r\n       <defs>\r\n        <path d=\"M 10.796875 72.90625 \r\nL 49.515625 72.90625 \r\nL 49.515625 64.59375 \r\nL 19.828125 64.59375 \r\nL 19.828125 46.734375 \r\nQ 21.96875 47.46875 24.109375 47.828125 \r\nQ 26.265625 48.1875 28.421875 48.1875 \r\nQ 40.625 48.1875 47.75 41.5 \r\nQ 54.890625 34.8125 54.890625 23.390625 \r\nQ 54.890625 11.625 47.5625 5.09375 \r\nQ 40.234375 -1.421875 26.90625 -1.421875 \r\nQ 22.3125 -1.421875 17.546875 -0.640625 \r\nQ 12.796875 0.140625 7.71875 1.703125 \r\nL 7.71875 11.625 \r\nQ 12.109375 9.234375 16.796875 8.0625 \r\nQ 21.484375 6.890625 26.703125 6.890625 \r\nQ 35.15625 6.890625 40.078125 11.328125 \r\nQ 45.015625 15.765625 45.015625 23.390625 \r\nQ 45.015625 31 40.078125 35.4375 \r\nQ 35.15625 39.890625 26.703125 39.890625 \r\nQ 22.75 39.890625 18.8125 39.015625 \r\nQ 14.890625 38.140625 10.796875 36.28125 \r\nz\r\n\" id=\"DejaVuSans-53\"/>\r\n       </defs>\r\n       <use xlink:href=\"#DejaVuSans-8722\"/>\r\n       <use x=\"83.789062\" xlink:href=\"#DejaVuSans-50\"/>\r\n       <use x=\"147.412109\" xlink:href=\"#DejaVuSans-53\"/>\r\n      </g>\r\n     </g>\r\n    </g>\r\n    <g id=\"ytick_3\">\r\n     <g id=\"line2d_37\">\r\n      <g>\r\n       <use style=\"stroke:#000000;stroke-width:0.8;\" x=\"35.304688\" xlink:href=\"#m5254705691\" y=\"146.505342\"/>\r\n      </g>\r\n     </g>\r\n     <g id=\"text_9\">\r\n      <!-- −20 -->\r\n      <g transform=\"translate(7.2 150.304561)scale(0.1 -0.1)\">\r\n       <use xlink:href=\"#DejaVuSans-8722\"/>\r\n       <use x=\"83.789062\" xlink:href=\"#DejaVuSans-50\"/>\r\n       <use x=\"147.412109\" xlink:href=\"#DejaVuSans-48\"/>\r\n      </g>\r\n     </g>\r\n    </g>\r\n    <g id=\"ytick_4\">\r\n     <g id=\"line2d_38\">\r\n      <g>\r\n       <use style=\"stroke:#000000;stroke-width:0.8;\" x=\"35.304688\" xlink:href=\"#m5254705691\" y=\"119.549947\"/>\r\n      </g>\r\n     </g>\r\n     <g id=\"text_10\">\r\n      <!-- −15 -->\r\n      <g transform=\"translate(7.2 123.349165)scale(0.1 -0.1)\">\r\n       <use xlink:href=\"#DejaVuSans-8722\"/>\r\n       <use x=\"83.789062\" xlink:href=\"#DejaVuSans-49\"/>\r\n       <use x=\"147.412109\" xlink:href=\"#DejaVuSans-53\"/>\r\n      </g>\r\n     </g>\r\n    </g>\r\n    <g id=\"ytick_5\">\r\n     <g id=\"line2d_39\">\r\n      <g>\r\n       <use style=\"stroke:#000000;stroke-width:0.8;\" x=\"35.304688\" xlink:href=\"#m5254705691\" y=\"92.594551\"/>\r\n      </g>\r\n     </g>\r\n     <g id=\"text_11\">\r\n      <!-- −10 -->\r\n      <g transform=\"translate(7.2 96.393769)scale(0.1 -0.1)\">\r\n       <use xlink:href=\"#DejaVuSans-8722\"/>\r\n       <use x=\"83.789062\" xlink:href=\"#DejaVuSans-49\"/>\r\n       <use x=\"147.412109\" xlink:href=\"#DejaVuSans-48\"/>\r\n      </g>\r\n     </g>\r\n    </g>\r\n    <g id=\"ytick_6\">\r\n     <g id=\"line2d_40\">\r\n      <g>\r\n       <use style=\"stroke:#000000;stroke-width:0.8;\" x=\"35.304688\" xlink:href=\"#m5254705691\" y=\"65.639155\"/>\r\n      </g>\r\n     </g>\r\n     <g id=\"text_12\">\r\n      <!-- −5 -->\r\n      <g transform=\"translate(13.5625 69.438373)scale(0.1 -0.1)\">\r\n       <use xlink:href=\"#DejaVuSans-8722\"/>\r\n       <use x=\"83.789062\" xlink:href=\"#DejaVuSans-53\"/>\r\n      </g>\r\n     </g>\r\n    </g>\r\n    <g id=\"ytick_7\">\r\n     <g id=\"line2d_41\">\r\n      <g>\r\n       <use style=\"stroke:#000000;stroke-width:0.8;\" x=\"35.304688\" xlink:href=\"#m5254705691\" y=\"38.683759\"/>\r\n      </g>\r\n     </g>\r\n     <g id=\"text_13\">\r\n      <!-- 0 -->\r\n      <g transform=\"translate(21.942188 42.482978)scale(0.1 -0.1)\">\r\n       <use xlink:href=\"#DejaVuSans-48\"/>\r\n      </g>\r\n     </g>\r\n    </g>\r\n    <g id=\"ytick_8\">\r\n     <g id=\"line2d_42\">\r\n      <g>\r\n       <use style=\"stroke:#000000;stroke-width:0.8;\" x=\"35.304688\" xlink:href=\"#m5254705691\" y=\"11.728363\"/>\r\n      </g>\r\n     </g>\r\n     <g id=\"text_14\">\r\n      <!-- 5 -->\r\n      <g transform=\"translate(21.942188 15.527582)scale(0.1 -0.1)\">\r\n       <use xlink:href=\"#DejaVuSans-53\"/>\r\n      </g>\r\n     </g>\r\n    </g>\r\n   </g>\r\n   <g id=\"line2d_43\">\r\n    <path clip-path=\"url(#p8f600fad71)\" d=\"M 35.304688 34.360502 \r\nL 35.639823 34.086403 \r\nL 35.974958 34.814879 \r\nL 36.310093 40.718859 \r\nL 36.645228 49.080065 \r\nL 36.980363 47.257684 \r\nL 37.315498 43.22593 \r\nL 37.650633 43.243529 \r\nL 37.985769 39.930578 \r\nL 38.320904 26.840899 \r\nL 38.656039 27.142379 \r\nL 38.991174 27.707173 \r\nL 39.326309 35.965269 \r\nL 39.661444 40.478093 \r\nL 40.331715 27.031944 \r\nL 40.66685 37.417353 \r\nL 41.001985 36.651492 \r\nL 41.33712 38.213632 \r\nL 41.672255 43.741482 \r\nL 42.00739 47.379061 \r\nL 42.342525 47.953812 \r\nL 42.67766 53.095728 \r\nL 43.012796 53.079117 \r\nL 43.347931 54.6633 \r\nL 43.683066 57.593091 \r\nL 44.018201 54.439315 \r\nL 44.353336 54.238048 \r\nL 45.023606 45.452205 \r\nL 45.358742 46.129549 \r\nL 45.693877 37.248829 \r\nL 46.029012 39.300455 \r\nL 46.364147 47.96874 \r\nL 46.699282 46.729233 \r\nL 47.034417 49.5022 \r\nL 47.369552 49.168504 \r\nL 47.704688 51.636798 \r\nL 48.039823 48.34233 \r\nL 48.374958 43.523991 \r\nL 48.710093 47.367491 \r\nL 49.045228 45.701451 \r\nL 49.380363 45.709702 \r\nL 49.715498 42.958325 \r\nL 50.050633 46.30444 \r\nL 50.385769 42.824323 \r\nL 50.720904 41.1487 \r\nL 51.056039 42.450598 \r\nL 51.391174 48.148213 \r\nL 51.726309 35.709024 \r\nL 52.061444 38.316909 \r\nL 52.396579 32.943857 \r\nL 52.731715 33.312286 \r\nL 53.06685 24.399324 \r\nL 53.73712 27.999632 \r\nL 54.072255 29.129694 \r\nL 54.40739 39.12826 \r\nL 54.742525 40.139375 \r\nL 55.07766 43.203289 \r\nL 55.412796 38.989619 \r\nL 55.747931 48.98844 \r\nL 56.083066 40.831005 \r\nL 56.418201 42.560256 \r\nL 57.088471 55.393855 \r\nL 57.423606 57.493206 \r\nL 57.758742 53.918051 \r\nL 58.093877 55.317403 \r\nL 58.429012 49.89255 \r\nL 58.764147 48.173169 \r\nL 59.099282 50.772252 \r\nL 59.434417 56.766228 \r\nL 59.769552 58.704207 \r\nL 60.104687 56.412812 \r\nL 60.439823 50.657616 \r\nL 61.110093 36.709014 \r\nL 61.445228 33.773284 \r\nL 62.115498 47.344051 \r\nL 62.450633 47.253665 \r\nL 62.785769 53.763646 \r\nL 63.456039 40.634595 \r\nL 63.791174 42.434914 \r\nL 64.126309 47.717549 \r\nL 64.796579 40.000366 \r\nL 65.131715 37.621205 \r\nL 65.46685 41.666792 \r\nL 65.801985 40.629339 \r\nL 66.13712 38.783446 \r\nL 66.472255 40.163771 \r\nL 66.80739 47.336452 \r\nL 67.142525 48.897368 \r\nL 67.47766 53.969584 \r\nL 67.812796 55.917062 \r\nL 68.147931 55.732794 \r\nL 68.483066 58.188424 \r\nL 69.153336 51.854102 \r\nL 69.823606 63.280359 \r\nL 70.158742 66.089332 \r\nL 70.493877 54.453433 \r\nL 70.829012 55.242479 \r\nL 71.164147 60.389485 \r\nL 71.499282 67.464922 \r\nL 72.169552 59.083236 \r\nL 72.504687 62.395754 \r\nL 72.839823 58.138066 \r\nL 73.174958 58.396567 \r\nL 73.510093 48.204408 \r\nL 73.845228 42.949014 \r\nL 74.180363 42.186125 \r\nL 74.850633 50.549318 \r\nL 75.185769 49.733656 \r\nL 75.520904 50.825764 \r\nL 75.856039 54.424049 \r\nL 76.191174 52.928422 \r\nL 76.526309 53.132303 \r\nL 76.861444 52.010198 \r\nL 77.196579 55.170661 \r\nL 77.86685 42.3574 \r\nL 78.872255 74.144146 \r\nL 79.20739 75.640334 \r\nL 79.87766 86.369611 \r\nL 80.212796 84.478166 \r\nL 80.883066 89.150208 \r\nL 81.218201 91.165528 \r\nL 81.553336 88.250149 \r\nL 81.888471 83.96312 \r\nL 82.223606 85.539749 \r\nL 82.558742 86.187986 \r\nL 83.229012 102.906517 \r\nL 83.564147 99.720725 \r\nL 83.899282 92.005868 \r\nL 84.234417 92.866088 \r\nL 84.569552 92.062862 \r\nL 85.239823 86.144805 \r\nL 85.574958 77.339665 \r\nL 85.910093 75.158397 \r\nL 86.245228 81.973497 \r\nL 86.580363 79.670263 \r\nL 86.915498 75.98816 \r\nL 87.250633 76.531059 \r\nL 87.920904 75.737806 \r\nL 88.256039 68.508303 \r\nL 88.591174 73.717069 \r\nL 88.926309 73.559571 \r\nL 89.261444 64.372555 \r\nL 89.596579 59.856545 \r\nL 90.26685 36.484805 \r\nL 90.601985 21.796015 \r\nL 90.93712 22.311469 \r\nL 91.272255 18.100369 \r\nL 91.60739 17.083636 \r\nL 91.942525 30.019331 \r\nL 92.27766 28.158917 \r\nL 92.612796 32.217759 \r\nL 92.947931 24.361774 \r\nL 93.283066 28.042356 \r\nL 93.618201 35.44789 \r\nL 93.953336 29.880399 \r\nL 94.288471 36.354738 \r\nL 94.623606 39.540468 \r\nL 94.958742 36.894404 \r\nL 95.629012 28.346345 \r\nL 95.964147 32.692087 \r\nL 96.299282 28.251532 \r\nL 96.634417 36.23841 \r\nL 96.969552 31.839074 \r\nL 97.304688 30.474509 \r\nL 97.639823 38.55026 \r\nL 97.974958 39.626241 \r\nL 98.310093 45.250871 \r\nL 98.645228 42.595098 \r\nL 98.980363 36.326038 \r\nL 99.315498 36.74156 \r\nL 99.650633 41.605028 \r\nL 99.985769 49.521316 \r\nL 100.320904 49.580264 \r\nL 100.656039 56.040556 \r\nL 100.991174 50.521891 \r\nL 101.326309 61.903523 \r\nL 101.661444 66.270158 \r\nL 101.996579 63.968369 \r\nL 102.331715 65.50715 \r\nL 103.001985 56.570147 \r\nL 103.33712 57.606406 \r\nL 103.672255 52.714659 \r\nL 104.00739 52.081491 \r\nL 104.342525 47.988088 \r\nL 104.67766 49.103297 \r\nL 105.347931 39.452457 \r\nL 105.683066 37.377779 \r\nL 106.018201 33.205749 \r\nL 106.353336 26.835497 \r\nL 106.688471 30.033083 \r\nL 107.023606 19.732937 \r\nL 107.358742 23.431398 \r\nL 107.693877 24.892951 \r\nL 108.029012 25.238174 \r\nL 108.364147 39.803968 \r\nL 108.699282 41.164961 \r\nL 109.034417 37.458877 \r\nL 109.369552 36.656432 \r\nL 109.704688 43.651004 \r\nL 110.039823 47.143398 \r\nL 110.374958 49.460165 \r\nL 110.710093 46.302782 \r\nL 111.045228 46.450662 \r\nL 111.380363 56.131143 \r\nL 111.715498 55.765565 \r\nL 112.050633 55.804937 \r\nL 112.385769 56.222625 \r\nL 112.720904 62.902518 \r\nL 113.056039 65.725662 \r\nL 113.726309 82.738788 \r\nL 114.061444 73.068228 \r\nL 114.396579 70.106947 \r\nL 114.731715 71.223751 \r\nL 115.06685 71.905822 \r\nL 115.73712 76.819676 \r\nL 116.072255 82.337879 \r\nL 116.40739 72.602175 \r\nL 116.742525 72.252608 \r\nL 117.07766 80.323714 \r\nL 117.412796 77.792659 \r\nL 117.747931 79.30585 \r\nL 118.083066 73.246882 \r\nL 118.418201 72.562936 \r\nL 118.753336 70.820922 \r\nL 119.088471 64.334157 \r\nL 119.423606 72.124483 \r\nL 119.758742 68.067349 \r\nL 120.093877 66.588521 \r\nL 120.429012 78.069064 \r\nL 120.764147 79.220051 \r\nL 121.099282 79.82565 \r\nL 121.434417 86.537584 \r\nL 121.769552 86.478172 \r\nL 122.439823 71.125312 \r\nL 122.774958 69.079428 \r\nL 123.110093 75.113097 \r\nL 123.445228 74.896494 \r\nL 123.780363 70.563915 \r\nL 124.115498 75.681584 \r\nL 124.450633 82.706099 \r\nL 124.785769 71.329986 \r\nL 125.120904 75.081833 \r\nL 125.456039 81.244699 \r\nL 125.791174 79.154488 \r\nL 126.126309 69.167134 \r\nL 126.461444 69.885446 \r\nL 126.796579 77.74749 \r\nL 127.131715 77.634043 \r\nL 127.46685 68.120633 \r\nL 127.801985 79.338253 \r\nL 128.13712 84.6494 \r\nL 128.472255 87.581862 \r\nL 128.80739 83.56329 \r\nL 129.142525 83.573982 \r\nL 129.47766 82.174009 \r\nL 129.812796 80.039972 \r\nL 130.147931 82.709388 \r\nL 130.483066 89.434353 \r\nL 130.818201 88.248994 \r\nL 131.153336 90.1616 \r\nL 131.488471 77.62902 \r\nL 131.823606 75.717338 \r\nL 132.158742 78.449948 \r\nL 132.493877 74.633393 \r\nL 132.829012 68.305896 \r\nL 133.164147 72.292586 \r\nL 133.499282 70.527874 \r\nL 133.834417 59.774729 \r\nL 134.169552 57.09845 \r\nL 134.504687 59.624704 \r\nL 134.839823 60.787155 \r\nL 135.174958 55.580617 \r\nL 135.510093 42.363107 \r\nL 135.845228 41.938494 \r\nL 136.180363 50.706733 \r\nL 136.515498 43.520477 \r\nL 136.850633 43.333459 \r\nL 137.185769 42.301874 \r\nL 137.856039 34.321423 \r\nL 138.191174 38.143806 \r\nL 138.526309 46.840799 \r\nL 138.861444 42.478407 \r\nL 139.196579 41.971472 \r\nL 139.531715 43.804652 \r\nL 139.86685 42.055133 \r\nL 140.201985 44.119856 \r\nL 140.53712 40.282803 \r\nL 140.872255 45.140115 \r\nL 141.20739 43.825926 \r\nL 142.212796 29.802634 \r\nL 142.547931 38.979168 \r\nL 142.883066 44.703085 \r\nL 143.218201 56.50831 \r\nL 143.553336 59.828682 \r\nL 143.888471 56.515175 \r\nL 144.223606 62.574809 \r\nL 144.558742 59.41444 \r\nL 144.893877 58.310463 \r\nL 145.229012 63.638245 \r\nL 145.564147 61.640359 \r\nL 145.899282 62.110462 \r\nL 146.234417 60.025107 \r\nL 146.569552 62.746411 \r\nL 146.904687 71.297116 \r\nL 147.239823 75.480753 \r\nL 147.910093 86.592386 \r\nL 148.915498 97.563643 \r\nL 149.250633 95.641847 \r\nL 149.585769 98.371556 \r\nL 150.256039 111.394216 \r\nL 150.591174 110.633251 \r\nL 150.926309 107.665664 \r\nL 151.261444 107.987268 \r\nL 151.596579 108.541018 \r\nL 151.931715 111.158374 \r\nL 152.26685 116.064243 \r\nL 152.601985 113.617525 \r\nL 152.93712 120.332811 \r\nL 153.272255 124.232267 \r\nL 153.60739 112.090506 \r\nL 154.27766 102.838004 \r\nL 154.612796 99.894697 \r\nL 154.947931 99.376613 \r\nL 155.283066 101.909555 \r\nL 155.618201 99.859456 \r\nL 155.953336 102.981427 \r\nL 156.288471 103.476825 \r\nL 156.623606 107.778472 \r\nL 156.958742 109.689753 \r\nL 157.293877 107.581727 \r\nL 157.629012 108.833925 \r\nL 157.964147 106.874337 \r\nL 158.299282 108.559358 \r\nL 158.634417 118.77279 \r\nL 158.969552 112.406756 \r\nL 159.304688 113.295464 \r\nL 159.639823 109.729785 \r\nL 159.974958 118.118481 \r\nL 160.310093 122.300394 \r\nL 160.980363 112.233982 \r\nL 161.650633 116.809548 \r\nL 161.985769 118.230138 \r\nL 162.320904 128.081875 \r\nL 162.656039 126.725842 \r\nL 162.991174 131.62605 \r\nL 163.326309 134.769348 \r\nL 163.661444 133.685873 \r\nL 163.996579 126.894858 \r\nL 164.331715 126.360521 \r\nL 164.66685 122.924787 \r\nL 165.001985 129.634492 \r\nL 165.33712 129.795576 \r\nL 165.672255 125.268241 \r\nL 166.00739 132.21337 \r\nL 166.342525 128.963686 \r\nL 166.67766 129.893041 \r\nL 167.012796 134.479089 \r\nL 167.347931 134.378996 \r\nL 167.683066 128.038268 \r\nL 168.018201 128.105684 \r\nL 168.353336 127.925123 \r\nL 168.688471 131.46186 \r\nL 169.023606 126.761131 \r\nL 169.358742 131.588629 \r\nL 169.693877 115.121608 \r\nL 170.029012 115.084332 \r\nL 170.364147 117.747682 \r\nL 170.699282 114.587953 \r\nL 171.034417 113.749648 \r\nL 171.369552 114.251184 \r\nL 171.704688 117.604114 \r\nL 172.039823 115.964518 \r\nL 172.374958 120.939424 \r\nL 173.045228 113.972536 \r\nL 173.380363 115.219642 \r\nL 173.715498 125.989292 \r\nL 174.050633 123.565801 \r\nL 174.385769 136.64978 \r\nL 174.720904 137.898965 \r\nL 175.056039 144.538799 \r\nL 175.391174 143.017222 \r\nL 175.726309 143.907231 \r\nL 176.061444 136.722337 \r\nL 176.396579 124.581269 \r\nL 176.731715 125.13111 \r\nL 177.06685 122.223875 \r\nL 177.401985 110.738338 \r\nL 177.73712 114.067555 \r\nL 178.072255 109.344382 \r\nL 178.40739 116.661661 \r\nL 178.742525 115.826926 \r\nL 179.07766 124.000474 \r\nL 179.412796 125.185461 \r\nL 179.747931 118.217963 \r\nL 180.083066 116.598654 \r\nL 180.418201 120.039874 \r\nL 180.753336 114.822201 \r\nL 181.088471 111.867163 \r\nL 181.423606 106.728055 \r\nL 181.758742 104.520247 \r\nL 182.093877 108.318121 \r\nL 182.429012 107.270247 \r\nL 182.764147 113.797079 \r\nL 183.099282 114.971834 \r\nL 183.434417 124.514754 \r\nL 183.769552 115.033927 \r\nL 184.104687 120.20768 \r\nL 184.439823 116.658975 \r\nL 184.774958 106.095983 \r\nL 185.110093 106.718995 \r\nL 185.445228 97.792768 \r\nL 185.780363 99.800356 \r\nL 186.115498 97.865767 \r\nL 186.450633 99.285233 \r\nL 186.785769 104.433493 \r\nL 187.120904 98.301657 \r\nL 187.456039 101.54833 \r\nL 187.791174 97.121623 \r\nL 188.126309 97.138119 \r\nL 188.461444 99.781876 \r\nL 188.796579 105.640034 \r\nL 189.131715 106.076056 \r\nL 189.46685 112.144615 \r\nL 189.801985 104.514296 \r\nL 190.13712 118.831451 \r\nL 190.472255 122.589196 \r\nL 190.80739 119.030064 \r\nL 191.142525 122.804184 \r\nL 191.812796 117.537679 \r\nL 192.147931 122.462812 \r\nL 192.483066 122.984188 \r\nL 192.818201 127.626724 \r\nL 193.153336 127.641435 \r\nL 193.488471 133.418943 \r\nL 193.823606 129.119192 \r\nL 194.158742 120.402966 \r\nL 194.829012 113.467121 \r\nL 195.164147 117.80631 \r\nL 195.499282 112.623296 \r\nL 195.834417 113.33639 \r\nL 196.169552 109.527339 \r\nL 196.504687 108.138492 \r\nL 196.839823 103.309389 \r\nL 197.174958 90.954638 \r\nL 197.510093 91.695976 \r\nL 197.845228 89.469988 \r\nL 198.180363 76.572749 \r\nL 198.515498 74.029652 \r\nL 199.185769 84.663546 \r\nL 199.520904 88.740958 \r\nL 199.856039 85.052026 \r\nL 200.191174 88.157863 \r\nL 200.526309 89.035049 \r\nL 200.861444 86.538539 \r\nL 201.196579 82.272352 \r\nL 201.531715 86.613588 \r\nL 201.86685 84.861547 \r\nL 202.201985 86.935254 \r\nL 202.53712 90.329396 \r\nL 202.872255 90.210729 \r\nL 203.20739 92.776836 \r\nL 203.542525 89.804341 \r\nL 203.87766 77.241101 \r\nL 204.212796 82.528353 \r\nL 204.547931 79.641791 \r\nL 204.883066 79.343138 \r\nL 205.553336 86.148452 \r\nL 205.888471 85.702003 \r\nL 206.223606 77.343656 \r\nL 206.558742 84.118768 \r\nL 206.893877 81.608062 \r\nL 207.229012 92.243562 \r\nL 207.899282 85.051212 \r\nL 208.234417 89.680695 \r\nL 208.904687 94.846229 \r\nL 209.239823 100.199045 \r\nL 209.574958 93.354125 \r\nL 209.910093 89.47625 \r\nL 210.245228 87.878964 \r\nL 210.580363 90.00319 \r\nL 210.915498 87.358296 \r\nL 211.250633 87.190258 \r\nL 211.585769 85.061736 \r\nL 211.920904 87.838094 \r\nL 212.256039 85.116845 \r\nL 212.591174 80.230113 \r\nL 212.926309 86.297639 \r\nL 213.261444 87.600467 \r\nL 213.931715 94.915127 \r\nL 214.26685 96.246511 \r\nL 214.601985 94.04739 \r\nL 214.93712 94.029433 \r\nL 215.272255 90.861753 \r\nL 215.60739 99.76562 \r\nL 215.942525 112.189811 \r\nL 216.27766 114.615778 \r\nL 216.612796 115.891618 \r\nL 216.947931 126.100573 \r\nL 217.283066 126.394291 \r\nL 217.618201 127.53854 \r\nL 217.953336 137.209444 \r\nL 218.288471 132.072723 \r\nL 218.623606 129.021726 \r\nL 218.958742 127.307919 \r\nL 219.293877 129.306951 \r\nL 219.629012 124.35344 \r\nL 219.964147 122.194252 \r\nL 220.299282 132.339593 \r\nL 220.634417 131.447487 \r\nL 220.969552 138.047838 \r\nL 221.304688 129.219775 \r\nL 221.639823 131.343878 \r\nL 221.974958 121.244031 \r\nL 222.645228 124.79629 \r\nL 222.980363 131.029327 \r\nL 223.985769 110.634173 \r\nL 224.320904 106.45891 \r\nL 224.656039 110.540206 \r\nL 225.326309 82.374943 \r\nL 225.661444 88.735449 \r\nL 225.996579 86.484419 \r\nL 226.331715 88.718097 \r\nL 226.66685 93.337734 \r\nL 227.33712 84.255449 \r\nL 227.672255 90.140069 \r\nL 228.342525 108.512651 \r\nL 228.67766 111.179162 \r\nL 229.012796 116.796281 \r\nL 229.347931 116.893037 \r\nL 229.683066 115.091564 \r\nL 230.018201 112.154473 \r\nL 230.353336 113.619373 \r\nL 230.688471 122.86088 \r\nL 231.358742 127.706786 \r\nL 231.693877 127.8691 \r\nL 232.029012 126.449534 \r\nL 232.364147 129.553403 \r\nL 232.699282 138.844158 \r\nL 233.034417 141.787484 \r\nL 233.369552 132.223349 \r\nL 233.704688 139.060966 \r\nL 234.039823 130.516792 \r\nL 234.374958 131.96651 \r\nL 234.710093 131.532472 \r\nL 235.045228 127.871554 \r\nL 235.380363 137.710547 \r\nL 236.050633 130.094539 \r\nL 236.385769 134.516173 \r\nL 237.056039 130.654692 \r\nL 237.726309 118.488621 \r\nL 238.061444 113.145143 \r\nL 238.396579 110.6355 \r\nL 238.731715 115.653491 \r\nL 239.06685 117.865004 \r\nL 239.401985 111.184236 \r\nL 240.40739 134.653538 \r\nL 240.742525 135.717794 \r\nL 241.412796 125.600294 \r\nL 241.747931 127.988041 \r\nL 242.083066 128.104511 \r\nL 242.418201 130.562152 \r\nL 242.753336 135.107415 \r\nL 243.088471 142.044253 \r\nL 243.423606 144.804956 \r\nL 243.758742 143.15952 \r\nL 244.093877 136.578341 \r\nL 244.429012 141.884788 \r\nL 244.764147 133.761718 \r\nL 245.099282 131.067249 \r\nL 245.434417 134.266867 \r\nL 245.769552 140.512721 \r\nL 246.104687 149.882092 \r\nL 246.439823 138.746659 \r\nL 247.110093 147.963258 \r\nL 247.445228 147.424268 \r\nL 247.780363 148.423536 \r\nL 248.115498 146.148489 \r\nL 248.450633 134.839094 \r\nL 249.120904 140.781684 \r\nL 249.456039 139.558011 \r\nL 249.791174 137.48624 \r\nL 250.126309 138.667512 \r\nL 250.461444 140.599562 \r\nL 250.796579 135.540066 \r\nL 251.131715 126.991429 \r\nL 251.46685 127.781787 \r\nL 252.13712 125.351329 \r\nL 252.472255 115.588798 \r\nL 252.80739 114.838933 \r\nL 253.142525 99.282243 \r\nL 253.47766 95.931652 \r\nL 253.812796 94.971911 \r\nL 254.147931 97.405306 \r\nL 254.483066 107.354767 \r\nL 255.153336 98.449363 \r\nL 255.488471 96.573832 \r\nL 255.823606 97.740275 \r\nL 256.158742 94.973589 \r\nL 256.493877 97.395419 \r\nL 257.164147 116.817032 \r\nL 257.499282 113.099959 \r\nL 257.834417 117.696459 \r\nL 258.169552 113.874526 \r\nL 258.504687 112.169452 \r\nL 258.839823 105.020255 \r\nL 259.174958 105.590777 \r\nL 259.510093 107.154649 \r\nL 259.845228 110.411933 \r\nL 260.180363 104.108831 \r\nL 260.515498 100.06953 \r\nL 260.850633 99.376781 \r\nL 261.520904 109.215548 \r\nL 261.856039 112.585329 \r\nL 262.526309 126.334658 \r\nL 262.861444 125.836647 \r\nL 263.531715 130.764676 \r\nL 263.86685 124.03059 \r\nL 264.201985 123.916864 \r\nL 264.53712 127.880497 \r\nL 264.872255 140.470211 \r\nL 265.542525 157.227944 \r\nL 265.87766 151.84655 \r\nL 266.212796 152.496432 \r\nL 266.547931 157.185362 \r\nL 266.883066 159.558322 \r\nL 267.218201 164.489227 \r\nL 267.553336 157.181598 \r\nL 267.888471 167.369074 \r\nL 268.223606 168.913618 \r\nL 268.558742 179.07522 \r\nL 268.893877 181.846019 \r\nL 269.229012 169.580346 \r\nL 269.899282 175.284289 \r\nL 270.234417 184.050906 \r\nL 270.569552 178.62119 \r\nL 270.904687 170.045468 \r\nL 271.239823 170.253728 \r\nL 271.574958 170.616854 \r\nL 271.910093 170.094705 \r\nL 272.245228 166.871994 \r\nL 272.580363 174.862035 \r\nL 272.915498 176.573915 \r\nL 273.250633 172.201432 \r\nL 273.585769 165.314675 \r\nL 273.920904 167.88542 \r\nL 274.256039 174.950524 \r\nL 274.591174 178.439656 \r\nL 274.926309 178.530947 \r\nL 275.261444 179.025064 \r\nL 275.596579 177.325652 \r\nL 275.931715 173.786769 \r\nL 276.26685 172.782792 \r\nL 276.601985 183.543352 \r\nL 276.93712 183.265037 \r\nL 277.272255 175.933267 \r\nL 277.60739 177.862249 \r\nL 277.942525 178.104502 \r\nL 278.27766 183.436757 \r\nL 278.612796 184.53915 \r\nL 278.947931 183.179859 \r\nL 279.283066 193.843973 \r\nL 279.618201 191.332482 \r\nL 279.953336 193.38804 \r\nL 280.623606 186.245436 \r\nL 280.958742 195.230316 \r\nL 281.293877 192.821586 \r\nL 281.629012 194.98247 \r\nL 281.964147 199.205348 \r\nL 282.299282 200.011567 \r\nL 282.634417 206.96596 \r\nL 282.969552 206.701809 \r\nL 283.304688 202.685409 \r\nL 283.639823 203.587095 \r\nL 283.974958 211.040409 \r\nL 284.310093 214.756364 \r\nL 284.645228 207.17807 \r\nL 284.980363 212.785729 \r\nL 285.315498 208.311888 \r\nL 285.650633 193.983241 \r\nL 285.985769 191.784989 \r\nL 286.320904 182.392508 \r\nL 286.991174 174.102065 \r\nL 287.326309 173.551893 \r\nL 287.661444 172.775368 \r\nL 287.996579 167.439666 \r\nL 288.331715 167.555399 \r\nL 288.66685 161.722066 \r\nL 289.001985 163.910211 \r\nL 289.33712 159.065921 \r\nL 289.672255 159.920714 \r\nL 290.00739 153.10978 \r\nL 290.342525 154.274613 \r\nL 290.67766 150.929386 \r\nL 291.012796 155.003097 \r\nL 291.347931 160.505511 \r\nL 291.683066 160.545369 \r\nL 292.018201 166.505704 \r\nL 292.353336 165.499178 \r\nL 292.688471 161.853452 \r\nL 293.358742 178.13135 \r\nL 293.693877 178.526881 \r\nL 294.029012 183.021692 \r\nL 294.364147 175.468145 \r\nL 294.699282 186.568475 \r\nL 295.369552 193.500673 \r\nL 296.039823 187.056252 \r\nL 296.374958 183.253568 \r\nL 296.710093 186.784359 \r\nL 297.045228 184.04772 \r\nL 297.380363 189.17981 \r\nL 297.715498 181.375275 \r\nL 298.050633 177.821171 \r\nL 298.385769 176.450081 \r\nL 298.720904 172.938738 \r\nL 299.056039 174.074453 \r\nL 299.391174 174.176515 \r\nL 299.726309 165.873736 \r\nL 300.061444 163.180777 \r\nL 300.396579 170.158646 \r\nL 301.06685 165.598525 \r\nL 301.401985 172.700252 \r\nL 302.072255 165.52373 \r\nL 302.40739 174.467394 \r\nL 302.742525 170.835374 \r\nL 303.07766 173.041597 \r\nL 303.412796 164.667195 \r\nL 303.747931 162.962341 \r\nL 304.083066 159.788296 \r\nL 304.418201 155.020397 \r\nL 304.753336 153.915554 \r\nL 305.088471 154.642427 \r\nL 305.423606 146.974454 \r\nL 305.758742 144.642692 \r\nL 306.093877 157.619578 \r\nL 306.429012 159.732526 \r\nL 306.764147 158.60645 \r\nL 307.099282 159.718762 \r\nL 307.769552 157.249056 \r\nL 308.104688 160.537697 \r\nL 308.439823 160.216136 \r\nL 308.774958 165.983427 \r\nL 309.110093 165.149478 \r\nL 309.445228 165.068387 \r\nL 309.780363 166.572778 \r\nL 310.115498 175.040018 \r\nL 310.450633 170.526192 \r\nL 310.785769 170.47819 \r\nL 311.120904 161.684614 \r\nL 311.791174 153.290897 \r\nL 312.126309 160.212077 \r\nL 312.461444 161.835321 \r\nL 313.131715 174.991121 \r\nL 313.46685 188.621362 \r\nL 313.801985 188.59625 \r\nL 314.13712 189.823273 \r\nL 314.472255 183.387895 \r\nL 314.80739 183.959941 \r\nL 315.142525 183.065412 \r\nL 315.47766 184.230777 \r\nL 315.812796 181.856781 \r\nL 316.147931 176.820198 \r\nL 316.818201 181.416177 \r\nL 317.153336 171.40405 \r\nL 317.488471 173.828689 \r\nL 317.823606 180.594241 \r\nL 318.158742 174.79013 \r\nL 318.493877 165.630341 \r\nL 318.829012 161.12561 \r\nL 319.164147 162.289529 \r\nL 319.499282 174.168884 \r\nL 319.834417 177.731662 \r\nL 320.169552 176.003389 \r\nL 320.504687 176.207182 \r\nL 320.839823 169.692486 \r\nL 321.174958 175.257475 \r\nL 321.510093 176.623406 \r\nL 322.180363 181.15398 \r\nL 322.515498 177.623353 \r\nL 323.185769 180.198513 \r\nL 323.520904 178.890029 \r\nL 324.526309 153.949313 \r\nL 324.861444 162.840307 \r\nL 325.196579 162.021855 \r\nL 325.531715 159.665281 \r\nL 325.86685 158.912165 \r\nL 326.201985 160.526084 \r\nL 326.53712 163.378924 \r\nL 326.872255 156.77109 \r\nL 327.20739 156.927894 \r\nL 327.542525 158.627002 \r\nL 327.87766 156.792483 \r\nL 328.212796 152.810033 \r\nL 328.547931 154.363832 \r\nL 328.883066 158.404672 \r\nL 329.218201 157.009368 \r\nL 329.553336 162.174513 \r\nL 329.888471 161.667877 \r\nL 330.223606 167.613085 \r\nL 330.893877 162.117163 \r\nL 331.229012 146.676086 \r\nL 331.564147 144.347651 \r\nL 331.899282 147.235998 \r\nL 332.234417 157.164681 \r\nL 332.569552 156.251813 \r\nL 332.904687 150.914363 \r\nL 333.239823 152.382505 \r\nL 333.574958 151.001569 \r\nL 333.910093 154.08562 \r\nL 334.245228 158.399561 \r\nL 334.580363 157.082058 \r\nL 334.915498 146.409017 \r\nL 335.250633 151.298343 \r\nL 335.585769 145.995718 \r\nL 335.920904 136.015308 \r\nL 336.256039 131.020528 \r\nL 336.591174 132.42747 \r\nL 336.926309 141.477006 \r\nL 337.261444 142.301381 \r\nL 337.596579 143.491701 \r\nL 337.931715 138.27914 \r\nL 338.601985 121.258456 \r\nL 338.93712 122.973825 \r\nL 339.272255 123.757316 \r\nL 339.60739 119.802644 \r\nL 339.942525 130.59152 \r\nL 340.27766 130.625944 \r\nL 340.612796 123.958371 \r\nL 340.947931 129.633218 \r\nL 341.283066 130.297925 \r\nL 341.618201 129.378906 \r\nL 341.953336 126.761037 \r\nL 342.288471 122.98967 \r\nL 342.623606 117.453169 \r\nL 342.958742 119.709619 \r\nL 343.293877 117.224742 \r\nL 343.629012 122.878135 \r\nL 343.964147 115.69631 \r\nL 344.299282 111.112097 \r\nL 344.969552 99.484356 \r\nL 345.304688 101.227575 \r\nL 345.639823 100.324026 \r\nL 345.974958 91.841703 \r\nL 346.310093 87.349662 \r\nL 346.645228 85.667796 \r\nL 346.980363 85.92851 \r\nL 347.315498 80.53169 \r\nL 347.650633 80.631165 \r\nL 347.985769 82.426087 \r\nL 348.320904 78.063864 \r\nL 348.656039 88.345382 \r\nL 348.991174 88.902448 \r\nL 349.326309 84.228024 \r\nL 349.661444 82.371936 \r\nL 349.996579 82.192824 \r\nL 350.66685 76.653619 \r\nL 351.001985 76.280966 \r\nL 351.33712 78.012578 \r\nL 351.672255 72.453081 \r\nL 352.00739 74.762496 \r\nL 352.342525 75.566546 \r\nL 353.012796 64.000624 \r\nL 353.347931 73.542189 \r\nL 353.683066 75.174224 \r\nL 354.018201 72.096825 \r\nL 354.688471 61.83247 \r\nL 355.023606 70.019509 \r\nL 355.358742 59.701478 \r\nL 355.693877 59.313452 \r\nL 356.029012 61.240588 \r\nL 356.364147 60.852798 \r\nL 356.699282 49.738658 \r\nL 357.034417 51.311077 \r\nL 357.369552 55.100058 \r\nL 357.704688 46.360021 \r\nL 358.039823 49.699712 \r\nL 358.374958 47.528856 \r\nL 358.710093 49.028357 \r\nL 359.045228 44.604189 \r\nL 359.380363 44.812031 \r\nL 360.050633 32.431717 \r\nL 360.385769 40.17315 \r\nL 360.720904 40.484379 \r\nL 361.056039 47.704701 \r\nL 361.391174 41.700956 \r\nL 361.726309 38.810001 \r\nL 362.061444 46.488785 \r\nL 362.396579 42.740129 \r\nL 362.731715 45.360535 \r\nL 363.06685 40.157934 \r\nL 363.401985 36.7088 \r\nL 363.73712 45.053218 \r\nL 364.40739 54.331859 \r\nL 364.742525 53.427063 \r\nL 365.07766 57.082431 \r\nL 365.412796 58.61855 \r\nL 365.747931 58.566078 \r\nL 366.083066 57.206547 \r\nL 366.753336 51.470783 \r\nL 367.088471 47.568837 \r\nL 367.423606 40.4774 \r\nL 367.758742 36.551834 \r\nL 368.093877 35.599446 \r\nL 368.429012 35.086636 \r\nL 368.764147 37.655513 \r\nL 369.099282 42.998246 \r\nL 369.434417 32.524193 \r\nL 369.769552 29.211701 \r\nL 370.104688 27.351886 \r\nL 370.104688 27.351886 \r\n\" style=\"fill:none;stroke:#1f77b4;stroke-linecap:square;stroke-width:1.5;\"/>\r\n   </g>\r\n   <g id=\"patch_3\">\r\n    <path d=\"M 35.304688 224.64 \r\nL 35.304688 7.2 \r\n\" style=\"fill:none;stroke:#000000;stroke-linecap:square;stroke-linejoin:miter;stroke-width:0.8;\"/>\r\n   </g>\r\n   <g id=\"patch_4\">\r\n    <path d=\"M 370.104688 224.64 \r\nL 370.104688 7.2 \r\n\" style=\"fill:none;stroke:#000000;stroke-linecap:square;stroke-linejoin:miter;stroke-width:0.8;\"/>\r\n   </g>\r\n   <g id=\"patch_5\">\r\n    <path d=\"M 35.304688 224.64 \r\nL 370.104688 224.64 \r\n\" style=\"fill:none;stroke:#000000;stroke-linecap:square;stroke-linejoin:miter;stroke-width:0.8;\"/>\r\n   </g>\r\n   <g id=\"patch_6\">\r\n    <path d=\"M 35.304688 7.2 \r\nL 370.104688 7.2 \r\n\" style=\"fill:none;stroke:#000000;stroke-linecap:square;stroke-linejoin:miter;stroke-width:0.8;\"/>\r\n   </g>\r\n  </g>\r\n </g>\r\n <defs>\r\n  <clipPath id=\"p8f600fad71\">\r\n   <rect height=\"217.44\" width=\"334.8\" x=\"35.304688\" y=\"7.2\"/>\r\n  </clipPath>\r\n </defs>\r\n</svg>\r\n",
      "image/png": "[encoded data removed]"
     },
     "metadata": {
      "needs_background": "light"
     }
    }
   ],
   "source": [
    "ts = pd.Series(np.random.randn(1000), index=pd.date_range(\"1/1/2000\", periods=1000))\n",
    "ts = ts.cumsum()\n",
    "ts.plot()"
   ]
  },
  {
   "cell_type": "code",
   "execution_count": 154,
   "metadata": {},
   "outputs": [
    {
     "output_type": "execute_result",
     "data": {
      "text/plain": [
       "<matplotlib.legend.Legend at 0x2bfa3b55c40>"
      ]
     },
     "metadata": {},
     "execution_count": 154
    },
    {
     "output_type": "display_data",
     "data": {
      "text/plain": "<Figure size 432x288 with 0 Axes>"
     },
     "metadata": {}
    },
    {
     "output_type": "display_data",
     "data": {
      "text/plain": "<Figure size 432x288 with 1 Axes>",
      "image/svg+xml": "<?xml version=\"1.0\" encoding=\"utf-8\" standalone=\"no\"?>\r\n<!DOCTYPE svg PUBLIC \"-//W3C//DTD SVG 1.1//EN\"\r\n  \"http://www.w3.org/Graphics/SVG/1.1/DTD/svg11.dtd\">\r\n<!-- Created with matplotlib (https://matplotlib.org/) -->\r\n<svg height=\"259.715937pt\" version=\"1.1\" viewBox=\"0 0 377.304688 259.715937\" width=\"377.304688pt\" xmlns=\"http://www.w3.org/2000/svg\" xmlns:xlink=\"http://www.w3.org/1999/xlink\">\r\n <metadata>\r\n  <rdf:RDF xmlns:cc=\"http://creativecommons.org/ns#\" xmlns:dc=\"http://purl.org/dc/elements/1.1/\" xmlns:rdf=\"http://www.w3.org/1999/02/22-rdf-syntax-ns#\">\r\n   <cc:Work>\r\n    <dc:type rdf:resource=\"http://purl.org/dc/dcmitype/StillImage\"/>\r\n    <dc:date>2021-05-18T23:02:24.035095</dc:date>\r\n    <dc:format>image/svg+xml</dc:format>\r\n    <dc:creator>\r\n     <cc:Agent>\r\n      <dc:title>Matplotlib v3.3.4, https://matplotlib.org/</dc:title>\r\n     </cc:Agent>\r\n    </dc:creator>\r\n   </cc:Work>\r\n  </rdf:RDF>\r\n </metadata>\r\n <defs>\r\n  <style type=\"text/css\">*{stroke-linecap:butt;stroke-linejoin:round;}</style>\r\n </defs>\r\n <g id=\"figure_1\">\r\n  <g id=\"patch_1\">\r\n   <path d=\"M 0 259.715937 \r\nL 377.304688 259.715937 \r\nL 377.304688 0 \r\nL 0 0 \r\nz\r\n\" style=\"fill:none;\"/>\r\n  </g>\r\n  <g id=\"axes_1\">\r\n   <g id=\"patch_2\">\r\n    <path d=\"M 35.304688 224.64 \r\nL 370.104688 224.64 \r\nL 370.104688 7.2 \r\nL 35.304688 7.2 \r\nz\r\n\" style=\"fill:#ffffff;\"/>\r\n   </g>\r\n   <g id=\"matplotlib.axis_1\">\r\n    <g id=\"xtick_1\">\r\n     <g id=\"line2d_1\">\r\n      <defs>\r\n       <path d=\"M 0 0 \r\nL 0 3.5 \r\n\" id=\"m6b58b13f83\" style=\"stroke:#000000;stroke-width:0.8;\"/>\r\n      </defs>\r\n      <g>\r\n       <use style=\"stroke:#000000;stroke-width:0.8;\" x=\"35.304688\" xlink:href=\"#m6b58b13f83\" y=\"224.64\"/>\r\n      </g>\r\n     </g>\r\n     <g id=\"text_1\">\r\n      <!-- Jan -->\r\n      <g transform=\"translate(27.596875 239.238438)scale(0.1 -0.1)\">\r\n       <defs>\r\n        <path d=\"M 9.8125 72.90625 \r\nL 19.671875 72.90625 \r\nL 19.671875 5.078125 \r\nQ 19.671875 -8.109375 14.671875 -14.0625 \r\nQ 9.671875 -20.015625 -1.421875 -20.015625 \r\nL -5.171875 -20.015625 \r\nL -5.171875 -11.71875 \r\nL -2.09375 -11.71875 \r\nQ 4.4375 -11.71875 7.125 -8.046875 \r\nQ 9.8125 -4.390625 9.8125 5.078125 \r\nz\r\n\" id=\"DejaVuSans-74\"/>\r\n        <path d=\"M 34.28125 27.484375 \r\nQ 23.390625 27.484375 19.1875 25 \r\nQ 14.984375 22.515625 14.984375 16.5 \r\nQ 14.984375 11.71875 18.140625 8.90625 \r\nQ 21.296875 6.109375 26.703125 6.109375 \r\nQ 34.1875 6.109375 38.703125 11.40625 \r\nQ 43.21875 16.703125 43.21875 25.484375 \r\nL 43.21875 27.484375 \r\nz\r\nM 52.203125 31.203125 \r\nL 52.203125 0 \r\nL 43.21875 0 \r\nL 43.21875 8.296875 \r\nQ 40.140625 3.328125 35.546875 0.953125 \r\nQ 30.953125 -1.421875 24.3125 -1.421875 \r\nQ 15.921875 -1.421875 10.953125 3.296875 \r\nQ 6 8.015625 6 15.921875 \r\nQ 6 25.140625 12.171875 29.828125 \r\nQ 18.359375 34.515625 30.609375 34.515625 \r\nL 43.21875 34.515625 \r\nL 43.21875 35.40625 \r\nQ 43.21875 41.609375 39.140625 45 \r\nQ 35.0625 48.390625 27.6875 48.390625 \r\nQ 23 48.390625 18.546875 47.265625 \r\nQ 14.109375 46.140625 10.015625 43.890625 \r\nL 10.015625 52.203125 \r\nQ 14.9375 54.109375 19.578125 55.046875 \r\nQ 24.21875 56 28.609375 56 \r\nQ 40.484375 56 46.34375 49.84375 \r\nQ 52.203125 43.703125 52.203125 31.203125 \r\nz\r\n\" id=\"DejaVuSans-97\"/>\r\n        <path d=\"M 54.890625 33.015625 \r\nL 54.890625 0 \r\nL 45.90625 0 \r\nL 45.90625 32.71875 \r\nQ 45.90625 40.484375 42.875 44.328125 \r\nQ 39.84375 48.1875 33.796875 48.1875 \r\nQ 26.515625 48.1875 22.3125 43.546875 \r\nQ 18.109375 38.921875 18.109375 30.90625 \r\nL 18.109375 0 \r\nL 9.078125 0 \r\nL 9.078125 54.6875 \r\nL 18.109375 54.6875 \r\nL 18.109375 46.1875 \r\nQ 21.34375 51.125 25.703125 53.5625 \r\nQ 30.078125 56 35.796875 56 \r\nQ 45.21875 56 50.046875 50.171875 \r\nQ 54.890625 44.34375 54.890625 33.015625 \r\nz\r\n\" id=\"DejaVuSans-110\"/>\r\n       </defs>\r\n       <use xlink:href=\"#DejaVuSans-74\"/>\r\n       <use x=\"29.492188\" xlink:href=\"#DejaVuSans-97\"/>\r\n       <use x=\"90.771484\" xlink:href=\"#DejaVuSans-110\"/>\r\n      </g>\r\n      <!-- 2000 -->\r\n      <g transform=\"translate(22.579687 250.43625)scale(0.1 -0.1)\">\r\n       <defs>\r\n        <path d=\"M 19.1875 8.296875 \r\nL 53.609375 8.296875 \r\nL 53.609375 0 \r\nL 7.328125 0 \r\nL 7.328125 8.296875 \r\nQ 12.9375 14.109375 22.625 23.890625 \r\nQ 32.328125 33.6875 34.8125 36.53125 \r\nQ 39.546875 41.84375 41.421875 45.53125 \r\nQ 43.3125 49.21875 43.3125 52.78125 \r\nQ 43.3125 58.59375 39.234375 62.25 \r\nQ 35.15625 65.921875 28.609375 65.921875 \r\nQ 23.96875 65.921875 18.8125 64.3125 \r\nQ 13.671875 62.703125 7.8125 59.421875 \r\nL 7.8125 69.390625 \r\nQ 13.765625 71.78125 18.9375 73 \r\nQ 24.125 74.21875 28.421875 74.21875 \r\nQ 39.75 74.21875 46.484375 68.546875 \r\nQ 53.21875 62.890625 53.21875 53.421875 \r\nQ 53.21875 48.921875 51.53125 44.890625 \r\nQ 49.859375 40.875 45.40625 35.40625 \r\nQ 44.1875 33.984375 37.640625 27.21875 \r\nQ 31.109375 20.453125 19.1875 8.296875 \r\nz\r\n\" id=\"DejaVuSans-50\"/>\r\n        <path d=\"M 31.78125 66.40625 \r\nQ 24.171875 66.40625 20.328125 58.90625 \r\nQ 16.5 51.421875 16.5 36.375 \r\nQ 16.5 21.390625 20.328125 13.890625 \r\nQ 24.171875 6.390625 31.78125 6.390625 \r\nQ 39.453125 6.390625 43.28125 13.890625 \r\nQ 47.125 21.390625 47.125 36.375 \r\nQ 47.125 51.421875 43.28125 58.90625 \r\nQ 39.453125 66.40625 31.78125 66.40625 \r\nz\r\nM 31.78125 74.21875 \r\nQ 44.046875 74.21875 50.515625 64.515625 \r\nQ 56.984375 54.828125 56.984375 36.375 \r\nQ 56.984375 17.96875 50.515625 8.265625 \r\nQ 44.046875 -1.421875 31.78125 -1.421875 \r\nQ 19.53125 -1.421875 13.0625 8.265625 \r\nQ 6.59375 17.96875 6.59375 36.375 \r\nQ 6.59375 54.828125 13.0625 64.515625 \r\nQ 19.53125 74.21875 31.78125 74.21875 \r\nz\r\n\" id=\"DejaVuSans-48\"/>\r\n       </defs>\r\n       <use xlink:href=\"#DejaVuSans-50\"/>\r\n       <use x=\"63.623047\" xlink:href=\"#DejaVuSans-48\"/>\r\n       <use x=\"127.246094\" xlink:href=\"#DejaVuSans-48\"/>\r\n       <use x=\"190.869141\" xlink:href=\"#DejaVuSans-48\"/>\r\n      </g>\r\n     </g>\r\n    </g>\r\n    <g id=\"xtick_2\">\r\n     <g id=\"line2d_2\">\r\n      <g>\r\n       <use style=\"stroke:#000000;stroke-width:0.8;\" x=\"157.964147\" xlink:href=\"#m6b58b13f83\" y=\"224.64\"/>\r\n      </g>\r\n     </g>\r\n     <g id=\"text_2\">\r\n      <!-- Jan -->\r\n      <g transform=\"translate(150.256334 239.238438)scale(0.1 -0.1)\">\r\n       <use xlink:href=\"#DejaVuSans-74\"/>\r\n       <use x=\"29.492188\" xlink:href=\"#DejaVuSans-97\"/>\r\n       <use x=\"90.771484\" xlink:href=\"#DejaVuSans-110\"/>\r\n      </g>\r\n      <!-- 2001 -->\r\n      <g transform=\"translate(145.239147 250.43625)scale(0.1 -0.1)\">\r\n       <defs>\r\n        <path d=\"M 12.40625 8.296875 \r\nL 28.515625 8.296875 \r\nL 28.515625 63.921875 \r\nL 10.984375 60.40625 \r\nL 10.984375 69.390625 \r\nL 28.421875 72.90625 \r\nL 38.28125 72.90625 \r\nL 38.28125 8.296875 \r\nL 54.390625 8.296875 \r\nL 54.390625 0 \r\nL 12.40625 0 \r\nz\r\n\" id=\"DejaVuSans-49\"/>\r\n       </defs>\r\n       <use xlink:href=\"#DejaVuSans-50\"/>\r\n       <use x=\"63.623047\" xlink:href=\"#DejaVuSans-48\"/>\r\n       <use x=\"127.246094\" xlink:href=\"#DejaVuSans-48\"/>\r\n       <use x=\"190.869141\" xlink:href=\"#DejaVuSans-49\"/>\r\n      </g>\r\n     </g>\r\n    </g>\r\n    <g id=\"xtick_3\">\r\n     <g id=\"line2d_3\">\r\n      <g>\r\n       <use style=\"stroke:#000000;stroke-width:0.8;\" x=\"280.288471\" xlink:href=\"#m6b58b13f83\" y=\"224.64\"/>\r\n      </g>\r\n     </g>\r\n     <g id=\"text_3\">\r\n      <!-- Jan -->\r\n      <g transform=\"translate(272.580659 239.238438)scale(0.1 -0.1)\">\r\n       <use xlink:href=\"#DejaVuSans-74\"/>\r\n       <use x=\"29.492188\" xlink:href=\"#DejaVuSans-97\"/>\r\n       <use x=\"90.771484\" xlink:href=\"#DejaVuSans-110\"/>\r\n      </g>\r\n      <!-- 2002 -->\r\n      <g transform=\"translate(267.563471 250.43625)scale(0.1 -0.1)\">\r\n       <use xlink:href=\"#DejaVuSans-50\"/>\r\n       <use x=\"63.623047\" xlink:href=\"#DejaVuSans-48\"/>\r\n       <use x=\"127.246094\" xlink:href=\"#DejaVuSans-48\"/>\r\n       <use x=\"190.869141\" xlink:href=\"#DejaVuSans-50\"/>\r\n      </g>\r\n     </g>\r\n    </g>\r\n    <g id=\"xtick_4\">\r\n     <g id=\"line2d_4\">\r\n      <g>\r\n       <use style=\"stroke:#000000;stroke-width:0.8;\" x=\"370.104688\" xlink:href=\"#m6b58b13f83\" y=\"224.64\"/>\r\n      </g>\r\n     </g>\r\n    </g>\r\n    <g id=\"xtick_5\">\r\n     <g id=\"line2d_5\">\r\n      <defs>\r\n       <path d=\"M 0 0 \r\nL 0 2 \r\n\" id=\"m6fd7371f9f\" style=\"stroke:#000000;stroke-width:0.6;\"/>\r\n      </defs>\r\n      <g>\r\n       <use style=\"stroke:#000000;stroke-width:0.6;\" x=\"45.693877\" xlink:href=\"#m6fd7371f9f\" y=\"224.64\"/>\r\n      </g>\r\n     </g>\r\n    </g>\r\n    <g id=\"xtick_6\">\r\n     <g id=\"line2d_6\">\r\n      <g>\r\n       <use style=\"stroke:#000000;stroke-width:0.6;\" x=\"55.412796\" xlink:href=\"#m6fd7371f9f\" y=\"224.64\"/>\r\n      </g>\r\n     </g>\r\n    </g>\r\n    <g id=\"xtick_7\">\r\n     <g id=\"line2d_7\">\r\n      <g>\r\n       <use style=\"stroke:#000000;stroke-width:0.6;\" x=\"65.801985\" xlink:href=\"#m6fd7371f9f\" y=\"224.64\"/>\r\n      </g>\r\n     </g>\r\n    </g>\r\n    <g id=\"xtick_8\">\r\n     <g id=\"line2d_8\">\r\n      <g>\r\n       <use style=\"stroke:#000000;stroke-width:0.6;\" x=\"75.856039\" xlink:href=\"#m6fd7371f9f\" y=\"224.64\"/>\r\n      </g>\r\n     </g>\r\n    </g>\r\n    <g id=\"xtick_9\">\r\n     <g id=\"line2d_9\">\r\n      <g>\r\n       <use style=\"stroke:#000000;stroke-width:0.6;\" x=\"86.245228\" xlink:href=\"#m6fd7371f9f\" y=\"224.64\"/>\r\n      </g>\r\n     </g>\r\n    </g>\r\n    <g id=\"xtick_10\">\r\n     <g id=\"line2d_10\">\r\n      <g>\r\n       <use style=\"stroke:#000000;stroke-width:0.6;\" x=\"96.299282\" xlink:href=\"#m6fd7371f9f\" y=\"224.64\"/>\r\n      </g>\r\n     </g>\r\n     <g id=\"text_4\">\r\n      <!-- Jul -->\r\n      <g transform=\"translate(90.26647 237.638438)scale(0.1 -0.1)\">\r\n       <defs>\r\n        <path d=\"M 8.5 21.578125 \r\nL 8.5 54.6875 \r\nL 17.484375 54.6875 \r\nL 17.484375 21.921875 \r\nQ 17.484375 14.15625 20.5 10.265625 \r\nQ 23.53125 6.390625 29.59375 6.390625 \r\nQ 36.859375 6.390625 41.078125 11.03125 \r\nQ 45.3125 15.671875 45.3125 23.6875 \r\nL 45.3125 54.6875 \r\nL 54.296875 54.6875 \r\nL 54.296875 0 \r\nL 45.3125 0 \r\nL 45.3125 8.40625 \r\nQ 42.046875 3.421875 37.71875 1 \r\nQ 33.40625 -1.421875 27.6875 -1.421875 \r\nQ 18.265625 -1.421875 13.375 4.4375 \r\nQ 8.5 10.296875 8.5 21.578125 \r\nz\r\nM 31.109375 56 \r\nz\r\n\" id=\"DejaVuSans-117\"/>\r\n        <path d=\"M 9.421875 75.984375 \r\nL 18.40625 75.984375 \r\nL 18.40625 0 \r\nL 9.421875 0 \r\nz\r\n\" id=\"DejaVuSans-108\"/>\r\n       </defs>\r\n       <use xlink:href=\"#DejaVuSans-74\"/>\r\n       <use x=\"29.492188\" xlink:href=\"#DejaVuSans-117\"/>\r\n       <use x=\"92.871094\" xlink:href=\"#DejaVuSans-108\"/>\r\n      </g>\r\n     </g>\r\n    </g>\r\n    <g id=\"xtick_11\">\r\n     <g id=\"line2d_11\">\r\n      <g>\r\n       <use style=\"stroke:#000000;stroke-width:0.6;\" x=\"106.688471\" xlink:href=\"#m6fd7371f9f\" y=\"224.64\"/>\r\n      </g>\r\n     </g>\r\n    </g>\r\n    <g id=\"xtick_12\">\r\n     <g id=\"line2d_12\">\r\n      <g>\r\n       <use style=\"stroke:#000000;stroke-width:0.6;\" x=\"117.07766\" xlink:href=\"#m6fd7371f9f\" y=\"224.64\"/>\r\n      </g>\r\n     </g>\r\n    </g>\r\n    <g id=\"xtick_13\">\r\n     <g id=\"line2d_13\">\r\n      <g>\r\n       <use style=\"stroke:#000000;stroke-width:0.6;\" x=\"127.131715\" xlink:href=\"#m6fd7371f9f\" y=\"224.64\"/>\r\n      </g>\r\n     </g>\r\n    </g>\r\n    <g id=\"xtick_14\">\r\n     <g id=\"line2d_14\">\r\n      <g>\r\n       <use style=\"stroke:#000000;stroke-width:0.6;\" x=\"137.520904\" xlink:href=\"#m6fd7371f9f\" y=\"224.64\"/>\r\n      </g>\r\n     </g>\r\n    </g>\r\n    <g id=\"xtick_15\">\r\n     <g id=\"line2d_15\">\r\n      <g>\r\n       <use style=\"stroke:#000000;stroke-width:0.6;\" x=\"147.574958\" xlink:href=\"#m6fd7371f9f\" y=\"224.64\"/>\r\n      </g>\r\n     </g>\r\n    </g>\r\n    <g id=\"xtick_16\">\r\n     <g id=\"line2d_16\">\r\n      <g>\r\n       <use style=\"stroke:#000000;stroke-width:0.6;\" x=\"168.353336\" xlink:href=\"#m6fd7371f9f\" y=\"224.64\"/>\r\n      </g>\r\n     </g>\r\n    </g>\r\n    <g id=\"xtick_17\">\r\n     <g id=\"line2d_17\">\r\n      <g>\r\n       <use style=\"stroke:#000000;stroke-width:0.6;\" x=\"177.73712\" xlink:href=\"#m6fd7371f9f\" y=\"224.64\"/>\r\n      </g>\r\n     </g>\r\n    </g>\r\n    <g id=\"xtick_18\">\r\n     <g id=\"line2d_18\">\r\n      <g>\r\n       <use style=\"stroke:#000000;stroke-width:0.6;\" x=\"188.126309\" xlink:href=\"#m6fd7371f9f\" y=\"224.64\"/>\r\n      </g>\r\n     </g>\r\n    </g>\r\n    <g id=\"xtick_19\">\r\n     <g id=\"line2d_19\">\r\n      <g>\r\n       <use style=\"stroke:#000000;stroke-width:0.6;\" x=\"198.180363\" xlink:href=\"#m6fd7371f9f\" y=\"224.64\"/>\r\n      </g>\r\n     </g>\r\n    </g>\r\n    <g id=\"xtick_20\">\r\n     <g id=\"line2d_20\">\r\n      <g>\r\n       <use style=\"stroke:#000000;stroke-width:0.6;\" x=\"208.569552\" xlink:href=\"#m6fd7371f9f\" y=\"224.64\"/>\r\n      </g>\r\n     </g>\r\n    </g>\r\n    <g id=\"xtick_21\">\r\n     <g id=\"line2d_21\">\r\n      <g>\r\n       <use style=\"stroke:#000000;stroke-width:0.6;\" x=\"218.623606\" xlink:href=\"#m6fd7371f9f\" y=\"224.64\"/>\r\n      </g>\r\n     </g>\r\n     <g id=\"text_5\">\r\n      <!-- Jul -->\r\n      <g transform=\"translate(212.590794 237.638438)scale(0.1 -0.1)\">\r\n       <use xlink:href=\"#DejaVuSans-74\"/>\r\n       <use x=\"29.492188\" xlink:href=\"#DejaVuSans-117\"/>\r\n       <use x=\"92.871094\" xlink:href=\"#DejaVuSans-108\"/>\r\n      </g>\r\n     </g>\r\n    </g>\r\n    <g id=\"xtick_22\">\r\n     <g id=\"line2d_22\">\r\n      <g>\r\n       <use style=\"stroke:#000000;stroke-width:0.6;\" x=\"229.012796\" xlink:href=\"#m6fd7371f9f\" y=\"224.64\"/>\r\n      </g>\r\n     </g>\r\n    </g>\r\n    <g id=\"xtick_23\">\r\n     <g id=\"line2d_23\">\r\n      <g>\r\n       <use style=\"stroke:#000000;stroke-width:0.6;\" x=\"239.401985\" xlink:href=\"#m6fd7371f9f\" y=\"224.64\"/>\r\n      </g>\r\n     </g>\r\n    </g>\r\n    <g id=\"xtick_24\">\r\n     <g id=\"line2d_24\">\r\n      <g>\r\n       <use style=\"stroke:#000000;stroke-width:0.6;\" x=\"249.456039\" xlink:href=\"#m6fd7371f9f\" y=\"224.64\"/>\r\n      </g>\r\n     </g>\r\n    </g>\r\n    <g id=\"xtick_25\">\r\n     <g id=\"line2d_25\">\r\n      <g>\r\n       <use style=\"stroke:#000000;stroke-width:0.6;\" x=\"259.845228\" xlink:href=\"#m6fd7371f9f\" y=\"224.64\"/>\r\n      </g>\r\n     </g>\r\n    </g>\r\n    <g id=\"xtick_26\">\r\n     <g id=\"line2d_26\">\r\n      <g>\r\n       <use style=\"stroke:#000000;stroke-width:0.6;\" x=\"269.899282\" xlink:href=\"#m6fd7371f9f\" y=\"224.64\"/>\r\n      </g>\r\n     </g>\r\n    </g>\r\n    <g id=\"xtick_27\">\r\n     <g id=\"line2d_27\">\r\n      <g>\r\n       <use style=\"stroke:#000000;stroke-width:0.6;\" x=\"290.67766\" xlink:href=\"#m6fd7371f9f\" y=\"224.64\"/>\r\n      </g>\r\n     </g>\r\n    </g>\r\n    <g id=\"xtick_28\">\r\n     <g id=\"line2d_28\">\r\n      <g>\r\n       <use style=\"stroke:#000000;stroke-width:0.6;\" x=\"300.061444\" xlink:href=\"#m6fd7371f9f\" y=\"224.64\"/>\r\n      </g>\r\n     </g>\r\n    </g>\r\n    <g id=\"xtick_29\">\r\n     <g id=\"line2d_29\">\r\n      <g>\r\n       <use style=\"stroke:#000000;stroke-width:0.6;\" x=\"310.450633\" xlink:href=\"#m6fd7371f9f\" y=\"224.64\"/>\r\n      </g>\r\n     </g>\r\n    </g>\r\n    <g id=\"xtick_30\">\r\n     <g id=\"line2d_30\">\r\n      <g>\r\n       <use style=\"stroke:#000000;stroke-width:0.6;\" x=\"320.504687\" xlink:href=\"#m6fd7371f9f\" y=\"224.64\"/>\r\n      </g>\r\n     </g>\r\n    </g>\r\n    <g id=\"xtick_31\">\r\n     <g id=\"line2d_31\">\r\n      <g>\r\n       <use style=\"stroke:#000000;stroke-width:0.6;\" x=\"330.893877\" xlink:href=\"#m6fd7371f9f\" y=\"224.64\"/>\r\n      </g>\r\n     </g>\r\n    </g>\r\n    <g id=\"xtick_32\">\r\n     <g id=\"line2d_32\">\r\n      <g>\r\n       <use style=\"stroke:#000000;stroke-width:0.6;\" x=\"340.947931\" xlink:href=\"#m6fd7371f9f\" y=\"224.64\"/>\r\n      </g>\r\n     </g>\r\n     <g id=\"text_6\">\r\n      <!-- Jul -->\r\n      <g transform=\"translate(334.915118 237.638438)scale(0.1 -0.1)\">\r\n       <use xlink:href=\"#DejaVuSans-74\"/>\r\n       <use x=\"29.492188\" xlink:href=\"#DejaVuSans-117\"/>\r\n       <use x=\"92.871094\" xlink:href=\"#DejaVuSans-108\"/>\r\n      </g>\r\n     </g>\r\n    </g>\r\n    <g id=\"xtick_33\">\r\n     <g id=\"line2d_33\">\r\n      <g>\r\n       <use style=\"stroke:#000000;stroke-width:0.6;\" x=\"351.33712\" xlink:href=\"#m6fd7371f9f\" y=\"224.64\"/>\r\n      </g>\r\n     </g>\r\n    </g>\r\n    <g id=\"xtick_34\">\r\n     <g id=\"line2d_34\">\r\n      <g>\r\n       <use style=\"stroke:#000000;stroke-width:0.6;\" x=\"361.726309\" xlink:href=\"#m6fd7371f9f\" y=\"224.64\"/>\r\n      </g>\r\n     </g>\r\n    </g>\r\n   </g>\r\n   <g id=\"matplotlib.axis_2\">\r\n    <g id=\"ytick_1\">\r\n     <g id=\"line2d_35\">\r\n      <defs>\r\n       <path d=\"M 0 0 \r\nL -3.5 0 \r\n\" id=\"mf8a4e6be68\" style=\"stroke:#000000;stroke-width:0.8;\"/>\r\n      </defs>\r\n      <g>\r\n       <use style=\"stroke:#000000;stroke-width:0.8;\" x=\"35.304688\" xlink:href=\"#mf8a4e6be68\" y=\"218.193331\"/>\r\n      </g>\r\n     </g>\r\n     <g id=\"text_7\">\r\n      <!-- −50 -->\r\n      <g transform=\"translate(7.2 221.992549)scale(0.1 -0.1)\">\r\n       <defs>\r\n        <path d=\"M 10.59375 35.5 \r\nL 73.1875 35.5 \r\nL 73.1875 27.203125 \r\nL 10.59375 27.203125 \r\nz\r\n\" id=\"DejaVuSans-8722\"/>\r\n        <path d=\"M 10.796875 72.90625 \r\nL 49.515625 72.90625 \r\nL 49.515625 64.59375 \r\nL 19.828125 64.59375 \r\nL 19.828125 46.734375 \r\nQ 21.96875 47.46875 24.109375 47.828125 \r\nQ 26.265625 48.1875 28.421875 48.1875 \r\nQ 40.625 48.1875 47.75 41.5 \r\nQ 54.890625 34.8125 54.890625 23.390625 \r\nQ 54.890625 11.625 47.5625 5.09375 \r\nQ 40.234375 -1.421875 26.90625 -1.421875 \r\nQ 22.3125 -1.421875 17.546875 -0.640625 \r\nQ 12.796875 0.140625 7.71875 1.703125 \r\nL 7.71875 11.625 \r\nQ 12.109375 9.234375 16.796875 8.0625 \r\nQ 21.484375 6.890625 26.703125 6.890625 \r\nQ 35.15625 6.890625 40.078125 11.328125 \r\nQ 45.015625 15.765625 45.015625 23.390625 \r\nQ 45.015625 31 40.078125 35.4375 \r\nQ 35.15625 39.890625 26.703125 39.890625 \r\nQ 22.75 39.890625 18.8125 39.015625 \r\nQ 14.890625 38.140625 10.796875 36.28125 \r\nz\r\n\" id=\"DejaVuSans-53\"/>\r\n       </defs>\r\n       <use xlink:href=\"#DejaVuSans-8722\"/>\r\n       <use x=\"83.789062\" xlink:href=\"#DejaVuSans-53\"/>\r\n       <use x=\"147.412109\" xlink:href=\"#DejaVuSans-48\"/>\r\n      </g>\r\n     </g>\r\n    </g>\r\n    <g id=\"ytick_2\">\r\n     <g id=\"line2d_36\">\r\n      <g>\r\n       <use style=\"stroke:#000000;stroke-width:0.8;\" x=\"35.304688\" xlink:href=\"#mf8a4e6be68\" y=\"191.686308\"/>\r\n      </g>\r\n     </g>\r\n     <g id=\"text_8\">\r\n      <!-- −40 -->\r\n      <g transform=\"translate(7.2 195.485526)scale(0.1 -0.1)\">\r\n       <defs>\r\n        <path d=\"M 37.796875 64.3125 \r\nL 12.890625 25.390625 \r\nL 37.796875 25.390625 \r\nz\r\nM 35.203125 72.90625 \r\nL 47.609375 72.90625 \r\nL 47.609375 25.390625 \r\nL 58.015625 25.390625 \r\nL 58.015625 17.1875 \r\nL 47.609375 17.1875 \r\nL 47.609375 0 \r\nL 37.796875 0 \r\nL 37.796875 17.1875 \r\nL 4.890625 17.1875 \r\nL 4.890625 26.703125 \r\nz\r\n\" id=\"DejaVuSans-52\"/>\r\n       </defs>\r\n       <use xlink:href=\"#DejaVuSans-8722\"/>\r\n       <use x=\"83.789062\" xlink:href=\"#DejaVuSans-52\"/>\r\n       <use x=\"147.412109\" xlink:href=\"#DejaVuSans-48\"/>\r\n      </g>\r\n     </g>\r\n    </g>\r\n    <g id=\"ytick_3\">\r\n     <g id=\"line2d_37\">\r\n      <g>\r\n       <use style=\"stroke:#000000;stroke-width:0.8;\" x=\"35.304688\" xlink:href=\"#mf8a4e6be68\" y=\"165.179285\"/>\r\n      </g>\r\n     </g>\r\n     <g id=\"text_9\">\r\n      <!-- −30 -->\r\n      <g transform=\"translate(7.2 168.978503)scale(0.1 -0.1)\">\r\n       <defs>\r\n        <path d=\"M 40.578125 39.3125 \r\nQ 47.65625 37.796875 51.625 33 \r\nQ 55.609375 28.21875 55.609375 21.1875 \r\nQ 55.609375 10.40625 48.1875 4.484375 \r\nQ 40.765625 -1.421875 27.09375 -1.421875 \r\nQ 22.515625 -1.421875 17.65625 -0.515625 \r\nQ 12.796875 0.390625 7.625 2.203125 \r\nL 7.625 11.71875 \r\nQ 11.71875 9.328125 16.59375 8.109375 \r\nQ 21.484375 6.890625 26.8125 6.890625 \r\nQ 36.078125 6.890625 40.9375 10.546875 \r\nQ 45.796875 14.203125 45.796875 21.1875 \r\nQ 45.796875 27.640625 41.28125 31.265625 \r\nQ 36.765625 34.90625 28.71875 34.90625 \r\nL 20.21875 34.90625 \r\nL 20.21875 43.015625 \r\nL 29.109375 43.015625 \r\nQ 36.375 43.015625 40.234375 45.921875 \r\nQ 44.09375 48.828125 44.09375 54.296875 \r\nQ 44.09375 59.90625 40.109375 62.90625 \r\nQ 36.140625 65.921875 28.71875 65.921875 \r\nQ 24.65625 65.921875 20.015625 65.03125 \r\nQ 15.375 64.15625 9.8125 62.3125 \r\nL 9.8125 71.09375 \r\nQ 15.4375 72.65625 20.34375 73.4375 \r\nQ 25.25 74.21875 29.59375 74.21875 \r\nQ 40.828125 74.21875 47.359375 69.109375 \r\nQ 53.90625 64.015625 53.90625 55.328125 \r\nQ 53.90625 49.265625 50.4375 45.09375 \r\nQ 46.96875 40.921875 40.578125 39.3125 \r\nz\r\n\" id=\"DejaVuSans-51\"/>\r\n       </defs>\r\n       <use xlink:href=\"#DejaVuSans-8722\"/>\r\n       <use x=\"83.789062\" xlink:href=\"#DejaVuSans-51\"/>\r\n       <use x=\"147.412109\" xlink:href=\"#DejaVuSans-48\"/>\r\n      </g>\r\n     </g>\r\n    </g>\r\n    <g id=\"ytick_4\">\r\n     <g id=\"line2d_38\">\r\n      <g>\r\n       <use style=\"stroke:#000000;stroke-width:0.8;\" x=\"35.304688\" xlink:href=\"#mf8a4e6be68\" y=\"138.672261\"/>\r\n      </g>\r\n     </g>\r\n     <g id=\"text_10\">\r\n      <!-- −20 -->\r\n      <g transform=\"translate(7.2 142.47148)scale(0.1 -0.1)\">\r\n       <use xlink:href=\"#DejaVuSans-8722\"/>\r\n       <use x=\"83.789062\" xlink:href=\"#DejaVuSans-50\"/>\r\n       <use x=\"147.412109\" xlink:href=\"#DejaVuSans-48\"/>\r\n      </g>\r\n     </g>\r\n    </g>\r\n    <g id=\"ytick_5\">\r\n     <g id=\"line2d_39\">\r\n      <g>\r\n       <use style=\"stroke:#000000;stroke-width:0.8;\" x=\"35.304688\" xlink:href=\"#mf8a4e6be68\" y=\"112.165238\"/>\r\n      </g>\r\n     </g>\r\n     <g id=\"text_11\">\r\n      <!-- −10 -->\r\n      <g transform=\"translate(7.2 115.964457)scale(0.1 -0.1)\">\r\n       <use xlink:href=\"#DejaVuSans-8722\"/>\r\n       <use x=\"83.789062\" xlink:href=\"#DejaVuSans-49\"/>\r\n       <use x=\"147.412109\" xlink:href=\"#DejaVuSans-48\"/>\r\n      </g>\r\n     </g>\r\n    </g>\r\n    <g id=\"ytick_6\">\r\n     <g id=\"line2d_40\">\r\n      <g>\r\n       <use style=\"stroke:#000000;stroke-width:0.8;\" x=\"35.304688\" xlink:href=\"#mf8a4e6be68\" y=\"85.658215\"/>\r\n      </g>\r\n     </g>\r\n     <g id=\"text_12\">\r\n      <!-- 0 -->\r\n      <g transform=\"translate(21.942188 89.457434)scale(0.1 -0.1)\">\r\n       <use xlink:href=\"#DejaVuSans-48\"/>\r\n      </g>\r\n     </g>\r\n    </g>\r\n    <g id=\"ytick_7\">\r\n     <g id=\"line2d_41\">\r\n      <g>\r\n       <use style=\"stroke:#000000;stroke-width:0.8;\" x=\"35.304688\" xlink:href=\"#mf8a4e6be68\" y=\"59.151192\"/>\r\n      </g>\r\n     </g>\r\n     <g id=\"text_13\">\r\n      <!-- 10 -->\r\n      <g transform=\"translate(15.579688 62.950411)scale(0.1 -0.1)\">\r\n       <use xlink:href=\"#DejaVuSans-49\"/>\r\n       <use x=\"63.623047\" xlink:href=\"#DejaVuSans-48\"/>\r\n      </g>\r\n     </g>\r\n    </g>\r\n    <g id=\"ytick_8\">\r\n     <g id=\"line2d_42\">\r\n      <g>\r\n       <use style=\"stroke:#000000;stroke-width:0.8;\" x=\"35.304688\" xlink:href=\"#mf8a4e6be68\" y=\"32.644169\"/>\r\n      </g>\r\n     </g>\r\n     <g id=\"text_14\">\r\n      <!-- 20 -->\r\n      <g transform=\"translate(15.579688 36.443388)scale(0.1 -0.1)\">\r\n       <use xlink:href=\"#DejaVuSans-50\"/>\r\n       <use x=\"63.623047\" xlink:href=\"#DejaVuSans-48\"/>\r\n      </g>\r\n     </g>\r\n    </g>\r\n   </g>\r\n   <g id=\"line2d_43\">\r\n    <path clip-path=\"url(#pb42b79877b)\" d=\"M 35.304688 89.684588 \r\nL 35.639823 93.96506 \r\nL 35.974958 94.269595 \r\nL 36.310093 93.588865 \r\nL 36.645228 92.439509 \r\nL 37.315498 95.25816 \r\nL 37.650633 98.801521 \r\nL 37.985769 96.915065 \r\nL 38.320904 99.694536 \r\nL 38.656039 101.231246 \r\nL 38.991174 100.839406 \r\nL 39.326309 98.923384 \r\nL 39.661444 98.005762 \r\nL 39.996579 93.913902 \r\nL 40.331715 92.317303 \r\nL 40.66685 94.148982 \r\nL 41.001985 86.392207 \r\nL 41.33712 86.405561 \r\nL 42.00739 80.909124 \r\nL 42.342525 80.121464 \r\nL 42.67766 80.764143 \r\nL 43.683066 86.479323 \r\nL 44.018201 89.409478 \r\nL 44.353336 89.650837 \r\nL 44.688471 91.02176 \r\nL 45.023606 91.887404 \r\nL 45.358742 90.28255 \r\nL 45.693877 92.180618 \r\nL 46.029012 93.239972 \r\nL 46.364147 89.885625 \r\nL 46.699282 91.711242 \r\nL 47.034417 89.921984 \r\nL 47.369552 87.098798 \r\nL 48.039823 87.350695 \r\nL 48.374958 88.585679 \r\nL 48.710093 86.731904 \r\nL 49.045228 95.180514 \r\nL 49.380363 95.671517 \r\nL 49.715498 93.017709 \r\nL 50.385769 100.951091 \r\nL 50.720904 100.657753 \r\nL 51.391174 98.528535 \r\nL 51.726309 101.549413 \r\nL 52.061444 100.605112 \r\nL 52.396579 104.523137 \r\nL 52.731715 104.945323 \r\nL 53.06685 106.065305 \r\nL 53.401985 105.478975 \r\nL 53.73712 103.411086 \r\nL 54.072255 100.119842 \r\nL 54.40739 95.124721 \r\nL 54.742525 93.837703 \r\nL 55.07766 95.323509 \r\nL 55.412796 93.664896 \r\nL 55.747931 94.378706 \r\nL 56.083066 90.851842 \r\nL 56.418201 91.079806 \r\nL 56.753336 88.643349 \r\nL 57.088471 90.354343 \r\nL 57.423606 93.404001 \r\nL 57.758742 90.166635 \r\nL 58.093877 89.806972 \r\nL 58.429012 91.985509 \r\nL 58.764147 97.179654 \r\nL 59.099282 98.854101 \r\nL 59.434417 96.312179 \r\nL 59.769552 95.89789 \r\nL 60.104687 97.585446 \r\nL 60.439823 99.933284 \r\nL 60.774958 95.96525 \r\nL 61.445228 104.843016 \r\nL 62.115498 104.347874 \r\nL 62.450633 107.171313 \r\nL 62.785769 103.588942 \r\nL 63.120904 102.003152 \r\nL 63.456039 101.387046 \r\nL 63.791174 98.652974 \r\nL 64.126309 90.419701 \r\nL 64.461444 87.826889 \r\nL 64.796579 86.86114 \r\nL 65.131715 89.875668 \r\nL 65.46685 88.72871 \r\nL 65.801985 86.861716 \r\nL 66.13712 83.160885 \r\nL 66.472255 84.161926 \r\nL 66.80739 84.226392 \r\nL 67.47766 82.858869 \r\nL 67.812796 89.555995 \r\nL 68.147931 89.239029 \r\nL 68.483066 89.852829 \r\nL 68.818201 89.387053 \r\nL 69.153336 91.658853 \r\nL 69.823606 90.355608 \r\nL 70.493877 97.555896 \r\nL 70.829012 95.775728 \r\nL 71.164147 96.955331 \r\nL 71.499282 95.881722 \r\nL 71.834417 92.484628 \r\nL 72.169552 94.079926 \r\nL 72.504687 94.664482 \r\nL 72.839823 92.32323 \r\nL 73.174958 95.805838 \r\nL 73.510093 92.646843 \r\nL 73.845228 91.503633 \r\nL 74.180363 92.360095 \r\nL 74.515498 90.656053 \r\nL 74.850633 91.240912 \r\nL 75.185769 93.772271 \r\nL 75.520904 95.2827 \r\nL 75.856039 93.636151 \r\nL 76.191174 95.004181 \r\nL 76.526309 93.904731 \r\nL 76.861444 89.725785 \r\nL 77.196579 90.384776 \r\nL 77.86685 95.189149 \r\nL 78.201985 94.825759 \r\nL 78.53712 91.45265 \r\nL 78.872255 90.611921 \r\nL 79.20739 91.363562 \r\nL 79.542525 87.915569 \r\nL 79.87766 90.279527 \r\nL 80.212796 95.355386 \r\nL 80.547931 95.502042 \r\nL 80.883066 96.626 \r\nL 81.218201 98.506962 \r\nL 81.553336 95.58916 \r\nL 81.888471 94.220624 \r\nL 82.223606 95.18791 \r\nL 82.558742 89.375494 \r\nL 82.893877 89.502982 \r\nL 83.229012 87.573802 \r\nL 83.564147 86.576467 \r\nL 83.899282 87.251001 \r\nL 84.234417 86.134508 \r\nL 84.569552 86.962156 \r\nL 85.239823 92.222754 \r\nL 85.574958 92.435198 \r\nL 85.910093 88.898983 \r\nL 86.245228 91.922143 \r\nL 86.580363 91.920658 \r\nL 86.915498 96.012863 \r\nL 87.250633 96.929939 \r\nL 87.585769 95.092682 \r\nL 88.591174 102.45279 \r\nL 89.261444 96.027915 \r\nL 89.596579 91.682581 \r\nL 89.931715 89.33999 \r\nL 90.26685 90.968757 \r\nL 90.601985 90.964763 \r\nL 90.93712 89.897207 \r\nL 91.272255 95.008306 \r\nL 91.60739 94.248493 \r\nL 91.942525 94.121965 \r\nL 92.27766 91.487084 \r\nL 92.612796 91.208372 \r\nL 92.947931 92.658979 \r\nL 93.283066 91.812978 \r\nL 93.953336 98.21109 \r\nL 94.288471 98.173013 \r\nL 94.623606 92.140144 \r\nL 94.958742 93.256309 \r\nL 95.293877 95.478894 \r\nL 95.629012 94.434696 \r\nL 95.964147 98.92269 \r\nL 96.299282 93.892503 \r\nL 96.634417 91.842945 \r\nL 96.969552 95.067193 \r\nL 97.304688 92.43155 \r\nL 97.639823 95.85623 \r\nL 97.974958 97.510624 \r\nL 98.310093 97.183199 \r\nL 98.645228 99.422554 \r\nL 98.980363 93.219931 \r\nL 99.650633 91.490653 \r\nL 99.985769 89.40196 \r\nL 100.320904 88.695142 \r\nL 100.656039 89.196838 \r\nL 100.991174 88.541692 \r\nL 101.326309 87.438182 \r\nL 101.661444 88.227739 \r\nL 101.996579 86.910756 \r\nL 102.331715 84.250847 \r\nL 102.66685 82.714833 \r\nL 103.001985 78.227362 \r\nL 103.33712 79.707749 \r\nL 103.672255 78.218766 \r\nL 104.00739 84.42842 \r\nL 104.342525 86.616197 \r\nL 104.67766 86.005744 \r\nL 105.012796 76.438698 \r\nL 105.347931 74.662538 \r\nL 105.683066 75.080012 \r\nL 106.018201 78.062027 \r\nL 107.023606 69.367454 \r\nL 107.358742 71.440617 \r\nL 107.693877 69.429063 \r\nL 108.364147 74.878322 \r\nL 108.699282 74.572773 \r\nL 109.034417 71.016353 \r\nL 109.369552 70.710703 \r\nL 109.704688 71.129584 \r\nL 110.039823 67.769446 \r\nL 110.374958 69.808916 \r\nL 110.710093 70.832502 \r\nL 111.045228 73.606814 \r\nL 111.715498 62.56747 \r\nL 112.050633 65.629316 \r\nL 112.385769 60.692813 \r\nL 112.720904 64.938648 \r\nL 113.056039 66.095701 \r\nL 113.391174 64.575365 \r\nL 113.726309 61.693928 \r\nL 114.061444 65.470927 \r\nL 114.396579 64.865417 \r\nL 114.731715 62.464747 \r\nL 115.06685 58.160298 \r\nL 115.401985 57.076611 \r\nL 115.73712 56.759411 \r\nL 116.072255 56.205901 \r\nL 116.40739 56.228696 \r\nL 116.742525 55.790022 \r\nL 117.07766 54.796108 \r\nL 117.412796 53.223413 \r\nL 117.747931 50.42179 \r\nL 118.083066 51.342405 \r\nL 118.418201 48.581348 \r\nL 118.753336 54.383893 \r\nL 119.423606 51.586357 \r\nL 119.758742 51.077553 \r\nL 120.093877 52.80766 \r\nL 120.429012 49.960114 \r\nL 120.764147 48.489992 \r\nL 121.099282 45.143328 \r\nL 121.434417 45.050191 \r\nL 121.769552 44.760977 \r\nL 122.104687 43.403821 \r\nL 122.439823 45.703947 \r\nL 122.774958 41.613825 \r\nL 123.110093 40.775931 \r\nL 123.445228 38.468692 \r\nL 123.780363 40.132538 \r\nL 124.115498 38.357948 \r\nL 124.450633 41.305423 \r\nL 124.785769 39.344715 \r\nL 125.120904 34.941037 \r\nL 125.456039 35.009983 \r\nL 125.791174 36.330152 \r\nL 126.796579 28.530225 \r\nL 127.46685 32.777774 \r\nL 127.801985 31.096957 \r\nL 128.13712 33.119145 \r\nL 128.472255 30.23167 \r\nL 128.80739 35.288442 \r\nL 129.142525 35.522068 \r\nL 129.47766 32.748983 \r\nL 129.812796 35.167751 \r\nL 130.147931 31.481537 \r\nL 130.483066 31.371726 \r\nL 130.818201 34.540811 \r\nL 131.153336 33.604012 \r\nL 131.488471 34.431323 \r\nL 131.823606 39.173344 \r\nL 132.158742 41.125078 \r\nL 132.493877 41.210508 \r\nL 133.499282 31.717309 \r\nL 133.834417 32.387935 \r\nL 134.169552 32.27198 \r\nL 134.504687 34.452131 \r\nL 134.839823 32.027935 \r\nL 135.174958 32.694351 \r\nL 135.510093 28.36504 \r\nL 135.845228 29.239091 \r\nL 136.180363 25.688356 \r\nL 136.515498 25.111559 \r\nL 136.850633 27.444601 \r\nL 137.185769 27.422842 \r\nL 137.520904 29.078363 \r\nL 137.856039 27.271883 \r\nL 138.191174 27.984512 \r\nL 138.526309 27.204942 \r\nL 138.861444 30.243262 \r\nL 139.196579 28.557299 \r\nL 139.531715 24.167678 \r\nL 139.86685 25.94845 \r\nL 140.201985 26.767468 \r\nL 140.53712 24.805701 \r\nL 140.872255 26.529683 \r\nL 141.20739 26.473282 \r\nL 142.212796 33.989407 \r\nL 142.547931 33.81839 \r\nL 142.883066 31.714571 \r\nL 143.218201 33.892571 \r\nL 143.553336 34.188202 \r\nL 144.223606 24.906763 \r\nL 144.558742 25.207983 \r\nL 144.893877 23.171098 \r\nL 145.564147 27.646766 \r\nL 145.899282 26.797697 \r\nL 146.234417 30.664064 \r\nL 146.904687 32.407404 \r\nL 147.574958 37.866311 \r\nL 147.910093 37.871497 \r\nL 148.245228 34.713154 \r\nL 148.580363 35.613226 \r\nL 148.915498 31.793857 \r\nL 149.250633 35.338621 \r\nL 149.585769 34.653705 \r\nL 149.920904 35.014786 \r\nL 150.256039 36.550076 \r\nL 150.591174 36.807913 \r\nL 150.926309 41.280849 \r\nL 151.261444 42.256773 \r\nL 151.596579 40.281522 \r\nL 151.931715 43.382172 \r\nL 152.26685 43.407801 \r\nL 152.601985 44.809794 \r\nL 152.93712 43.658849 \r\nL 153.272255 43.940782 \r\nL 153.60739 49.909639 \r\nL 153.942525 53.496896 \r\nL 154.27766 55.698167 \r\nL 154.612796 56.992609 \r\nL 154.947931 58.823876 \r\nL 155.618201 60.657257 \r\nL 155.953336 56.263779 \r\nL 156.288471 54.780679 \r\nL 156.623606 56.263876 \r\nL 156.958742 56.370682 \r\nL 157.293877 55.70453 \r\nL 157.629012 57.143718 \r\nL 157.964147 62.473136 \r\nL 158.634417 52.684559 \r\nL 158.969552 52.054528 \r\nL 159.304688 50.635357 \r\nL 159.639823 52.565587 \r\nL 159.974958 51.510955 \r\nL 160.310093 46.945651 \r\nL 160.645228 49.917993 \r\nL 161.315498 46.374413 \r\nL 161.650633 47.936166 \r\nL 161.985769 44.234737 \r\nL 162.320904 42.47512 \r\nL 162.656039 39.362313 \r\nL 163.326309 35.710954 \r\nL 163.661444 36.135722 \r\nL 164.331715 29.860573 \r\nL 164.66685 33.631173 \r\nL 165.001985 31.638274 \r\nL 165.33712 26.685992 \r\nL 165.672255 25.884682 \r\nL 166.00739 25.854686 \r\nL 166.342525 25.190419 \r\nL 166.67766 25.124493 \r\nL 167.012796 28.807284 \r\nL 168.018201 21.237943 \r\nL 168.353336 20.261509 \r\nL 168.688471 23.092381 \r\nL 169.358742 18.07542 \r\nL 169.693877 20.806326 \r\nL 170.029012 17.083636 \r\nL 170.364147 17.386026 \r\nL 171.034417 24.824648 \r\nL 171.369552 21.473258 \r\nL 171.704688 21.941015 \r\nL 172.039823 23.244954 \r\nL 172.374958 22.046881 \r\nL 172.710093 20.116741 \r\nL 173.045228 21.746773 \r\nL 173.380363 26.836895 \r\nL 173.715498 29.175684 \r\nL 174.050633 30.662279 \r\nL 174.385769 31.244737 \r\nL 175.056039 35.145224 \r\nL 175.391174 35.080396 \r\nL 175.726309 31.692121 \r\nL 176.061444 31.262854 \r\nL 176.396579 32.273333 \r\nL 176.731715 29.118108 \r\nL 177.06685 30.705781 \r\nL 177.401985 34.080855 \r\nL 177.73712 33.727919 \r\nL 178.072255 33.75267 \r\nL 178.40739 30.867366 \r\nL 178.742525 35.164421 \r\nL 179.07766 33.07468 \r\nL 179.412796 34.535891 \r\nL 179.747931 34.616646 \r\nL 180.083066 38.617949 \r\nL 180.418201 41.017499 \r\nL 180.753336 40.112681 \r\nL 181.088471 40.773002 \r\nL 181.423606 37.636703 \r\nL 181.758742 41.757181 \r\nL 182.093877 39.20807 \r\nL 182.429012 37.665957 \r\nL 182.764147 35.38983 \r\nL 183.099282 34.44788 \r\nL 183.434417 36.253857 \r\nL 184.104687 37.044036 \r\nL 184.439823 39.74289 \r\nL 184.774958 41.160129 \r\nL 185.110093 43.123691 \r\nL 185.445228 46.493607 \r\nL 185.780363 47.278027 \r\nL 186.115498 43.239559 \r\nL 186.450633 44.051935 \r\nL 186.785769 44.015913 \r\nL 187.120904 38.478359 \r\nL 187.456039 40.479604 \r\nL 187.791174 39.976268 \r\nL 188.126309 36.53457 \r\nL 188.461444 36.543776 \r\nL 188.796579 36.964528 \r\nL 189.131715 33.225185 \r\nL 189.46685 33.410859 \r\nL 189.801985 33.108413 \r\nL 190.13712 36.812742 \r\nL 190.472255 35.277631 \r\nL 190.80739 39.511054 \r\nL 191.142525 35.343314 \r\nL 191.47766 35.818438 \r\nL 191.812796 35.036147 \r\nL 192.147931 37.882614 \r\nL 192.483066 35.761928 \r\nL 192.818201 35.416137 \r\nL 193.153336 30.833072 \r\nL 193.488471 29.251049 \r\nL 194.158742 27.596846 \r\nL 194.493877 31.917372 \r\nL 194.829012 28.859386 \r\nL 195.499282 30.079417 \r\nL 195.834417 29.27237 \r\nL 196.169552 26.306057 \r\nL 196.504687 25.948897 \r\nL 196.839823 28.442859 \r\nL 197.174958 28.78176 \r\nL 197.510093 28.857137 \r\nL 197.845228 35.958243 \r\nL 198.180363 34.891598 \r\nL 198.515498 39.183515 \r\nL 199.185769 42.322982 \r\nL 199.856039 46.770196 \r\nL 200.191174 47.076789 \r\nL 200.526309 46.77764 \r\nL 200.861444 48.774454 \r\nL 201.196579 47.885599 \r\nL 201.531715 49.963795 \r\nL 201.86685 49.399874 \r\nL 202.201985 49.781759 \r\nL 202.53712 47.680168 \r\nL 202.872255 46.933235 \r\nL 203.87766 40.273414 \r\nL 204.212796 41.236233 \r\nL 204.547931 37.666105 \r\nL 205.553336 31.249668 \r\nL 205.888471 37.70589 \r\nL 206.223606 38.86984 \r\nL 206.558742 40.61719 \r\nL 206.893877 40.24752 \r\nL 207.564147 46.378998 \r\nL 207.899282 43.260254 \r\nL 208.234417 43.108471 \r\nL 208.569552 40.246462 \r\nL 208.904687 42.615368 \r\nL 209.239823 41.417031 \r\nL 209.574958 42.563723 \r\nL 209.910093 41.311406 \r\nL 210.245228 37.45609 \r\nL 210.580363 36.51439 \r\nL 210.915498 41.968291 \r\nL 211.585769 47.602444 \r\nL 211.920904 47.954238 \r\nL 212.256039 48.107905 \r\nL 212.591174 49.753195 \r\nL 213.261444 44.809659 \r\nL 213.596579 47.96248 \r\nL 213.931715 45.599316 \r\nL 214.26685 52.04332 \r\nL 214.93712 53.194828 \r\nL 215.272255 55.363586 \r\nL 215.60739 52.608331 \r\nL 215.942525 52.337244 \r\nL 216.27766 50.431866 \r\nL 216.612796 45.427437 \r\nL 216.947931 45.880464 \r\nL 217.283066 52.901749 \r\nL 217.618201 52.420598 \r\nL 217.953336 51.336755 \r\nL 218.288471 53.404345 \r\nL 218.623606 52.575226 \r\nL 218.958742 50.150407 \r\nL 219.629012 53.643786 \r\nL 219.964147 50.700791 \r\nL 220.299282 56.765167 \r\nL 220.634417 54.212319 \r\nL 220.969552 56.15876 \r\nL 221.304688 59.549918 \r\nL 221.639823 59.777066 \r\nL 221.974958 59.631992 \r\nL 222.310093 63.182312 \r\nL 222.645228 63.52016 \r\nL 222.980363 69.300752 \r\nL 223.650633 66.127506 \r\nL 223.985769 61.98708 \r\nL 224.320904 64.460225 \r\nL 224.656039 63.74046 \r\nL 224.991174 61.188026 \r\nL 225.661444 67.147444 \r\nL 225.996579 65.641156 \r\nL 226.331715 66.080061 \r\nL 226.66685 65.357776 \r\nL 227.001985 64.942217 \r\nL 227.33712 67.176579 \r\nL 227.672255 67.132802 \r\nL 228.342525 57.354033 \r\nL 228.67766 60.306771 \r\nL 229.012796 60.532296 \r\nL 229.347931 60.446859 \r\nL 229.683066 64.240169 \r\nL 230.018201 61.660234 \r\nL 230.353336 60.525646 \r\nL 230.688471 61.220218 \r\nL 231.023606 61.583813 \r\nL 231.358742 58.925193 \r\nL 231.693877 57.437874 \r\nL 232.029012 59.593561 \r\nL 232.364147 60.515152 \r\nL 232.699282 62.416974 \r\nL 233.369552 60.065344 \r\nL 233.704688 55.68702 \r\nL 234.374958 59.887198 \r\nL 234.710093 58.217527 \r\nL 235.045228 61.653578 \r\nL 235.380363 59.284431 \r\nL 235.715498 58.934666 \r\nL 236.050633 57.993938 \r\nL 236.385769 56.546745 \r\nL 236.720904 57.143803 \r\nL 237.056039 52.93317 \r\nL 237.391174 53.755674 \r\nL 237.726309 56.064984 \r\nL 238.061444 59.457531 \r\nL 238.396579 60.737636 \r\nL 239.06685 64.011633 \r\nL 239.73712 66.73678 \r\nL 240.072255 68.805875 \r\nL 241.07766 65.322435 \r\nL 241.412796 66.911411 \r\nL 241.747931 70.707427 \r\nL 242.083066 71.969433 \r\nL 242.418201 71.077171 \r\nL 242.753336 68.4282 \r\nL 243.088471 70.875322 \r\nL 243.423606 67.476356 \r\nL 243.758742 65.560342 \r\nL 244.093877 68.230736 \r\nL 244.429012 67.437326 \r\nL 244.764147 65.351031 \r\nL 245.099282 62.289018 \r\nL 245.769552 66.962438 \r\nL 246.104687 68.259052 \r\nL 246.774958 74.151137 \r\nL 247.110093 80.771332 \r\nL 247.445228 80.888771 \r\nL 247.780363 82.099296 \r\nL 248.450633 85.462748 \r\nL 248.785769 85.169227 \r\nL 249.120904 89.500362 \r\nL 249.456039 87.405428 \r\nL 249.791174 88.596984 \r\nL 250.126309 93.347272 \r\nL 250.461444 87.080248 \r\nL 250.796579 85.033018 \r\nL 251.131715 88.115502 \r\nL 251.46685 87.56526 \r\nL 251.801985 91.994413 \r\nL 252.13712 91.704989 \r\nL 252.80739 91.516322 \r\nL 253.142525 96.067766 \r\nL 253.47766 103.175664 \r\nL 253.812796 105.895695 \r\nL 254.147931 105.405875 \r\nL 254.483066 105.874845 \r\nL 254.818201 104.41525 \r\nL 255.153336 101.877236 \r\nL 255.488471 102.302412 \r\nL 255.823606 110.173273 \r\nL 256.158742 108.672864 \r\nL 256.493877 103.537585 \r\nL 256.829012 103.916923 \r\nL 257.164147 108.162589 \r\nL 257.499282 107.784292 \r\nL 257.834417 108.04479 \r\nL 258.169552 109.964441 \r\nL 258.504687 111.159282 \r\nL 258.839823 107.104298 \r\nL 259.174958 107.567177 \r\nL 259.510093 107.556381 \r\nL 259.845228 111.469935 \r\nL 260.180363 109.079467 \r\nL 260.515498 112.04052 \r\nL 260.850633 111.04128 \r\nL 261.185769 115.570532 \r\nL 261.856039 113.391772 \r\nL 262.191174 113.657967 \r\nL 262.526309 116.824222 \r\nL 262.861444 114.087002 \r\nL 263.196579 114.366254 \r\nL 263.531715 115.969011 \r\nL 263.86685 120.907467 \r\nL 264.53712 110.71484 \r\nL 264.872255 110.471045 \r\nL 265.20739 112.517135 \r\nL 265.87766 105.039644 \r\nL 266.212796 99.318539 \r\nL 266.547931 98.663822 \r\nL 266.883066 99.409818 \r\nL 267.218201 100.569318 \r\nL 267.553336 100.773223 \r\nL 267.888471 106.036456 \r\nL 268.223606 107.154127 \r\nL 268.558742 109.13038 \r\nL 268.893877 107.495238 \r\nL 269.229012 112.003653 \r\nL 269.564147 109.644405 \r\nL 269.899282 108.913214 \r\nL 270.569552 102.646169 \r\nL 270.904687 102.320691 \r\nL 271.239823 99.2671 \r\nL 271.574958 97.922452 \r\nL 271.910093 98.089161 \r\nL 272.245228 102.76593 \r\nL 272.580363 101.083225 \r\nL 272.915498 101.861122 \r\nL 273.250633 104.595431 \r\nL 273.585769 106.15733 \r\nL 273.920904 106.240211 \r\nL 274.256039 107.426885 \r\nL 274.591174 106.021333 \r\nL 274.926309 107.248978 \r\nL 275.261444 107.635527 \r\nL 275.596579 107.803443 \r\nL 275.931715 107.535366 \r\nL 276.26685 107.120277 \r\nL 276.601985 106.18939 \r\nL 276.93712 104.366843 \r\nL 277.272255 105.064032 \r\nL 277.60739 107.302715 \r\nL 277.942525 103.32528 \r\nL 278.27766 101.364409 \r\nL 278.612796 103.954446 \r\nL 278.947931 102.067596 \r\nL 279.283066 102.581635 \r\nL 279.618201 104.569206 \r\nL 279.953336 103.93073 \r\nL 280.288471 105.238132 \r\nL 280.623606 102.707662 \r\nL 280.958742 103.064273 \r\nL 281.293877 104.071263 \r\nL 281.629012 107.565076 \r\nL 281.964147 107.723112 \r\nL 282.634417 102.890586 \r\nL 282.969552 101.446623 \r\nL 283.304688 98.113974 \r\nL 283.639823 101.207235 \r\nL 283.974958 102.54784 \r\nL 284.980363 98.828694 \r\nL 285.315498 94.310082 \r\nL 285.985769 96.869935 \r\nL 286.320904 96.839538 \r\nL 286.656039 97.256057 \r\nL 287.326309 100.904338 \r\nL 287.661444 102.103993 \r\nL 287.996579 101.022536 \r\nL 288.331715 107.652642 \r\nL 289.001985 104.430512 \r\nL 289.33712 104.210759 \r\nL 289.672255 102.614212 \r\nL 290.00739 103.456385 \r\nL 290.342525 106.812888 \r\nL 290.67766 111.742653 \r\nL 291.347931 109.493549 \r\nL 291.683066 112.961403 \r\nL 292.018201 114.893802 \r\nL 292.353336 118.391751 \r\nL 293.023606 118.82186 \r\nL 293.358742 118.783276 \r\nL 293.693877 118.244795 \r\nL 294.029012 119.013323 \r\nL 294.364147 117.497824 \r\nL 294.699282 119.935272 \r\nL 295.034417 115.495829 \r\nL 295.369552 115.702962 \r\nL 295.704688 116.330018 \r\nL 296.039823 111.754692 \r\nL 296.374958 112.307543 \r\nL 296.710093 111.889962 \r\nL 297.045228 109.348661 \r\nL 297.380363 110.811108 \r\nL 297.715498 109.85714 \r\nL 298.050633 115.264668 \r\nL 298.385769 116.534495 \r\nL 298.720904 117.10879 \r\nL 299.056039 115.298654 \r\nL 299.391174 118.748161 \r\nL 300.061444 114.663968 \r\nL 300.396579 116.75752 \r\nL 300.731715 112.41372 \r\nL 301.73712 123.737551 \r\nL 302.072255 122.4758 \r\nL 302.40739 120.315322 \r\nL 302.742525 122.145499 \r\nL 303.07766 121.469106 \r\nL 303.412796 123.250118 \r\nL 303.747931 120.733593 \r\nL 304.083066 123.496196 \r\nL 304.418201 122.762052 \r\nL 305.088471 120.588277 \r\nL 305.423606 121.761448 \r\nL 305.758742 119.894577 \r\nL 306.093877 123.265272 \r\nL 306.429012 129.172165 \r\nL 306.764147 129.04931 \r\nL 307.099282 131.815829 \r\nL 307.434417 135.599345 \r\nL 307.769552 136.176751 \r\nL 308.104688 131.056535 \r\nL 308.439823 134.07071 \r\nL 308.774958 138.794752 \r\nL 309.110093 139.959789 \r\nL 309.780363 146.674107 \r\nL 310.115498 146.671986 \r\nL 310.450633 147.76158 \r\nL 310.785769 150.575301 \r\nL 311.120904 147.136747 \r\nL 311.456039 149.999782 \r\nL 311.791174 150.276535 \r\nL 312.126309 148.906808 \r\nL 312.461444 148.923623 \r\nL 312.796579 146.709039 \r\nL 313.131715 150.137729 \r\nL 313.46685 148.531841 \r\nL 313.801985 146.089958 \r\nL 314.13712 140.817675 \r\nL 314.472255 137.364376 \r\nL 314.80739 135.26198 \r\nL 315.142525 138.024699 \r\nL 315.47766 136.954167 \r\nL 315.812796 137.058349 \r\nL 316.147931 139.625771 \r\nL 316.483066 143.931474 \r\nL 316.818201 141.142136 \r\nL 317.153336 139.543899 \r\nL 317.488471 137.272187 \r\nL 317.823606 141.182164 \r\nL 318.158742 142.161947 \r\nL 318.829012 148.867614 \r\nL 319.164147 148.585218 \r\nL 319.499282 148.038718 \r\nL 319.834417 147.781971 \r\nL 320.169552 147.841841 \r\nL 320.504687 148.526505 \r\nL 320.839823 146.864046 \r\nL 321.174958 147.349158 \r\nL 321.510093 148.947333 \r\nL 321.845228 146.744986 \r\nL 322.180363 141.691113 \r\nL 322.515498 142.143311 \r\nL 322.850633 143.229771 \r\nL 323.185769 147.034371 \r\nL 323.520904 148.248134 \r\nL 323.856039 154.450723 \r\nL 324.861444 149.219006 \r\nL 325.196579 152.747699 \r\nL 325.531715 147.217767 \r\nL 325.86685 146.585993 \r\nL 326.201985 142.597008 \r\nL 327.20739 153.753766 \r\nL 327.542525 156.06844 \r\nL 327.87766 156.977465 \r\nL 328.212796 155.876974 \r\nL 328.547931 155.928125 \r\nL 328.883066 159.004504 \r\nL 329.218201 160.68376 \r\nL 329.553336 154.633503 \r\nL 329.888471 153.008379 \r\nL 330.558742 155.700203 \r\nL 330.893877 157.471667 \r\nL 331.229012 159.965992 \r\nL 331.564147 157.807013 \r\nL 331.899282 160.079458 \r\nL 332.234417 166.150157 \r\nL 332.569552 163.981886 \r\nL 332.904687 160.450561 \r\nL 333.239823 161.889404 \r\nL 333.574958 165.138934 \r\nL 333.910093 160.866257 \r\nL 334.245228 159.515119 \r\nL 334.580363 161.121172 \r\nL 334.915498 158.285834 \r\nL 335.250633 153.098162 \r\nL 335.585769 156.723442 \r\nL 335.920904 155.244756 \r\nL 336.256039 158.466619 \r\nL 336.591174 162.902109 \r\nL 336.926309 165.17613 \r\nL 337.261444 161.975624 \r\nL 337.596579 161.945652 \r\nL 337.931715 160.003865 \r\nL 338.26685 164.517558 \r\nL 338.601985 167.254643 \r\nL 338.93712 168.974657 \r\nL 339.272255 164.136085 \r\nL 339.60739 168.988646 \r\nL 339.942525 164.870004 \r\nL 340.27766 162.549042 \r\nL 340.612796 164.01569 \r\nL 340.947931 164.60322 \r\nL 341.283066 165.715316 \r\nL 341.618201 167.757902 \r\nL 341.953336 167.741069 \r\nL 342.288471 167.245352 \r\nL 342.623606 166.001152 \r\nL 342.958742 159.933733 \r\nL 343.293877 156.768363 \r\nL 344.299282 159.198115 \r\nL 344.969552 164.154679 \r\nL 345.639823 159.867956 \r\nL 345.974958 161.269336 \r\nL 346.310093 154.597531 \r\nL 346.645228 158.592364 \r\nL 346.980363 158.464971 \r\nL 347.315498 154.656336 \r\nL 347.650633 155.676476 \r\nL 348.320904 150.525482 \r\nL 348.991174 154.120435 \r\nL 349.326309 160.824375 \r\nL 349.661444 157.449184 \r\nL 349.996579 160.537166 \r\nL 350.331715 162.480396 \r\nL 350.66685 165.574357 \r\nL 351.001985 160.712272 \r\nL 351.33712 161.313096 \r\nL 352.00739 160.387341 \r\nL 352.342525 155.649491 \r\nL 352.67766 154.803391 \r\nL 353.012796 151.482021 \r\nL 353.347931 151.098737 \r\nL 353.683066 151.830661 \r\nL 354.018201 149.687619 \r\nL 354.353336 150.531749 \r\nL 354.688471 154.400429 \r\nL 355.023606 149.500849 \r\nL 355.358742 148.910376 \r\nL 355.693877 144.947795 \r\nL 356.029012 144.28776 \r\nL 356.364147 146.879416 \r\nL 356.699282 150.999103 \r\nL 357.034417 152.286084 \r\nL 357.369552 151.855213 \r\nL 357.704688 152.144004 \r\nL 358.039823 153.945308 \r\nL 358.374958 154.719839 \r\nL 358.710093 155.198455 \r\nL 359.045228 158.668763 \r\nL 359.380363 166.183467 \r\nL 359.715498 166.379043 \r\nL 360.050633 167.689576 \r\nL 360.385769 164.319329 \r\nL 360.720904 163.438253 \r\nL 361.056039 167.256819 \r\nL 361.391174 166.313992 \r\nL 361.726309 162.549328 \r\nL 362.061444 162.89689 \r\nL 362.396579 162.001687 \r\nL 362.731715 162.757413 \r\nL 363.06685 162.693321 \r\nL 363.401985 161.581636 \r\nL 363.73712 155.448121 \r\nL 364.072255 153.281803 \r\nL 364.40739 152.675913 \r\nL 364.742525 148.680678 \r\nL 365.07766 149.37857 \r\nL 365.412796 147.526196 \r\nL 365.747931 151.949618 \r\nL 366.083066 150.328219 \r\nL 366.418201 148.066357 \r\nL 366.753336 150.683024 \r\nL 367.423606 153.953941 \r\nL 367.758742 148.298369 \r\nL 368.093877 144.805472 \r\nL 368.429012 143.197454 \r\nL 368.764147 148.350866 \r\nL 369.434417 143.265875 \r\nL 369.769552 143.272602 \r\nL 370.104688 142.783802 \r\nL 370.104688 142.783802 \r\n\" style=\"fill:none;stroke:#1f77b4;stroke-linecap:square;stroke-width:1.5;\"/>\r\n   </g>\r\n   <g id=\"line2d_44\">\r\n    <path clip-path=\"url(#pb42b79877b)\" d=\"M 35.304688 84.69219 \r\nL 35.639823 86.325523 \r\nL 35.974958 86.706218 \r\nL 36.645228 91.471341 \r\nL 36.980363 86.378961 \r\nL 37.315498 85.098183 \r\nL 37.985769 87.364736 \r\nL 38.320904 82.775834 \r\nL 38.656039 81.083222 \r\nL 38.991174 85.295893 \r\nL 39.326309 84.609984 \r\nL 39.661444 79.694461 \r\nL 39.996579 85.279308 \r\nL 40.331715 85.691995 \r\nL 40.66685 83.857497 \r\nL 41.001985 87.565736 \r\nL 41.33712 87.09046 \r\nL 41.672255 87.854884 \r\nL 42.00739 86.574365 \r\nL 42.342525 86.98386 \r\nL 42.67766 83.156256 \r\nL 43.012796 82.854342 \r\nL 43.347931 84.890207 \r\nL 43.683066 89.613362 \r\nL 44.018201 89.010529 \r\nL 44.688471 83.672492 \r\nL 45.023606 85.554425 \r\nL 45.358742 86.237636 \r\nL 46.364147 102.718563 \r\nL 46.699282 104.872671 \r\nL 47.034417 103.917384 \r\nL 47.369552 101.198842 \r\nL 47.704688 99.83282 \r\nL 48.039823 95.070983 \r\nL 48.374958 96.724164 \r\nL 48.710093 91.709493 \r\nL 49.045228 92.220548 \r\nL 49.380363 92.309701 \r\nL 49.715498 96.10158 \r\nL 50.050633 88.558791 \r\nL 50.385769 91.073174 \r\nL 50.720904 89.546806 \r\nL 51.056039 96.233149 \r\nL 51.391174 95.118816 \r\nL 51.726309 97.446056 \r\nL 52.061444 97.295239 \r\nL 52.396579 95.231481 \r\nL 53.06685 102.440811 \r\nL 53.401985 104.490133 \r\nL 53.73712 102.469527 \r\nL 54.40739 113.35607 \r\nL 54.742525 116.117917 \r\nL 55.07766 115.306229 \r\nL 55.412796 115.051652 \r\nL 55.747931 109.990584 \r\nL 56.083066 113.37866 \r\nL 56.418201 110.586811 \r\nL 56.753336 105.239724 \r\nL 57.088471 102.354544 \r\nL 57.423606 104.294567 \r\nL 57.758742 105.05211 \r\nL 58.093877 105.152021 \r\nL 58.429012 109.939887 \r\nL 58.764147 111.55296 \r\nL 59.099282 107.883864 \r\nL 59.434417 110.509713 \r\nL 59.769552 111.547307 \r\nL 60.104687 109.036889 \r\nL 60.439823 107.728887 \r\nL 60.774958 113.526541 \r\nL 61.110093 113.431554 \r\nL 61.445228 118.265906 \r\nL 61.780363 119.566871 \r\nL 62.115498 117.117327 \r\nL 62.450633 117.572552 \r\nL 62.785769 116.50715 \r\nL 63.120904 119.218081 \r\nL 63.456039 120.486646 \r\nL 63.791174 117.159405 \r\nL 64.126309 111.15027 \r\nL 64.796579 114.565337 \r\nL 65.131715 113.789682 \r\nL 65.46685 112.077587 \r\nL 66.13712 121.548597 \r\nL 66.472255 123.752515 \r\nL 66.80739 121.63071 \r\nL 67.142525 118.648985 \r\nL 67.47766 119.340131 \r\nL 67.812796 119.445214 \r\nL 68.147931 118.827093 \r\nL 68.483066 122.544951 \r\nL 68.818201 122.979876 \r\nL 69.153336 122.554475 \r\nL 69.488471 119.15564 \r\nL 69.823606 127.824071 \r\nL 70.158742 124.418168 \r\nL 70.493877 131.036961 \r\nL 70.829012 130.039275 \r\nL 71.164147 131.071311 \r\nL 71.499282 130.159179 \r\nL 71.834417 131.989236 \r\nL 72.169552 132.633877 \r\nL 72.504687 131.742076 \r\nL 72.839823 133.253474 \r\nL 73.174958 132.171032 \r\nL 73.845228 128.716006 \r\nL 74.180363 131.543348 \r\nL 74.515498 128.516125 \r\nL 74.850633 128.694955 \r\nL 75.185769 130.128191 \r\nL 75.520904 132.759823 \r\nL 75.856039 137.885815 \r\nL 76.191174 139.566103 \r\nL 76.526309 134.31166 \r\nL 77.196579 128.758414 \r\nL 77.531715 125.661798 \r\nL 77.86685 124.93609 \r\nL 78.201985 127.021995 \r\nL 78.53712 127.19544 \r\nL 78.872255 126.758871 \r\nL 79.20739 124.71029 \r\nL 79.542525 119.956778 \r\nL 80.212796 125.174069 \r\nL 80.547931 124.721058 \r\nL 81.218201 130.626124 \r\nL 81.553336 130.763014 \r\nL 81.888471 130.690784 \r\nL 82.223606 127.037875 \r\nL 82.558742 130.410966 \r\nL 83.229012 125.450434 \r\nL 83.564147 124.545498 \r\nL 83.899282 127.603582 \r\nL 84.569552 135.976968 \r\nL 84.904687 135.517755 \r\nL 85.239823 137.640348 \r\nL 85.910093 134.749196 \r\nL 86.915498 124.983758 \r\nL 87.250633 125.387153 \r\nL 87.585769 127.087306 \r\nL 87.920904 131.17273 \r\nL 88.256039 129.800939 \r\nL 88.591174 129.097412 \r\nL 88.926309 124.745028 \r\nL 89.261444 124.598844 \r\nL 89.596579 124.296627 \r\nL 89.931715 125.845695 \r\nL 90.26685 125.33283 \r\nL 90.93712 121.530989 \r\nL 91.60739 118.018678 \r\nL 92.27766 115.189415 \r\nL 92.612796 118.362314 \r\nL 92.947931 120.239758 \r\nL 93.283066 119.159407 \r\nL 93.618201 119.64752 \r\nL 93.953336 120.923132 \r\nL 94.288471 123.851861 \r\nL 94.623606 122.910774 \r\nL 94.958742 126.997625 \r\nL 95.293877 128.071711 \r\nL 95.964147 124.274248 \r\nL 96.299282 124.608512 \r\nL 96.634417 124.194638 \r\nL 96.969552 122.199552 \r\nL 97.304688 121.005866 \r\nL 97.639823 120.983678 \r\nL 97.974958 123.102355 \r\nL 98.310093 126.066957 \r\nL 98.645228 125.987291 \r\nL 98.980363 120.343055 \r\nL 99.315498 120.006891 \r\nL 99.650633 120.339669 \r\nL 99.985769 118.095222 \r\nL 100.320904 119.91028 \r\nL 100.991174 117.630479 \r\nL 101.326309 114.237993 \r\nL 101.661444 119.397574 \r\nL 101.996579 118.648877 \r\nL 102.331715 114.09278 \r\nL 102.66685 115.784999 \r\nL 103.001985 116.727278 \r\nL 103.672255 117.208016 \r\nL 104.00739 115.862457 \r\nL 104.342525 111.987627 \r\nL 104.67766 112.217895 \r\nL 105.012796 113.702466 \r\nL 105.347931 110.856883 \r\nL 105.683066 109.551974 \r\nL 106.018201 110.328974 \r\nL 106.353336 106.206503 \r\nL 106.688471 105.066235 \r\nL 107.023606 104.726717 \r\nL 107.358742 104.697873 \r\nL 107.693877 104.022128 \r\nL 108.029012 100.077387 \r\nL 108.364147 100.7854 \r\nL 108.699282 102.044492 \r\nL 109.369552 106.167191 \r\nL 109.704688 106.695602 \r\nL 110.374958 110.324837 \r\nL 110.710093 113.12683 \r\nL 111.045228 114.092398 \r\nL 111.380363 116.041885 \r\nL 111.715498 115.645512 \r\nL 112.050633 118.072002 \r\nL 112.385769 117.023874 \r\nL 112.720904 120.891192 \r\nL 113.056039 121.07683 \r\nL 113.391174 120.885778 \r\nL 113.726309 123.929545 \r\nL 114.061444 123.289034 \r\nL 114.396579 120.014913 \r\nL 114.731715 119.783875 \r\nL 115.06685 123.938039 \r\nL 115.401985 129.773477 \r\nL 115.73712 128.716595 \r\nL 116.40739 129.714557 \r\nL 116.742525 124.202145 \r\nL 117.412796 134.882735 \r\nL 117.747931 138.830482 \r\nL 118.083066 138.797491 \r\nL 118.418201 136.196115 \r\nL 118.753336 136.245601 \r\nL 119.088471 138.142696 \r\nL 119.423606 143.03251 \r\nL 119.758742 145.290935 \r\nL 120.093877 145.464757 \r\nL 120.429012 148.760633 \r\nL 120.764147 147.932858 \r\nL 121.099282 149.262169 \r\nL 121.434417 149.312012 \r\nL 121.769552 150.004153 \r\nL 122.104687 149.525216 \r\nL 122.439823 150.684243 \r\nL 122.774958 150.399758 \r\nL 123.110093 150.38557 \r\nL 123.445228 155.106427 \r\nL 124.115498 154.154248 \r\nL 124.450633 150.538846 \r\nL 124.785769 144.385887 \r\nL 125.120904 140.353795 \r\nL 125.456039 139.228457 \r\nL 125.791174 136.991431 \r\nL 126.126309 132.841277 \r\nL 126.461444 131.892501 \r\nL 126.796579 128.691018 \r\nL 127.131715 130.257153 \r\nL 127.46685 128.091053 \r\nL 127.801985 124.393114 \r\nL 128.13712 127.587733 \r\nL 128.472255 127.502659 \r\nL 128.80739 125.777237 \r\nL 129.142525 128.22625 \r\nL 129.47766 128.760739 \r\nL 129.812796 129.632054 \r\nL 130.147931 125.577013 \r\nL 130.483066 126.512557 \r\nL 130.818201 126.826791 \r\nL 131.153336 128.378977 \r\nL 131.488471 131.189485 \r\nL 131.823606 131.940009 \r\nL 132.493877 134.254394 \r\nL 132.829012 137.210926 \r\nL 133.164147 142.196341 \r\nL 133.499282 141.146094 \r\nL 133.834417 138.126126 \r\nL 134.169552 141.014273 \r\nL 134.504687 140.080243 \r\nL 134.839823 134.918335 \r\nL 135.174958 131.924629 \r\nL 135.510093 135.119601 \r\nL 135.845228 132.988828 \r\nL 136.180363 136.238893 \r\nL 136.515498 130.360829 \r\nL 136.850633 126.918661 \r\nL 137.185769 121.405111 \r\nL 137.520904 122.014576 \r\nL 137.856039 125.263136 \r\nL 138.191174 126.325768 \r\nL 138.526309 130.014773 \r\nL 138.861444 127.473736 \r\nL 139.196579 127.316672 \r\nL 139.531715 126.092937 \r\nL 139.86685 127.853126 \r\nL 140.201985 127.160256 \r\nL 140.53712 131.678939 \r\nL 140.872255 139.996814 \r\nL 141.20739 145.307646 \r\nL 141.542525 144.655606 \r\nL 141.87766 144.390494 \r\nL 142.883066 135.463673 \r\nL 143.218201 134.644834 \r\nL 143.553336 131.528983 \r\nL 143.888471 132.382111 \r\nL 144.223606 130.320276 \r\nL 144.558742 131.741725 \r\nL 144.893877 130.235803 \r\nL 145.229012 131.217883 \r\nL 145.564147 130.221986 \r\nL 146.234417 132.645366 \r\nL 146.569552 129.560096 \r\nL 146.904687 129.535301 \r\nL 147.239823 126.775301 \r\nL 147.574958 131.898931 \r\nL 147.910093 129.008621 \r\nL 148.245228 130.345618 \r\nL 148.580363 132.401621 \r\nL 148.915498 130.900953 \r\nL 149.250633 130.49345 \r\nL 149.920904 131.866798 \r\nL 150.591174 134.309226 \r\nL 150.926309 131.313029 \r\nL 151.261444 134.254607 \r\nL 151.596579 134.515355 \r\nL 151.931715 136.639643 \r\nL 152.26685 136.196019 \r\nL 152.601985 131.970192 \r\nL 152.93712 134.305466 \r\nL 153.272255 133.654203 \r\nL 153.60739 131.001224 \r\nL 153.942525 132.119393 \r\nL 154.27766 134.282387 \r\nL 154.612796 133.836967 \r\nL 154.947931 135.705332 \r\nL 155.283066 135.513395 \r\nL 155.618201 133.896715 \r\nL 155.953336 131.343315 \r\nL 156.288471 130.795168 \r\nL 156.958742 136.701023 \r\nL 157.629012 132.759759 \r\nL 157.964147 131.904775 \r\nL 158.299282 130.31631 \r\nL 158.634417 128.089491 \r\nL 158.969552 127.921223 \r\nL 159.304688 132.844733 \r\nL 159.639823 132.883972 \r\nL 160.310093 135.103759 \r\nL 160.645228 134.225004 \r\nL 160.980363 136.858081 \r\nL 161.315498 137.414725 \r\nL 161.650633 142.330587 \r\nL 161.985769 143.055564 \r\nL 162.320904 144.213724 \r\nL 162.656039 141.588254 \r\nL 162.991174 145.724334 \r\nL 163.326309 142.286409 \r\nL 163.661444 142.041461 \r\nL 163.996579 147.526372 \r\nL 164.331715 147.992492 \r\nL 165.001985 144.118289 \r\nL 165.672255 145.247978 \r\nL 166.00739 145.012371 \r\nL 166.342525 140.416591 \r\nL 166.67766 137.486559 \r\nL 167.012796 139.180019 \r\nL 167.347931 138.56029 \r\nL 167.683066 137.319572 \r\nL 168.353336 139.44677 \r\nL 168.688471 142.57654 \r\nL 169.023606 144.56802 \r\nL 169.358742 142.41052 \r\nL 169.693877 142.059625 \r\nL 170.029012 140.450313 \r\nL 170.699282 135.583251 \r\nL 171.034417 138.70346 \r\nL 171.369552 144.642929 \r\nL 171.704688 143.764759 \r\nL 172.039823 144.31349 \r\nL 172.374958 146.061752 \r\nL 172.710093 148.722509 \r\nL 173.380363 146.299354 \r\nL 173.715498 145.847441 \r\nL 174.050633 150.563663 \r\nL 174.385769 149.326836 \r\nL 174.720904 150.460406 \r\nL 175.056039 145.134791 \r\nL 175.391174 145.14817 \r\nL 175.726309 145.31852 \r\nL 176.396579 148.300054 \r\nL 176.731715 145.714154 \r\nL 177.06685 147.471252 \r\nL 177.401985 144.903704 \r\nL 177.73712 144.381078 \r\nL 178.072255 146.729261 \r\nL 178.40739 150.676023 \r\nL 178.742525 151.635319 \r\nL 179.07766 144.694563 \r\nL 179.412796 144.409861 \r\nL 179.747931 146.057364 \r\nL 180.418201 153.981383 \r\nL 180.753336 155.44636 \r\nL 181.088471 158.710647 \r\nL 181.423606 155.693777 \r\nL 181.758742 150.788703 \r\nL 182.093877 150.569148 \r\nL 182.429012 154.105127 \r\nL 182.764147 154.747405 \r\nL 183.099282 161.827676 \r\nL 184.439823 148.210091 \r\nL 184.774958 150.440971 \r\nL 185.110093 147.500152 \r\nL 185.445228 149.179354 \r\nL 185.780363 151.586629 \r\nL 186.115498 151.43485 \r\nL 186.785769 145.905783 \r\nL 187.120904 147.932926 \r\nL 187.456039 153.159741 \r\nL 187.791174 153.132329 \r\nL 188.126309 152.815508 \r\nL 188.461444 153.802249 \r\nL 188.796579 149.415871 \r\nL 189.131715 148.098029 \r\nL 189.46685 148.477962 \r\nL 189.801985 149.621023 \r\nL 190.13712 148.061518 \r\nL 190.472255 148.200626 \r\nL 190.80739 143.945517 \r\nL 191.142525 142.861282 \r\nL 191.47766 142.5762 \r\nL 191.812796 139.906731 \r\nL 192.147931 135.018166 \r\nL 192.483066 133.584545 \r\nL 192.818201 133.849315 \r\nL 193.153336 131.118058 \r\nL 193.488471 131.230513 \r\nL 193.823606 132.853977 \r\nL 194.158742 132.61834 \r\nL 195.164147 138.47452 \r\nL 195.834417 136.625784 \r\nL 196.169552 135.831257 \r\nL 196.504687 133.922427 \r\nL 197.174958 142.896671 \r\nL 197.510093 138.668958 \r\nL 197.845228 140.635223 \r\nL 198.180363 139.149488 \r\nL 198.515498 136.87561 \r\nL 198.850633 132.283086 \r\nL 199.185769 133.153813 \r\nL 199.520904 129.567364 \r\nL 199.856039 134.305565 \r\nL 200.191174 133.026797 \r\nL 200.526309 127.543696 \r\nL 200.861444 126.159608 \r\nL 201.196579 130.825101 \r\nL 201.531715 131.243925 \r\nL 201.86685 127.765454 \r\nL 202.201985 125.689463 \r\nL 202.53712 122.582508 \r\nL 202.872255 122.788056 \r\nL 203.20739 124.498041 \r\nL 203.542525 123.503833 \r\nL 203.87766 123.75875 \r\nL 204.212796 118.559622 \r\nL 204.547931 117.17439 \r\nL 204.883066 117.792098 \r\nL 205.218201 113.772828 \r\nL 205.553336 113.113178 \r\nL 205.888471 111.330244 \r\nL 206.223606 115.027252 \r\nL 206.558742 113.475413 \r\nL 206.893877 112.613436 \r\nL 207.229012 114.617184 \r\nL 207.899282 113.071672 \r\nL 208.234417 116.491811 \r\nL 208.904687 109.628342 \r\nL 209.239823 109.971386 \r\nL 209.574958 114.196427 \r\nL 209.910093 111.842246 \r\nL 210.915498 102.27471 \r\nL 211.250633 100.457457 \r\nL 211.585769 101.830952 \r\nL 211.920904 101.064996 \r\nL 212.256039 99.103041 \r\nL 212.591174 99.047031 \r\nL 212.926309 101.893001 \r\nL 213.261444 98.763732 \r\nL 213.596579 99.774831 \r\nL 213.931715 97.209417 \r\nL 214.601985 106.653194 \r\nL 214.93712 109.825326 \r\nL 215.272255 111.477027 \r\nL 215.60739 111.095612 \r\nL 215.942525 109.910539 \r\nL 216.27766 109.815455 \r\nL 216.612796 109.158417 \r\nL 216.947931 107.928403 \r\nL 217.283066 108.103239 \r\nL 217.618201 106.549197 \r\nL 217.953336 107.62975 \r\nL 218.288471 108.32352 \r\nL 218.623606 104.83092 \r\nL 218.958742 103.414734 \r\nL 219.293877 105.566885 \r\nL 219.629012 106.490159 \r\nL 219.964147 111.265467 \r\nL 220.299282 110.707988 \r\nL 220.634417 114.772667 \r\nL 220.969552 114.041206 \r\nL 221.304688 112.411537 \r\nL 221.639823 106.421301 \r\nL 222.310093 104.766316 \r\nL 222.645228 105.839756 \r\nL 222.980363 105.461044 \r\nL 223.650633 103.720356 \r\nL 223.985769 105.142151 \r\nL 224.320904 103.21257 \r\nL 224.991174 106.554954 \r\nL 225.326309 102.981236 \r\nL 225.661444 107.883546 \r\nL 225.996579 103.94875 \r\nL 226.66685 105.163871 \r\nL 227.672255 108.608439 \r\nL 228.00739 111.257841 \r\nL 228.342525 111.443865 \r\nL 229.012796 106.087437 \r\nL 229.347931 107.638219 \r\nL 229.683066 104.765819 \r\nL 230.018201 108.022894 \r\nL 230.353336 105.59727 \r\nL 230.688471 106.379792 \r\nL 231.023606 106.136791 \r\nL 231.358742 104.880683 \r\nL 231.693877 102.678156 \r\nL 232.029012 97.788892 \r\nL 232.364147 99.123913 \r\nL 232.699282 97.142369 \r\nL 233.034417 103.312832 \r\nL 233.369552 99.622502 \r\nL 233.704688 100.588697 \r\nL 234.039823 100.826935 \r\nL 234.374958 106.952269 \r\nL 234.710093 109.734771 \r\nL 235.380363 105.070979 \r\nL 235.715498 103.721907 \r\nL 236.050633 105.108062 \r\nL 236.385769 105.140361 \r\nL 236.720904 106.581904 \r\nL 237.056039 104.745802 \r\nL 237.391174 104.848369 \r\nL 237.726309 109.787504 \r\nL 238.061444 109.429566 \r\nL 238.731715 99.234221 \r\nL 239.06685 100.388464 \r\nL 239.401985 100.678001 \r\nL 240.072255 103.371711 \r\nL 240.40739 100.737072 \r\nL 240.742525 100.741169 \r\nL 241.07766 102.099721 \r\nL 241.412796 102.551881 \r\nL 241.747931 105.290721 \r\nL 242.083066 105.389317 \r\nL 242.418201 101.973292 \r\nL 242.753336 96.306379 \r\nL 243.088471 100.370429 \r\nL 243.423606 92.644108 \r\nL 243.758742 91.728066 \r\nL 244.764147 87.543779 \r\nL 245.099282 86.646419 \r\nL 245.434417 86.410122 \r\nL 245.769552 86.441987 \r\nL 246.104687 86.937124 \r\nL 246.439823 88.916607 \r\nL 247.110093 81.27645 \r\nL 247.445228 83.076864 \r\nL 248.115498 76.490816 \r\nL 248.450633 75.968869 \r\nL 248.785769 78.189514 \r\nL 249.120904 76.957741 \r\nL 249.456039 77.112597 \r\nL 249.791174 79.128005 \r\nL 250.126309 79.870822 \r\nL 250.461444 76.682031 \r\nL 250.796579 77.892469 \r\nL 251.131715 75.030941 \r\nL 251.46685 76.58618 \r\nL 251.801985 76.11281 \r\nL 252.13712 76.594916 \r\nL 252.472255 79.941596 \r\nL 252.80739 81.382522 \r\nL 253.47766 73.440526 \r\nL 253.812796 75.501018 \r\nL 254.147931 76.222042 \r\nL 254.483066 77.400163 \r\nL 254.818201 73.379498 \r\nL 255.153336 74.264495 \r\nL 255.488471 72.183267 \r\nL 255.823606 74.875979 \r\nL 256.158742 73.680611 \r\nL 256.493877 72.933831 \r\nL 256.829012 68.303018 \r\nL 257.164147 71.154627 \r\nL 257.499282 68.156332 \r\nL 257.834417 63.665365 \r\nL 258.169552 66.752965 \r\nL 258.504687 65.442357 \r\nL 258.839823 65.400908 \r\nL 259.174958 69.964233 \r\nL 259.510093 65.038589 \r\nL 259.845228 64.920264 \r\nL 260.180363 68.463861 \r\nL 260.515498 67.756151 \r\nL 260.850633 67.878273 \r\nL 261.185769 68.642601 \r\nL 261.520904 67.875207 \r\nL 261.856039 67.63158 \r\nL 262.191174 65.365593 \r\nL 262.526309 68.838556 \r\nL 262.861444 68.556553 \r\nL 263.196579 63.53076 \r\nL 263.531715 66.318779 \r\nL 263.86685 66.389021 \r\nL 264.201985 70.912781 \r\nL 264.872255 65.918206 \r\nL 265.20739 65.346136 \r\nL 265.542525 67.022359 \r\nL 265.87766 67.863062 \r\nL 266.212796 67.71561 \r\nL 266.547931 71.349249 \r\nL 266.883066 69.53392 \r\nL 267.553336 64.867155 \r\nL 267.888471 66.767538 \r\nL 268.223606 67.137882 \r\nL 268.558742 68.268756 \r\nL 268.893877 66.389607 \r\nL 269.229012 69.410953 \r\nL 269.564147 67.520624 \r\nL 269.899282 71.433979 \r\nL 270.234417 70.766296 \r\nL 270.569552 68.714034 \r\nL 270.904687 65.043974 \r\nL 271.239823 65.04522 \r\nL 271.574958 69.118846 \r\nL 271.910093 66.898114 \r\nL 272.245228 61.454853 \r\nL 272.580363 59.986541 \r\nL 272.915498 63.731325 \r\nL 273.250633 64.951358 \r\nL 273.585769 68.604509 \r\nL 273.920904 67.957456 \r\nL 274.256039 71.986939 \r\nL 274.591174 70.912604 \r\nL 274.926309 69.197081 \r\nL 275.261444 73.597701 \r\nL 275.596579 74.748644 \r\nL 275.931715 75.457592 \r\nL 276.26685 74.782272 \r\nL 276.93712 78.176808 \r\nL 277.272255 81.158163 \r\nL 277.60739 78.745485 \r\nL 277.942525 78.983967 \r\nL 278.27766 76.508713 \r\nL 278.612796 78.763737 \r\nL 278.947931 81.922435 \r\nL 279.283066 79.708714 \r\nL 279.618201 80.519358 \r\nL 279.953336 79.024687 \r\nL 280.288471 76.570506 \r\nL 280.623606 76.20043 \r\nL 280.958742 73.172763 \r\nL 281.293877 72.404733 \r\nL 281.629012 74.138037 \r\nL 281.964147 71.88227 \r\nL 282.299282 72.234059 \r\nL 282.634417 73.255427 \r\nL 282.969552 78.036783 \r\nL 283.639823 70.468012 \r\nL 283.974958 71.292436 \r\nL 284.310093 70.555547 \r\nL 284.645228 65.608031 \r\nL 284.980363 66.491016 \r\nL 285.315498 66.372793 \r\nL 285.650633 68.539158 \r\nL 285.985769 69.665096 \r\nL 286.656039 66.962331 \r\nL 286.991174 65.324102 \r\nL 287.661444 60.171993 \r\nL 287.996579 61.82064 \r\nL 288.331715 57.512205 \r\nL 288.66685 57.601659 \r\nL 289.001985 56.362772 \r\nL 289.33712 59.821185 \r\nL 289.672255 56.635498 \r\nL 290.00739 57.478449 \r\nL 290.342525 58.67873 \r\nL 290.67766 58.361761 \r\nL 291.012796 57.596173 \r\nL 291.347931 53.345813 \r\nL 291.683066 51.924643 \r\nL 292.018201 54.412684 \r\nL 292.353336 53.276335 \r\nL 292.688471 51.345903 \r\nL 293.023606 52.703265 \r\nL 293.693877 46.14695 \r\nL 294.029012 47.451359 \r\nL 294.364147 45.838201 \r\nL 294.699282 46.262306 \r\nL 295.034417 42.614889 \r\nL 295.369552 41.978611 \r\nL 295.704688 42.440294 \r\nL 296.039823 43.472071 \r\nL 296.374958 42.208775 \r\nL 296.710093 45.742266 \r\nL 297.045228 47.49071 \r\nL 297.380363 47.1492 \r\nL 297.715498 47.5358 \r\nL 298.050633 52.461817 \r\nL 298.385769 53.308147 \r\nL 298.720904 49.955072 \r\nL 299.056039 49.838573 \r\nL 299.391174 48.023096 \r\nL 299.726309 48.663123 \r\nL 300.061444 47.980823 \r\nL 300.396579 46.913076 \r\nL 300.731715 51.44328 \r\nL 301.06685 52.152926 \r\nL 301.401985 56.382774 \r\nL 301.73712 54.391499 \r\nL 302.072255 53.800137 \r\nL 302.40739 54.752841 \r\nL 302.742525 54.636514 \r\nL 303.412796 61.452255 \r\nL 303.747931 60.979285 \r\nL 304.083066 59.419645 \r\nL 305.088471 49.861398 \r\nL 305.423606 51.239616 \r\nL 305.758742 48.463272 \r\nL 306.093877 40.575331 \r\nL 306.429012 37.777638 \r\nL 306.764147 38.202415 \r\nL 307.099282 36.923634 \r\nL 307.434417 36.86047 \r\nL 307.769552 35.087236 \r\nL 308.439823 42.034341 \r\nL 308.774958 45.470617 \r\nL 309.110093 41.913334 \r\nL 309.445228 42.088182 \r\nL 309.780363 41.514988 \r\nL 310.115498 41.30398 \r\nL 310.450633 40.892761 \r\nL 310.785769 39.855719 \r\nL 311.120904 44.50706 \r\nL 311.456039 43.31628 \r\nL 311.791174 39.525852 \r\nL 312.126309 40.954558 \r\nL 312.461444 43.702074 \r\nL 312.796579 40.472786 \r\nL 313.46685 47.492961 \r\nL 313.801985 42.381009 \r\nL 314.13712 41.411312 \r\nL 314.472255 43.559477 \r\nL 314.80739 43.025764 \r\nL 315.142525 43.945899 \r\nL 315.47766 42.451382 \r\nL 315.812796 43.1518 \r\nL 316.147931 41.748971 \r\nL 316.818201 48.095575 \r\nL 317.488471 40.232794 \r\nL 317.823606 39.792956 \r\nL 318.158742 38.846083 \r\nL 318.493877 38.242574 \r\nL 319.164147 45.695435 \r\nL 319.834417 42.729237 \r\nL 320.169552 46.650311 \r\nL 320.504687 47.78653 \r\nL 321.174958 51.65651 \r\nL 321.510093 51.934805 \r\nL 321.845228 52.45809 \r\nL 322.180363 54.454932 \r\nL 322.515498 54.798881 \r\nL 322.850633 57.711794 \r\nL 323.520904 53.274945 \r\nL 323.856039 55.099331 \r\nL 324.191174 54.125534 \r\nL 324.526309 56.310005 \r\nL 324.861444 56.409411 \r\nL 325.196579 61.806223 \r\nL 325.531715 58.179182 \r\nL 325.86685 57.929163 \r\nL 326.201985 55.182654 \r\nL 326.53712 56.625326 \r\nL 326.872255 54.482139 \r\nL 327.542525 57.67563 \r\nL 327.87766 56.6831 \r\nL 328.212796 55.321512 \r\nL 328.547931 54.949613 \r\nL 328.883066 53.283794 \r\nL 329.218201 50.319963 \r\nL 329.553336 51.149415 \r\nL 329.888471 49.088889 \r\nL 330.223606 48.082143 \r\nL 330.558742 48.297739 \r\nL 331.229012 53.887756 \r\nL 331.564147 48.267373 \r\nL 331.899282 47.143274 \r\nL 332.234417 51.278421 \r\nL 333.239823 46.332801 \r\nL 333.574958 43.366496 \r\nL 333.910093 45.560581 \r\nL 334.245228 44.083726 \r\nL 334.580363 45.299512 \r\nL 334.915498 40.695488 \r\nL 335.250633 39.195178 \r\nL 335.585769 36.853418 \r\nL 335.920904 32.419103 \r\nL 336.256039 34.46396 \r\nL 336.591174 30.598414 \r\nL 336.926309 29.065209 \r\nL 337.261444 26.349857 \r\nL 337.596579 28.8924 \r\nL 337.931715 26.587653 \r\nL 338.26685 27.677842 \r\nL 338.601985 29.643202 \r\nL 338.93712 29.505153 \r\nL 339.272255 30.306322 \r\nL 339.60739 30.237883 \r\nL 339.942525 32.549496 \r\nL 340.27766 33.563327 \r\nL 340.612796 34.125159 \r\nL 340.947931 37.714986 \r\nL 341.283066 37.767009 \r\nL 341.953336 33.772689 \r\nL 342.288471 30.958313 \r\nL 342.958742 33.551266 \r\nL 343.293877 42.021091 \r\nL 343.629012 41.322542 \r\nL 343.964147 39.592942 \r\nL 344.299282 39.345561 \r\nL 344.634417 43.610464 \r\nL 344.969552 43.506353 \r\nL 345.304688 41.695451 \r\nL 345.639823 46.364661 \r\nL 345.974958 46.146465 \r\nL 346.310093 43.729633 \r\nL 346.980363 46.247002 \r\nL 347.315498 50.254877 \r\nL 347.650633 48.24508 \r\nL 347.985769 50.001006 \r\nL 348.320904 49.662937 \r\nL 348.656039 45.619014 \r\nL 348.991174 49.552001 \r\nL 349.326309 46.094015 \r\nL 349.661444 46.647848 \r\nL 349.996579 43.320898 \r\nL 350.331715 46.84392 \r\nL 350.66685 48.702009 \r\nL 351.001985 48.856277 \r\nL 351.33712 50.86302 \r\nL 351.672255 53.559836 \r\nL 352.00739 53.820571 \r\nL 352.342525 51.82689 \r\nL 352.67766 56.037631 \r\nL 353.012796 53.685314 \r\nL 353.347931 52.396499 \r\nL 354.353336 53.678973 \r\nL 354.688471 53.583167 \r\nL 355.023606 51.16889 \r\nL 355.358742 51.936333 \r\nL 356.029012 51.01065 \r\nL 356.364147 50.092347 \r\nL 356.699282 47.69475 \r\nL 357.034417 50.529299 \r\nL 357.369552 48.399274 \r\nL 357.704688 49.098987 \r\nL 358.039823 51.679639 \r\nL 358.374958 52.165863 \r\nL 358.710093 50.201602 \r\nL 359.045228 46.461644 \r\nL 359.380363 45.226251 \r\nL 359.715498 44.934803 \r\nL 360.050633 47.068662 \r\nL 360.385769 47.101682 \r\nL 360.720904 46.430167 \r\nL 361.056039 46.505289 \r\nL 361.726309 56.696696 \r\nL 362.061444 57.063184 \r\nL 362.396579 59.236767 \r\nL 362.731715 59.796236 \r\nL 363.06685 61.644806 \r\nL 363.401985 65.890534 \r\nL 363.73712 66.488614 \r\nL 364.40739 70.907194 \r\nL 364.742525 70.705606 \r\nL 365.07766 76.595032 \r\nL 365.412796 77.03701 \r\nL 365.747931 78.801189 \r\nL 366.083066 77.487448 \r\nL 366.418201 76.96596 \r\nL 366.753336 78.114981 \r\nL 367.088471 80.855579 \r\nL 367.423606 85.010603 \r\nL 367.758742 82.17625 \r\nL 368.093877 77.656537 \r\nL 368.429012 77.899822 \r\nL 368.764147 78.328016 \r\nL 369.099282 78.444525 \r\nL 369.434417 81.680558 \r\nL 370.104688 82.849081 \r\nL 370.104688 82.849081 \r\n\" style=\"fill:none;stroke:#ff7f0e;stroke-linecap:square;stroke-width:1.5;\"/>\r\n   </g>\r\n   <g id=\"line2d_45\">\r\n    <path clip-path=\"url(#pb42b79877b)\" d=\"M 35.304688 86.689783 \r\nL 35.639823 87.71261 \r\nL 35.974958 91.908289 \r\nL 37.315498 83.739652 \r\nL 37.650633 86.920908 \r\nL 37.985769 84.690798 \r\nL 38.320904 85.757702 \r\nL 38.991174 89.551742 \r\nL 39.326309 93.420017 \r\nL 39.661444 93.642934 \r\nL 39.996579 91.38533 \r\nL 40.331715 86.56662 \r\nL 40.66685 85.082618 \r\nL 41.001985 85.434059 \r\nL 41.33712 83.486612 \r\nL 41.672255 86.564574 \r\nL 42.00739 86.716459 \r\nL 42.342525 85.578382 \r\nL 42.67766 86.566979 \r\nL 43.012796 85.478784 \r\nL 43.347931 88.156046 \r\nL 43.683066 85.537033 \r\nL 44.018201 84.534713 \r\nL 44.353336 89.220098 \r\nL 44.688471 90.570993 \r\nL 45.023606 91.0391 \r\nL 45.358742 88.288972 \r\nL 45.693877 90.014542 \r\nL 46.029012 90.486127 \r\nL 46.364147 86.300677 \r\nL 46.699282 86.563351 \r\nL 47.034417 87.393177 \r\nL 47.369552 84.057977 \r\nL 47.704688 82.350623 \r\nL 48.374958 87.269293 \r\nL 48.710093 87.781566 \r\nL 49.380363 91.961328 \r\nL 49.715498 95.054467 \r\nL 50.050633 99.2462 \r\nL 50.385769 100.839857 \r\nL 50.720904 104.047798 \r\nL 51.056039 105.01625 \r\nL 51.391174 107.797475 \r\nL 51.726309 107.117348 \r\nL 52.061444 104.060287 \r\nL 52.396579 102.751655 \r\nL 52.731715 103.150013 \r\nL 53.401985 103.325173 \r\nL 53.73712 97.764449 \r\nL 54.072255 98.036213 \r\nL 54.742525 92.308839 \r\nL 55.07766 92.964692 \r\nL 55.412796 89.900448 \r\nL 55.747931 90.367005 \r\nL 56.418201 85.57735 \r\nL 56.753336 87.247188 \r\nL 57.423606 83.067477 \r\nL 57.758742 84.496766 \r\nL 58.093877 85.028703 \r\nL 58.429012 83.283146 \r\nL 58.764147 84.257234 \r\nL 59.099282 88.437298 \r\nL 59.434417 87.411962 \r\nL 59.769552 93.420228 \r\nL 60.104687 93.044506 \r\nL 60.439823 94.12089 \r\nL 60.774958 92.365812 \r\nL 61.110093 92.306927 \r\nL 61.445228 95.871778 \r\nL 61.780363 97.007122 \r\nL 62.115498 93.709924 \r\nL 62.450633 97.667656 \r\nL 62.785769 97.715113 \r\nL 63.120904 99.075828 \r\nL 63.456039 98.523281 \r\nL 63.791174 97.745093 \r\nL 64.126309 95.611207 \r\nL 64.461444 96.249965 \r\nL 64.796579 97.886059 \r\nL 65.131715 95.724292 \r\nL 65.46685 91.155272 \r\nL 65.801985 89.269817 \r\nL 66.13712 94.93565 \r\nL 66.80739 93.514161 \r\nL 67.142525 93.594318 \r\nL 67.812796 99.08675 \r\nL 68.147931 100.039784 \r\nL 68.483066 100.125379 \r\nL 68.818201 100.689125 \r\nL 69.153336 99.022041 \r\nL 69.488471 102.303284 \r\nL 69.823606 100.805672 \r\nL 70.493877 100.72007 \r\nL 70.829012 98.169501 \r\nL 71.164147 97.560273 \r\nL 71.499282 94.953819 \r\nL 71.834417 97.250311 \r\nL 72.169552 94.361116 \r\nL 72.504687 94.768465 \r\nL 72.839823 91.027638 \r\nL 73.174958 90.500191 \r\nL 73.845228 91.979407 \r\nL 74.180363 89.87525 \r\nL 74.515498 91.382779 \r\nL 74.850633 95.55034 \r\nL 75.185769 93.002773 \r\nL 75.520904 91.980258 \r\nL 75.856039 87.170166 \r\nL 76.191174 94.938815 \r\nL 76.526309 96.017441 \r\nL 76.861444 98.968267 \r\nL 77.196579 98.814865 \r\nL 77.531715 99.100007 \r\nL 77.86685 100.396482 \r\nL 78.201985 102.942612 \r\nL 78.53712 104.481356 \r\nL 79.20739 103.797157 \r\nL 79.542525 110.358083 \r\nL 79.87766 111.137498 \r\nL 80.212796 105.658296 \r\nL 80.547931 104.478396 \r\nL 80.883066 104.467896 \r\nL 81.218201 100.059501 \r\nL 81.553336 99.240177 \r\nL 81.888471 101.016492 \r\nL 82.223606 100.979265 \r\nL 82.558742 102.029419 \r\nL 83.564147 96.750128 \r\nL 83.899282 96.158315 \r\nL 84.234417 91.158812 \r\nL 84.569552 88.049807 \r\nL 84.904687 88.987571 \r\nL 85.239823 89.444293 \r\nL 85.574958 91.797041 \r\nL 85.910093 91.197786 \r\nL 86.245228 84.090383 \r\nL 86.580363 84.085182 \r\nL 86.915498 82.761489 \r\nL 87.250633 85.560673 \r\nL 87.920904 88.716206 \r\nL 88.256039 89.246504 \r\nL 88.591174 86.521407 \r\nL 88.926309 92.353412 \r\nL 89.261444 91.323197 \r\nL 89.596579 91.307415 \r\nL 89.931715 94.956047 \r\nL 90.26685 95.525295 \r\nL 90.601985 96.38879 \r\nL 90.93712 98.371054 \r\nL 91.272255 96.962751 \r\nL 91.60739 100.361654 \r\nL 91.942525 99.165497 \r\nL 92.27766 99.252409 \r\nL 92.612796 96.975377 \r\nL 93.283066 97.070847 \r\nL 93.618201 98.291308 \r\nL 93.953336 100.359624 \r\nL 94.288471 98.104739 \r\nL 94.623606 97.485989 \r\nL 94.958742 101.893866 \r\nL 95.293877 104.012744 \r\nL 95.629012 99.918142 \r\nL 95.964147 101.839241 \r\nL 96.299282 99.39979 \r\nL 96.634417 92.555211 \r\nL 96.969552 94.758405 \r\nL 97.304688 93.669791 \r\nL 97.974958 97.097933 \r\nL 98.310093 91.471757 \r\nL 98.645228 90.236814 \r\nL 98.980363 90.365129 \r\nL 99.315498 86.889039 \r\nL 99.650633 92.21933 \r\nL 100.320904 89.162642 \r\nL 100.991174 97.345435 \r\nL 101.326309 97.362432 \r\nL 101.661444 95.849994 \r\nL 101.996579 97.464938 \r\nL 102.331715 92.886806 \r\nL 102.66685 91.725418 \r\nL 103.001985 89.343839 \r\nL 103.33712 93.981999 \r\nL 104.342525 99.7749 \r\nL 104.67766 97.293312 \r\nL 105.012796 100.05005 \r\nL 105.683066 93.000463 \r\nL 106.018201 98.506851 \r\nL 106.353336 95.30906 \r\nL 106.688471 89.143871 \r\nL 107.023606 90.600596 \r\nL 107.358742 88.639872 \r\nL 108.029012 96.39446 \r\nL 108.364147 92.859044 \r\nL 108.699282 97.872622 \r\nL 109.034417 96.845307 \r\nL 109.704688 90.90315 \r\nL 110.039823 92.223926 \r\nL 110.374958 90.710721 \r\nL 110.710093 90.987951 \r\nL 111.045228 86.528449 \r\nL 111.380363 79.269324 \r\nL 111.715498 79.321596 \r\nL 112.050633 81.825246 \r\nL 112.385769 79.343328 \r\nL 112.720904 81.006063 \r\nL 113.056039 83.246405 \r\nL 113.391174 87.062986 \r\nL 113.726309 95.934601 \r\nL 114.396579 98.734782 \r\nL 114.731715 96.92914 \r\nL 115.06685 102.998529 \r\nL 115.401985 99.75159 \r\nL 116.072255 104.502025 \r\nL 116.40739 105.256848 \r\nL 116.742525 110.042231 \r\nL 117.07766 106.968879 \r\nL 117.412796 100.547146 \r\nL 117.747931 101.950428 \r\nL 118.083066 101.95471 \r\nL 118.418201 105.706026 \r\nL 119.088471 103.390069 \r\nL 119.423606 100.087201 \r\nL 119.758742 100.034799 \r\nL 120.093877 101.840316 \r\nL 120.429012 101.207248 \r\nL 120.764147 104.174292 \r\nL 121.099282 102.611113 \r\nL 121.434417 103.327074 \r\nL 121.769552 101.861751 \r\nL 122.104687 102.474764 \r\nL 122.439823 102.780939 \r\nL 122.774958 104.309582 \r\nL 123.110093 104.816398 \r\nL 123.445228 103.67307 \r\nL 123.780363 100.065924 \r\nL 124.115498 97.745311 \r\nL 124.450633 99.19123 \r\nL 124.785769 98.429231 \r\nL 125.120904 99.878917 \r\nL 125.456039 99.6782 \r\nL 125.791174 103.242368 \r\nL 126.126309 102.858707 \r\nL 126.461444 101.35051 \r\nL 126.796579 106.734938 \r\nL 127.131715 108.922626 \r\nL 127.801985 105.915235 \r\nL 128.13712 101.861023 \r\nL 129.142525 94.45453 \r\nL 129.47766 97.794554 \r\nL 129.812796 96.009389 \r\nL 130.147931 96.917576 \r\nL 130.483066 101.282104 \r\nL 130.818201 97.410834 \r\nL 131.153336 97.197613 \r\nL 131.488471 97.5063 \r\nL 131.823606 98.778059 \r\nL 132.158742 99.542848 \r\nL 132.493877 98.399687 \r\nL 132.829012 102.429325 \r\nL 133.164147 104.430828 \r\nL 133.499282 102.599188 \r\nL 133.834417 103.534295 \r\nL 134.169552 108.486629 \r\nL 134.504687 105.43546 \r\nL 134.839823 105.144265 \r\nL 135.174958 102.593486 \r\nL 135.510093 100.922329 \r\nL 135.845228 105.450433 \r\nL 136.180363 107.254709 \r\nL 136.515498 107.538464 \r\nL 136.850633 106.641971 \r\nL 137.185769 108.026147 \r\nL 137.520904 105.665579 \r\nL 137.856039 106.590351 \r\nL 138.191174 111.678368 \r\nL 138.861444 116.545394 \r\nL 139.196579 115.534426 \r\nL 139.531715 113.868174 \r\nL 139.86685 117.689214 \r\nL 140.201985 117.893765 \r\nL 140.53712 120.632962 \r\nL 140.872255 120.300703 \r\nL 141.20739 117.88992 \r\nL 141.542525 119.340521 \r\nL 141.87766 119.709507 \r\nL 142.212796 119.119754 \r\nL 142.547931 121.428337 \r\nL 142.883066 116.805188 \r\nL 143.218201 121.082035 \r\nL 143.553336 121.64087 \r\nL 143.888471 124.642395 \r\nL 144.558742 117.86508 \r\nL 144.893877 121.818681 \r\nL 145.229012 128.808306 \r\nL 145.564147 129.090927 \r\nL 145.899282 128.577128 \r\nL 146.234417 129.430382 \r\nL 146.569552 131.752773 \r\nL 146.904687 131.34505 \r\nL 147.574958 121.002172 \r\nL 147.910093 122.29697 \r\nL 148.245228 118.674598 \r\nL 148.580363 118.323546 \r\nL 148.915498 119.44628 \r\nL 149.250633 123.698697 \r\nL 149.585769 122.797598 \r\nL 149.920904 120.19624 \r\nL 150.256039 120.444648 \r\nL 150.591174 116.615976 \r\nL 150.926309 116.868323 \r\nL 151.261444 117.760518 \r\nL 151.596579 122.533723 \r\nL 151.931715 123.734438 \r\nL 152.601985 117.092418 \r\nL 153.272255 119.331468 \r\nL 153.60739 122.367118 \r\nL 153.942525 123.090832 \r\nL 154.27766 124.315627 \r\nL 154.612796 120.511765 \r\nL 154.947931 119.553996 \r\nL 155.618201 114.319592 \r\nL 155.953336 114.143958 \r\nL 156.288471 113.134847 \r\nL 157.629012 104.448318 \r\nL 157.964147 104.802033 \r\nL 158.299282 101.581765 \r\nL 158.969552 98.293848 \r\nL 159.639823 99.565144 \r\nL 159.974958 100.995607 \r\nL 160.310093 100.773032 \r\nL 160.645228 106.241726 \r\nL 160.980363 104.266712 \r\nL 161.315498 105.623988 \r\nL 161.650633 108.851384 \r\nL 161.985769 106.729421 \r\nL 162.320904 106.04454 \r\nL 162.656039 107.118642 \r\nL 163.326309 112.907773 \r\nL 163.661444 110.006745 \r\nL 163.996579 109.986683 \r\nL 164.331715 113.112825 \r\nL 164.66685 113.233808 \r\nL 165.001985 112.007425 \r\nL 165.33712 114.880113 \r\nL 165.672255 109.888758 \r\nL 166.00739 113.372336 \r\nL 166.342525 114.062161 \r\nL 166.67766 113.573883 \r\nL 167.012796 113.628891 \r\nL 167.347931 116.076478 \r\nL 167.683066 116.243131 \r\nL 168.018201 116.814897 \r\nL 168.353336 118.63331 \r\nL 168.688471 118.793071 \r\nL 169.023606 115.3411 \r\nL 169.358742 118.098382 \r\nL 169.693877 115.472061 \r\nL 170.699282 122.694169 \r\nL 171.034417 122.936846 \r\nL 171.704688 117.48551 \r\nL 172.039823 121.840485 \r\nL 172.374958 117.630061 \r\nL 172.710093 117.501675 \r\nL 173.045228 121.325173 \r\nL 173.380363 121.63382 \r\nL 173.715498 119.954421 \r\nL 174.050633 120.924564 \r\nL 174.385769 119.75896 \r\nL 174.720904 114.842658 \r\nL 175.056039 118.378954 \r\nL 175.391174 119.740735 \r\nL 175.726309 121.749673 \r\nL 176.061444 119.025839 \r\nL 176.396579 117.736996 \r\nL 176.731715 119.686805 \r\nL 177.06685 117.429825 \r\nL 177.401985 118.869513 \r\nL 177.73712 115.909448 \r\nL 178.072255 114.498584 \r\nL 178.40739 111.693887 \r\nL 178.742525 114.838308 \r\nL 179.07766 115.85983 \r\nL 179.412796 115.013161 \r\nL 180.083066 116.114413 \r\nL 180.418201 117.687817 \r\nL 180.753336 118.574691 \r\nL 181.088471 118.373013 \r\nL 181.423606 123.964025 \r\nL 182.093877 127.557419 \r\nL 182.429012 131.047716 \r\nL 182.764147 136.869135 \r\nL 183.099282 136.754836 \r\nL 183.434417 138.817999 \r\nL 183.769552 137.05848 \r\nL 184.104687 136.679463 \r\nL 184.439823 136.940444 \r\nL 184.774958 135.770815 \r\nL 185.110093 132.489719 \r\nL 185.445228 132.780769 \r\nL 185.780363 133.920876 \r\nL 186.115498 134.305011 \r\nL 186.450633 138.270818 \r\nL 186.785769 136.178429 \r\nL 187.120904 132.249476 \r\nL 187.456039 130.309254 \r\nL 187.791174 130.77692 \r\nL 188.126309 127.486879 \r\nL 188.461444 128.637883 \r\nL 188.796579 124.461556 \r\nL 189.131715 117.318936 \r\nL 189.46685 118.138638 \r\nL 190.13712 118.909591 \r\nL 190.472255 120.352966 \r\nL 190.80739 114.713152 \r\nL 191.142525 113.305548 \r\nL 191.47766 110.553712 \r\nL 191.812796 112.149683 \r\nL 192.147931 109.709981 \r\nL 192.483066 110.460172 \r\nL 192.818201 109.388762 \r\nL 193.153336 107.705457 \r\nL 193.488471 112.189331 \r\nL 193.823606 111.533161 \r\nL 194.158742 112.384079 \r\nL 194.493877 114.916656 \r\nL 194.829012 116.198294 \r\nL 195.164147 115.123421 \r\nL 195.499282 117.031444 \r\nL 196.169552 115.07842 \r\nL 196.504687 116.967738 \r\nL 196.839823 118.019056 \r\nL 197.510093 117.179205 \r\nL 197.845228 118.312121 \r\nL 198.180363 118.837032 \r\nL 198.515498 118.854599 \r\nL 198.850633 116.716162 \r\nL 199.185769 117.99465 \r\nL 199.520904 116.781952 \r\nL 199.856039 114.240599 \r\nL 200.191174 114.152143 \r\nL 200.526309 110.692338 \r\nL 200.861444 115.804666 \r\nL 201.196579 117.589721 \r\nL 201.531715 120.790388 \r\nL 201.86685 119.767209 \r\nL 202.201985 123.023343 \r\nL 202.872255 125.695493 \r\nL 203.20739 124.013106 \r\nL 203.542525 124.054936 \r\nL 203.87766 125.727348 \r\nL 204.212796 126.275291 \r\nL 204.547931 126.600341 \r\nL 204.883066 128.107035 \r\nL 205.218201 130.291224 \r\nL 205.553336 128.678758 \r\nL 206.223606 126.546779 \r\nL 206.558742 127.711075 \r\nL 206.893877 128.45459 \r\nL 207.229012 128.42137 \r\nL 207.899282 133.641166 \r\nL 208.569552 127.579712 \r\nL 208.904687 129.696672 \r\nL 209.239823 133.969955 \r\nL 209.574958 133.761711 \r\nL 209.910093 134.619679 \r\nL 210.245228 132.512274 \r\nL 210.580363 133.706798 \r\nL 210.915498 134.293511 \r\nL 211.585769 136.233984 \r\nL 211.920904 133.581077 \r\nL 212.256039 135.534244 \r\nL 212.591174 133.636017 \r\nL 212.926309 137.62478 \r\nL 213.261444 138.930173 \r\nL 213.596579 138.173815 \r\nL 213.931715 136.758244 \r\nL 214.26685 139.616077 \r\nL 214.601985 138.842872 \r\nL 214.93712 139.483383 \r\nL 215.272255 136.144719 \r\nL 215.60739 134.381947 \r\nL 215.942525 133.775838 \r\nL 216.27766 131.049842 \r\nL 216.612796 129.63714 \r\nL 216.947931 125.197674 \r\nL 217.283066 129.135816 \r\nL 217.618201 129.395683 \r\nL 217.953336 130.812579 \r\nL 218.288471 129.751508 \r\nL 218.623606 131.57202 \r\nL 218.958742 132.039433 \r\nL 219.293877 129.62534 \r\nL 219.629012 130.571223 \r\nL 219.964147 129.24552 \r\nL 220.634417 129.997838 \r\nL 220.969552 133.689994 \r\nL 221.304688 128.797922 \r\nL 221.639823 126.445566 \r\nL 221.974958 122.73168 \r\nL 222.310093 122.40598 \r\nL 222.645228 120.498083 \r\nL 222.980363 116.850898 \r\nL 223.315498 115.676628 \r\nL 223.650633 117.882998 \r\nL 224.320904 114.53349 \r\nL 224.656039 115.808484 \r\nL 224.991174 112.649887 \r\nL 225.326309 118.367809 \r\nL 225.996579 111.636213 \r\nL 226.331715 113.629005 \r\nL 226.66685 112.943815 \r\nL 227.001985 111.204598 \r\nL 227.672255 116.492178 \r\nL 228.00739 117.484938 \r\nL 228.342525 112.86904 \r\nL 229.012796 107.84255 \r\nL 229.347931 111.423744 \r\nL 229.683066 105.736271 \r\nL 230.353336 98.637566 \r\nL 230.688471 98.538716 \r\nL 231.023606 107.490275 \r\nL 231.358742 105.055432 \r\nL 231.693877 105.177658 \r\nL 232.029012 105.929892 \r\nL 232.364147 106.274171 \r\nL 232.699282 109.178723 \r\nL 233.034417 109.890285 \r\nL 233.369552 110.950211 \r\nL 233.704688 108.304613 \r\nL 234.039823 103.074779 \r\nL 234.374958 101.026021 \r\nL 234.710093 102.499925 \r\nL 235.045228 99.483087 \r\nL 235.380363 103.322712 \r\nL 235.715498 98.182583 \r\nL 236.050633 100.885063 \r\nL 236.385769 99.88903 \r\nL 236.720904 101.540158 \r\nL 237.056039 100.793554 \r\nL 237.391174 98.22585 \r\nL 238.061444 102.429686 \r\nL 238.396579 101.39371 \r\nL 239.06685 97.916234 \r\nL 239.401985 95.138403 \r\nL 239.73712 96.646789 \r\nL 240.072255 97.604502 \r\nL 240.40739 100.940777 \r\nL 240.742525 103.068821 \r\nL 241.07766 101.512993 \r\nL 241.412796 101.397461 \r\nL 241.747931 105.544784 \r\nL 242.083066 104.69073 \r\nL 242.418201 105.981232 \r\nL 242.753336 105.730545 \r\nL 243.423606 99.448375 \r\nL 243.758742 97.555446 \r\nL 244.429012 90.312958 \r\nL 244.764147 85.827035 \r\nL 245.099282 89.745475 \r\nL 245.434417 92.35703 \r\nL 245.769552 100.228255 \r\nL 246.104687 98.382053 \r\nL 246.439823 102.432333 \r\nL 246.774958 103.008467 \r\nL 247.110093 105.397045 \r\nL 247.445228 109.966317 \r\nL 248.115498 114.896891 \r\nL 248.450633 109.305961 \r\nL 248.785769 110.00151 \r\nL 249.120904 110.979904 \r\nL 249.456039 109.837315 \r\nL 250.126309 105.447189 \r\nL 250.461444 106.907629 \r\nL 250.796579 104.910617 \r\nL 251.131715 106.681232 \r\nL 251.46685 106.094236 \r\nL 251.801985 105.989618 \r\nL 252.472255 101.432141 \r\nL 252.80739 103.566412 \r\nL 253.142525 100.894063 \r\nL 253.812796 104.934196 \r\nL 254.147931 104.279533 \r\nL 254.483066 110.004749 \r\nL 254.818201 107.844267 \r\nL 255.153336 111.499353 \r\nL 255.488471 110.333128 \r\nL 256.158742 104.977259 \r\nL 256.493877 110.221585 \r\nL 256.829012 111.439322 \r\nL 257.164147 114.632093 \r\nL 257.499282 112.14428 \r\nL 257.834417 110.542126 \r\nL 258.169552 113.999649 \r\nL 258.504687 113.18038 \r\nL 258.839823 116.517906 \r\nL 259.174958 113.554054 \r\nL 259.510093 113.062679 \r\nL 259.845228 118.035436 \r\nL 260.515498 119.720084 \r\nL 261.185769 113.571746 \r\nL 261.520904 113.907359 \r\nL 261.856039 115.770993 \r\nL 262.191174 118.463334 \r\nL 262.526309 124.994053 \r\nL 262.861444 127.771764 \r\nL 263.196579 127.903917 \r\nL 263.531715 128.67861 \r\nL 263.86685 125.662906 \r\nL 264.201985 126.67124 \r\nL 264.53712 126.267086 \r\nL 264.872255 122.086192 \r\nL 265.20739 119.397087 \r\nL 265.542525 120.582525 \r\nL 265.87766 123.781924 \r\nL 266.547931 126.287031 \r\nL 266.883066 124.3152 \r\nL 267.553336 130.155571 \r\nL 267.888471 131.091843 \r\nL 268.223606 133.580202 \r\nL 268.558742 132.126964 \r\nL 268.893877 131.844161 \r\nL 269.229012 127.233919 \r\nL 269.564147 125.656214 \r\nL 269.899282 124.722842 \r\nL 270.234417 124.798088 \r\nL 270.569552 127.670757 \r\nL 270.904687 128.472188 \r\nL 271.574958 126.067722 \r\nL 272.245228 132.245737 \r\nL 272.580363 133.298352 \r\nL 272.915498 133.79707 \r\nL 273.250633 130.295565 \r\nL 273.920904 136.127891 \r\nL 274.256039 134.632681 \r\nL 274.591174 134.381194 \r\nL 274.926309 132.904075 \r\nL 275.261444 130.372047 \r\nL 275.596579 131.185721 \r\nL 275.931715 130.356887 \r\nL 276.26685 131.794367 \r\nL 276.601985 131.62618 \r\nL 276.93712 132.702456 \r\nL 277.272255 129.337243 \r\nL 277.60739 129.864701 \r\nL 277.942525 132.575608 \r\nL 278.27766 137.079156 \r\nL 278.947931 140.084237 \r\nL 279.283066 140.394132 \r\nL 279.618201 142.413422 \r\nL 279.953336 146.894504 \r\nL 280.288471 141.49318 \r\nL 280.623606 144.059883 \r\nL 280.958742 145.235233 \r\nL 281.293877 145.763058 \r\nL 281.629012 146.762929 \r\nL 281.964147 148.658464 \r\nL 282.299282 145.464522 \r\nL 282.634417 145.338106 \r\nL 282.969552 149.420829 \r\nL 283.304688 146.396301 \r\nL 283.639823 146.860432 \r\nL 283.974958 145.869434 \r\nL 284.310093 147.098413 \r\nL 284.645228 146.437235 \r\nL 284.980363 148.084128 \r\nL 285.650633 144.7504 \r\nL 285.985769 146.936471 \r\nL 286.320904 145.80389 \r\nL 286.656039 151.658942 \r\nL 286.991174 149.764379 \r\nL 287.326309 146.814269 \r\nL 287.661444 140.856517 \r\nL 288.331715 139.608861 \r\nL 288.66685 137.16704 \r\nL 289.001985 138.739938 \r\nL 289.33712 137.072979 \r\nL 289.672255 138.944436 \r\nL 290.00739 139.258537 \r\nL 290.67766 129.836986 \r\nL 291.012796 130.382419 \r\nL 291.347931 131.262952 \r\nL 291.683066 129.192093 \r\nL 292.018201 128.232693 \r\nL 292.353336 128.086748 \r\nL 292.688471 131.180856 \r\nL 293.023606 129.749672 \r\nL 293.358742 131.365414 \r\nL 293.693877 135.490848 \r\nL 294.029012 134.471767 \r\nL 294.364147 134.71081 \r\nL 294.699282 131.994113 \r\nL 295.034417 132.416754 \r\nL 295.369552 136.417511 \r\nL 295.704688 133.256059 \r\nL 296.039823 133.721565 \r\nL 296.374958 128.073138 \r\nL 296.710093 124.494474 \r\nL 297.715498 104.299461 \r\nL 298.050633 105.272838 \r\nL 298.385769 103.598943 \r\nL 298.720904 101.2106 \r\nL 299.056039 100.217553 \r\nL 300.061444 91.442443 \r\nL 300.731715 98.872964 \r\nL 301.401985 103.502816 \r\nL 301.73712 101.110089 \r\nL 302.072255 101.069794 \r\nL 302.40739 101.225589 \r\nL 302.742525 105.032877 \r\nL 303.07766 103.498941 \r\nL 303.412796 103.433775 \r\nL 303.747931 106.87138 \r\nL 304.083066 106.306885 \r\nL 304.418201 106.765376 \r\nL 304.753336 108.641524 \r\nL 305.088471 111.964839 \r\nL 305.423606 117.433464 \r\nL 305.758742 118.743152 \r\nL 306.093877 117.712933 \r\nL 306.429012 118.18567 \r\nL 306.764147 118.261699 \r\nL 307.099282 122.187423 \r\nL 307.434417 119.515581 \r\nL 307.769552 119.376395 \r\nL 308.104688 123.996364 \r\nL 309.110093 128.191805 \r\nL 309.445228 126.745861 \r\nL 309.780363 129.036759 \r\nL 310.450633 130.460563 \r\nL 310.785769 129.882136 \r\nL 311.120904 129.763925 \r\nL 311.456039 126.981038 \r\nL 311.791174 127.257292 \r\nL 312.126309 121.297992 \r\nL 312.461444 122.206908 \r\nL 312.796579 120.947083 \r\nL 313.131715 122.445335 \r\nL 313.46685 124.670003 \r\nL 313.801985 125.232293 \r\nL 314.13712 127.841875 \r\nL 314.80739 135.222118 \r\nL 315.47766 134.189349 \r\nL 315.812796 142.317487 \r\nL 316.147931 144.55605 \r\nL 316.483066 143.57072 \r\nL 316.818201 144.788534 \r\nL 317.153336 143.041666 \r\nL 317.488471 142.942391 \r\nL 317.823606 143.421475 \r\nL 318.158742 142.129894 \r\nL 318.493877 145.348297 \r\nL 318.829012 139.655796 \r\nL 319.164147 137.771284 \r\nL 319.499282 141.720658 \r\nL 319.834417 139.410453 \r\nL 320.169552 140.146362 \r\nL 320.504687 138.105206 \r\nL 321.174958 143.095461 \r\nL 321.510093 142.114259 \r\nL 321.845228 148.331973 \r\nL 322.180363 146.33756 \r\nL 322.515498 141.705821 \r\nL 322.850633 139.186352 \r\nL 323.185769 139.068561 \r\nL 323.520904 142.662394 \r\nL 323.856039 143.186779 \r\nL 324.191174 144.037855 \r\nL 324.526309 142.496017 \r\nL 324.861444 144.925 \r\nL 325.196579 143.282631 \r\nL 325.531715 147.512849 \r\nL 325.86685 149.190026 \r\nL 326.201985 147.72344 \r\nL 326.53712 144.467109 \r\nL 326.872255 145.719334 \r\nL 327.20739 145.474071 \r\nL 327.542525 150.19438 \r\nL 327.87766 150.654377 \r\nL 328.212796 149.155626 \r\nL 328.547931 146.096934 \r\nL 328.883066 146.510503 \r\nL 329.218201 145.531284 \r\nL 329.553336 143.643942 \r\nL 329.888471 143.410508 \r\nL 330.223606 145.3733 \r\nL 330.558742 145.930406 \r\nL 330.893877 144.980589 \r\nL 331.229012 146.678397 \r\nL 332.569552 131.418146 \r\nL 332.904687 131.39536 \r\nL 333.574958 125.126056 \r\nL 334.245228 119.218676 \r\nL 334.580363 119.121211 \r\nL 334.915498 118.424434 \r\nL 335.250633 117.382496 \r\nL 335.585769 120.061924 \r\nL 336.256039 111.231818 \r\nL 336.591174 111.068266 \r\nL 336.926309 110.611541 \r\nL 337.261444 113.736494 \r\nL 337.596579 112.28083 \r\nL 337.931715 118.611647 \r\nL 338.26685 117.714667 \r\nL 339.272255 103.675778 \r\nL 339.60739 105.099105 \r\nL 339.942525 105.904036 \r\nL 340.27766 107.54147 \r\nL 340.612796 102.618314 \r\nL 340.947931 104.709496 \r\nL 341.283066 103.057943 \r\nL 341.618201 103.558294 \r\nL 341.953336 94.018339 \r\nL 342.288471 93.934319 \r\nL 342.623606 94.60262 \r\nL 342.958742 94.86517 \r\nL 343.293877 91.004089 \r\nL 343.629012 91.528039 \r\nL 343.964147 90.360637 \r\nL 344.634417 85.545337 \r\nL 344.969552 84.461274 \r\nL 345.304688 85.015094 \r\nL 345.639823 85.116425 \r\nL 345.974958 87.639897 \r\nL 346.310093 85.52654 \r\nL 346.645228 85.388074 \r\nL 346.980363 81.132268 \r\nL 347.650633 79.859616 \r\nL 347.985769 80.311313 \r\nL 348.320904 77.198108 \r\nL 348.656039 72.169355 \r\nL 348.991174 72.905233 \r\nL 349.326309 70.201477 \r\nL 349.661444 69.443871 \r\nL 349.996579 76.512754 \r\nL 350.331715 78.791788 \r\nL 350.66685 82.330342 \r\nL 351.001985 83.498291 \r\nL 351.33712 87.11276 \r\nL 351.672255 86.120829 \r\nL 352.342525 80.377488 \r\nL 352.67766 83.003858 \r\nL 353.012796 79.222835 \r\nL 353.347931 78.805213 \r\nL 353.683066 75.736323 \r\nL 354.018201 76.697236 \r\nL 354.353336 75.763553 \r\nL 354.688471 78.775953 \r\nL 355.358742 75.441282 \r\nL 355.693877 77.201587 \r\nL 356.029012 76.249099 \r\nL 356.364147 79.809272 \r\nL 356.699282 76.830948 \r\nL 357.034417 72.086711 \r\nL 357.369552 72.574636 \r\nL 357.704688 73.311288 \r\nL 358.039823 71.7665 \r\nL 358.374958 72.021157 \r\nL 358.710093 73.689192 \r\nL 359.045228 67.899563 \r\nL 359.380363 65.463585 \r\nL 359.715498 68.971079 \r\nL 360.050633 71.298702 \r\nL 360.385769 66.125619 \r\nL 360.720904 64.193543 \r\nL 361.056039 66.540431 \r\nL 361.391174 62.003045 \r\nL 361.726309 62.545859 \r\nL 362.061444 58.348293 \r\nL 362.396579 56.339254 \r\nL 362.731715 60.500987 \r\nL 363.06685 62.185647 \r\nL 363.401985 66.911846 \r\nL 363.73712 69.30105 \r\nL 364.40739 76.177787 \r\nL 364.742525 76.319291 \r\nL 365.07766 81.354858 \r\nL 365.412796 77.82922 \r\nL 365.747931 79.851599 \r\nL 366.083066 78.925564 \r\nL 366.418201 75.907662 \r\nL 366.753336 69.611124 \r\nL 367.088471 65.71928 \r\nL 367.423606 64.840995 \r\nL 367.758742 65.065212 \r\nL 368.093877 68.415092 \r\nL 368.429012 66.692431 \r\nL 368.764147 66.103638 \r\nL 369.099282 69.862898 \r\nL 369.434417 70.735853 \r\nL 369.769552 71.13216 \r\nL 370.104688 73.514192 \r\nL 370.104688 73.514192 \r\n\" style=\"fill:none;stroke:#2ca02c;stroke-linecap:square;stroke-width:1.5;\"/>\r\n   </g>\r\n   <g id=\"line2d_46\">\r\n    <path clip-path=\"url(#pb42b79877b)\" d=\"M 35.304688 81.305538 \r\nL 35.639823 84.616173 \r\nL 35.974958 89.06238 \r\nL 36.310093 88.113072 \r\nL 36.645228 84.535409 \r\nL 36.980363 84.544293 \r\nL 37.315498 87.958745 \r\nL 37.650633 89.222807 \r\nL 37.985769 88.89667 \r\nL 38.320904 94.294989 \r\nL 38.656039 93.737344 \r\nL 38.991174 91.709468 \r\nL 39.326309 93.144781 \r\nL 39.661444 93.094618 \r\nL 41.001985 103.051764 \r\nL 41.33712 101.178099 \r\nL 41.672255 105.414702 \r\nL 42.342525 103.381776 \r\nL 42.67766 108.316493 \r\nL 43.012796 106.498152 \r\nL 43.347931 101.535318 \r\nL 43.683066 103.20043 \r\nL 44.018201 108.068739 \r\nL 44.353336 103.706004 \r\nL 44.688471 101.872741 \r\nL 45.023606 94.530773 \r\nL 45.358742 92.73327 \r\nL 45.693877 92.93448 \r\nL 46.029012 94.315109 \r\nL 46.364147 93.406379 \r\nL 46.699282 95.417117 \r\nL 47.034417 96.159158 \r\nL 47.369552 95.899284 \r\nL 48.039823 97.29507 \r\nL 48.374958 94.385797 \r\nL 48.710093 96.128817 \r\nL 49.045228 94.152398 \r\nL 49.380363 91.407209 \r\nL 49.715498 93.798336 \r\nL 50.050633 94.455272 \r\nL 50.385769 93.96945 \r\nL 50.720904 89.997858 \r\nL 51.056039 89.100587 \r\nL 51.391174 89.25756 \r\nL 51.726309 92.903891 \r\nL 52.061444 94.288772 \r\nL 52.731715 88.777649 \r\nL 53.06685 89.324937 \r\nL 53.401985 94.735983 \r\nL 53.73712 95.337644 \r\nL 54.072255 92.960133 \r\nL 54.742525 101.568528 \r\nL 55.07766 102.347069 \r\nL 55.412796 100.24248 \r\nL 55.747931 99.899078 \r\nL 56.418201 104.795191 \r\nL 56.753336 104.60559 \r\nL 57.088471 104.07314 \r\nL 57.423606 103.230824 \r\nL 57.758742 99.001731 \r\nL 58.093877 103.643618 \r\nL 58.429012 104.111993 \r\nL 58.764147 99.889374 \r\nL 59.434417 97.138252 \r\nL 59.769552 96.294185 \r\nL 60.104687 92.107117 \r\nL 60.439823 91.94643 \r\nL 61.110093 88.529927 \r\nL 61.445228 80.350324 \r\nL 62.115498 73.69696 \r\nL 62.450633 72.614074 \r\nL 63.120904 75.890684 \r\nL 63.456039 74.591317 \r\nL 63.791174 71.991122 \r\nL 64.126309 72.534668 \r\nL 64.461444 71.502705 \r\nL 64.796579 69.259529 \r\nL 65.131715 67.965957 \r\nL 65.46685 66.091322 \r\nL 65.801985 61.883289 \r\nL 66.13712 63.33978 \r\nL 66.472255 62.270807 \r\nL 66.80739 63.404465 \r\nL 67.142525 60.309872 \r\nL 67.47766 63.277501 \r\nL 67.812796 62.47568 \r\nL 68.147931 64.126359 \r\nL 68.483066 61.392708 \r\nL 68.818201 63.514418 \r\nL 69.153336 64.044967 \r\nL 69.488471 61.882275 \r\nL 69.823606 60.834795 \r\nL 70.158742 62.230115 \r\nL 70.493877 65.241514 \r\nL 70.829012 65.734926 \r\nL 71.164147 64.359162 \r\nL 71.499282 66.012962 \r\nL 71.834417 60.182155 \r\nL 72.169552 57.819381 \r\nL 72.504687 59.862175 \r\nL 73.510093 47.569893 \r\nL 73.845228 48.009673 \r\nL 74.180363 49.446708 \r\nL 74.515498 49.77619 \r\nL 74.850633 55.713655 \r\nL 75.185769 56.98747 \r\nL 75.520904 54.657697 \r\nL 75.856039 51.427032 \r\nL 76.191174 51.934796 \r\nL 76.526309 56.06096 \r\nL 76.861444 55.901663 \r\nL 77.196579 54.1404 \r\nL 77.531715 50.870725 \r\nL 77.86685 51.367148 \r\nL 78.201985 54.098302 \r\nL 78.53712 55.102295 \r\nL 78.872255 54.957145 \r\nL 79.20739 51.300873 \r\nL 79.542525 53.002065 \r\nL 79.87766 52.840661 \r\nL 80.212796 50.820459 \r\nL 80.547931 50.439662 \r\nL 80.883066 56.2157 \r\nL 81.218201 54.966287 \r\nL 81.553336 55.369391 \r\nL 81.888471 55.564089 \r\nL 82.223606 54.930041 \r\nL 82.558742 58.070675 \r\nL 82.893877 57.950442 \r\nL 83.229012 56.073341 \r\nL 83.564147 62.105551 \r\nL 83.899282 64.672053 \r\nL 84.234417 64.757546 \r\nL 84.569552 67.078411 \r\nL 84.904687 66.342206 \r\nL 85.239823 72.228219 \r\nL 85.574958 67.857079 \r\nL 85.910093 75.849619 \r\nL 86.245228 76.236062 \r\nL 86.580363 72.434118 \r\nL 86.915498 70.889021 \r\nL 87.250633 69.939031 \r\nL 87.585769 73.495366 \r\nL 88.256039 77.776011 \r\nL 88.591174 81.835643 \r\nL 88.926309 76.815711 \r\nL 89.261444 81.626923 \r\nL 89.596579 80.556209 \r\nL 89.931715 82.078492 \r\nL 90.26685 80.428158 \r\nL 90.93712 87.370688 \r\nL 91.272255 91.975907 \r\nL 91.60739 93.396977 \r\nL 91.942525 94.137306 \r\nL 92.27766 92.085651 \r\nL 92.612796 92.701038 \r\nL 92.947931 92.185946 \r\nL 93.283066 95.834989 \r\nL 93.618201 93.965649 \r\nL 93.953336 93.20677 \r\nL 94.288471 98.241354 \r\nL 94.623606 99.651939 \r\nL 94.958742 100.018569 \r\nL 95.293877 99.584446 \r\nL 95.629012 96.597399 \r\nL 95.964147 101.526783 \r\nL 96.634417 98.003115 \r\nL 96.969552 97.631633 \r\nL 97.304688 102.025981 \r\nL 97.639823 102.01186 \r\nL 97.974958 101.227315 \r\nL 98.310093 103.403521 \r\nL 98.645228 101.393662 \r\nL 98.980363 102.627828 \r\nL 99.315498 98.972647 \r\nL 99.650633 97.282516 \r\nL 100.320904 103.853899 \r\nL 100.656039 103.710571 \r\nL 100.991174 102.581932 \r\nL 101.326309 99.522762 \r\nL 101.661444 100.138633 \r\nL 101.996579 107.894287 \r\nL 102.331715 103.21058 \r\nL 103.001985 105.7921 \r\nL 103.33712 103.850221 \r\nL 103.672255 98.323503 \r\nL 104.00739 100.351863 \r\nL 104.342525 101.013836 \r\nL 104.67766 100.036828 \r\nL 105.012796 97.8626 \r\nL 105.347931 99.098179 \r\nL 105.683066 93.588875 \r\nL 106.018201 94.598621 \r\nL 106.353336 94.726354 \r\nL 106.688471 95.869643 \r\nL 107.023606 95.885556 \r\nL 107.358742 94.940457 \r\nL 107.693877 94.424119 \r\nL 108.029012 92.681949 \r\nL 108.364147 92.46539 \r\nL 109.034417 93.103248 \r\nL 109.369552 87.556172 \r\nL 110.374958 95.019602 \r\nL 111.045228 103.572083 \r\nL 111.715498 110.305714 \r\nL 112.050633 112.363398 \r\nL 112.385769 108.682517 \r\nL 112.720904 107.765227 \r\nL 113.056039 103.902038 \r\nL 113.391174 104.833726 \r\nL 113.726309 108.611907 \r\nL 114.061444 110.028897 \r\nL 114.396579 110.099764 \r\nL 114.731715 110.384984 \r\nL 115.06685 110.973657 \r\nL 115.401985 110.675923 \r\nL 115.73712 110.879848 \r\nL 116.072255 112.962115 \r\nL 116.40739 113.792911 \r\nL 116.742525 111.126223 \r\nL 117.07766 116.026272 \r\nL 117.412796 117.804436 \r\nL 117.747931 113.758873 \r\nL 118.083066 113.786977 \r\nL 118.418201 111.456434 \r\nL 118.753336 111.381999 \r\nL 119.088471 112.221652 \r\nL 119.423606 108.624467 \r\nL 119.758742 109.244027 \r\nL 120.093877 108.177977 \r\nL 120.429012 113.401267 \r\nL 120.764147 113.429901 \r\nL 121.099282 113.158728 \r\nL 121.434417 110.359256 \r\nL 121.769552 110.829021 \r\nL 122.104687 109.243645 \r\nL 122.774958 113.618849 \r\nL 123.110093 112.888521 \r\nL 123.780363 107.919165 \r\nL 124.115498 113.100819 \r\nL 124.450633 110.021887 \r\nL 124.785769 113.645528 \r\nL 125.120904 110.142453 \r\nL 125.456039 109.64031 \r\nL 125.791174 112.384757 \r\nL 126.126309 111.96916 \r\nL 126.461444 113.291517 \r\nL 126.796579 111.369433 \r\nL 127.131715 111.203123 \r\nL 127.46685 109.027739 \r\nL 127.801985 111.120726 \r\nL 128.13712 112.07741 \r\nL 128.472255 112.339535 \r\nL 128.80739 115.04949 \r\nL 129.142525 110.822436 \r\nL 129.47766 112.383785 \r\nL 129.812796 115.852926 \r\nL 130.147931 115.661962 \r\nL 130.483066 118.411452 \r\nL 130.818201 114.32549 \r\nL 131.153336 112.350081 \r\nL 131.488471 114.460965 \r\nL 131.823606 112.962674 \r\nL 132.158742 110.325169 \r\nL 132.493877 111.400092 \r\nL 132.829012 110.111684 \r\nL 133.164147 105.477146 \r\nL 133.499282 107.911723 \r\nL 133.834417 108.828213 \r\nL 134.169552 113.231959 \r\nL 134.504687 119.43547 \r\nL 134.839823 117.095083 \r\nL 135.174958 120.696749 \r\nL 135.845228 117.304576 \r\nL 136.180363 115.998732 \r\nL 136.515498 120.389828 \r\nL 137.520904 122.121863 \r\nL 137.856039 126.344679 \r\nL 138.191174 126.135419 \r\nL 139.196579 114.001832 \r\nL 139.531715 112.087715 \r\nL 140.201985 116.089837 \r\nL 140.53712 119.764376 \r\nL 140.872255 119.461433 \r\nL 141.20739 123.813709 \r\nL 142.212796 129.83631 \r\nL 142.547931 126.103318 \r\nL 142.883066 125.663421 \r\nL 143.553336 122.483908 \r\nL 143.888471 121.545035 \r\nL 144.223606 122.390725 \r\nL 144.558742 122.27147 \r\nL 144.893877 121.797509 \r\nL 145.229012 116.82901 \r\nL 145.564147 114.412568 \r\nL 145.899282 109.82939 \r\nL 146.234417 112.668945 \r\nL 146.569552 110.336998 \r\nL 146.904687 111.060807 \r\nL 147.239823 109.171964 \r\nL 147.910093 112.928724 \r\nL 148.580363 118.361165 \r\nL 148.915498 117.178242 \r\nL 149.250633 117.495703 \r\nL 149.585769 121.859959 \r\nL 149.920904 119.282824 \r\nL 150.256039 120.773795 \r\nL 150.591174 120.965996 \r\nL 150.926309 118.193234 \r\nL 151.261444 122.92759 \r\nL 151.596579 124.025664 \r\nL 151.931715 124.332619 \r\nL 152.26685 126.149342 \r\nL 152.601985 130.055687 \r\nL 152.93712 130.742475 \r\nL 153.272255 124.724594 \r\nL 153.60739 124.885262 \r\nL 153.942525 122.038215 \r\nL 154.27766 123.459206 \r\nL 154.612796 122.926723 \r\nL 154.947931 126.163028 \r\nL 155.283066 124.234421 \r\nL 155.618201 124.504678 \r\nL 155.953336 120.374589 \r\nL 156.288471 119.855466 \r\nL 156.623606 122.621984 \r\nL 156.958742 120.73416 \r\nL 157.293877 117.799995 \r\nL 157.629012 116.388306 \r\nL 157.964147 112.452994 \r\nL 158.299282 119.936167 \r\nL 158.969552 124.210986 \r\nL 159.639823 120.621073 \r\nL 159.974958 119.614535 \r\nL 160.310093 117.660406 \r\nL 160.645228 119.253125 \r\nL 160.980363 122.812545 \r\nL 161.315498 123.073805 \r\nL 161.650633 122.680138 \r\nL 161.985769 126.434026 \r\nL 162.656039 127.951096 \r\nL 162.991174 128.433531 \r\nL 163.326309 130.761681 \r\nL 163.661444 131.157202 \r\nL 163.996579 130.755812 \r\nL 164.331715 130.621917 \r\nL 164.66685 132.514339 \r\nL 165.001985 132.270556 \r\nL 165.33712 135.703989 \r\nL 165.672255 140.725025 \r\nL 166.00739 138.380825 \r\nL 166.342525 138.555215 \r\nL 166.67766 137.143134 \r\nL 167.012796 133.838991 \r\nL 167.347931 133.435125 \r\nL 168.018201 136.719179 \r\nL 168.353336 135.008765 \r\nL 168.688471 136.268307 \r\nL 169.023606 137.05054 \r\nL 169.358742 138.818721 \r\nL 170.029012 132.89047 \r\nL 170.364147 134.625562 \r\nL 170.699282 135.336019 \r\nL 171.034417 135.021121 \r\nL 171.369552 134.331867 \r\nL 171.704688 136.538786 \r\nL 172.039823 137.080601 \r\nL 172.374958 132.319805 \r\nL 172.710093 133.109645 \r\nL 173.045228 127.743235 \r\nL 173.380363 131.303827 \r\nL 173.715498 130.807515 \r\nL 174.050633 132.659765 \r\nL 174.385769 128.417533 \r\nL 174.720904 132.064138 \r\nL 175.056039 132.883008 \r\nL 175.391174 131.981791 \r\nL 175.726309 126.086756 \r\nL 177.06685 116.206076 \r\nL 177.401985 112.655658 \r\nL 177.73712 116.408254 \r\nL 178.072255 112.280136 \r\nL 178.40739 110.417099 \r\nL 178.742525 113.556002 \r\nL 179.07766 112.171761 \r\nL 179.412796 112.494729 \r\nL 179.747931 114.278274 \r\nL 180.083066 112.104492 \r\nL 180.418201 118.219559 \r\nL 180.753336 111.488404 \r\nL 181.088471 112.507929 \r\nL 181.423606 112.197704 \r\nL 181.758742 114.547411 \r\nL 182.093877 112.083953 \r\nL 182.429012 107.536501 \r\nL 182.764147 113.507329 \r\nL 183.099282 117.276779 \r\nL 183.434417 117.578345 \r\nL 183.769552 113.944285 \r\nL 184.104687 112.676503 \r\nL 184.774958 110.929744 \r\nL 185.110093 105.578842 \r\nL 185.445228 109.347318 \r\nL 186.115498 104.014032 \r\nL 186.450633 107.53806 \r\nL 186.785769 105.794034 \r\nL 187.120904 105.798568 \r\nL 187.456039 109.791635 \r\nL 187.791174 110.948209 \r\nL 188.796579 104.573024 \r\nL 189.131715 105.951172 \r\nL 189.46685 102.852912 \r\nL 189.801985 103.155478 \r\nL 190.13712 99.633646 \r\nL 190.472255 100.25494 \r\nL 190.80739 102.373135 \r\nL 191.142525 100.0946 \r\nL 191.47766 101.857039 \r\nL 191.812796 101.47086 \r\nL 192.147931 98.329826 \r\nL 192.483066 93.565185 \r\nL 192.818201 94.201223 \r\nL 193.153336 96.426901 \r\nL 193.488471 93.689104 \r\nL 193.823606 93.036623 \r\nL 194.158742 96.98442 \r\nL 194.493877 95.428755 \r\nL 194.829012 99.921341 \r\nL 195.499282 97.24187 \r\nL 195.834417 97.099973 \r\nL 196.169552 98.800773 \r\nL 196.504687 95.505444 \r\nL 196.839823 94.159638 \r\nL 197.174958 93.583473 \r\nL 197.510093 97.314911 \r\nL 197.845228 99.16018 \r\nL 198.180363 99.732854 \r\nL 198.515498 97.721714 \r\nL 198.850633 106.00971 \r\nL 199.185769 111.158319 \r\nL 199.520904 106.721956 \r\nL 199.856039 106.087373 \r\nL 200.191174 105.82124 \r\nL 200.526309 108.39484 \r\nL 200.861444 105.507176 \r\nL 201.196579 100.30725 \r\nL 201.531715 99.065966 \r\nL 202.201985 98.542007 \r\nL 202.53712 101.01829 \r\nL 202.872255 101.462658 \r\nL 203.20739 102.100919 \r\nL 203.542525 102.2057 \r\nL 203.87766 99.235507 \r\nL 204.212796 94.96817 \r\nL 204.883066 90.166277 \r\nL 205.218201 92.326411 \r\nL 205.553336 89.771213 \r\nL 205.888471 88.698675 \r\nL 206.893877 80.957594 \r\nL 207.229012 84.961616 \r\nL 207.899282 88.773727 \r\nL 208.234417 84.879228 \r\nL 208.569552 83.875932 \r\nL 208.904687 86.473225 \r\nL 209.574958 88.703669 \r\nL 209.910093 87.296909 \r\nL 210.245228 83.832545 \r\nL 210.580363 87.085198 \r\nL 210.915498 92.628325 \r\nL 211.250633 92.848122 \r\nL 211.585769 94.258449 \r\nL 211.920904 89.361332 \r\nL 212.256039 90.709386 \r\nL 212.591174 91.027881 \r\nL 212.926309 89.614066 \r\nL 213.261444 91.332736 \r\nL 213.596579 91.776838 \r\nL 213.931715 93.181321 \r\nL 214.601985 87.887705 \r\nL 215.272255 89.037066 \r\nL 215.60739 86.448947 \r\nL 215.942525 81.247536 \r\nL 216.27766 80.499617 \r\nL 216.612796 82.345121 \r\nL 216.947931 82.76765 \r\nL 217.283066 82.491822 \r\nL 217.618201 79.633865 \r\nL 217.953336 81.940079 \r\nL 218.288471 80.702724 \r\nL 218.623606 80.434055 \r\nL 218.958742 77.648505 \r\nL 219.293877 77.499155 \r\nL 219.629012 79.450302 \r\nL 219.964147 79.316712 \r\nL 220.299282 78.594688 \r\nL 220.634417 79.017571 \r\nL 220.969552 78.666737 \r\nL 221.304688 82.211475 \r\nL 221.639823 81.907004 \r\nL 221.974958 81.427135 \r\nL 222.310093 82.878612 \r\nL 222.645228 87.436662 \r\nL 222.980363 89.9679 \r\nL 223.650633 92.669547 \r\nL 224.320904 98.731963 \r\nL 224.656039 97.63524 \r\nL 224.991174 98.273028 \r\nL 225.326309 95.900606 \r\nL 225.661444 98.516493 \r\nL 225.996579 97.144267 \r\nL 226.331715 96.551495 \r\nL 227.001985 99.512597 \r\nL 227.33712 99.271068 \r\nL 227.672255 98.874314 \r\nL 228.00739 102.573241 \r\nL 228.342525 101.855797 \r\nL 228.67766 105.5137 \r\nL 229.012796 107.073676 \r\nL 229.347931 109.724075 \r\nL 229.683066 110.969898 \r\nL 230.018201 111.464667 \r\nL 230.353336 111.537078 \r\nL 230.688471 109.365741 \r\nL 231.023606 108.647188 \r\nL 231.358742 110.387589 \r\nL 231.693877 110.401989 \r\nL 232.364147 108.082034 \r\nL 232.699282 103.980078 \r\nL 233.034417 102.661374 \r\nL 233.369552 102.684048 \r\nL 233.704688 103.944757 \r\nL 234.039823 104.576318 \r\nL 234.374958 110.954757 \r\nL 234.710093 110.172003 \r\nL 235.045228 108.108832 \r\nL 235.380363 109.062413 \r\nL 235.715498 110.753899 \r\nL 236.050633 108.405828 \r\nL 236.720904 105.145631 \r\nL 237.056039 106.098805 \r\nL 238.061444 100.654832 \r\nL 238.396579 104.213057 \r\nL 238.731715 101.132793 \r\nL 239.06685 102.500419 \r\nL 239.401985 100.425811 \r\nL 240.072255 105.701497 \r\nL 240.40739 104.953133 \r\nL 240.742525 100.857593 \r\nL 241.07766 103.371751 \r\nL 241.412796 102.362017 \r\nL 241.747931 101.712833 \r\nL 242.083066 103.564812 \r\nL 242.418201 108.721899 \r\nL 242.753336 110.275826 \r\nL 243.088471 111.102723 \r\nL 243.758742 106.392253 \r\nL 244.093877 108.890665 \r\nL 244.429012 107.360516 \r\nL 244.764147 103.238517 \r\nL 245.434417 113.227886 \r\nL 245.769552 110.168277 \r\nL 246.104687 113.578298 \r\nL 246.439823 111.349647 \r\nL 246.774958 111.273826 \r\nL 247.445228 115.657143 \r\nL 247.780363 113.380515 \r\nL 248.115498 114.568636 \r\nL 248.450633 113.316585 \r\nL 248.785769 117.435638 \r\nL 249.120904 117.338544 \r\nL 249.791174 119.257359 \r\nL 250.126309 117.574351 \r\nL 250.461444 120.001614 \r\nL 250.796579 120.454541 \r\nL 251.46685 124.737657 \r\nL 251.801985 124.76395 \r\nL 252.13712 128.962071 \r\nL 252.472255 129.092463 \r\nL 252.80739 128.142399 \r\nL 253.142525 129.179624 \r\nL 253.812796 120.690969 \r\nL 254.147931 122.700779 \r\nL 254.818201 123.692949 \r\nL 255.153336 120.594032 \r\nL 255.823606 125.512987 \r\nL 256.158742 128.470105 \r\nL 256.493877 134.183142 \r\nL 256.829012 135.039842 \r\nL 257.164147 134.969658 \r\nL 257.499282 136.089885 \r\nL 257.834417 135.729855 \r\nL 258.169552 136.822844 \r\nL 258.504687 134.00911 \r\nL 258.839823 137.434424 \r\nL 259.174958 136.993992 \r\nL 259.510093 134.849471 \r\nL 259.845228 134.190146 \r\nL 260.515498 131.510211 \r\nL 260.850633 133.527864 \r\nL 261.185769 137.392375 \r\nL 261.856039 132.04783 \r\nL 262.191174 125.851161 \r\nL 262.861444 120.194287 \r\nL 263.196579 119.605641 \r\nL 263.531715 120.712539 \r\nL 263.86685 122.647142 \r\nL 264.201985 122.143902 \r\nL 264.53712 122.028637 \r\nL 264.872255 127.929683 \r\nL 265.542525 125.612451 \r\nL 265.87766 125.280145 \r\nL 266.212796 130.315809 \r\nL 266.547931 127.176637 \r\nL 266.883066 126.670441 \r\nL 267.218201 129.013337 \r\nL 267.553336 129.021684 \r\nL 268.893877 116.734798 \r\nL 269.229012 117.067406 \r\nL 269.564147 110.002569 \r\nL 269.899282 107.126876 \r\nL 270.569552 110.819891 \r\nL 270.904687 112.228463 \r\nL 271.239823 115.450528 \r\nL 271.574958 111.881111 \r\nL 271.910093 114.572934 \r\nL 272.245228 119.375508 \r\nL 272.580363 120.825177 \r\nL 272.915498 119.970617 \r\nL 273.250633 116.833983 \r\nL 273.585769 118.155122 \r\nL 274.256039 116.685936 \r\nL 274.926309 114.297462 \r\nL 275.261444 115.141171 \r\nL 275.596579 110.540564 \r\nL 275.931715 109.285068 \r\nL 276.26685 112.325997 \r\nL 276.601985 112.54577 \r\nL 276.93712 113.807007 \r\nL 277.272255 115.531094 \r\nL 277.60739 115.737054 \r\nL 277.942525 115.669938 \r\nL 278.27766 118.896294 \r\nL 278.612796 118.899295 \r\nL 278.947931 115.112581 \r\nL 279.283066 114.035075 \r\nL 279.618201 113.949712 \r\nL 279.953336 113.237841 \r\nL 280.288471 115.725426 \r\nL 280.623606 112.38434 \r\nL 280.958742 112.946666 \r\nL 281.293877 107.73196 \r\nL 281.964147 111.840931 \r\nL 282.299282 116.094178 \r\nL 282.634417 112.073557 \r\nL 282.969552 113.31671 \r\nL 283.304688 115.805187 \r\nL 283.639823 121.996479 \r\nL 283.974958 122.420125 \r\nL 284.310093 120.219678 \r\nL 284.645228 119.541039 \r\nL 284.980363 121.78523 \r\nL 285.315498 125.19736 \r\nL 285.985769 125.946061 \r\nL 286.320904 127.736002 \r\nL 286.656039 126.022573 \r\nL 286.991174 127.074949 \r\nL 287.326309 128.81582 \r\nL 287.661444 131.673299 \r\nL 287.996579 132.539279 \r\nL 288.331715 134.406842 \r\nL 288.66685 132.989304 \r\nL 289.001985 134.716232 \r\nL 289.33712 130.519827 \r\nL 289.672255 131.762895 \r\nL 290.00739 129.940655 \r\nL 290.342525 130.631232 \r\nL 290.67766 126.602943 \r\nL 291.012796 128.728099 \r\nL 291.347931 126.185722 \r\nL 291.683066 129.806049 \r\nL 292.018201 127.83725 \r\nL 292.353336 129.356244 \r\nL 292.688471 130.314918 \r\nL 293.023606 129.294803 \r\nL 293.358742 132.573884 \r\nL 293.693877 133.339851 \r\nL 294.029012 135.422287 \r\nL 294.364147 139.985205 \r\nL 294.699282 140.031725 \r\nL 295.034417 141.988058 \r\nL 295.369552 142.1522 \r\nL 295.704688 144.173107 \r\nL 296.039823 151.74162 \r\nL 296.374958 148.734653 \r\nL 297.045228 155.510264 \r\nL 297.380363 155.869486 \r\nL 297.715498 158.747564 \r\nL 298.050633 163.149011 \r\nL 298.385769 161.919298 \r\nL 298.720904 167.626353 \r\nL 299.056039 167.416145 \r\nL 299.391174 168.459603 \r\nL 299.726309 167.991811 \r\nL 300.061444 168.137189 \r\nL 300.396579 164.655194 \r\nL 300.731715 164.988544 \r\nL 301.06685 162.546948 \r\nL 301.401985 166.779918 \r\nL 301.73712 166.461528 \r\nL 302.40739 168.748411 \r\nL 302.742525 166.767956 \r\nL 303.07766 162.076044 \r\nL 303.412796 165.991823 \r\nL 304.083066 168.955675 \r\nL 304.418201 165.045812 \r\nL 305.088471 166.865675 \r\nL 305.423606 169.115163 \r\nL 305.758742 164.741492 \r\nL 306.093877 167.440521 \r\nL 306.429012 169.171635 \r\nL 306.764147 169.815539 \r\nL 307.099282 170.859916 \r\nL 307.434417 171.241513 \r\nL 307.769552 168.400563 \r\nL 308.104688 168.573968 \r\nL 308.439823 173.24534 \r\nL 308.774958 168.133582 \r\nL 309.110093 167.289692 \r\nL 309.445228 171.003532 \r\nL 309.780363 170.522343 \r\nL 310.785769 174.438565 \r\nL 311.120904 177.806532 \r\nL 311.456039 179.957908 \r\nL 311.791174 177.891011 \r\nL 312.796579 183.912326 \r\nL 313.131715 184.412055 \r\nL 313.801985 181.796733 \r\nL 314.13712 183.847266 \r\nL 314.80739 180.405557 \r\nL 315.142525 175.011557 \r\nL 315.47766 177.270913 \r\nL 315.812796 180.783097 \r\nL 316.147931 177.669528 \r\nL 316.818201 185.32602 \r\nL 317.153336 184.28299 \r\nL 317.488471 186.158737 \r\nL 318.158742 186.258824 \r\nL 318.493877 183.171945 \r\nL 318.829012 183.214637 \r\nL 319.164147 181.999617 \r\nL 319.499282 184.194526 \r\nL 319.834417 184.495971 \r\nL 320.169552 186.227714 \r\nL 320.504687 187.095998 \r\nL 320.839823 188.440139 \r\nL 321.510093 186.54767 \r\nL 321.845228 184.195928 \r\nL 322.180363 186.103407 \r\nL 322.515498 185.845995 \r\nL 322.850633 185.221755 \r\nL 323.185769 180.267119 \r\nL 323.520904 182.007296 \r\nL 323.856039 178.823522 \r\nL 324.526309 184.361405 \r\nL 324.861444 183.633607 \r\nL 325.531715 195.565989 \r\nL 325.86685 196.867129 \r\nL 326.53712 202.567365 \r\nL 326.872255 201.437958 \r\nL 327.20739 202.07955 \r\nL 327.87766 203.78837 \r\nL 328.212796 206.374408 \r\nL 328.547931 201.967548 \r\nL 328.883066 200.821744 \r\nL 329.218201 198.932626 \r\nL 329.553336 202.521992 \r\nL 330.893877 208.92893 \r\nL 331.564147 214.756364 \r\nL 331.899282 212.244679 \r\nL 332.234417 208.717943 \r\nL 333.239823 202.75025 \r\nL 333.574958 198.938267 \r\nL 333.910093 199.370454 \r\nL 334.245228 197.673327 \r\nL 334.580363 197.315147 \r\nL 334.915498 197.863563 \r\nL 335.250633 196.492075 \r\nL 335.585769 193.838858 \r\nL 335.920904 198.000416 \r\nL 336.256039 196.41249 \r\nL 336.591174 191.342492 \r\nL 336.926309 192.848285 \r\nL 337.596579 192.707521 \r\nL 337.931715 187.890672 \r\nL 338.26685 191.023907 \r\nL 339.272255 182.962716 \r\nL 339.942525 181.060876 \r\nL 340.612796 187.246157 \r\nL 340.947931 185.93741 \r\nL 341.283066 185.331885 \r\nL 341.618201 185.717762 \r\nL 341.953336 187.036738 \r\nL 342.288471 185.945617 \r\nL 342.623606 183.229515 \r\nL 342.958742 177.754957 \r\nL 343.293877 178.864445 \r\nL 343.629012 178.345863 \r\nL 343.964147 176.933055 \r\nL 344.299282 173.651827 \r\nL 344.634417 172.701754 \r\nL 344.969552 172.694563 \r\nL 345.304688 170.00406 \r\nL 345.639823 173.104679 \r\nL 345.974958 174.332309 \r\nL 346.310093 172.913463 \r\nL 346.645228 176.175736 \r\nL 346.980363 177.2441 \r\nL 347.315498 177.789147 \r\nL 347.650633 175.076558 \r\nL 347.985769 176.585852 \r\nL 348.320904 171.816185 \r\nL 348.656039 174.613846 \r\nL 348.991174 172.122411 \r\nL 349.326309 178.732885 \r\nL 349.661444 176.826529 \r\nL 350.66685 173.305566 \r\nL 351.001985 174.073243 \r\nL 351.33712 175.655765 \r\nL 351.672255 173.573612 \r\nL 352.342525 163.314051 \r\nL 352.67766 160.896085 \r\nL 353.012796 162.522912 \r\nL 353.347931 165.279618 \r\nL 353.683066 164.980488 \r\nL 354.018201 163.159778 \r\nL 354.353336 166.641643 \r\nL 354.688471 165.593093 \r\nL 355.023606 165.96624 \r\nL 355.358742 162.533603 \r\nL 355.693877 164.883952 \r\nL 356.029012 163.110066 \r\nL 356.364147 158.172112 \r\nL 356.699282 163.440893 \r\nL 357.034417 164.334019 \r\nL 357.369552 160.251247 \r\nL 357.704688 157.925328 \r\nL 358.039823 160.41228 \r\nL 358.374958 161.414296 \r\nL 358.710093 163.334862 \r\nL 359.045228 160.435633 \r\nL 359.715498 163.579434 \r\nL 360.050633 164.799563 \r\nL 360.385769 164.433281 \r\nL 360.720904 162.669767 \r\nL 361.056039 163.310531 \r\nL 361.391174 165.859777 \r\nL 361.726309 171.373779 \r\nL 362.061444 169.73777 \r\nL 362.396579 167.195969 \r\nL 362.731715 166.864108 \r\nL 363.06685 165.86441 \r\nL 363.401985 162.372198 \r\nL 363.73712 161.900849 \r\nL 364.072255 161.794278 \r\nL 364.40739 157.814104 \r\nL 364.742525 157.885524 \r\nL 365.07766 157.72466 \r\nL 365.412796 160.751547 \r\nL 365.747931 162.737136 \r\nL 366.418201 156.324548 \r\nL 366.753336 156.690064 \r\nL 367.088471 154.540588 \r\nL 367.423606 153.151831 \r\nL 367.758742 153.65157 \r\nL 368.093877 153.863519 \r\nL 368.764147 158.008672 \r\nL 369.099282 157.025527 \r\nL 369.434417 150.370407 \r\nL 369.769552 150.077904 \r\nL 370.104688 147.093457 \r\nL 370.104688 147.093457 \r\n\" style=\"fill:none;stroke:#d62728;stroke-linecap:square;stroke-width:1.5;\"/>\r\n   </g>\r\n   <g id=\"patch_3\">\r\n    <path d=\"M 35.304688 224.64 \r\nL 35.304688 7.2 \r\n\" style=\"fill:none;stroke:#000000;stroke-linecap:square;stroke-linejoin:miter;stroke-width:0.8;\"/>\r\n   </g>\r\n   <g id=\"patch_4\">\r\n    <path d=\"M 370.104688 224.64 \r\nL 370.104688 7.2 \r\n\" style=\"fill:none;stroke:#000000;stroke-linecap:square;stroke-linejoin:miter;stroke-width:0.8;\"/>\r\n   </g>\r\n   <g id=\"patch_5\">\r\n    <path d=\"M 35.304688 224.64 \r\nL 370.104688 224.64 \r\n\" style=\"fill:none;stroke:#000000;stroke-linecap:square;stroke-linejoin:miter;stroke-width:0.8;\"/>\r\n   </g>\r\n   <g id=\"patch_6\">\r\n    <path d=\"M 35.304688 7.2 \r\nL 370.104688 7.2 \r\n\" style=\"fill:none;stroke:#000000;stroke-linecap:square;stroke-linejoin:miter;stroke-width:0.8;\"/>\r\n   </g>\r\n   <g id=\"legend_1\">\r\n    <g id=\"patch_7\">\r\n     <path d=\"M 42.304688 219.64 \r\nL 82.004688 219.64 \r\nQ 84.004688 219.64 84.004688 217.64 \r\nL 84.004688 159.9275 \r\nQ 84.004688 157.9275 82.004688 157.9275 \r\nL 42.304688 157.9275 \r\nQ 40.304688 157.9275 40.304688 159.9275 \r\nL 40.304688 217.64 \r\nQ 40.304688 219.64 42.304688 219.64 \r\nz\r\n\" style=\"fill:#ffffff;opacity:0.8;stroke:#cccccc;stroke-linejoin:miter;\"/>\r\n    </g>\r\n    <g id=\"line2d_47\">\r\n     <path d=\"M 44.304688 166.025937 \r\nL 64.304688 166.025937 \r\n\" style=\"fill:none;stroke:#1f77b4;stroke-linecap:square;stroke-width:1.5;\"/>\r\n    </g>\r\n    <g id=\"line2d_48\"/>\r\n    <g id=\"text_15\">\r\n     <!-- A -->\r\n     <g transform=\"translate(72.304688 169.525937)scale(0.1 -0.1)\">\r\n      <defs>\r\n       <path d=\"M 34.1875 63.1875 \r\nL 20.796875 26.90625 \r\nL 47.609375 26.90625 \r\nz\r\nM 28.609375 72.90625 \r\nL 39.796875 72.90625 \r\nL 67.578125 0 \r\nL 57.328125 0 \r\nL 50.6875 18.703125 \r\nL 17.828125 18.703125 \r\nL 11.1875 0 \r\nL 0.78125 0 \r\nz\r\n\" id=\"DejaVuSans-65\"/>\r\n      </defs>\r\n      <use xlink:href=\"#DejaVuSans-65\"/>\r\n     </g>\r\n    </g>\r\n    <g id=\"line2d_49\">\r\n     <path d=\"M 44.304688 180.704062 \r\nL 64.304688 180.704062 \r\n\" style=\"fill:none;stroke:#ff7f0e;stroke-linecap:square;stroke-width:1.5;\"/>\r\n    </g>\r\n    <g id=\"line2d_50\"/>\r\n    <g id=\"text_16\">\r\n     <!-- B -->\r\n     <g transform=\"translate(72.304688 184.204062)scale(0.1 -0.1)\">\r\n      <defs>\r\n       <path d=\"M 19.671875 34.8125 \r\nL 19.671875 8.109375 \r\nL 35.5 8.109375 \r\nQ 43.453125 8.109375 47.28125 11.40625 \r\nQ 51.125 14.703125 51.125 21.484375 \r\nQ 51.125 28.328125 47.28125 31.5625 \r\nQ 43.453125 34.8125 35.5 34.8125 \r\nz\r\nM 19.671875 64.796875 \r\nL 19.671875 42.828125 \r\nL 34.28125 42.828125 \r\nQ 41.5 42.828125 45.03125 45.53125 \r\nQ 48.578125 48.25 48.578125 53.8125 \r\nQ 48.578125 59.328125 45.03125 62.0625 \r\nQ 41.5 64.796875 34.28125 64.796875 \r\nz\r\nM 9.8125 72.90625 \r\nL 35.015625 72.90625 \r\nQ 46.296875 72.90625 52.390625 68.21875 \r\nQ 58.5 63.53125 58.5 54.890625 \r\nQ 58.5 48.1875 55.375 44.234375 \r\nQ 52.25 40.28125 46.1875 39.3125 \r\nQ 53.46875 37.75 57.5 32.78125 \r\nQ 61.53125 27.828125 61.53125 20.40625 \r\nQ 61.53125 10.640625 54.890625 5.3125 \r\nQ 48.25 0 35.984375 0 \r\nL 9.8125 0 \r\nz\r\n\" id=\"DejaVuSans-66\"/>\r\n      </defs>\r\n      <use xlink:href=\"#DejaVuSans-66\"/>\r\n     </g>\r\n    </g>\r\n    <g id=\"line2d_51\">\r\n     <path d=\"M 44.304688 195.382187 \r\nL 64.304688 195.382187 \r\n\" style=\"fill:none;stroke:#2ca02c;stroke-linecap:square;stroke-width:1.5;\"/>\r\n    </g>\r\n    <g id=\"line2d_52\"/>\r\n    <g id=\"text_17\">\r\n     <!-- C -->\r\n     <g transform=\"translate(72.304688 198.882187)scale(0.1 -0.1)\">\r\n      <defs>\r\n       <path d=\"M 64.40625 67.28125 \r\nL 64.40625 56.890625 \r\nQ 59.421875 61.53125 53.78125 63.8125 \r\nQ 48.140625 66.109375 41.796875 66.109375 \r\nQ 29.296875 66.109375 22.65625 58.46875 \r\nQ 16.015625 50.828125 16.015625 36.375 \r\nQ 16.015625 21.96875 22.65625 14.328125 \r\nQ 29.296875 6.6875 41.796875 6.6875 \r\nQ 48.140625 6.6875 53.78125 8.984375 \r\nQ 59.421875 11.28125 64.40625 15.921875 \r\nL 64.40625 5.609375 \r\nQ 59.234375 2.09375 53.4375 0.328125 \r\nQ 47.65625 -1.421875 41.21875 -1.421875 \r\nQ 24.65625 -1.421875 15.125 8.703125 \r\nQ 5.609375 18.84375 5.609375 36.375 \r\nQ 5.609375 53.953125 15.125 64.078125 \r\nQ 24.65625 74.21875 41.21875 74.21875 \r\nQ 47.75 74.21875 53.53125 72.484375 \r\nQ 59.328125 70.75 64.40625 67.28125 \r\nz\r\n\" id=\"DejaVuSans-67\"/>\r\n      </defs>\r\n      <use xlink:href=\"#DejaVuSans-67\"/>\r\n     </g>\r\n    </g>\r\n    <g id=\"line2d_53\">\r\n     <path d=\"M 44.304688 210.060313 \r\nL 64.304688 210.060313 \r\n\" style=\"fill:none;stroke:#d62728;stroke-linecap:square;stroke-width:1.5;\"/>\r\n    </g>\r\n    <g id=\"line2d_54\"/>\r\n    <g id=\"text_18\">\r\n     <!-- D -->\r\n     <g transform=\"translate(72.304688 213.560313)scale(0.1 -0.1)\">\r\n      <defs>\r\n       <path d=\"M 19.671875 64.796875 \r\nL 19.671875 8.109375 \r\nL 31.59375 8.109375 \r\nQ 46.6875 8.109375 53.6875 14.9375 \r\nQ 60.6875 21.78125 60.6875 36.53125 \r\nQ 60.6875 51.171875 53.6875 57.984375 \r\nQ 46.6875 64.796875 31.59375 64.796875 \r\nz\r\nM 9.8125 72.90625 \r\nL 30.078125 72.90625 \r\nQ 51.265625 72.90625 61.171875 64.09375 \r\nQ 71.09375 55.28125 71.09375 36.53125 \r\nQ 71.09375 17.671875 61.125 8.828125 \r\nQ 51.171875 0 30.078125 0 \r\nL 9.8125 0 \r\nz\r\n\" id=\"DejaVuSans-68\"/>\r\n      </defs>\r\n      <use xlink:href=\"#DejaVuSans-68\"/>\r\n     </g>\r\n    </g>\r\n   </g>\r\n  </g>\r\n </g>\r\n <defs>\r\n  <clipPath id=\"pb42b79877b\">\r\n   <rect height=\"217.44\" width=\"334.8\" x=\"35.304688\" y=\"7.2\"/>\r\n  </clipPath>\r\n </defs>\r\n</svg>\r\n",
      "image/png": "[encoded data removed]"
     },
     "metadata": {
      "needs_background": "light"
     }
    }
   ],
   "source": [
    "In [136]: df = pd.DataFrame(\n",
    "   .....:     np.random.randn(1000, 4), index=ts.index, columns=[\"A\", \"B\", \"C\", \"D\"]\n",
    "   .....: )\n",
    "   .....: \n",
    "\n",
    "In [137]: df = df.cumsum()\n",
    "\n",
    "plt.figure()\n",
    "df.plot()\n",
    "plt.legend(loc='best')"
   ]
  },
  {
   "source": [
    "### Getting data in/out\n",
    "CSV\n",
    "Writing to a csv file.\n"
   ],
   "cell_type": "markdown",
   "metadata": {}
  },
  {
   "cell_type": "code",
   "execution_count": 155,
   "metadata": {},
   "outputs": [],
   "source": [
    "df.to_csv(\"foo.csv\")"
   ]
  },
  {
   "cell_type": "code",
   "execution_count": 139,
   "metadata": {},
   "outputs": [
    {
     "output_type": "execute_result",
     "data": {
      "text/plain": [
       "     Unnamed: 0          A          B         C          D\n",
       "0    2000-01-01  -1.172277   0.033779 -0.524516   1.713353\n",
       "1    2000-01-02  -0.667030  -0.671213 -0.741997  -0.967502\n",
       "2    2000-01-03  -2.496527   0.216939 -0.741485  -0.497981\n",
       "3    2000-01-04  -2.293989   0.767254  0.053801  -0.546148\n",
       "4    2000-01-05  -1.509577  -1.217887 -0.148270   0.066240\n",
       "..          ...        ...        ...       ...        ...\n",
       "995  2002-09-22  10.420863 -18.997897 -8.053123  56.833230\n",
       "996  2002-09-23  11.673538 -19.718411 -8.453935  55.892469\n",
       "997  2002-09-24  11.517467 -20.337573 -8.791199  56.828748\n",
       "998  2002-09-25  11.468727 -21.210854 -8.941923  55.280597\n",
       "999  2002-09-26  12.877686 -22.039205 -8.126124  57.282696\n",
       "\n",
       "[1000 rows x 5 columns]"
      ],
      "text/html": "<div>\n<style scoped>\n    .dataframe tbody tr th:only-of-type {\n        vertical-align: middle;\n    }\n\n    .dataframe tbody tr th {\n        vertical-align: top;\n    }\n\n    .dataframe thead th {\n        text-align: right;\n    }\n</style>\n<table border=\"1\" class=\"dataframe\">\n  <thead>\n    <tr style=\"text-align: right;\">\n      <th></th>\n      <th>Unnamed: 0</th>\n      <th>A</th>\n      <th>B</th>\n      <th>C</th>\n      <th>D</th>\n    </tr>\n  </thead>\n  <tbody>\n    <tr>\n      <th>0</th>\n      <td>2000-01-01</td>\n      <td>-1.172277</td>\n      <td>0.033779</td>\n      <td>-0.524516</td>\n      <td>1.713353</td>\n    </tr>\n    <tr>\n      <th>1</th>\n      <td>2000-01-02</td>\n      <td>-0.667030</td>\n      <td>-0.671213</td>\n      <td>-0.741997</td>\n      <td>-0.967502</td>\n    </tr>\n    <tr>\n      <th>2</th>\n      <td>2000-01-03</td>\n      <td>-2.496527</td>\n      <td>0.216939</td>\n      <td>-0.741485</td>\n      <td>-0.497981</td>\n    </tr>\n    <tr>\n      <th>3</th>\n      <td>2000-01-04</td>\n      <td>-2.293989</td>\n      <td>0.767254</td>\n      <td>0.053801</td>\n      <td>-0.546148</td>\n    </tr>\n    <tr>\n      <th>4</th>\n      <td>2000-01-05</td>\n      <td>-1.509577</td>\n      <td>-1.217887</td>\n      <td>-0.148270</td>\n      <td>0.066240</td>\n    </tr>\n    <tr>\n      <th>...</th>\n      <td>...</td>\n      <td>...</td>\n      <td>...</td>\n      <td>...</td>\n      <td>...</td>\n    </tr>\n    <tr>\n      <th>995</th>\n      <td>2002-09-22</td>\n      <td>10.420863</td>\n      <td>-18.997897</td>\n      <td>-8.053123</td>\n      <td>56.833230</td>\n    </tr>\n    <tr>\n      <th>996</th>\n      <td>2002-09-23</td>\n      <td>11.673538</td>\n      <td>-19.718411</td>\n      <td>-8.453935</td>\n      <td>55.892469</td>\n    </tr>\n    <tr>\n      <th>997</th>\n      <td>2002-09-24</td>\n      <td>11.517467</td>\n      <td>-20.337573</td>\n      <td>-8.791199</td>\n      <td>56.828748</td>\n    </tr>\n    <tr>\n      <th>998</th>\n      <td>2002-09-25</td>\n      <td>11.468727</td>\n      <td>-21.210854</td>\n      <td>-8.941923</td>\n      <td>55.280597</td>\n    </tr>\n    <tr>\n      <th>999</th>\n      <td>2002-09-26</td>\n      <td>12.877686</td>\n      <td>-22.039205</td>\n      <td>-8.126124</td>\n      <td>57.282696</td>\n    </tr>\n  </tbody>\n</table>\n<p>1000 rows × 5 columns</p>\n</div>"
     },
     "metadata": {},
     "execution_count": 139
    }
   ],
   "source": [
    "pd.read_csv(\"foo.csv\")"
   ]
  },
  {
   "source": [
    "## Three methods for addressing Padas DataFrames\n",
    "from https://stackoverflow.com/questions/48409128/what-is-the-difference-between-using-loc-and-using-just-square-brackets-to-filte\n"
   ],
   "cell_type": "markdown",
   "metadata": {}
  },
  {
   "source": [
    "## Selecting multiple columns in a Pandas dataframe\n",
    "https://stackoverflow.com/questions/11285613/selecting-multiple-columns-in-a-pandas-dataframe/36955053#36955053"
   ],
   "cell_type": "markdown",
   "metadata": {}
  },
  {
   "cell_type": "code",
   "execution_count": 181,
   "metadata": {},
   "outputs": [
    {
     "output_type": "execute_result",
     "data": {
      "text/plain": [
       "   a  b  c\n",
       "1  2  3  4\n",
       "2  3  4  5"
      ],
      "text/html": "<div>\n<style scoped>\n    .dataframe tbody tr th:only-of-type {\n        vertical-align: middle;\n    }\n\n    .dataframe tbody tr th {\n        vertical-align: top;\n    }\n\n    .dataframe thead th {\n        text-align: right;\n    }\n</style>\n<table border=\"1\" class=\"dataframe\">\n  <thead>\n    <tr style=\"text-align: right;\">\n      <th></th>\n      <th>a</th>\n      <th>b</th>\n      <th>c</th>\n    </tr>\n  </thead>\n  <tbody>\n    <tr>\n      <th>1</th>\n      <td>2</td>\n      <td>3</td>\n      <td>4</td>\n    </tr>\n    <tr>\n      <th>2</th>\n      <td>3</td>\n      <td>4</td>\n      <td>5</td>\n    </tr>\n  </tbody>\n</table>\n</div>"
     },
     "metadata": {},
     "execution_count": 181
    }
   ],
   "source": [
    "df1=pd.DataFrame(\n",
    "    {\n",
    "        'a':[2,3],\n",
    "        'b':[3,4],\n",
    "        'c':[4,5]\n",
    "    }, index=[1,2]\n",
    ")\n",
    "df1"
   ]
  },
  {
   "cell_type": "code",
   "execution_count": 193,
   "metadata": {},
   "outputs": [
    {
     "output_type": "execute_result",
     "data": {
      "text/plain": [
       "   a  c\n",
       "1  2  4\n",
       "2  3  5"
      ],
      "text/html": "<div>\n<style scoped>\n    .dataframe tbody tr th:only-of-type {\n        vertical-align: middle;\n    }\n\n    .dataframe tbody tr th {\n        vertical-align: top;\n    }\n\n    .dataframe thead th {\n        text-align: right;\n    }\n</style>\n<table border=\"1\" class=\"dataframe\">\n  <thead>\n    <tr style=\"text-align: right;\">\n      <th></th>\n      <th>a</th>\n      <th>c</th>\n    </tr>\n  </thead>\n  <tbody>\n    <tr>\n      <th>1</th>\n      <td>2</td>\n      <td>4</td>\n    </tr>\n    <tr>\n      <th>2</th>\n      <td>3</td>\n      <td>5</td>\n    </tr>\n  </tbody>\n</table>\n</div>"
     },
     "metadata": {},
     "execution_count": 193
    }
   ],
   "source": [
    "df1[['a','c']]"
   ]
  },
  {
   "source": [
    "## Python: Pandas Series - Why use loc?\n",
    "https://stackoverflow.com/questions/38886080/python-pandas-series-why-use-loc/38886211#38886211"
   ],
   "cell_type": "markdown",
   "metadata": {}
  },
  {
   "cell_type": "code",
   "execution_count": 197,
   "metadata": {},
   "outputs": [
    {
     "output_type": "execute_result",
     "data": {
      "text/plain": [
       "   True   False\n",
       "0      1      3\n",
       "1      2      4\n",
       "2      3      5"
      ],
      "text/html": "<div>\n<style scoped>\n    .dataframe tbody tr th:only-of-type {\n        vertical-align: middle;\n    }\n\n    .dataframe tbody tr th {\n        vertical-align: top;\n    }\n\n    .dataframe thead th {\n        text-align: right;\n    }\n</style>\n<table border=\"1\" class=\"dataframe\">\n  <thead>\n    <tr style=\"text-align: right;\">\n      <th></th>\n      <th>True</th>\n      <th>False</th>\n    </tr>\n  </thead>\n  <tbody>\n    <tr>\n      <th>0</th>\n      <td>1</td>\n      <td>3</td>\n    </tr>\n    <tr>\n      <th>1</th>\n      <td>2</td>\n      <td>4</td>\n    </tr>\n    <tr>\n      <th>2</th>\n      <td>3</td>\n      <td>5</td>\n    </tr>\n  </tbody>\n</table>\n</div>"
     },
     "metadata": {},
     "execution_count": 197
    }
   ],
   "source": [
    "#df can have boolean-valud column labels\n",
    "df = pd.DataFrame({True:[1,2,3],False:[3,4,5]}); df"
   ]
  },
  {
   "cell_type": "code",
   "execution_count": 200,
   "metadata": {},
   "outputs": [
    {
     "output_type": "execute_result",
     "data": {
      "text/plain": [
       "   A  B\n",
       "0  1  3\n",
       "1  2  4\n",
       "2  3  5"
      ],
      "text/html": "<div>\n<style scoped>\n    .dataframe tbody tr th:only-of-type {\n        vertical-align: middle;\n    }\n\n    .dataframe tbody tr th {\n        vertical-align: top;\n    }\n\n    .dataframe thead th {\n        text-align: right;\n    }\n</style>\n<table border=\"1\" class=\"dataframe\">\n  <thead>\n    <tr style=\"text-align: right;\">\n      <th></th>\n      <th>A</th>\n      <th>B</th>\n    </tr>\n  </thead>\n  <tbody>\n    <tr>\n      <th>0</th>\n      <td>1</td>\n      <td>3</td>\n    </tr>\n    <tr>\n      <th>1</th>\n      <td>2</td>\n      <td>4</td>\n    </tr>\n    <tr>\n      <th>2</th>\n      <td>3</td>\n      <td>5</td>\n    </tr>\n  </tbody>\n</table>\n</div>"
     },
     "metadata": {},
     "execution_count": 200
    }
   ],
   "source": [
    "df2 = pd.DataFrame({'A':[1,2,3],'B':[3,4,5]}); df2"
   ]
  },
  {
   "cell_type": "code",
   "execution_count": 201,
   "metadata": {},
   "outputs": [
    {
     "output_type": "execute_result",
     "data": {
      "text/plain": [
       "   B\n",
       "0  3\n",
       "1  4\n",
       "2  5"
      ],
      "text/html": "<div>\n<style scoped>\n    .dataframe tbody tr th:only-of-type {\n        vertical-align: middle;\n    }\n\n    .dataframe tbody tr th {\n        vertical-align: top;\n    }\n\n    .dataframe thead th {\n        text-align: right;\n    }\n</style>\n<table border=\"1\" class=\"dataframe\">\n  <thead>\n    <tr style=\"text-align: right;\">\n      <th></th>\n      <th>B</th>\n    </tr>\n  </thead>\n  <tbody>\n    <tr>\n      <th>0</th>\n      <td>3</td>\n    </tr>\n    <tr>\n      <th>1</th>\n      <td>4</td>\n    </tr>\n    <tr>\n      <th>2</th>\n      <td>5</td>\n    </tr>\n  </tbody>\n</table>\n</div>"
     },
     "metadata": {},
     "execution_count": 201
    }
   ],
   "source": [
    "df2[['B']]"
   ]
  },
  {
   "cell_type": "code",
   "execution_count": 202,
   "metadata": {},
   "outputs": [
    {
     "output_type": "execute_result",
     "data": {
      "text/plain": [
       "0    3\n",
       "2    5\n",
       "Name: B, dtype: int64"
      ]
     },
     "metadata": {},
     "execution_count": 202
    }
   ],
   "source": [
    " df2.loc[[True,False,True], 'B']"
   ]
  },
  {
   "cell_type": "code",
   "execution_count": null,
   "metadata": {},
   "outputs": [],
   "source": []
  }
 ]
}